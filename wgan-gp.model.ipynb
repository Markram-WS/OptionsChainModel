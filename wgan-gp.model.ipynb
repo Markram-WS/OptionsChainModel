{
 "cells": [
  {
   "cell_type": "code",
   "execution_count": 1,
   "metadata": {},
   "outputs": [],
   "source": [
    "#https://keras.io/examples/generative/vae/\n",
    "#https://keras.io/examples/generative/molecule_generation/"
   ]
  },
  {
   "cell_type": "code",
   "execution_count": 2,
   "metadata": {},
   "outputs": [
    {
     "name": "stdout",
     "output_type": "stream",
     "text": [
      "rm: cannot remove '/app/logs/wgangpModel/20240804-002503/train/events.out.tfevents.1722731108.e99d6a3749a3.322.0.v2': No such file or directory\n",
      "rm: cannot remove '/app/logs/wgangpModel/20240804-002503/train/events.out.tfevents.1722731143.e99d6a3749a3.322.2.v2': No such file or directory\n",
      "rm: cannot remove '/app/logs/wgangpModel/20240804-002503/train/events.out.tfevents.1722731188.e99d6a3749a3.322.4.v2': No such file or directory\n",
      "rm: cannot remove '/app/logs/wgangpModel/20240804-002503/train/events.out.tfevents.1722731229.e99d6a3749a3.322.6.v2': No such file or directory\n",
      "rm: cannot remove '/app/logs/wgangpModel/20240804-002503/train/events.out.tfevents.1722731267.e99d6a3749a3.322.8.v2': No such file or directory\n",
      "rm: cannot remove '/app/logs/wgangpModel/20240804-002503/train/events.out.tfevents.1722731300.e99d6a3749a3.322.10.v2': No such file or directory\n",
      "rm: cannot remove '/app/logs/wgangpModel/20240804-002503/train/events.out.tfevents.1722731335.e99d6a3749a3.322.12.v2': No such file or directory\n",
      "rm: cannot remove '/app/logs/wgangpModel/20240804-002503/train/events.out.tfevents.1722731377.e99d6a3749a3.322.14.v2': No such file or directory\n",
      "rm: cannot remove '/app/logs/wgangpModel/20240804-002503/train/events.out.tfevents.1722731416.e99d6a3749a3.322.16.v2': No such file or directory\n",
      "rm: cannot remove '/app/logs/wgangpModel/20240804-002503/train/events.out.tfevents.1722731433.e99d6a3749a3.322.18.v2': No such file or directory\n",
      "rm: cannot remove '/app/logs/wgangpModel/20240804-002503/train/events.out.tfevents.1722731461.e99d6a3749a3.322.20.v2': No such file or directory\n",
      "rm: cannot remove '/app/logs/wgangpModel/20240804-002503/train/events.out.tfevents.1722731486.e99d6a3749a3.322.22.v2': No such file or directory\n",
      "rm: cannot remove '/app/logs/wgangpModel/20240804-002503/train/events.out.tfevents.1722731494.e99d6a3749a3.322.24.v2': No such file or directory\n",
      "rm: cannot remove '/app/logs/wgangpModel/20240804-002503/train/events.out.tfevents.1722731512.e99d6a3749a3.322.26.v2': No such file or directory\n",
      "rm: cannot remove '/app/logs/wgangpModel/20240804-002503/train/events.out.tfevents.1722731560.e99d6a3749a3.322.28.v2': No such file or directory\n",
      "rm: cannot remove '/app/logs/wgangpModel/20240804-002503/train/events.out.tfevents.1722731609.e99d6a3749a3.322.30.v2': No such file or directory\n",
      "rm: cannot remove '/app/logs/wgangpModel/20240804-002503/train/events.out.tfevents.1722731659.e99d6a3749a3.322.32.v2': No such file or directory\n",
      "rm: cannot remove '/app/logs/wgangpModel/20240804-002503/train/events.out.tfevents.1722731705.e99d6a3749a3.322.34.v2': No such file or directory\n",
      "rm: cannot remove '/app/logs/wgangpModel/20240804-002503/train/events.out.tfevents.1722731750.e99d6a3749a3.322.36.v2': No such file or directory\n",
      "rm: cannot remove '/app/logs/wgangpModel/20240804-002503/train/events.out.tfevents.1722731770.e99d6a3749a3.322.38.v2': No such file or directory\n",
      "rm: cannot remove '/app/logs/wgangpModel/20240804-002503/train/events.out.tfevents.1722731814.e99d6a3749a3.322.40.v2': No such file or directory\n",
      "rm: cannot remove '/app/logs/wgangpModel/20240804-002503/train/events.out.tfevents.1722731828.e99d6a3749a3.322.42.v2': No such file or directory\n",
      "rm: cannot remove '/app/logs/wgangpModel/20240804-002503/train/events.out.tfevents.1722731876.e99d6a3749a3.322.44.v2': No such file or directory\n",
      "rm: cannot remove '/app/logs/wgangpModel/20240804-002503/train/events.out.tfevents.1722731919.e99d6a3749a3.322.46.v2': No such file or directory\n",
      "rm: cannot remove '/app/logs/wgangpModel/20240804-002503/train/events.out.tfevents.1722731960.e99d6a3749a3.322.48.v2': No such file or directory\n",
      "rm: cannot remove '/app/logs/wgangpModel/20240804-002503/train/events.out.tfevents.1722732003.e99d6a3749a3.322.50.v2': No such file or directory\n",
      "rm: cannot remove '/app/logs/wgangpModel/20240804-002503/train/events.out.tfevents.1722732018.e99d6a3749a3.322.52.v2': No such file or directory\n",
      "rm: cannot remove '/app/logs/wgangpModel/20240804-002503/train/events.out.tfevents.1722732054.e99d6a3749a3.322.54.v2': No such file or directory\n",
      "rm: cannot remove '/app/logs/wgangpModel/20240804-002503/train/events.out.tfevents.1722732098.e99d6a3749a3.322.56.v2': No such file or directory\n",
      "rm: cannot remove '/app/logs/wgangpModel/20240804-002503/train/events.out.tfevents.1722732128.e99d6a3749a3.322.58.v2': No such file or directory\n",
      "rm: cannot remove '/app/logs/wgangpModel/20240804-002503/train/events.out.tfevents.1722732158.e99d6a3749a3.322.60.v2': No such file or directory\n",
      "rm: cannot remove '/app/logs/wgangpModel/20240804-002503/train/events.out.tfevents.1722732207.e99d6a3749a3.322.62.v2': No such file or directory\n",
      "rm: cannot remove '/app/logs/wgangpModel/20240804-002503/train/events.out.tfevents.1722732250.e99d6a3749a3.322.64.v2': No such file or directory\n",
      "rm: cannot remove '/app/logs/wgangpModel/20240804-002503/train/events.out.tfevents.1722732277.e99d6a3749a3.322.66.v2': No such file or directory\n",
      "rm: cannot remove '/app/logs/wgangpModel/20240804-002503/train/events.out.tfevents.1722732297.e99d6a3749a3.322.68.v2': No such file or directory\n",
      "rm: cannot remove '/app/logs/wgangpModel/20240804-002503/train/events.out.tfevents.1722732336.e99d6a3749a3.322.70.v2': No such file or directory\n",
      "rm: cannot remove '/app/logs/wgangpModel/20240804-002503/train/events.out.tfevents.1722732356.e99d6a3749a3.322.72.v2': No such file or directory\n",
      "rm: cannot remove '/app/logs/wgangpModel/20240804-002503/train/events.out.tfevents.1722732399.e99d6a3749a3.322.74.v2': No such file or directory\n",
      "rm: cannot remove '/app/logs/wgangpModel/20240804-002503/train/events.out.tfevents.1722732452.e99d6a3749a3.322.76.v2': No such file or directory\n",
      "rm: cannot remove '/app/logs/wgangpModel/20240804-002503/train/events.out.tfevents.1722732480.e99d6a3749a3.322.78.v2': No such file or directory\n",
      "rm: cannot remove '/app/logs/wgangpModel/20240804-002503/train/events.out.tfevents.1722732502.e99d6a3749a3.322.80.v2': No such file or directory\n",
      "rm: cannot remove '/app/logs/wgangpModel/20240804-002503/train/events.out.tfevents.1722732549.e99d6a3749a3.322.82.v2': No such file or directory\n",
      "rm: cannot remove '/app/logs/wgangpModel/20240804-002503/train/events.out.tfevents.1722732591.e99d6a3749a3.322.84.v2': No such file or directory\n",
      "rm: cannot remove '/app/logs/wgangpModel/20240804-002503/train/events.out.tfevents.1722732605.e99d6a3749a3.322.86.v2': No such file or directory\n",
      "rm: cannot remove '/app/logs/wgangpModel/20240804-002503/train/events.out.tfevents.1722732620.e99d6a3749a3.322.88.v2': No such file or directory\n",
      "rm: cannot remove '/app/logs/wgangpModel/20240804-002503/train/events.out.tfevents.1722732635.e99d6a3749a3.322.90.v2': No such file or directory\n",
      "rm: cannot remove '/app/logs/wgangpModel/20240804-002503/train/events.out.tfevents.1722732661.e99d6a3749a3.322.92.v2': No such file or directory\n",
      "rm: cannot remove '/app/logs/wgangpModel/20240804-002503/train/events.out.tfevents.1722732694.e99d6a3749a3.322.94.v2': No such file or directory\n",
      "rm: cannot remove '/app/logs/wgangpModel/20240804-002503/train/events.out.tfevents.1722732753.e99d6a3749a3.322.96.v2': No such file or directory\n",
      "rm: cannot remove '/app/logs/wgangpModel/20240804-002503/train/events.out.tfevents.1722732796.e99d6a3749a3.322.98.v2': No such file or directory\n",
      "rm: cannot remove '/app/logs/wgangpModel/20240804-002503/train/events.out.tfevents.1722732818.e99d6a3749a3.322.100.v2': No such file or directory\n",
      "rm: cannot remove '/app/logs/wgangpModel/20240804-002503/train/events.out.tfevents.1722732849.e99d6a3749a3.322.102.v2': No such file or directory\n",
      "rm: cannot remove '/app/logs/wgangpModel/20240804-002503/train/events.out.tfevents.1722732917.e99d6a3749a3.322.104.v2': No such file or directory\n",
      "rm: cannot remove '/app/logs/wgangpModel/20240804-002503/train/events.out.tfevents.1722732962.e99d6a3749a3.322.106.v2': No such file or directory\n",
      "rm: cannot remove '/app/logs/wgangpModel/20240804-002503/train/events.out.tfevents.1722733004.e99d6a3749a3.322.108.v2': No such file or directory\n",
      "rm: cannot remove '/app/logs/wgangpModel/20240804-002503/train/events.out.tfevents.1722733038.e99d6a3749a3.322.110.v2': No such file or directory\n",
      "rm: cannot remove '/app/logs/wgangpModel/20240804-002503/train/events.out.tfevents.1722733076.e99d6a3749a3.322.112.v2': No such file or directory\n",
      "rm: cannot remove '/app/logs/wgangpModel/20240804-002503/train/events.out.tfevents.1722733138.e99d6a3749a3.322.114.v2': No such file or directory\n",
      "rm: cannot remove '/app/logs/wgangpModel/20240804-002503/train/events.out.tfevents.1722733155.e99d6a3749a3.322.116.v2': No such file or directory\n",
      "rm: cannot remove '/app/logs/wgangpModel/20240804-002503/train/events.out.tfevents.1722733169.e99d6a3749a3.322.118.v2': No such file or directory\n",
      "rm: cannot remove '/app/logs/wgangpModel/20240804-002503/train/events.out.tfevents.1722733208.e99d6a3749a3.322.120.v2': No such file or directory\n",
      "rm: cannot remove '/app/logs/wgangpModel/20240804-002503/train/events.out.tfevents.1722733229.e99d6a3749a3.322.122.v2': No such file or directory\n",
      "rm: cannot remove '/app/logs/wgangpModel/20240804-002503/train/events.out.tfevents.1722733265.e99d6a3749a3.322.124.v2': No such file or directory\n",
      "rm: cannot remove '/app/logs/wgangpModel/20240804-002503/train/events.out.tfevents.1722733299.e99d6a3749a3.322.126.v2': No such file or directory\n",
      "rm: cannot remove '/app/logs/wgangpModel/20240804-002503/train/events.out.tfevents.1722733335.e99d6a3749a3.322.128.v2': No such file or directory\n",
      "rm: cannot remove '/app/logs/wgangpModel/20240804-002503/train/events.out.tfevents.1722733349.e99d6a3749a3.322.130.v2': No such file or directory\n",
      "rm: cannot remove '/app/logs/wgangpModel/20240804-002503/train/events.out.tfevents.1722733383.e99d6a3749a3.322.132.v2': No such file or directory\n",
      "rm: cannot remove '/app/logs/wgangpModel/20240804-002503/train/events.out.tfevents.1722733419.e99d6a3749a3.322.134.v2': No such file or directory\n",
      "rm: cannot remove '/app/logs/wgangpModel/20240804-002503/train/events.out.tfevents.1722733477.e99d6a3749a3.322.136.v2': No such file or directory\n",
      "rm: cannot remove '/app/logs/wgangpModel/20240804-002503/train/events.out.tfevents.1722733504.e99d6a3749a3.322.138.v2': No such file or directory\n",
      "rm: cannot remove '/app/logs/wgangpModel/20240804-002503/train/events.out.tfevents.1722733529.e99d6a3749a3.322.140.v2': No such file or directory\n",
      "rm: cannot remove '/app/logs/wgangpModel/20240804-002503/train/events.out.tfevents.1722733573.e99d6a3749a3.322.142.v2': No such file or directory\n",
      "rm: cannot remove '/app/logs/wgangpModel/20240804-002503/train/events.out.tfevents.1722733612.e99d6a3749a3.322.144.v2': No such file or directory\n",
      "rm: cannot remove '/app/logs/wgangpModel/20240804-002503/train/events.out.tfevents.1722733668.e99d6a3749a3.322.146.v2': No such file or directory\n",
      "rm: cannot remove '/app/logs/wgangpModel/20240804-002503/train/events.out.tfevents.1722733698.e99d6a3749a3.322.148.v2': No such file or directory\n",
      "rm: cannot remove '/app/logs/wgangpModel/20240804-002503/train/events.out.tfevents.1722733745.e99d6a3749a3.322.150.v2': No such file or directory\n",
      "rm: cannot remove '/app/logs/wgangpModel/20240804-002503/train/events.out.tfevents.1722733773.e99d6a3749a3.322.152.v2': No such file or directory\n",
      "rm: cannot remove '/app/logs/wgangpModel/20240804-002503/train/events.out.tfevents.1722733820.e99d6a3749a3.322.154.v2': No such file or directory\n",
      "rm: cannot remove '/app/logs/wgangpModel/20240804-002503/train/events.out.tfevents.1722733851.e99d6a3749a3.322.156.v2': No such file or directory\n",
      "rm: cannot remove '/app/logs/wgangpModel/20240804-002503/train/events.out.tfevents.1722733872.e99d6a3749a3.322.158.v2': No such file or directory\n",
      "rm: cannot remove '/app/logs/wgangpModel/20240804-002503/train/events.out.tfevents.1722733882.e99d6a3749a3.322.160.v2': No such file or directory\n",
      "rm: cannot remove '/app/logs/wgangpModel/20240804-002503/train/events.out.tfevents.1722733910.e99d6a3749a3.322.162.v2': No such file or directory\n",
      "rm: cannot remove '/app/logs/wgangpModel/20240804-002503/train/events.out.tfevents.1722733939.e99d6a3749a3.322.164.v2': No such file or directory\n",
      "rm: cannot remove '/app/logs/wgangpModel/20240804-002503/train/events.out.tfevents.1722733967.e99d6a3749a3.322.166.v2': No such file or directory\n",
      "rm: cannot remove '/app/logs/wgangpModel/20240804-002503/train/events.out.tfevents.1722734018.e99d6a3749a3.322.168.v2': No such file or directory\n",
      "rm: cannot remove '/app/logs/wgangpModel/20240804-002503/train/events.out.tfevents.1722734056.e99d6a3749a3.322.170.v2': No such file or directory\n",
      "rm: cannot remove '/app/logs/wgangpModel/20240804-002503/train/events.out.tfevents.1722734105.e99d6a3749a3.322.172.v2': No such file or directory\n",
      "rm: cannot remove '/app/logs/wgangpModel/20240804-002503/train/events.out.tfevents.1722734149.e99d6a3749a3.322.174.v2': No such file or directory\n",
      "rm: cannot remove '/app/logs/wgangpModel/20240804-002503/train/events.out.tfevents.1722734157.e99d6a3749a3.322.176.v2': No such file or directory\n",
      "rm: cannot remove '/app/logs/wgangpModel/20240804-002503/train/events.out.tfevents.1722734210.e99d6a3749a3.322.178.v2': No such file or directory\n",
      "rm: cannot remove '/app/logs/wgangpModel/20240804-002503/train/events.out.tfevents.1722734260.e99d6a3749a3.322.180.v2': No such file or directory\n",
      "rm: cannot remove '/app/logs/wgangpModel/20240804-002503/train/events.out.tfevents.1722734281.e99d6a3749a3.322.182.v2': No such file or directory\n",
      "rm: cannot remove '/app/logs/wgangpModel/20240804-002503/validation/events.out.tfevents.1722731116.e99d6a3749a3.322.1.v2': No such file or directory\n",
      "rm: cannot remove '/app/logs/wgangpModel/20240804-002503/validation/events.out.tfevents.1722731148.e99d6a3749a3.322.3.v2': No such file or directory\n",
      "rm: cannot remove '/app/logs/wgangpModel/20240804-002503/validation/events.out.tfevents.1722731193.e99d6a3749a3.322.5.v2': No such file or directory\n",
      "rm: cannot remove '/app/logs/wgangpModel/20240804-002503/validation/events.out.tfevents.1722731233.e99d6a3749a3.322.7.v2': No such file or directory\n",
      "rm: cannot remove '/app/logs/wgangpModel/20240804-002503/validation/events.out.tfevents.1722731271.e99d6a3749a3.322.9.v2': No such file or directory\n",
      "rm: cannot remove '/app/logs/wgangpModel/20240804-002503/validation/events.out.tfevents.1722731304.e99d6a3749a3.322.11.v2': No such file or directory\n",
      "rm: cannot remove '/app/logs/wgangpModel/20240804-002503/validation/events.out.tfevents.1722731340.e99d6a3749a3.322.13.v2': No such file or directory\n",
      "rm: cannot remove '/app/logs/wgangpModel/20240804-002503/validation/events.out.tfevents.1722731382.e99d6a3749a3.322.15.v2': No such file or directory\n",
      "rm: cannot remove '/app/logs/wgangpModel/20240804-002503/validation/events.out.tfevents.1722731419.e99d6a3749a3.322.17.v2': No such file or directory\n",
      "rm: cannot remove '/app/logs/wgangpModel/20240804-002503/validation/events.out.tfevents.1722731437.e99d6a3749a3.322.19.v2': No such file or directory\n",
      "rm: cannot remove '/app/logs/wgangpModel/20240804-002503/validation/events.out.tfevents.1722731464.e99d6a3749a3.322.21.v2': No such file or directory\n",
      "rm: cannot remove '/app/logs/wgangpModel/20240804-002503/validation/events.out.tfevents.1722731488.e99d6a3749a3.322.23.v2': No such file or directory\n",
      "rm: cannot remove '/app/logs/wgangpModel/20240804-002503/validation/events.out.tfevents.1722731497.e99d6a3749a3.322.25.v2': No such file or directory\n",
      "rm: cannot remove '/app/logs/wgangpModel/20240804-002503/validation/events.out.tfevents.1722731518.e99d6a3749a3.322.27.v2': No such file or directory\n",
      "rm: cannot remove '/app/logs/wgangpModel/20240804-002503/validation/events.out.tfevents.1722731566.e99d6a3749a3.322.29.v2': No such file or directory\n",
      "rm: cannot remove '/app/logs/wgangpModel/20240804-002503/validation/events.out.tfevents.1722731615.e99d6a3749a3.322.31.v2': No such file or directory\n",
      "rm: cannot remove '/app/logs/wgangpModel/20240804-002503/validation/events.out.tfevents.1722731664.e99d6a3749a3.322.33.v2': No such file or directory\n",
      "rm: cannot remove '/app/logs/wgangpModel/20240804-002503/validation/events.out.tfevents.1722731710.e99d6a3749a3.322.35.v2': No such file or directory\n",
      "rm: cannot remove '/app/logs/wgangpModel/20240804-002503/validation/events.out.tfevents.1722731753.e99d6a3749a3.322.37.v2': No such file or directory\n",
      "rm: cannot remove '/app/logs/wgangpModel/20240804-002503/validation/events.out.tfevents.1722731776.e99d6a3749a3.322.39.v2': No such file or directory\n",
      "rm: cannot remove '/app/logs/wgangpModel/20240804-002503/validation/events.out.tfevents.1722731816.e99d6a3749a3.322.41.v2': No such file or directory\n",
      "rm: cannot remove '/app/logs/wgangpModel/20240804-002503/validation/events.out.tfevents.1722731834.e99d6a3749a3.322.43.v2': No such file or directory\n",
      "rm: cannot remove '/app/logs/wgangpModel/20240804-002503/validation/events.out.tfevents.1722731882.e99d6a3749a3.322.45.v2': No such file or directory\n",
      "rm: cannot remove '/app/logs/wgangpModel/20240804-002503/validation/events.out.tfevents.1722731925.e99d6a3749a3.322.47.v2': No such file or directory\n",
      "rm: cannot remove '/app/logs/wgangpModel/20240804-002503/validation/events.out.tfevents.1722731966.e99d6a3749a3.322.49.v2': No such file or directory\n",
      "rm: cannot remove '/app/logs/wgangpModel/20240804-002503/validation/events.out.tfevents.1722732006.e99d6a3749a3.322.51.v2': No such file or directory\n",
      "rm: cannot remove '/app/logs/wgangpModel/20240804-002503/validation/events.out.tfevents.1722732022.e99d6a3749a3.322.53.v2': No such file or directory\n",
      "rm: cannot remove '/app/logs/wgangpModel/20240804-002503/validation/events.out.tfevents.1722732059.e99d6a3749a3.322.55.v2': No such file or directory\n",
      "rm: cannot remove '/app/logs/wgangpModel/20240804-002503/validation/events.out.tfevents.1722732102.e99d6a3749a3.322.57.v2': No such file or directory\n",
      "rm: cannot remove '/app/logs/wgangpModel/20240804-002503/validation/events.out.tfevents.1722732132.e99d6a3749a3.322.59.v2': No such file or directory\n",
      "rm: cannot remove '/app/logs/wgangpModel/20240804-002503/validation/events.out.tfevents.1722732164.e99d6a3749a3.322.61.v2': No such file or directory\n",
      "rm: cannot remove '/app/logs/wgangpModel/20240804-002503/validation/events.out.tfevents.1722732212.e99d6a3749a3.322.63.v2': No such file or directory\n",
      "rm: cannot remove '/app/logs/wgangpModel/20240804-002503/validation/events.out.tfevents.1722732254.e99d6a3749a3.322.65.v2': No such file or directory\n",
      "rm: cannot remove '/app/logs/wgangpModel/20240804-002503/validation/events.out.tfevents.1722732281.e99d6a3749a3.322.67.v2': No such file or directory\n",
      "rm: cannot remove '/app/logs/wgangpModel/20240804-002503/validation/events.out.tfevents.1722732302.e99d6a3749a3.322.69.v2': No such file or directory\n",
      "rm: cannot remove '/app/logs/wgangpModel/20240804-002503/validation/events.out.tfevents.1722732339.e99d6a3749a3.322.71.v2': No such file or directory\n",
      "rm: cannot remove '/app/logs/wgangpModel/20240804-002503/validation/events.out.tfevents.1722732362.e99d6a3749a3.322.73.v2': No such file or directory\n",
      "rm: cannot remove '/app/logs/wgangpModel/20240804-002503/validation/events.out.tfevents.1722732406.e99d6a3749a3.322.75.v2': No such file or directory\n",
      "rm: cannot remove '/app/logs/wgangpModel/20240804-002503/validation/events.out.tfevents.1722732456.e99d6a3749a3.322.77.v2': No such file or directory\n",
      "rm: cannot remove '/app/logs/wgangpModel/20240804-002503/validation/events.out.tfevents.1722732484.e99d6a3749a3.322.79.v2': No such file or directory\n",
      "rm: cannot remove '/app/logs/wgangpModel/20240804-002503/validation/events.out.tfevents.1722732508.e99d6a3749a3.322.81.v2': No such file or directory\n",
      "rm: cannot remove '/app/logs/wgangpModel/20240804-002503/validation/events.out.tfevents.1722732555.e99d6a3749a3.322.83.v2': No such file or directory\n",
      "rm: cannot remove '/app/logs/wgangpModel/20240804-002503/validation/events.out.tfevents.1722732594.e99d6a3749a3.322.85.v2': No such file or directory\n",
      "rm: cannot remove '/app/logs/wgangpModel/20240804-002503/validation/events.out.tfevents.1722732608.e99d6a3749a3.322.87.v2': No such file or directory\n",
      "rm: cannot remove '/app/logs/wgangpModel/20240804-002503/validation/events.out.tfevents.1722732623.e99d6a3749a3.322.89.v2': No such file or directory\n",
      "rm: cannot remove '/app/logs/wgangpModel/20240804-002503/validation/events.out.tfevents.1722732639.e99d6a3749a3.322.91.v2': No such file or directory\n",
      "rm: cannot remove '/app/logs/wgangpModel/20240804-002503/validation/events.out.tfevents.1722732665.e99d6a3749a3.322.93.v2': No such file or directory\n",
      "rm: cannot remove '/app/logs/wgangpModel/20240804-002503/validation/events.out.tfevents.1722732700.e99d6a3749a3.322.95.v2': No such file or directory\n",
      "rm: cannot remove '/app/logs/wgangpModel/20240804-002503/validation/events.out.tfevents.1722732758.e99d6a3749a3.322.97.v2': No such file or directory\n",
      "rm: cannot remove '/app/logs/wgangpModel/20240804-002503/validation/events.out.tfevents.1722732800.e99d6a3749a3.322.99.v2': No such file or directory\n",
      "rm: cannot remove '/app/logs/wgangpModel/20240804-002503/validation/events.out.tfevents.1722732822.e99d6a3749a3.322.101.v2': No such file or directory\n",
      "rm: cannot remove '/app/logs/wgangpModel/20240804-002503/validation/events.out.tfevents.1722732858.e99d6a3749a3.322.103.v2': No such file or directory\n",
      "rm: cannot remove '/app/logs/wgangpModel/20240804-002503/validation/events.out.tfevents.1722732923.e99d6a3749a3.322.105.v2': No such file or directory\n",
      "rm: cannot remove '/app/logs/wgangpModel/20240804-002503/validation/events.out.tfevents.1722732967.e99d6a3749a3.322.107.v2': No such file or directory\n",
      "rm: cannot remove '/app/logs/wgangpModel/20240804-002503/validation/events.out.tfevents.1722733009.e99d6a3749a3.322.109.v2': No such file or directory\n",
      "rm: cannot remove '/app/logs/wgangpModel/20240804-002503/validation/events.out.tfevents.1722733044.e99d6a3749a3.322.111.v2': No such file or directory\n",
      "rm: cannot remove '/app/logs/wgangpModel/20240804-002503/validation/events.out.tfevents.1722733083.e99d6a3749a3.322.113.v2': No such file or directory\n",
      "rm: cannot remove '/app/logs/wgangpModel/20240804-002503/validation/events.out.tfevents.1722733141.e99d6a3749a3.322.115.v2': No such file or directory\n",
      "rm: cannot remove '/app/logs/wgangpModel/20240804-002503/validation/events.out.tfevents.1722733157.e99d6a3749a3.322.117.v2': No such file or directory\n",
      "rm: cannot remove '/app/logs/wgangpModel/20240804-002503/validation/events.out.tfevents.1722733174.e99d6a3749a3.322.119.v2': No such file or directory\n",
      "rm: cannot remove '/app/logs/wgangpModel/20240804-002503/validation/events.out.tfevents.1722733212.e99d6a3749a3.322.121.v2': No such file or directory\n",
      "rm: cannot remove '/app/logs/wgangpModel/20240804-002503/validation/events.out.tfevents.1722733234.e99d6a3749a3.322.123.v2': No such file or directory\n",
      "rm: cannot remove '/app/logs/wgangpModel/20240804-002503/validation/events.out.tfevents.1722733269.e99d6a3749a3.322.125.v2': No such file or directory\n",
      "rm: cannot remove '/app/logs/wgangpModel/20240804-002503/validation/events.out.tfevents.1722733304.e99d6a3749a3.322.127.v2': No such file or directory\n",
      "rm: cannot remove '/app/logs/wgangpModel/20240804-002503/validation/events.out.tfevents.1722733338.e99d6a3749a3.322.129.v2': No such file or directory\n",
      "rm: cannot remove '/app/logs/wgangpModel/20240804-002503/validation/events.out.tfevents.1722733353.e99d6a3749a3.322.131.v2': No such file or directory\n",
      "rm: cannot remove '/app/logs/wgangpModel/20240804-002503/validation/events.out.tfevents.1722733389.e99d6a3749a3.322.133.v2': No such file or directory\n",
      "rm: cannot remove '/app/logs/wgangpModel/20240804-002503/validation/events.out.tfevents.1722733426.e99d6a3749a3.322.135.v2': No such file or directory\n",
      "rm: cannot remove '/app/logs/wgangpModel/20240804-002503/validation/events.out.tfevents.1722733481.e99d6a3749a3.322.137.v2': No such file or directory\n",
      "rm: cannot remove '/app/logs/wgangpModel/20240804-002503/validation/events.out.tfevents.1722733508.e99d6a3749a3.322.139.v2': No such file or directory\n",
      "rm: cannot remove '/app/logs/wgangpModel/20240804-002503/validation/events.out.tfevents.1722733534.e99d6a3749a3.322.141.v2': No such file or directory\n",
      "rm: cannot remove '/app/logs/wgangpModel/20240804-002503/validation/events.out.tfevents.1722733578.e99d6a3749a3.322.143.v2': No such file or directory\n",
      "rm: cannot remove '/app/logs/wgangpModel/20240804-002503/validation/events.out.tfevents.1722733619.e99d6a3749a3.322.145.v2': No such file or directory\n",
      "rm: cannot remove '/app/logs/wgangpModel/20240804-002503/validation/events.out.tfevents.1722733673.e99d6a3749a3.322.147.v2': No such file or directory\n",
      "rm: cannot remove '/app/logs/wgangpModel/20240804-002503/validation/events.out.tfevents.1722733704.e99d6a3749a3.322.149.v2': No such file or directory\n",
      "rm: cannot remove '/app/logs/wgangpModel/20240804-002503/validation/events.out.tfevents.1722733750.e99d6a3749a3.322.151.v2': No such file or directory\n",
      "rm: cannot remove '/app/logs/wgangpModel/20240804-002503/validation/events.out.tfevents.1722733780.e99d6a3749a3.322.153.v2': No such file or directory\n",
      "rm: cannot remove '/app/logs/wgangpModel/20240804-002503/validation/events.out.tfevents.1722733824.e99d6a3749a3.322.155.v2': No such file or directory\n",
      "rm: cannot remove '/app/logs/wgangpModel/20240804-002503/validation/events.out.tfevents.1722733855.e99d6a3749a3.322.157.v2': No such file or directory\n",
      "rm: cannot remove '/app/logs/wgangpModel/20240804-002503/validation/events.out.tfevents.1722733875.e99d6a3749a3.322.159.v2': No such file or directory\n",
      "rm: cannot remove '/app/logs/wgangpModel/20240804-002503/validation/events.out.tfevents.1722733886.e99d6a3749a3.322.161.v2': No such file or directory\n",
      "rm: cannot remove '/app/logs/wgangpModel/20240804-002503/validation/events.out.tfevents.1722733914.e99d6a3749a3.322.163.v2': No such file or directory\n",
      "rm: cannot remove '/app/logs/wgangpModel/20240804-002503/validation/events.out.tfevents.1722733944.e99d6a3749a3.322.165.v2': No such file or directory\n",
      "rm: cannot remove '/app/logs/wgangpModel/20240804-002503/validation/events.out.tfevents.1722733974.e99d6a3749a3.322.167.v2': No such file or directory\n",
      "rm: cannot remove '/app/logs/wgangpModel/20240804-002503/validation/events.out.tfevents.1722734024.e99d6a3749a3.322.169.v2': No such file or directory\n",
      "rm: cannot remove '/app/logs/wgangpModel/20240804-002503/validation/events.out.tfevents.1722734063.e99d6a3749a3.322.171.v2': No such file or directory\n",
      "rm: cannot remove '/app/logs/wgangpModel/20240804-002503/validation/events.out.tfevents.1722734111.e99d6a3749a3.322.173.v2': No such file or directory\n",
      "rm: cannot remove '/app/logs/wgangpModel/20240804-002503/validation/events.out.tfevents.1722734152.e99d6a3749a3.322.175.v2': No such file or directory\n",
      "rm: cannot remove '/app/logs/wgangpModel/20240804-002503/validation/events.out.tfevents.1722734164.e99d6a3749a3.322.177.v2': No such file or directory\n",
      "rm: cannot remove '/app/logs/wgangpModel/20240804-002503/validation/events.out.tfevents.1722734217.e99d6a3749a3.322.179.v2': No such file or directory\n",
      "rm: cannot remove '/app/logs/wgangpModel/20240804-002503/validation/events.out.tfevents.1722734264.e99d6a3749a3.322.181.v2': No such file or directory\n",
      "rm: cannot remove '/app/logs/wgangpModel/20240804-011920/train': Directory not empty\n",
      "rm: cannot remove '/app/logs/wgangpModel/20240804-011920/validation': Directory not empty\n"
     ]
    }
   ],
   "source": [
    "# Clear any logs from previous runs\n",
    "!rm -r /app/logs/"
   ]
  },
  {
   "cell_type": "code",
   "execution_count": 3,
   "metadata": {},
   "outputs": [
    {
     "name": "stderr",
     "output_type": "stream",
     "text": [
      "2024-08-04 01:44:16.109983: I external/local_xla/xla/tsl/cuda/cudart_stub.cc:32] Could not find cuda drivers on your machine, GPU will not be used.\n",
      "2024-08-04 01:44:16.118405: I external/local_xla/xla/tsl/cuda/cudart_stub.cc:32] Could not find cuda drivers on your machine, GPU will not be used.\n",
      "2024-08-04 01:44:16.135946: E external/local_xla/xla/stream_executor/cuda/cuda_fft.cc:485] Unable to register cuFFT factory: Attempting to register factory for plugin cuFFT when one has already been registered\n",
      "2024-08-04 01:44:16.158463: E external/local_xla/xla/stream_executor/cuda/cuda_dnn.cc:8454] Unable to register cuDNN factory: Attempting to register factory for plugin cuDNN when one has already been registered\n",
      "2024-08-04 01:44:16.165165: E external/local_xla/xla/stream_executor/cuda/cuda_blas.cc:1452] Unable to register cuBLAS factory: Attempting to register factory for plugin cuBLAS when one has already been registered\n",
      "2024-08-04 01:44:16.187883: I tensorflow/core/platform/cpu_feature_guard.cc:210] This TensorFlow binary is optimized to use available CPU instructions in performance-critical operations.\n",
      "To enable the following instructions: AVX2 FMA, in other operations, rebuild TensorFlow with the appropriate compiler flags.\n",
      "2024-08-04 01:44:17.146470: W tensorflow/compiler/tf2tensorrt/utils/py_utils.cc:38] TF-TRT Warning: Could not find TensorRT\n"
     ]
    }
   ],
   "source": [
    "import os,shutil,random\n",
    "from sklearn.preprocessing import MinMaxScaler\n",
    "import joblib\n",
    "from IPython.display import clear_output\n",
    "import pandas as pd\n",
    "import h5py\n",
    "import tensorflow as tf\n",
    "from IPython.display import clear_output,display, HTML\n",
    "from sklearn.model_selection import train_test_split\n",
    "import datetime as dt\n",
    "import numpy as np\n",
    "from tensorboard.plugins.hparams import api as hp\n",
    "%load_ext tensorboard"
   ]
  },
  {
   "cell_type": "code",
   "execution_count": 4,
   "metadata": {},
   "outputs": [],
   "source": [
    "#================== initialization ==================\n",
    "#best LR = 1e-4,EPOCHS = 10,\"discriminator_extra_steps\":1\n",
    "#best LR = 1e-4,EPOCHS = 15,\"discriminator_extra_steps\":1\n",
    "\n",
    "currentTM=dt.datetime.now().strftime(\"%Y-%m-%dT%H%M%S\")\n",
    "PROJECT = \"wgangpModel\"\n",
    "LATENT_DIM = 16\n",
    "LR = 1e-4\n",
    "EPOCHS = 10\n",
    "BATCH_SIZE = 32\n",
    "\n",
    "PARQUET_PATH = './data/OptionsEOD_STG.parquet'\n",
    "SCALER_PATH = './data/scaler/scaler.gz'\n",
    "UNIQUE_KEYS = ['QUOTE_DATE','SYMBOL','EXPIRE_DATE']\n",
    "SCALER_COL  = ['UNDERLYING_LAST','STRIKE','STRIKE_DISTANCE','INTRINSIC_VALUE','DTE','TOTAL_VOLUME','C_VEGA','P_VEGA',\t'C_BID',\t'C_ASK', 'C_VOLUME',  'P_BID',\t'P_ASK', 'P_VOLUME' ]\n",
    "MODEL_PATH = \"./models/\"\n",
    "H5_PATH = './data/OptTrainData/'\n",
    "STACK_DATA_SHAPE = np.empty((0,) + (16, len( SCALER_COL)  ) ) \n",
    "\n",
    "WANDB_LOG = True\n",
    "RESUME = True\n",
    "SUMMARY = True\n",
    "log_dir = f\"/app/logs/{PROJECT}/\"+dt.datetime.now().strftime(\"%Y%m%d-%H%M%S\")\n",
    "tensorboard_callback = tf.keras.callbacks.TensorBoard(log_dir=log_dir, histogram_freq=1)\n",
    "Scaler = joblib.load(SCALER_PATH )\n",
    "\n",
    "#DISPLAY = ['map','summary',None]\n",
    "DISPLAY = 'summary'\n"
   ]
  },
  {
   "cell_type": "code",
   "execution_count": 5,
   "metadata": {},
   "outputs": [
    {
     "name": "stderr",
     "output_type": "stream",
     "text": [
      "\u001b[34m\u001b[1mwandb\u001b[0m: Currently logged in as: \u001b[33mwasan-sinlapa\u001b[0m. Use \u001b[1m`wandb login --relogin`\u001b[0m to force relogin\n"
     ]
    },
    {
     "data": {
      "text/html": [
       "Tracking run with wandb version 0.17.5"
      ],
      "text/plain": [
       "<IPython.core.display.HTML object>"
      ]
     },
     "metadata": {},
     "output_type": "display_data"
    },
    {
     "data": {
      "text/html": [
       "Run data is saved locally in <code>/app/workspace/OptionsChainModel/wandb/run-20240804_014420-abhwxbyd</code>"
      ],
      "text/plain": [
       "<IPython.core.display.HTML object>"
      ]
     },
     "metadata": {},
     "output_type": "display_data"
    },
    {
     "data": {
      "text/html": [
       "Syncing run <strong><a href='https://wandb.ai/wasan-sinlapa/wgangpModel/runs/abhwxbyd' target=\"_blank\">2024-08-04T014418</a></strong> to <a href='https://wandb.ai/wasan-sinlapa/wgangpModel' target=\"_blank\">Weights & Biases</a> (<a href='https://wandb.me/run' target=\"_blank\">docs</a>)<br/>"
      ],
      "text/plain": [
       "<IPython.core.display.HTML object>"
      ]
     },
     "metadata": {},
     "output_type": "display_data"
    },
    {
     "data": {
      "text/html": [
       " View project at <a href='https://wandb.ai/wasan-sinlapa/wgangpModel' target=\"_blank\">https://wandb.ai/wasan-sinlapa/wgangpModel</a>"
      ],
      "text/plain": [
       "<IPython.core.display.HTML object>"
      ]
     },
     "metadata": {},
     "output_type": "display_data"
    },
    {
     "data": {
      "text/html": [
       " View run at <a href='https://wandb.ai/wasan-sinlapa/wgangpModel/runs/abhwxbyd' target=\"_blank\">https://wandb.ai/wasan-sinlapa/wgangpModel/runs/abhwxbyd</a>"
      ],
      "text/plain": [
       "<IPython.core.display.HTML object>"
      ]
     },
     "metadata": {},
     "output_type": "display_data"
    }
   ],
   "source": [
    "notes = f\"\"\"\n",
    "test Run use_bias set false , no tranfrom\n",
    "\"\"\"\n",
    "import wandb\n",
    "from wandb.integration.keras import WandbCallback\n",
    "CONFIG = {\n",
    "          \"learning_rate\": LR,\n",
    "          \"epochs\": EPOCHS,\n",
    "          \"batch_size\": BATCH_SIZE,\n",
    "          \"architecture\": \"wgangp\",\n",
    "          \"dataset\": \"OptionsChaine\",\n",
    "          \"generator_dense_units\":[128,64,32],\n",
    "          \"generator_dropout_rate\":0.2,\n",
    "          \"discriminator_dense_units\":[64,128,256],\n",
    "          \"discriminator_dropout_rate\":0.2,\n",
    "          \"use_bias\":False,\n",
    "          \"use_dropout\":True,\n",
    "          \"use_bn\":True,\n",
    "          \"transform\":True,\n",
    "          \"discriminator_extra_steps\":1\n",
    "           }\n",
    "\n",
    "if WANDB_LOG :\n",
    "    wandb.login()\n",
    "    run = wandb.init(project=PROJECT, \n",
    "                     name=currentTM, \n",
    "                     config=CONFIG,\n",
    "                     notes=notes\n",
    "                    )"
   ]
  },
  {
   "cell_type": "code",
   "execution_count": 6,
   "metadata": {},
   "outputs": [],
   "source": [
    "#====================================================================="
   ]
  },
  {
   "cell_type": "code",
   "execution_count": 7,
   "metadata": {},
   "outputs": [],
   "source": [
    "##['UNDERLYING_LAST','STRIKE','STRIKE_DISTANCE','INTRINSIC_VALUE','DTE','TOTAL_VOLUME','C_VEGA','P_VEGA',\t'C_BID',\t'C_ASK', 'C_VOLUME',  'P_BID',\t'P_ASK', 'P_VOLUME' ]\n",
    "select_x = [i for i,c in  enumerate(SCALER_COL) if c in ['DTE','INTRINSIC_VALUE','C_VEGA','P_VEGA'] ]\n",
    "select_y = [i for i,c in enumerate(SCALER_COL) if c in ['C_BID','C_ASK',  'P_BID',\t'P_ASK'] ]"
   ]
  },
  {
   "cell_type": "code",
   "execution_count": 8,
   "metadata": {},
   "outputs": [],
   "source": [
    "from src.wgangp.model import OptionChainGenerator\n",
    "from src.wgangp.layer import generator, discriminator\n",
    "\n",
    "model = OptionChainGenerator(\n",
    "    discriminator = discriminator(\n",
    "            input_shape= (16,len(select_y) ), \n",
    "            dense_units = CONFIG[\"generator_dense_units\"], \n",
    "            dropout_rate= CONFIG[\"generator_dropout_rate\"],\n",
    "            use_bias=CONFIG[\"use_bias\"],\n",
    "            use_dropout=CONFIG[\"use_dropout\"],\n",
    "            use_bn=CONFIG[\"use_bn\"]\n",
    "           ), \n",
    "    generator = generator(\n",
    "            input_dim = (16,len(select_y) ),\n",
    "            output_dim = (16,len(select_x) ) ,\n",
    "            dense_units = CONFIG[\"discriminator_dense_units\"],\n",
    "            dropout_rate= CONFIG[\"discriminator_dropout_rate\"],\n",
    "            use_bias=CONFIG[\"use_bias\"],\n",
    "            use_dropout=CONFIG[\"use_dropout\"],\n",
    "            use_bn=CONFIG[\"use_bn\"]\n",
    "           ),\n",
    "    discriminator_extra_steps = CONFIG[\"discriminator_extra_steps\"]\n",
    ")\n",
    "\n",
    "\n",
    "model.compile(\n",
    "    d_optimizer = tf.optimizers.Adam(\n",
    "    learning_rate=LR, beta_1=0.5, beta_2=0.9\n",
    "    ),\n",
    "    g_optimizer = tf.optimizers.Adam(\n",
    "    learning_rate=LR, beta_1=0.5, beta_2=0.9\n",
    "    )\n",
    ")"
   ]
  },
  {
   "cell_type": "code",
   "execution_count": 9,
   "metadata": {},
   "outputs": [],
   "source": [
    "################## show model ######################\n",
    "if DISPLAY == 'map' :\n",
    "    from tensorflow.keras.utils import model_to_dot\n",
    "    from IPython.display import SVG, display\n",
    "    \n",
    "    def display_model(model, width=1024, height=512):\n",
    "        dot = model_to_dot(model, show_shapes=True, show_layer_names=True)\n",
    "        svg_data = dot.create(prog='dot', format='svg').decode(\"utf-8\")\n",
    "        svg_html = f'<div style=\"width:{width}px;height:{height}px;\">{svg_data}</div>'\n",
    "        display(HTML(svg_html))"
   ]
  },
  {
   "cell_type": "code",
   "execution_count": 10,
   "metadata": {},
   "outputs": [
    {
     "data": {
      "text/html": [
       "<pre style=\"white-space:pre;overflow-x:auto;line-height:normal;font-family:Menlo,'DejaVu Sans Mono',consolas,'Courier New',monospace\"><span style=\"font-weight: bold\">Model: \"generator\"</span>\n",
       "</pre>\n"
      ],
      "text/plain": [
       "\u001b[1mModel: \"generator\"\u001b[0m\n"
      ]
     },
     "metadata": {},
     "output_type": "display_data"
    },
    {
     "data": {
      "text/html": [
       "<pre style=\"white-space:pre;overflow-x:auto;line-height:normal;font-family:Menlo,'DejaVu Sans Mono',consolas,'Courier New',monospace\">┏━━━━━━━━━━━━━━━━━━━━━┳━━━━━━━━━━━━━━━━━━━┳━━━━━━━━━━━━┳━━━━━━━━━━━━━━━━━━━┓\n",
       "┃<span style=\"font-weight: bold\"> Layer (type)        </span>┃<span style=\"font-weight: bold\"> Output Shape      </span>┃<span style=\"font-weight: bold\">    Param # </span>┃<span style=\"font-weight: bold\"> Connected to      </span>┃\n",
       "┡━━━━━━━━━━━━━━━━━━━━━╇━━━━━━━━━━━━━━━━━━━╇━━━━━━━━━━━━╇━━━━━━━━━━━━━━━━━━━┩\n",
       "│ input_x_data        │ (<span style=\"color: #00af00; text-decoration-color: #00af00\">32</span>, <span style=\"color: #00af00; text-decoration-color: #00af00\">16</span>, <span style=\"color: #00af00; text-decoration-color: #00af00\">4</span>)       │          <span style=\"color: #00af00; text-decoration-color: #00af00\">0</span> │ -                 │\n",
       "│ (<span style=\"color: #0087ff; text-decoration-color: #0087ff\">InputLayer</span>)        │                   │            │                   │\n",
       "├─────────────────────┼───────────────────┼────────────┼───────────────────┤\n",
       "│ reshape (<span style=\"color: #0087ff; text-decoration-color: #0087ff\">Reshape</span>)   │ (<span style=\"color: #00af00; text-decoration-color: #00af00\">32</span>, <span style=\"color: #00af00; text-decoration-color: #00af00\">4</span>, <span style=\"color: #00af00; text-decoration-color: #00af00\">4</span>, <span style=\"color: #00af00; text-decoration-color: #00af00\">4</span>)     │          <span style=\"color: #00af00; text-decoration-color: #00af00\">0</span> │ input_x_data[<span style=\"color: #00af00; text-decoration-color: #00af00\">0</span>][<span style=\"color: #00af00; text-decoration-color: #00af00\">…</span> │\n",
       "├─────────────────────┼───────────────────┼────────────┼───────────────────┤\n",
       "│ Conv2D-64           │ (<span style=\"color: #00af00; text-decoration-color: #00af00\">32</span>, <span style=\"color: #00af00; text-decoration-color: #00af00\">4</span>, <span style=\"color: #00af00; text-decoration-color: #00af00\">4</span>, <span style=\"color: #00af00; text-decoration-color: #00af00\">64</span>)    │      <span style=\"color: #00af00; text-decoration-color: #00af00\">2,304</span> │ reshape[<span style=\"color: #00af00; text-decoration-color: #00af00\">0</span>][<span style=\"color: #00af00; text-decoration-color: #00af00\">0</span>]     │\n",
       "│ (<span style=\"color: #0087ff; text-decoration-color: #0087ff\">Conv2DTranspose</span>)   │                   │            │                   │\n",
       "├─────────────────────┼───────────────────┼────────────┼───────────────────┤\n",
       "│ batch_normalizatio… │ (<span style=\"color: #00af00; text-decoration-color: #00af00\">32</span>, <span style=\"color: #00af00; text-decoration-color: #00af00\">4</span>, <span style=\"color: #00af00; text-decoration-color: #00af00\">4</span>, <span style=\"color: #00af00; text-decoration-color: #00af00\">64</span>)    │        <span style=\"color: #00af00; text-decoration-color: #00af00\">256</span> │ Conv2D-64[<span style=\"color: #00af00; text-decoration-color: #00af00\">0</span>][<span style=\"color: #00af00; text-decoration-color: #00af00\">0</span>]   │\n",
       "│ (<span style=\"color: #0087ff; text-decoration-color: #0087ff\">BatchNormalizatio…</span> │                   │            │                   │\n",
       "├─────────────────────┼───────────────────┼────────────┼───────────────────┤\n",
       "│ leaky_re_lu_1       │ (<span style=\"color: #00af00; text-decoration-color: #00af00\">32</span>, <span style=\"color: #00af00; text-decoration-color: #00af00\">4</span>, <span style=\"color: #00af00; text-decoration-color: #00af00\">4</span>, <span style=\"color: #00af00; text-decoration-color: #00af00\">256</span>)   │          <span style=\"color: #00af00; text-decoration-color: #00af00\">0</span> │ batch_normalizat… │\n",
       "│ (<span style=\"color: #0087ff; text-decoration-color: #0087ff\">LeakyReLU</span>)         │                   │            │ batch_normalizat… │\n",
       "│                     │                   │            │ batch_normalizat… │\n",
       "├─────────────────────┼───────────────────┼────────────┼───────────────────┤\n",
       "│ dropout_4 (<span style=\"color: #0087ff; text-decoration-color: #0087ff\">Dropout</span>) │ (<span style=\"color: #00af00; text-decoration-color: #00af00\">32</span>, <span style=\"color: #00af00; text-decoration-color: #00af00\">4</span>, <span style=\"color: #00af00; text-decoration-color: #00af00\">4</span>, <span style=\"color: #00af00; text-decoration-color: #00af00\">64</span>)    │          <span style=\"color: #00af00; text-decoration-color: #00af00\">0</span> │ leaky_re_lu_1[<span style=\"color: #00af00; text-decoration-color: #00af00\">0</span>]… │\n",
       "├─────────────────────┼───────────────────┼────────────┼───────────────────┤\n",
       "│ Conv2D-128          │ (<span style=\"color: #00af00; text-decoration-color: #00af00\">32</span>, <span style=\"color: #00af00; text-decoration-color: #00af00\">4</span>, <span style=\"color: #00af00; text-decoration-color: #00af00\">4</span>, <span style=\"color: #00af00; text-decoration-color: #00af00\">128</span>)   │     <span style=\"color: #00af00; text-decoration-color: #00af00\">73,728</span> │ dropout_4[<span style=\"color: #00af00; text-decoration-color: #00af00\">0</span>][<span style=\"color: #00af00; text-decoration-color: #00af00\">0</span>]   │\n",
       "│ (<span style=\"color: #0087ff; text-decoration-color: #0087ff\">Conv2DTranspose</span>)   │                   │            │                   │\n",
       "├─────────────────────┼───────────────────┼────────────┼───────────────────┤\n",
       "│ batch_normalizatio… │ (<span style=\"color: #00af00; text-decoration-color: #00af00\">32</span>, <span style=\"color: #00af00; text-decoration-color: #00af00\">4</span>, <span style=\"color: #00af00; text-decoration-color: #00af00\">4</span>, <span style=\"color: #00af00; text-decoration-color: #00af00\">128</span>)   │        <span style=\"color: #00af00; text-decoration-color: #00af00\">512</span> │ Conv2D-128[<span style=\"color: #00af00; text-decoration-color: #00af00\">0</span>][<span style=\"color: #00af00; text-decoration-color: #00af00\">0</span>]  │\n",
       "│ (<span style=\"color: #0087ff; text-decoration-color: #0087ff\">BatchNormalizatio…</span> │                   │            │                   │\n",
       "├─────────────────────┼───────────────────┼────────────┼───────────────────┤\n",
       "│ dropout_5 (<span style=\"color: #0087ff; text-decoration-color: #0087ff\">Dropout</span>) │ (<span style=\"color: #00af00; text-decoration-color: #00af00\">32</span>, <span style=\"color: #00af00; text-decoration-color: #00af00\">4</span>, <span style=\"color: #00af00; text-decoration-color: #00af00\">4</span>, <span style=\"color: #00af00; text-decoration-color: #00af00\">128</span>)   │          <span style=\"color: #00af00; text-decoration-color: #00af00\">0</span> │ leaky_re_lu_1[<span style=\"color: #00af00; text-decoration-color: #00af00\">1</span>]… │\n",
       "├─────────────────────┼───────────────────┼────────────┼───────────────────┤\n",
       "│ Conv2D-256          │ (<span style=\"color: #00af00; text-decoration-color: #00af00\">32</span>, <span style=\"color: #00af00; text-decoration-color: #00af00\">4</span>, <span style=\"color: #00af00; text-decoration-color: #00af00\">4</span>, <span style=\"color: #00af00; text-decoration-color: #00af00\">256</span>)   │    <span style=\"color: #00af00; text-decoration-color: #00af00\">294,912</span> │ dropout_5[<span style=\"color: #00af00; text-decoration-color: #00af00\">0</span>][<span style=\"color: #00af00; text-decoration-color: #00af00\">0</span>]   │\n",
       "│ (<span style=\"color: #0087ff; text-decoration-color: #0087ff\">Conv2DTranspose</span>)   │                   │            │                   │\n",
       "├─────────────────────┼───────────────────┼────────────┼───────────────────┤\n",
       "│ batch_normalizatio… │ (<span style=\"color: #00af00; text-decoration-color: #00af00\">32</span>, <span style=\"color: #00af00; text-decoration-color: #00af00\">4</span>, <span style=\"color: #00af00; text-decoration-color: #00af00\">4</span>, <span style=\"color: #00af00; text-decoration-color: #00af00\">256</span>)   │      <span style=\"color: #00af00; text-decoration-color: #00af00\">1,024</span> │ Conv2D-256[<span style=\"color: #00af00; text-decoration-color: #00af00\">0</span>][<span style=\"color: #00af00; text-decoration-color: #00af00\">0</span>]  │\n",
       "│ (<span style=\"color: #0087ff; text-decoration-color: #0087ff\">BatchNormalizatio…</span> │                   │            │                   │\n",
       "├─────────────────────┼───────────────────┼────────────┼───────────────────┤\n",
       "│ dropout_6 (<span style=\"color: #0087ff; text-decoration-color: #0087ff\">Dropout</span>) │ (<span style=\"color: #00af00; text-decoration-color: #00af00\">32</span>, <span style=\"color: #00af00; text-decoration-color: #00af00\">4</span>, <span style=\"color: #00af00; text-decoration-color: #00af00\">4</span>, <span style=\"color: #00af00; text-decoration-color: #00af00\">256</span>)   │          <span style=\"color: #00af00; text-decoration-color: #00af00\">0</span> │ leaky_re_lu_1[<span style=\"color: #00af00; text-decoration-color: #00af00\">2</span>]… │\n",
       "├─────────────────────┼───────────────────┼────────────┼───────────────────┤\n",
       "│ flatten_2 (<span style=\"color: #0087ff; text-decoration-color: #0087ff\">Flatten</span>) │ (<span style=\"color: #00af00; text-decoration-color: #00af00\">32</span>, <span style=\"color: #00af00; text-decoration-color: #00af00\">4096</span>)        │          <span style=\"color: #00af00; text-decoration-color: #00af00\">0</span> │ dropout_6[<span style=\"color: #00af00; text-decoration-color: #00af00\">0</span>][<span style=\"color: #00af00; text-decoration-color: #00af00\">0</span>]   │\n",
       "├─────────────────────┼───────────────────┼────────────┼───────────────────┤\n",
       "│ dropout_7 (<span style=\"color: #0087ff; text-decoration-color: #0087ff\">Dropout</span>) │ (<span style=\"color: #00af00; text-decoration-color: #00af00\">32</span>, <span style=\"color: #00af00; text-decoration-color: #00af00\">4096</span>)        │          <span style=\"color: #00af00; text-decoration-color: #00af00\">0</span> │ flatten_2[<span style=\"color: #00af00; text-decoration-color: #00af00\">0</span>][<span style=\"color: #00af00; text-decoration-color: #00af00\">0</span>]   │\n",
       "├─────────────────────┼───────────────────┼────────────┼───────────────────┤\n",
       "│ dense (<span style=\"color: #0087ff; text-decoration-color: #0087ff\">Dense</span>)       │ (<span style=\"color: #00af00; text-decoration-color: #00af00\">32</span>, <span style=\"color: #00af00; text-decoration-color: #00af00\">64</span>)          │    <span style=\"color: #00af00; text-decoration-color: #00af00\">262,208</span> │ dropout_7[<span style=\"color: #00af00; text-decoration-color: #00af00\">0</span>][<span style=\"color: #00af00; text-decoration-color: #00af00\">0</span>]   │\n",
       "├─────────────────────┼───────────────────┼────────────┼───────────────────┤\n",
       "│ Reshape-output      │ (<span style=\"color: #00af00; text-decoration-color: #00af00\">32</span>, <span style=\"color: #00af00; text-decoration-color: #00af00\">16</span>, <span style=\"color: #00af00; text-decoration-color: #00af00\">4</span>)       │          <span style=\"color: #00af00; text-decoration-color: #00af00\">0</span> │ dense[<span style=\"color: #00af00; text-decoration-color: #00af00\">0</span>][<span style=\"color: #00af00; text-decoration-color: #00af00\">0</span>]       │\n",
       "│ (<span style=\"color: #0087ff; text-decoration-color: #0087ff\">Reshape</span>)           │                   │            │                   │\n",
       "└─────────────────────┴───────────────────┴────────────┴───────────────────┘\n",
       "</pre>\n"
      ],
      "text/plain": [
       "┏━━━━━━━━━━━━━━━━━━━━━┳━━━━━━━━━━━━━━━━━━━┳━━━━━━━━━━━━┳━━━━━━━━━━━━━━━━━━━┓\n",
       "┃\u001b[1m \u001b[0m\u001b[1mLayer (type)       \u001b[0m\u001b[1m \u001b[0m┃\u001b[1m \u001b[0m\u001b[1mOutput Shape     \u001b[0m\u001b[1m \u001b[0m┃\u001b[1m \u001b[0m\u001b[1m   Param #\u001b[0m\u001b[1m \u001b[0m┃\u001b[1m \u001b[0m\u001b[1mConnected to     \u001b[0m\u001b[1m \u001b[0m┃\n",
       "┡━━━━━━━━━━━━━━━━━━━━━╇━━━━━━━━━━━━━━━━━━━╇━━━━━━━━━━━━╇━━━━━━━━━━━━━━━━━━━┩\n",
       "│ input_x_data        │ (\u001b[38;5;34m32\u001b[0m, \u001b[38;5;34m16\u001b[0m, \u001b[38;5;34m4\u001b[0m)       │          \u001b[38;5;34m0\u001b[0m │ -                 │\n",
       "│ (\u001b[38;5;33mInputLayer\u001b[0m)        │                   │            │                   │\n",
       "├─────────────────────┼───────────────────┼────────────┼───────────────────┤\n",
       "│ reshape (\u001b[38;5;33mReshape\u001b[0m)   │ (\u001b[38;5;34m32\u001b[0m, \u001b[38;5;34m4\u001b[0m, \u001b[38;5;34m4\u001b[0m, \u001b[38;5;34m4\u001b[0m)     │          \u001b[38;5;34m0\u001b[0m │ input_x_data[\u001b[38;5;34m0\u001b[0m][\u001b[38;5;34m…\u001b[0m │\n",
       "├─────────────────────┼───────────────────┼────────────┼───────────────────┤\n",
       "│ Conv2D-64           │ (\u001b[38;5;34m32\u001b[0m, \u001b[38;5;34m4\u001b[0m, \u001b[38;5;34m4\u001b[0m, \u001b[38;5;34m64\u001b[0m)    │      \u001b[38;5;34m2,304\u001b[0m │ reshape[\u001b[38;5;34m0\u001b[0m][\u001b[38;5;34m0\u001b[0m]     │\n",
       "│ (\u001b[38;5;33mConv2DTranspose\u001b[0m)   │                   │            │                   │\n",
       "├─────────────────────┼───────────────────┼────────────┼───────────────────┤\n",
       "│ batch_normalizatio… │ (\u001b[38;5;34m32\u001b[0m, \u001b[38;5;34m4\u001b[0m, \u001b[38;5;34m4\u001b[0m, \u001b[38;5;34m64\u001b[0m)    │        \u001b[38;5;34m256\u001b[0m │ Conv2D-64[\u001b[38;5;34m0\u001b[0m][\u001b[38;5;34m0\u001b[0m]   │\n",
       "│ (\u001b[38;5;33mBatchNormalizatio…\u001b[0m │                   │            │                   │\n",
       "├─────────────────────┼───────────────────┼────────────┼───────────────────┤\n",
       "│ leaky_re_lu_1       │ (\u001b[38;5;34m32\u001b[0m, \u001b[38;5;34m4\u001b[0m, \u001b[38;5;34m4\u001b[0m, \u001b[38;5;34m256\u001b[0m)   │          \u001b[38;5;34m0\u001b[0m │ batch_normalizat… │\n",
       "│ (\u001b[38;5;33mLeakyReLU\u001b[0m)         │                   │            │ batch_normalizat… │\n",
       "│                     │                   │            │ batch_normalizat… │\n",
       "├─────────────────────┼───────────────────┼────────────┼───────────────────┤\n",
       "│ dropout_4 (\u001b[38;5;33mDropout\u001b[0m) │ (\u001b[38;5;34m32\u001b[0m, \u001b[38;5;34m4\u001b[0m, \u001b[38;5;34m4\u001b[0m, \u001b[38;5;34m64\u001b[0m)    │          \u001b[38;5;34m0\u001b[0m │ leaky_re_lu_1[\u001b[38;5;34m0\u001b[0m]… │\n",
       "├─────────────────────┼───────────────────┼────────────┼───────────────────┤\n",
       "│ Conv2D-128          │ (\u001b[38;5;34m32\u001b[0m, \u001b[38;5;34m4\u001b[0m, \u001b[38;5;34m4\u001b[0m, \u001b[38;5;34m128\u001b[0m)   │     \u001b[38;5;34m73,728\u001b[0m │ dropout_4[\u001b[38;5;34m0\u001b[0m][\u001b[38;5;34m0\u001b[0m]   │\n",
       "│ (\u001b[38;5;33mConv2DTranspose\u001b[0m)   │                   │            │                   │\n",
       "├─────────────────────┼───────────────────┼────────────┼───────────────────┤\n",
       "│ batch_normalizatio… │ (\u001b[38;5;34m32\u001b[0m, \u001b[38;5;34m4\u001b[0m, \u001b[38;5;34m4\u001b[0m, \u001b[38;5;34m128\u001b[0m)   │        \u001b[38;5;34m512\u001b[0m │ Conv2D-128[\u001b[38;5;34m0\u001b[0m][\u001b[38;5;34m0\u001b[0m]  │\n",
       "│ (\u001b[38;5;33mBatchNormalizatio…\u001b[0m │                   │            │                   │\n",
       "├─────────────────────┼───────────────────┼────────────┼───────────────────┤\n",
       "│ dropout_5 (\u001b[38;5;33mDropout\u001b[0m) │ (\u001b[38;5;34m32\u001b[0m, \u001b[38;5;34m4\u001b[0m, \u001b[38;5;34m4\u001b[0m, \u001b[38;5;34m128\u001b[0m)   │          \u001b[38;5;34m0\u001b[0m │ leaky_re_lu_1[\u001b[38;5;34m1\u001b[0m]… │\n",
       "├─────────────────────┼───────────────────┼────────────┼───────────────────┤\n",
       "│ Conv2D-256          │ (\u001b[38;5;34m32\u001b[0m, \u001b[38;5;34m4\u001b[0m, \u001b[38;5;34m4\u001b[0m, \u001b[38;5;34m256\u001b[0m)   │    \u001b[38;5;34m294,912\u001b[0m │ dropout_5[\u001b[38;5;34m0\u001b[0m][\u001b[38;5;34m0\u001b[0m]   │\n",
       "│ (\u001b[38;5;33mConv2DTranspose\u001b[0m)   │                   │            │                   │\n",
       "├─────────────────────┼───────────────────┼────────────┼───────────────────┤\n",
       "│ batch_normalizatio… │ (\u001b[38;5;34m32\u001b[0m, \u001b[38;5;34m4\u001b[0m, \u001b[38;5;34m4\u001b[0m, \u001b[38;5;34m256\u001b[0m)   │      \u001b[38;5;34m1,024\u001b[0m │ Conv2D-256[\u001b[38;5;34m0\u001b[0m][\u001b[38;5;34m0\u001b[0m]  │\n",
       "│ (\u001b[38;5;33mBatchNormalizatio…\u001b[0m │                   │            │                   │\n",
       "├─────────────────────┼───────────────────┼────────────┼───────────────────┤\n",
       "│ dropout_6 (\u001b[38;5;33mDropout\u001b[0m) │ (\u001b[38;5;34m32\u001b[0m, \u001b[38;5;34m4\u001b[0m, \u001b[38;5;34m4\u001b[0m, \u001b[38;5;34m256\u001b[0m)   │          \u001b[38;5;34m0\u001b[0m │ leaky_re_lu_1[\u001b[38;5;34m2\u001b[0m]… │\n",
       "├─────────────────────┼───────────────────┼────────────┼───────────────────┤\n",
       "│ flatten_2 (\u001b[38;5;33mFlatten\u001b[0m) │ (\u001b[38;5;34m32\u001b[0m, \u001b[38;5;34m4096\u001b[0m)        │          \u001b[38;5;34m0\u001b[0m │ dropout_6[\u001b[38;5;34m0\u001b[0m][\u001b[38;5;34m0\u001b[0m]   │\n",
       "├─────────────────────┼───────────────────┼────────────┼───────────────────┤\n",
       "│ dropout_7 (\u001b[38;5;33mDropout\u001b[0m) │ (\u001b[38;5;34m32\u001b[0m, \u001b[38;5;34m4096\u001b[0m)        │          \u001b[38;5;34m0\u001b[0m │ flatten_2[\u001b[38;5;34m0\u001b[0m][\u001b[38;5;34m0\u001b[0m]   │\n",
       "├─────────────────────┼───────────────────┼────────────┼───────────────────┤\n",
       "│ dense (\u001b[38;5;33mDense\u001b[0m)       │ (\u001b[38;5;34m32\u001b[0m, \u001b[38;5;34m64\u001b[0m)          │    \u001b[38;5;34m262,208\u001b[0m │ dropout_7[\u001b[38;5;34m0\u001b[0m][\u001b[38;5;34m0\u001b[0m]   │\n",
       "├─────────────────────┼───────────────────┼────────────┼───────────────────┤\n",
       "│ Reshape-output      │ (\u001b[38;5;34m32\u001b[0m, \u001b[38;5;34m16\u001b[0m, \u001b[38;5;34m4\u001b[0m)       │          \u001b[38;5;34m0\u001b[0m │ dense[\u001b[38;5;34m0\u001b[0m][\u001b[38;5;34m0\u001b[0m]       │\n",
       "│ (\u001b[38;5;33mReshape\u001b[0m)           │                   │            │                   │\n",
       "└─────────────────────┴───────────────────┴────────────┴───────────────────┘\n"
      ]
     },
     "metadata": {},
     "output_type": "display_data"
    },
    {
     "data": {
      "text/html": [
       "<pre style=\"white-space:pre;overflow-x:auto;line-height:normal;font-family:Menlo,'DejaVu Sans Mono',consolas,'Courier New',monospace\"><span style=\"font-weight: bold\"> Total params: </span><span style=\"color: #00af00; text-decoration-color: #00af00\">634,944</span> (2.42 MB)\n",
       "</pre>\n"
      ],
      "text/plain": [
       "\u001b[1m Total params: \u001b[0m\u001b[38;5;34m634,944\u001b[0m (2.42 MB)\n"
      ]
     },
     "metadata": {},
     "output_type": "display_data"
    },
    {
     "data": {
      "text/html": [
       "<pre style=\"white-space:pre;overflow-x:auto;line-height:normal;font-family:Menlo,'DejaVu Sans Mono',consolas,'Courier New',monospace\"><span style=\"font-weight: bold\"> Trainable params: </span><span style=\"color: #00af00; text-decoration-color: #00af00\">634,048</span> (2.42 MB)\n",
       "</pre>\n"
      ],
      "text/plain": [
       "\u001b[1m Trainable params: \u001b[0m\u001b[38;5;34m634,048\u001b[0m (2.42 MB)\n"
      ]
     },
     "metadata": {},
     "output_type": "display_data"
    },
    {
     "data": {
      "text/html": [
       "<pre style=\"white-space:pre;overflow-x:auto;line-height:normal;font-family:Menlo,'DejaVu Sans Mono',consolas,'Courier New',monospace\"><span style=\"font-weight: bold\"> Non-trainable params: </span><span style=\"color: #00af00; text-decoration-color: #00af00\">896</span> (3.50 KB)\n",
       "</pre>\n"
      ],
      "text/plain": [
       "\u001b[1m Non-trainable params: \u001b[0m\u001b[38;5;34m896\u001b[0m (3.50 KB)\n"
      ]
     },
     "metadata": {},
     "output_type": "display_data"
    }
   ],
   "source": [
    "## Example usage:\n",
    "## Display the generator model with reduced size\n",
    "if DISPLAY == 'map' :\n",
    "    display_model(model.generator, width=1024, height=512)\n",
    "if DISPLAY == 'summary' :\n",
    "    model.generator.summary()"
   ]
  },
  {
   "cell_type": "code",
   "execution_count": 11,
   "metadata": {},
   "outputs": [
    {
     "data": {
      "text/html": [
       "<pre style=\"white-space:pre;overflow-x:auto;line-height:normal;font-family:Menlo,'DejaVu Sans Mono',consolas,'Courier New',monospace\"><span style=\"font-weight: bold\">Model: \"discriminator\"</span>\n",
       "</pre>\n"
      ],
      "text/plain": [
       "\u001b[1mModel: \"discriminator\"\u001b[0m\n"
      ]
     },
     "metadata": {},
     "output_type": "display_data"
    },
    {
     "data": {
      "text/html": [
       "<pre style=\"white-space:pre;overflow-x:auto;line-height:normal;font-family:Menlo,'DejaVu Sans Mono',consolas,'Courier New',monospace\">┏━━━━━━━━━━━━━━━━━━━━━┳━━━━━━━━━━━━━━━━━━━┳━━━━━━━━━━━━┳━━━━━━━━━━━━━━━━━━━┓\n",
       "┃<span style=\"font-weight: bold\"> Layer (type)        </span>┃<span style=\"font-weight: bold\"> Output Shape      </span>┃<span style=\"font-weight: bold\">    Param # </span>┃<span style=\"font-weight: bold\"> Connected to      </span>┃\n",
       "┡━━━━━━━━━━━━━━━━━━━━━╇━━━━━━━━━━━━━━━━━━━╇━━━━━━━━━━━━╇━━━━━━━━━━━━━━━━━━━┩\n",
       "│ input_y_data        │ (<span style=\"color: #00af00; text-decoration-color: #00af00\">32</span>, <span style=\"color: #00af00; text-decoration-color: #00af00\">16</span>, <span style=\"color: #00af00; text-decoration-color: #00af00\">4</span>)       │          <span style=\"color: #00af00; text-decoration-color: #00af00\">0</span> │ -                 │\n",
       "│ (<span style=\"color: #0087ff; text-decoration-color: #0087ff\">InputLayer</span>)        │                   │            │                   │\n",
       "├─────────────────────┼───────────────────┼────────────┼───────────────────┤\n",
       "│ lambda (<span style=\"color: #0087ff; text-decoration-color: #0087ff\">Lambda</span>)     │ (<span style=\"color: #00af00; text-decoration-color: #00af00\">32</span>, <span style=\"color: #00af00; text-decoration-color: #00af00\">16</span>, <span style=\"color: #00af00; text-decoration-color: #00af00\">4</span>, <span style=\"color: #00af00; text-decoration-color: #00af00\">1</span>)    │          <span style=\"color: #00af00; text-decoration-color: #00af00\">0</span> │ input_y_data[<span style=\"color: #00af00; text-decoration-color: #00af00\">0</span>][<span style=\"color: #00af00; text-decoration-color: #00af00\">…</span> │\n",
       "├─────────────────────┼───────────────────┼────────────┼───────────────────┤\n",
       "│ zero_padding2d      │ (<span style=\"color: #00af00; text-decoration-color: #00af00\">32</span>, <span style=\"color: #00af00; text-decoration-color: #00af00\">20</span>, <span style=\"color: #00af00; text-decoration-color: #00af00\">8</span>, <span style=\"color: #00af00; text-decoration-color: #00af00\">1</span>)    │          <span style=\"color: #00af00; text-decoration-color: #00af00\">0</span> │ lambda[<span style=\"color: #00af00; text-decoration-color: #00af00\">0</span>][<span style=\"color: #00af00; text-decoration-color: #00af00\">0</span>]      │\n",
       "│ (<span style=\"color: #0087ff; text-decoration-color: #0087ff\">ZeroPadding2D</span>)     │                   │            │                   │\n",
       "├─────────────────────┼───────────────────┼────────────┼───────────────────┤\n",
       "│ conv2d (<span style=\"color: #0087ff; text-decoration-color: #0087ff\">Conv2D</span>)     │ (<span style=\"color: #00af00; text-decoration-color: #00af00\">32</span>, <span style=\"color: #00af00; text-decoration-color: #00af00\">20</span>, <span style=\"color: #00af00; text-decoration-color: #00af00\">8</span>, <span style=\"color: #00af00; text-decoration-color: #00af00\">128</span>)  │      <span style=\"color: #00af00; text-decoration-color: #00af00\">1,152</span> │ zero_padding2d[<span style=\"color: #00af00; text-decoration-color: #00af00\">0</span>… │\n",
       "├─────────────────────┼───────────────────┼────────────┼───────────────────┤\n",
       "│ batch_normalization │ (<span style=\"color: #00af00; text-decoration-color: #00af00\">32</span>, <span style=\"color: #00af00; text-decoration-color: #00af00\">20</span>, <span style=\"color: #00af00; text-decoration-color: #00af00\">8</span>, <span style=\"color: #00af00; text-decoration-color: #00af00\">128</span>)  │        <span style=\"color: #00af00; text-decoration-color: #00af00\">512</span> │ conv2d[<span style=\"color: #00af00; text-decoration-color: #00af00\">0</span>][<span style=\"color: #00af00; text-decoration-color: #00af00\">0</span>]      │\n",
       "│ (<span style=\"color: #0087ff; text-decoration-color: #0087ff\">BatchNormalizatio…</span> │                   │            │                   │\n",
       "├─────────────────────┼───────────────────┼────────────┼───────────────────┤\n",
       "│ leaky_re_lu         │ (<span style=\"color: #00af00; text-decoration-color: #00af00\">32</span>, <span style=\"color: #00af00; text-decoration-color: #00af00\">20</span>, <span style=\"color: #00af00; text-decoration-color: #00af00\">8</span>, <span style=\"color: #00af00; text-decoration-color: #00af00\">32</span>)   │          <span style=\"color: #00af00; text-decoration-color: #00af00\">0</span> │ batch_normalizat… │\n",
       "│ (<span style=\"color: #0087ff; text-decoration-color: #0087ff\">LeakyReLU</span>)         │                   │            │ batch_normalizat… │\n",
       "│                     │                   │            │ batch_normalizat… │\n",
       "├─────────────────────┼───────────────────┼────────────┼───────────────────┤\n",
       "│ dropout (<span style=\"color: #0087ff; text-decoration-color: #0087ff\">Dropout</span>)   │ (<span style=\"color: #00af00; text-decoration-color: #00af00\">32</span>, <span style=\"color: #00af00; text-decoration-color: #00af00\">20</span>, <span style=\"color: #00af00; text-decoration-color: #00af00\">8</span>, <span style=\"color: #00af00; text-decoration-color: #00af00\">128</span>)  │          <span style=\"color: #00af00; text-decoration-color: #00af00\">0</span> │ leaky_re_lu[<span style=\"color: #00af00; text-decoration-color: #00af00\">0</span>][<span style=\"color: #00af00; text-decoration-color: #00af00\">0</span>] │\n",
       "├─────────────────────┼───────────────────┼────────────┼───────────────────┤\n",
       "│ conv2d_1 (<span style=\"color: #0087ff; text-decoration-color: #0087ff\">Conv2D</span>)   │ (<span style=\"color: #00af00; text-decoration-color: #00af00\">32</span>, <span style=\"color: #00af00; text-decoration-color: #00af00\">20</span>, <span style=\"color: #00af00; text-decoration-color: #00af00\">8</span>, <span style=\"color: #00af00; text-decoration-color: #00af00\">64</span>)   │     <span style=\"color: #00af00; text-decoration-color: #00af00\">73,728</span> │ dropout[<span style=\"color: #00af00; text-decoration-color: #00af00\">0</span>][<span style=\"color: #00af00; text-decoration-color: #00af00\">0</span>]     │\n",
       "├─────────────────────┼───────────────────┼────────────┼───────────────────┤\n",
       "│ batch_normalizatio… │ (<span style=\"color: #00af00; text-decoration-color: #00af00\">32</span>, <span style=\"color: #00af00; text-decoration-color: #00af00\">20</span>, <span style=\"color: #00af00; text-decoration-color: #00af00\">8</span>, <span style=\"color: #00af00; text-decoration-color: #00af00\">64</span>)   │        <span style=\"color: #00af00; text-decoration-color: #00af00\">256</span> │ conv2d_1[<span style=\"color: #00af00; text-decoration-color: #00af00\">0</span>][<span style=\"color: #00af00; text-decoration-color: #00af00\">0</span>]    │\n",
       "│ (<span style=\"color: #0087ff; text-decoration-color: #0087ff\">BatchNormalizatio…</span> │                   │            │                   │\n",
       "├─────────────────────┼───────────────────┼────────────┼───────────────────┤\n",
       "│ dropout_1 (<span style=\"color: #0087ff; text-decoration-color: #0087ff\">Dropout</span>) │ (<span style=\"color: #00af00; text-decoration-color: #00af00\">32</span>, <span style=\"color: #00af00; text-decoration-color: #00af00\">20</span>, <span style=\"color: #00af00; text-decoration-color: #00af00\">8</span>, <span style=\"color: #00af00; text-decoration-color: #00af00\">64</span>)   │          <span style=\"color: #00af00; text-decoration-color: #00af00\">0</span> │ leaky_re_lu[<span style=\"color: #00af00; text-decoration-color: #00af00\">1</span>][<span style=\"color: #00af00; text-decoration-color: #00af00\">0</span>] │\n",
       "├─────────────────────┼───────────────────┼────────────┼───────────────────┤\n",
       "│ conv2d_2 (<span style=\"color: #0087ff; text-decoration-color: #0087ff\">Conv2D</span>)   │ (<span style=\"color: #00af00; text-decoration-color: #00af00\">32</span>, <span style=\"color: #00af00; text-decoration-color: #00af00\">20</span>, <span style=\"color: #00af00; text-decoration-color: #00af00\">8</span>, <span style=\"color: #00af00; text-decoration-color: #00af00\">32</span>)   │     <span style=\"color: #00af00; text-decoration-color: #00af00\">18,432</span> │ dropout_1[<span style=\"color: #00af00; text-decoration-color: #00af00\">0</span>][<span style=\"color: #00af00; text-decoration-color: #00af00\">0</span>]   │\n",
       "├─────────────────────┼───────────────────┼────────────┼───────────────────┤\n",
       "│ batch_normalizatio… │ (<span style=\"color: #00af00; text-decoration-color: #00af00\">32</span>, <span style=\"color: #00af00; text-decoration-color: #00af00\">20</span>, <span style=\"color: #00af00; text-decoration-color: #00af00\">8</span>, <span style=\"color: #00af00; text-decoration-color: #00af00\">32</span>)   │        <span style=\"color: #00af00; text-decoration-color: #00af00\">128</span> │ conv2d_2[<span style=\"color: #00af00; text-decoration-color: #00af00\">0</span>][<span style=\"color: #00af00; text-decoration-color: #00af00\">0</span>]    │\n",
       "│ (<span style=\"color: #0087ff; text-decoration-color: #0087ff\">BatchNormalizatio…</span> │                   │            │                   │\n",
       "├─────────────────────┼───────────────────┼────────────┼───────────────────┤\n",
       "│ dropout_2 (<span style=\"color: #0087ff; text-decoration-color: #0087ff\">Dropout</span>) │ (<span style=\"color: #00af00; text-decoration-color: #00af00\">32</span>, <span style=\"color: #00af00; text-decoration-color: #00af00\">20</span>, <span style=\"color: #00af00; text-decoration-color: #00af00\">8</span>, <span style=\"color: #00af00; text-decoration-color: #00af00\">32</span>)   │          <span style=\"color: #00af00; text-decoration-color: #00af00\">0</span> │ leaky_re_lu[<span style=\"color: #00af00; text-decoration-color: #00af00\">2</span>][<span style=\"color: #00af00; text-decoration-color: #00af00\">0</span>] │\n",
       "├─────────────────────┼───────────────────┼────────────┼───────────────────┤\n",
       "│ flatten (<span style=\"color: #0087ff; text-decoration-color: #0087ff\">Flatten</span>)   │ (<span style=\"color: #00af00; text-decoration-color: #00af00\">32</span>, <span style=\"color: #00af00; text-decoration-color: #00af00\">5120</span>)        │          <span style=\"color: #00af00; text-decoration-color: #00af00\">0</span> │ dropout_2[<span style=\"color: #00af00; text-decoration-color: #00af00\">0</span>][<span style=\"color: #00af00; text-decoration-color: #00af00\">0</span>]   │\n",
       "├─────────────────────┼───────────────────┼────────────┼───────────────────┤\n",
       "│ dropout_3 (<span style=\"color: #0087ff; text-decoration-color: #0087ff\">Dropout</span>) │ (<span style=\"color: #00af00; text-decoration-color: #00af00\">32</span>, <span style=\"color: #00af00; text-decoration-color: #00af00\">5120</span>)        │          <span style=\"color: #00af00; text-decoration-color: #00af00\">0</span> │ flatten[<span style=\"color: #00af00; text-decoration-color: #00af00\">0</span>][<span style=\"color: #00af00; text-decoration-color: #00af00\">0</span>]     │\n",
       "├─────────────────────┼───────────────────┼────────────┼───────────────────┤\n",
       "│ Conv2D-logic        │ (<span style=\"color: #00af00; text-decoration-color: #00af00\">32</span>, <span style=\"color: #00af00; text-decoration-color: #00af00\">1</span>)           │      <span style=\"color: #00af00; text-decoration-color: #00af00\">5,121</span> │ dropout_3[<span style=\"color: #00af00; text-decoration-color: #00af00\">0</span>][<span style=\"color: #00af00; text-decoration-color: #00af00\">0</span>]   │\n",
       "│ (<span style=\"color: #0087ff; text-decoration-color: #0087ff\">Dense</span>)             │                   │            │                   │\n",
       "└─────────────────────┴───────────────────┴────────────┴───────────────────┘\n",
       "</pre>\n"
      ],
      "text/plain": [
       "┏━━━━━━━━━━━━━━━━━━━━━┳━━━━━━━━━━━━━━━━━━━┳━━━━━━━━━━━━┳━━━━━━━━━━━━━━━━━━━┓\n",
       "┃\u001b[1m \u001b[0m\u001b[1mLayer (type)       \u001b[0m\u001b[1m \u001b[0m┃\u001b[1m \u001b[0m\u001b[1mOutput Shape     \u001b[0m\u001b[1m \u001b[0m┃\u001b[1m \u001b[0m\u001b[1m   Param #\u001b[0m\u001b[1m \u001b[0m┃\u001b[1m \u001b[0m\u001b[1mConnected to     \u001b[0m\u001b[1m \u001b[0m┃\n",
       "┡━━━━━━━━━━━━━━━━━━━━━╇━━━━━━━━━━━━━━━━━━━╇━━━━━━━━━━━━╇━━━━━━━━━━━━━━━━━━━┩\n",
       "│ input_y_data        │ (\u001b[38;5;34m32\u001b[0m, \u001b[38;5;34m16\u001b[0m, \u001b[38;5;34m4\u001b[0m)       │          \u001b[38;5;34m0\u001b[0m │ -                 │\n",
       "│ (\u001b[38;5;33mInputLayer\u001b[0m)        │                   │            │                   │\n",
       "├─────────────────────┼───────────────────┼────────────┼───────────────────┤\n",
       "│ lambda (\u001b[38;5;33mLambda\u001b[0m)     │ (\u001b[38;5;34m32\u001b[0m, \u001b[38;5;34m16\u001b[0m, \u001b[38;5;34m4\u001b[0m, \u001b[38;5;34m1\u001b[0m)    │          \u001b[38;5;34m0\u001b[0m │ input_y_data[\u001b[38;5;34m0\u001b[0m][\u001b[38;5;34m…\u001b[0m │\n",
       "├─────────────────────┼───────────────────┼────────────┼───────────────────┤\n",
       "│ zero_padding2d      │ (\u001b[38;5;34m32\u001b[0m, \u001b[38;5;34m20\u001b[0m, \u001b[38;5;34m8\u001b[0m, \u001b[38;5;34m1\u001b[0m)    │          \u001b[38;5;34m0\u001b[0m │ lambda[\u001b[38;5;34m0\u001b[0m][\u001b[38;5;34m0\u001b[0m]      │\n",
       "│ (\u001b[38;5;33mZeroPadding2D\u001b[0m)     │                   │            │                   │\n",
       "├─────────────────────┼───────────────────┼────────────┼───────────────────┤\n",
       "│ conv2d (\u001b[38;5;33mConv2D\u001b[0m)     │ (\u001b[38;5;34m32\u001b[0m, \u001b[38;5;34m20\u001b[0m, \u001b[38;5;34m8\u001b[0m, \u001b[38;5;34m128\u001b[0m)  │      \u001b[38;5;34m1,152\u001b[0m │ zero_padding2d[\u001b[38;5;34m0\u001b[0m… │\n",
       "├─────────────────────┼───────────────────┼────────────┼───────────────────┤\n",
       "│ batch_normalization │ (\u001b[38;5;34m32\u001b[0m, \u001b[38;5;34m20\u001b[0m, \u001b[38;5;34m8\u001b[0m, \u001b[38;5;34m128\u001b[0m)  │        \u001b[38;5;34m512\u001b[0m │ conv2d[\u001b[38;5;34m0\u001b[0m][\u001b[38;5;34m0\u001b[0m]      │\n",
       "│ (\u001b[38;5;33mBatchNormalizatio…\u001b[0m │                   │            │                   │\n",
       "├─────────────────────┼───────────────────┼────────────┼───────────────────┤\n",
       "│ leaky_re_lu         │ (\u001b[38;5;34m32\u001b[0m, \u001b[38;5;34m20\u001b[0m, \u001b[38;5;34m8\u001b[0m, \u001b[38;5;34m32\u001b[0m)   │          \u001b[38;5;34m0\u001b[0m │ batch_normalizat… │\n",
       "│ (\u001b[38;5;33mLeakyReLU\u001b[0m)         │                   │            │ batch_normalizat… │\n",
       "│                     │                   │            │ batch_normalizat… │\n",
       "├─────────────────────┼───────────────────┼────────────┼───────────────────┤\n",
       "│ dropout (\u001b[38;5;33mDropout\u001b[0m)   │ (\u001b[38;5;34m32\u001b[0m, \u001b[38;5;34m20\u001b[0m, \u001b[38;5;34m8\u001b[0m, \u001b[38;5;34m128\u001b[0m)  │          \u001b[38;5;34m0\u001b[0m │ leaky_re_lu[\u001b[38;5;34m0\u001b[0m][\u001b[38;5;34m0\u001b[0m] │\n",
       "├─────────────────────┼───────────────────┼────────────┼───────────────────┤\n",
       "│ conv2d_1 (\u001b[38;5;33mConv2D\u001b[0m)   │ (\u001b[38;5;34m32\u001b[0m, \u001b[38;5;34m20\u001b[0m, \u001b[38;5;34m8\u001b[0m, \u001b[38;5;34m64\u001b[0m)   │     \u001b[38;5;34m73,728\u001b[0m │ dropout[\u001b[38;5;34m0\u001b[0m][\u001b[38;5;34m0\u001b[0m]     │\n",
       "├─────────────────────┼───────────────────┼────────────┼───────────────────┤\n",
       "│ batch_normalizatio… │ (\u001b[38;5;34m32\u001b[0m, \u001b[38;5;34m20\u001b[0m, \u001b[38;5;34m8\u001b[0m, \u001b[38;5;34m64\u001b[0m)   │        \u001b[38;5;34m256\u001b[0m │ conv2d_1[\u001b[38;5;34m0\u001b[0m][\u001b[38;5;34m0\u001b[0m]    │\n",
       "│ (\u001b[38;5;33mBatchNormalizatio…\u001b[0m │                   │            │                   │\n",
       "├─────────────────────┼───────────────────┼────────────┼───────────────────┤\n",
       "│ dropout_1 (\u001b[38;5;33mDropout\u001b[0m) │ (\u001b[38;5;34m32\u001b[0m, \u001b[38;5;34m20\u001b[0m, \u001b[38;5;34m8\u001b[0m, \u001b[38;5;34m64\u001b[0m)   │          \u001b[38;5;34m0\u001b[0m │ leaky_re_lu[\u001b[38;5;34m1\u001b[0m][\u001b[38;5;34m0\u001b[0m] │\n",
       "├─────────────────────┼───────────────────┼────────────┼───────────────────┤\n",
       "│ conv2d_2 (\u001b[38;5;33mConv2D\u001b[0m)   │ (\u001b[38;5;34m32\u001b[0m, \u001b[38;5;34m20\u001b[0m, \u001b[38;5;34m8\u001b[0m, \u001b[38;5;34m32\u001b[0m)   │     \u001b[38;5;34m18,432\u001b[0m │ dropout_1[\u001b[38;5;34m0\u001b[0m][\u001b[38;5;34m0\u001b[0m]   │\n",
       "├─────────────────────┼───────────────────┼────────────┼───────────────────┤\n",
       "│ batch_normalizatio… │ (\u001b[38;5;34m32\u001b[0m, \u001b[38;5;34m20\u001b[0m, \u001b[38;5;34m8\u001b[0m, \u001b[38;5;34m32\u001b[0m)   │        \u001b[38;5;34m128\u001b[0m │ conv2d_2[\u001b[38;5;34m0\u001b[0m][\u001b[38;5;34m0\u001b[0m]    │\n",
       "│ (\u001b[38;5;33mBatchNormalizatio…\u001b[0m │                   │            │                   │\n",
       "├─────────────────────┼───────────────────┼────────────┼───────────────────┤\n",
       "│ dropout_2 (\u001b[38;5;33mDropout\u001b[0m) │ (\u001b[38;5;34m32\u001b[0m, \u001b[38;5;34m20\u001b[0m, \u001b[38;5;34m8\u001b[0m, \u001b[38;5;34m32\u001b[0m)   │          \u001b[38;5;34m0\u001b[0m │ leaky_re_lu[\u001b[38;5;34m2\u001b[0m][\u001b[38;5;34m0\u001b[0m] │\n",
       "├─────────────────────┼───────────────────┼────────────┼───────────────────┤\n",
       "│ flatten (\u001b[38;5;33mFlatten\u001b[0m)   │ (\u001b[38;5;34m32\u001b[0m, \u001b[38;5;34m5120\u001b[0m)        │          \u001b[38;5;34m0\u001b[0m │ dropout_2[\u001b[38;5;34m0\u001b[0m][\u001b[38;5;34m0\u001b[0m]   │\n",
       "├─────────────────────┼───────────────────┼────────────┼───────────────────┤\n",
       "│ dropout_3 (\u001b[38;5;33mDropout\u001b[0m) │ (\u001b[38;5;34m32\u001b[0m, \u001b[38;5;34m5120\u001b[0m)        │          \u001b[38;5;34m0\u001b[0m │ flatten[\u001b[38;5;34m0\u001b[0m][\u001b[38;5;34m0\u001b[0m]     │\n",
       "├─────────────────────┼───────────────────┼────────────┼───────────────────┤\n",
       "│ Conv2D-logic        │ (\u001b[38;5;34m32\u001b[0m, \u001b[38;5;34m1\u001b[0m)           │      \u001b[38;5;34m5,121\u001b[0m │ dropout_3[\u001b[38;5;34m0\u001b[0m][\u001b[38;5;34m0\u001b[0m]   │\n",
       "│ (\u001b[38;5;33mDense\u001b[0m)             │                   │            │                   │\n",
       "└─────────────────────┴───────────────────┴────────────┴───────────────────┘\n"
      ]
     },
     "metadata": {},
     "output_type": "display_data"
    },
    {
     "data": {
      "text/html": [
       "<pre style=\"white-space:pre;overflow-x:auto;line-height:normal;font-family:Menlo,'DejaVu Sans Mono',consolas,'Courier New',monospace\"><span style=\"font-weight: bold\"> Total params: </span><span style=\"color: #00af00; text-decoration-color: #00af00\">99,329</span> (388.00 KB)\n",
       "</pre>\n"
      ],
      "text/plain": [
       "\u001b[1m Total params: \u001b[0m\u001b[38;5;34m99,329\u001b[0m (388.00 KB)\n"
      ]
     },
     "metadata": {},
     "output_type": "display_data"
    },
    {
     "data": {
      "text/html": [
       "<pre style=\"white-space:pre;overflow-x:auto;line-height:normal;font-family:Menlo,'DejaVu Sans Mono',consolas,'Courier New',monospace\"><span style=\"font-weight: bold\"> Trainable params: </span><span style=\"color: #00af00; text-decoration-color: #00af00\">98,881</span> (386.25 KB)\n",
       "</pre>\n"
      ],
      "text/plain": [
       "\u001b[1m Trainable params: \u001b[0m\u001b[38;5;34m98,881\u001b[0m (386.25 KB)\n"
      ]
     },
     "metadata": {},
     "output_type": "display_data"
    },
    {
     "data": {
      "text/html": [
       "<pre style=\"white-space:pre;overflow-x:auto;line-height:normal;font-family:Menlo,'DejaVu Sans Mono',consolas,'Courier New',monospace\"><span style=\"font-weight: bold\"> Non-trainable params: </span><span style=\"color: #00af00; text-decoration-color: #00af00\">448</span> (1.75 KB)\n",
       "</pre>\n"
      ],
      "text/plain": [
       "\u001b[1m Non-trainable params: \u001b[0m\u001b[38;5;34m448\u001b[0m (1.75 KB)\n"
      ]
     },
     "metadata": {},
     "output_type": "display_data"
    }
   ],
   "source": [
    "if DISPLAY == 'map' :\n",
    "    display_model(model.discriminator, width=2500, height=512)\n",
    "if DISPLAY == 'summary' :\n",
    "    model.discriminator.summary()"
   ]
  },
  {
   "cell_type": "code",
   "execution_count": 12,
   "metadata": {},
   "outputs": [],
   "source": [
    "#================== loadmodel ===================="
   ]
  },
  {
   "cell_type": "code",
   "execution_count": 13,
   "metadata": {},
   "outputs": [],
   "source": [
    "from tensorflow.keras.models import load_model\n",
    "model_path = MODEL_PATH+f'{PROJECT}'\n",
    "if not RESUME :\n",
    "    if os.path.exists(model_path) :\n",
    "        shutil.rmtree(model_path)\n",
    "if not os.path.exists(model_path):\n",
    "    os.makedirs(model_path)\n",
    "    model.generator.save(model_path+f'/'+f'generator.keras') \n",
    "    model.discriminator.save(model_path+f'/'+f'discriminator.keras') \n",
    "else:\n",
    "    model.generator = load_model(model_path+'/'+f'generator.keras') \n",
    "    model.discriminator = load_model(model_path+'/'+f'discriminator.keras') "
   ]
  },
  {
   "cell_type": "code",
   "execution_count": 14,
   "metadata": {},
   "outputs": [
    {
     "name": "stdout",
     "output_type": "stream",
     "text": [
      "Epoch 1/10\n",
      "\u001b[1m12/12\u001b[0m \u001b[32m━━━━━━━━━━━━━━━━━━━━\u001b[0m\u001b[37m\u001b[0m \u001b[1m8s\u001b[0m 319ms/step - discriminator_loss: 0.3358 - generator_loss: -26.6035 - val_discriminator_loss: -2.3407 - val_generator_loss: -23.3859\n",
      "Epoch 2/10\n",
      "\u001b[1m12/12\u001b[0m \u001b[32m━━━━━━━━━━━━━━━━━━━━\u001b[0m\u001b[37m\u001b[0m \u001b[1m3s\u001b[0m 265ms/step - discriminator_loss: 0.2647 - generator_loss: -26.3649 - val_discriminator_loss: 1.6915 - val_generator_loss: -26.5264\n",
      "Epoch 3/10\n",
      "\u001b[1m12/12\u001b[0m \u001b[32m━━━━━━━━━━━━━━━━━━━━\u001b[0m\u001b[37m\u001b[0m \u001b[1m3s\u001b[0m 263ms/step - discriminator_loss: -0.1827 - generator_loss: -26.1576 - val_discriminator_loss: 0.9982 - val_generator_loss: -24.5137\n",
      "Epoch 4/10\n",
      "\u001b[1m12/12\u001b[0m \u001b[32m━━━━━━━━━━━━━━━━━━━━\u001b[0m\u001b[37m\u001b[0m \u001b[1m3s\u001b[0m 264ms/step - discriminator_loss: -0.1491 - generator_loss: -25.7925 - val_discriminator_loss: -0.5090 - val_generator_loss: -22.1739\n",
      "Epoch 5/10\n",
      "\u001b[1m12/12\u001b[0m \u001b[32m━━━━━━━━━━━━━━━━━━━━\u001b[0m\u001b[37m\u001b[0m \u001b[1m3s\u001b[0m 272ms/step - discriminator_loss: 0.2325 - generator_loss: -25.8083 - val_discriminator_loss: -1.3132 - val_generator_loss: -21.3103\n",
      "Epoch 6/10\n",
      "\u001b[1m12/12\u001b[0m \u001b[32m━━━━━━━━━━━━━━━━━━━━\u001b[0m\u001b[37m\u001b[0m \u001b[1m4s\u001b[0m 308ms/step - discriminator_loss: 0.0609 - generator_loss: -25.8431 - val_discriminator_loss: -2.3403 - val_generator_loss: -20.5764\n",
      "Epoch 7/10\n",
      "\u001b[1m12/12\u001b[0m \u001b[32m━━━━━━━━━━━━━━━━━━━━\u001b[0m\u001b[37m\u001b[0m \u001b[1m3s\u001b[0m 283ms/step - discriminator_loss: -0.1138 - generator_loss: -25.6617 - val_discriminator_loss: -3.1880 - val_generator_loss: -20.1326\n",
      "Epoch 8/10\n",
      "\u001b[1m12/12\u001b[0m \u001b[32m━━━━━━━━━━━━━━━━━━━━\u001b[0m\u001b[37m\u001b[0m \u001b[1m3s\u001b[0m 272ms/step - discriminator_loss: 0.0485 - generator_loss: -26.0970 - val_discriminator_loss: 1.7418 - val_generator_loss: -23.9479\n",
      "Epoch 9/10\n",
      "\u001b[1m12/12\u001b[0m \u001b[32m━━━━━━━━━━━━━━━━━━━━\u001b[0m\u001b[37m\u001b[0m \u001b[1m3s\u001b[0m 283ms/step - discriminator_loss: 0.0605 - generator_loss: -25.7407 - val_discriminator_loss: 4.5354 - val_generator_loss: -26.2890\n",
      "Epoch 10/10\n",
      "\u001b[1m12/12\u001b[0m \u001b[32m━━━━━━━━━━━━━━━━━━━━\u001b[0m\u001b[37m\u001b[0m \u001b[1m3s\u001b[0m 254ms/step - discriminator_loss: 0.4588 - generator_loss: -25.5351 - val_discriminator_loss: 1.0579 - val_generator_loss: -22.7754\n"
     ]
    },
    {
     "data": {
      "application/vnd.jupyter.widget-view+json": {
       "model_id": "",
       "version_major": 2,
       "version_minor": 0
      },
      "text/plain": [
       "VBox(children=(Label(value='0.002 MB of 0.002 MB uploaded\\r'), FloatProgress(value=1.0, max=1.0)))"
      ]
     },
     "metadata": {},
     "output_type": "display_data"
    },
    {
     "data": {
      "text/html": [
       "<style>\n",
       "    table.wandb td:nth-child(1) { padding: 0 10px; text-align: left ; width: auto;} td:nth-child(2) {text-align: left ; width: 100%}\n",
       "    .wandb-row { display: flex; flex-direction: row; flex-wrap: wrap; justify-content: flex-start; width: 100% }\n",
       "    .wandb-col { display: flex; flex-direction: column; flex-basis: 100%; flex: 1; padding: 10px; }\n",
       "    </style>\n",
       "<div class=\"wandb-row\"><div class=\"wandb-col\"><h3>Run history:</h3><br/><table class=\"wandb\"><tr><td>discriminator_loss</td><td>▃▅▁█▅▅▅▅▅▅▅▅▅▅▅▅▅▅▅▅▅▅▅▅▅▅▅▅▅▅▅▅▅▅▅▅▅▅▅▅</td></tr><tr><td>generator_loss</td><td>█▅▆▃▂▂▂▁▁▁▂▂▂▂▂▂▂▂▂▂▂▂▂▂▁▁▁▁▁▁▁▁▁▁▁▁▁▁▁▁</td></tr><tr><td>val_discriminator_loss</td><td>▅▆▆▆▄█▁▆▆▆▆▆▅▆▆▆▅▆▆▆▆▆▆▅▆▆▆▅▆▆▆▆▆▅▇▅▆▆▆▆</td></tr><tr><td>val_generator_loss</td><td>█▆▆▅▃▂▃▂▂▂▃▂▄▃▂▂▃▃▃▂▃▂▃▃▂▃▂▂▂▂▂▂▁▂▂▁▂▁▁▂</td></tr></table><br/></div><div class=\"wandb-col\"><h3>Run summary:</h3><br/><table class=\"wandb\"><tr><td>discriminator_loss</td><td>0.20115</td></tr><tr><td>generator_loss</td><td>-25.9484</td></tr><tr><td>val_discriminator_loss</td><td>0.03336</td></tr><tr><td>val_generator_loss</td><td>-23.16315</td></tr></table><br/></div></div>"
      ],
      "text/plain": [
       "<IPython.core.display.HTML object>"
      ]
     },
     "metadata": {},
     "output_type": "display_data"
    },
    {
     "data": {
      "text/html": [
       " View run <strong style=\"color:#cdcd00\">2024-08-04T014418</strong> at: <a href='https://wandb.ai/wasan-sinlapa/wgangpModel/runs/abhwxbyd' target=\"_blank\">https://wandb.ai/wasan-sinlapa/wgangpModel/runs/abhwxbyd</a><br/> View project at: <a href='https://wandb.ai/wasan-sinlapa/wgangpModel' target=\"_blank\">https://wandb.ai/wasan-sinlapa/wgangpModel</a><br/>Synced 5 W&B file(s), 0 media file(s), 0 artifact file(s) and 0 other file(s)"
      ],
      "text/plain": [
       "<IPython.core.display.HTML object>"
      ]
     },
     "metadata": {},
     "output_type": "display_data"
    },
    {
     "data": {
      "text/html": [
       "Find logs at: <code>./wandb/run-20240804_014420-abhwxbyd/logs</code>"
      ],
      "text/plain": [
       "<IPython.core.display.HTML object>"
      ]
     },
     "metadata": {},
     "output_type": "display_data"
    },
    {
     "data": {
      "text/html": [
       "The new W&B backend becomes opt-out in version 0.18.0; try it out with `wandb.require(\"core\")`! See https://wandb.me/wandb-core for more information."
      ],
      "text/plain": [
       "<IPython.core.display.HTML object>"
      ]
     },
     "metadata": {},
     "output_type": "display_data"
    }
   ],
   "source": [
    "# ================== train model ==================\n",
    "PartitionDate = [ d[:-3] for d in  os.listdir(H5_PATH)]\n",
    "random.shuffle(PartitionDate)\n",
    "#SET MODEL VAR\n",
    "STACK_DATA = STACK_DATA_SHAPE \n",
    "#INIT MODEL VAR\n",
    "STOP_MODEL = False\n",
    "\n",
    "#set PartitionDate[:] for limit range\n",
    "for partdate in PartitionDate[:] :\n",
    "    clear_output(wait=False)\n",
    "    DATA = []\n",
    "    with h5py.File(H5_PATH+partdate+\".h5\", 'r') as f:\n",
    "        DATA = f[partdate][:]\n",
    "    data_shape = DATA.shape\n",
    "    ###transform\n",
    "    if CONFIG['transform'] :\n",
    "        DATA = Scaler.transform(DATA.reshape(-1,data_shape[-1]))\n",
    "        DATA = DATA.reshape(data_shape)\n",
    "    DATA = np.vstack((DATA ,STACK_DATA))\n",
    "    if len(DATA) < 64 :\n",
    "        #stack data\n",
    "        STACK_DATA = np.vstack((STACK_DATA ,DATA))\n",
    "    else: \n",
    "        STACK_DATA = np.empty((0,) + data_shape[1:] )\n",
    "        X = DATA[:, :, select_x]  # เลือกข้อมูล select_x สำหรับ X\n",
    "        Y = DATA[:, :, select_y]  # เลือกข้อมูล select_y เสำหรับ Y\n",
    "        x_train, x_val, y_train, y_val = train_test_split(X, Y, test_size=0.2, random_state=42)\n",
    "        random.shuffle(PartitionDate)\n",
    "        tf.keras.backend.clear_session() \n",
    "        history = model.fit(x_train , y_train, epochs=CONFIG['epochs'], batch_size=BATCH_SIZE, validation_data=(x_val, y_val) ,callbacks=[tensorboard_callback])\n",
    "        if  np.isnan(  np.average( history.history['generator_loss'] )  ) or np.isnan(  np.average( history.history['discriminator_loss'] )  ):\n",
    "            STOP_MODEL = True \n",
    "    \n",
    "        if WANDB_LOG :\n",
    "            LogKeys = history.history.keys()\n",
    "            LogVal={}\n",
    "            for k in LogKeys:  \n",
    "                LogVal[k] = np.average(  history.history[k] )\n",
    "            wandb.log(LogVal, commit=True)\n",
    "    if STOP_MODEL :\n",
    "        break\n",
    "    \n",
    "            \n",
    "    model.generator.save(model_path+f'/'+f'generator.keras') \n",
    "    model.discriminator.save(model_path+f'/'+f'discriminator.keras') \n",
    "if WANDB_LOG : wandb.finish()"
   ]
  },
  {
   "cell_type": "code",
   "execution_count": 15,
   "metadata": {},
   "outputs": [
    {
     "ename": "SyntaxError",
     "evalue": "invalid syntax (2094489582.py, line 1)",
     "output_type": "error",
     "traceback": [
      "\u001b[0;36m  Cell \u001b[0;32mIn[15], line 1\u001b[0;36m\u001b[0m\n\u001b[0;31m    `====================================================\u001b[0m\n\u001b[0m    ^\u001b[0m\n\u001b[0;31mSyntaxError\u001b[0m\u001b[0;31m:\u001b[0m invalid syntax\n"
     ]
    }
   ],
   "source": [
    "`===================================================="
   ]
  },
  {
   "cell_type": "code",
   "execution_count": null,
   "metadata": {},
   "outputs": [],
   "source": []
  },
  {
   "cell_type": "code",
   "execution_count": null,
   "metadata": {},
   "outputs": [],
   "source": [
    "======================== predict ========================="
   ]
  },
  {
   "cell_type": "code",
   "execution_count": 226,
   "metadata": {},
   "outputs": [
    {
     "name": "stdout",
     "output_type": "stream",
     "text": [
      "CONFIG['transform'] : True\n"
     ]
    }
   ],
   "source": [
    "PartitionDate = [ d[:-3] for d in  os.listdir(H5_PATH)]\n",
    "random.shuffle(PartitionDate)\n",
    "for partdate in PartitionDate[:1] :\n",
    "    DATA = []\n",
    "    with h5py.File(H5_PATH+partdate+\".h5\", 'r') as f:\n",
    "        DATA = f[partdate][:]\n",
    "    data_shape = DATA.shape\n",
    "    print(f\"CONFIG['transform'] : {CONFIG['transform']}\")\n",
    "    if CONFIG['transform'] or True :\n",
    "        DATA = Scaler.transform(DATA.reshape(-1,data_shape[-1]))\n",
    "        DATA = DATA.reshape(data_shape)"
   ]
  },
  {
   "cell_type": "code",
   "execution_count": 227,
   "metadata": {},
   "outputs": [],
   "source": [
    "col_x = [SCALER_COL[i] for i in select_x]\n",
    "col_y = [SCALER_COL[i] for i in select_y]"
   ]
  },
  {
   "cell_type": "code",
   "execution_count": 228,
   "metadata": {},
   "outputs": [],
   "source": [
    "X = DATA[:, :, select_x][:]\n",
    "Y_real = DATA[:, :, select_y][:]\n",
    "#===========\n",
    "# X = x_train\n",
    "# Y_real = y_train\n",
    "# #===========\n",
    "dfX = pd.DataFrame(\n",
    "    X[:1].reshape(16, len(select_x)), \n",
    "    columns=col_x)\n",
    "#print(dfX)"
   ]
  },
  {
   "cell_type": "code",
   "execution_count": 229,
   "metadata": {},
   "outputs": [],
   "source": [
    "genVal = model.generator(X) "
   ]
  },
  {
   "cell_type": "code",
   "execution_count": 230,
   "metadata": {},
   "outputs": [],
   "source": [
    "dfY = pd.DataFrame(\n",
    "    genVal.numpy()[:1].reshape(16, len(select_y)), \n",
    "    columns=col_y)\n",
    "#print(dfY)"
   ]
  },
  {
   "cell_type": "code",
   "execution_count": 231,
   "metadata": {},
   "outputs": [],
   "source": [
    "SUMDF = pd.concat([dfX, dfY],axis=1)"
   ]
  },
  {
   "cell_type": "code",
   "execution_count": 232,
   "metadata": {},
   "outputs": [],
   "source": [
    "resultDF = pd.DataFrame([])\n",
    "rm_col = []\n",
    "for i in SCALER_COL:\n",
    "    if i in SUMDF.columns:\n",
    "         resultDF[i] = SUMDF[i]\n",
    "    else:\n",
    "        rm_col += [i]\n",
    "        resultDF[i] = [1e-8]*16\n"
   ]
  },
  {
   "cell_type": "code",
   "execution_count": 233,
   "metadata": {},
   "outputs": [],
   "source": [
    "if CONFIG['transform'] :\n",
    "    decode_transformed=Scaler.inverse_transform(\n",
    "        resultDF\n",
    "    )\n",
    "    decode_transformed=pd.DataFrame(  \n",
    "        decode_transformed\n",
    "    ,columns=SCALER_COL).drop(columns=rm_col)\n",
    "    decode_transformed.loc[decode_transformed['DTE'] < 1e-8] = 0\n",
    "    decode_transformed[col_y] = decode_transformed[col_y].round(2)"
   ]
  },
  {
   "cell_type": "code",
   "execution_count": 234,
   "metadata": {},
   "outputs": [
    {
     "data": {
      "text/html": [
       "<div>\n",
       "<style scoped>\n",
       "    .dataframe tbody tr th:only-of-type {\n",
       "        vertical-align: middle;\n",
       "    }\n",
       "\n",
       "    .dataframe tbody tr th {\n",
       "        vertical-align: top;\n",
       "    }\n",
       "\n",
       "    .dataframe thead th {\n",
       "        text-align: right;\n",
       "    }\n",
       "</style>\n",
       "<table border=\"1\" class=\"dataframe\">\n",
       "  <thead>\n",
       "    <tr style=\"text-align: right;\">\n",
       "      <th></th>\n",
       "      <th>INTRINSIC_VALUE</th>\n",
       "      <th>DTE</th>\n",
       "      <th>C_VEGA</th>\n",
       "      <th>P_VEGA</th>\n",
       "      <th>C_BID</th>\n",
       "      <th>C_ASK</th>\n",
       "      <th>P_BID</th>\n",
       "      <th>P_ASK</th>\n",
       "    </tr>\n",
       "  </thead>\n",
       "  <tbody>\n",
       "    <tr>\n",
       "      <th>0</th>\n",
       "      <td>0.0</td>\n",
       "      <td>0.0</td>\n",
       "      <td>0.00000</td>\n",
       "      <td>0.00000</td>\n",
       "      <td>0.00</td>\n",
       "      <td>0.00</td>\n",
       "      <td>0.00</td>\n",
       "      <td>0.00</td>\n",
       "    </tr>\n",
       "    <tr>\n",
       "      <th>1</th>\n",
       "      <td>0.0</td>\n",
       "      <td>0.0</td>\n",
       "      <td>0.00000</td>\n",
       "      <td>0.00000</td>\n",
       "      <td>0.00</td>\n",
       "      <td>0.00</td>\n",
       "      <td>0.00</td>\n",
       "      <td>0.00</td>\n",
       "    </tr>\n",
       "    <tr>\n",
       "      <th>2</th>\n",
       "      <td>0.0</td>\n",
       "      <td>0.0</td>\n",
       "      <td>0.00000</td>\n",
       "      <td>0.00000</td>\n",
       "      <td>0.00</td>\n",
       "      <td>0.00</td>\n",
       "      <td>0.00</td>\n",
       "      <td>0.00</td>\n",
       "    </tr>\n",
       "    <tr>\n",
       "      <th>3</th>\n",
       "      <td>0.0</td>\n",
       "      <td>0.0</td>\n",
       "      <td>0.00000</td>\n",
       "      <td>0.00000</td>\n",
       "      <td>0.00</td>\n",
       "      <td>0.00</td>\n",
       "      <td>0.00</td>\n",
       "      <td>0.00</td>\n",
       "    </tr>\n",
       "    <tr>\n",
       "      <th>4</th>\n",
       "      <td>0.0</td>\n",
       "      <td>0.0</td>\n",
       "      <td>0.00000</td>\n",
       "      <td>0.00000</td>\n",
       "      <td>0.00</td>\n",
       "      <td>0.00</td>\n",
       "      <td>0.00</td>\n",
       "      <td>0.00</td>\n",
       "    </tr>\n",
       "    <tr>\n",
       "      <th>5</th>\n",
       "      <td>10.3</td>\n",
       "      <td>4.0</td>\n",
       "      <td>0.05073</td>\n",
       "      <td>0.03676</td>\n",
       "      <td>4.07</td>\n",
       "      <td>4.17</td>\n",
       "      <td>0.07</td>\n",
       "      <td>-0.09</td>\n",
       "    </tr>\n",
       "    <tr>\n",
       "      <th>6</th>\n",
       "      <td>9.8</td>\n",
       "      <td>4.0</td>\n",
       "      <td>0.05279</td>\n",
       "      <td>0.03903</td>\n",
       "      <td>5.60</td>\n",
       "      <td>5.95</td>\n",
       "      <td>0.67</td>\n",
       "      <td>0.30</td>\n",
       "    </tr>\n",
       "    <tr>\n",
       "      <th>7</th>\n",
       "      <td>9.3</td>\n",
       "      <td>4.0</td>\n",
       "      <td>0.05713</td>\n",
       "      <td>0.04167</td>\n",
       "      <td>7.01</td>\n",
       "      <td>6.81</td>\n",
       "      <td>0.71</td>\n",
       "      <td>1.08</td>\n",
       "    </tr>\n",
       "    <tr>\n",
       "      <th>8</th>\n",
       "      <td>8.3</td>\n",
       "      <td>4.0</td>\n",
       "      <td>0.06185</td>\n",
       "      <td>0.04897</td>\n",
       "      <td>5.61</td>\n",
       "      <td>5.97</td>\n",
       "      <td>1.17</td>\n",
       "      <td>1.68</td>\n",
       "    </tr>\n",
       "    <tr>\n",
       "      <th>9</th>\n",
       "      <td>7.3</td>\n",
       "      <td>4.0</td>\n",
       "      <td>0.06751</td>\n",
       "      <td>0.05570</td>\n",
       "      <td>4.96</td>\n",
       "      <td>5.10</td>\n",
       "      <td>1.18</td>\n",
       "      <td>1.80</td>\n",
       "    </tr>\n",
       "    <tr>\n",
       "      <th>10</th>\n",
       "      <td>6.3</td>\n",
       "      <td>4.0</td>\n",
       "      <td>0.07346</td>\n",
       "      <td>0.06394</td>\n",
       "      <td>3.68</td>\n",
       "      <td>3.29</td>\n",
       "      <td>1.60</td>\n",
       "      <td>1.00</td>\n",
       "    </tr>\n",
       "    <tr>\n",
       "      <th>11</th>\n",
       "      <td>0.0</td>\n",
       "      <td>0.0</td>\n",
       "      <td>0.00000</td>\n",
       "      <td>0.00000</td>\n",
       "      <td>0.00</td>\n",
       "      <td>0.00</td>\n",
       "      <td>0.00</td>\n",
       "      <td>0.00</td>\n",
       "    </tr>\n",
       "    <tr>\n",
       "      <th>12</th>\n",
       "      <td>0.0</td>\n",
       "      <td>0.0</td>\n",
       "      <td>0.00000</td>\n",
       "      <td>0.00000</td>\n",
       "      <td>0.00</td>\n",
       "      <td>0.00</td>\n",
       "      <td>0.00</td>\n",
       "      <td>0.00</td>\n",
       "    </tr>\n",
       "    <tr>\n",
       "      <th>13</th>\n",
       "      <td>0.0</td>\n",
       "      <td>0.0</td>\n",
       "      <td>0.00000</td>\n",
       "      <td>0.00000</td>\n",
       "      <td>0.00</td>\n",
       "      <td>0.00</td>\n",
       "      <td>0.00</td>\n",
       "      <td>0.00</td>\n",
       "    </tr>\n",
       "    <tr>\n",
       "      <th>14</th>\n",
       "      <td>0.0</td>\n",
       "      <td>0.0</td>\n",
       "      <td>0.00000</td>\n",
       "      <td>0.00000</td>\n",
       "      <td>0.00</td>\n",
       "      <td>0.00</td>\n",
       "      <td>0.00</td>\n",
       "      <td>0.00</td>\n",
       "    </tr>\n",
       "    <tr>\n",
       "      <th>15</th>\n",
       "      <td>0.0</td>\n",
       "      <td>0.0</td>\n",
       "      <td>0.00000</td>\n",
       "      <td>0.00000</td>\n",
       "      <td>0.00</td>\n",
       "      <td>0.00</td>\n",
       "      <td>0.00</td>\n",
       "      <td>0.00</td>\n",
       "    </tr>\n",
       "  </tbody>\n",
       "</table>\n",
       "</div>"
      ],
      "text/plain": [
       "    INTRINSIC_VALUE  DTE   C_VEGA   P_VEGA  C_BID  C_ASK  P_BID  P_ASK\n",
       "0               0.0  0.0  0.00000  0.00000   0.00   0.00   0.00   0.00\n",
       "1               0.0  0.0  0.00000  0.00000   0.00   0.00   0.00   0.00\n",
       "2               0.0  0.0  0.00000  0.00000   0.00   0.00   0.00   0.00\n",
       "3               0.0  0.0  0.00000  0.00000   0.00   0.00   0.00   0.00\n",
       "4               0.0  0.0  0.00000  0.00000   0.00   0.00   0.00   0.00\n",
       "5              10.3  4.0  0.05073  0.03676   4.07   4.17   0.07  -0.09\n",
       "6               9.8  4.0  0.05279  0.03903   5.60   5.95   0.67   0.30\n",
       "7               9.3  4.0  0.05713  0.04167   7.01   6.81   0.71   1.08\n",
       "8               8.3  4.0  0.06185  0.04897   5.61   5.97   1.17   1.68\n",
       "9               7.3  4.0  0.06751  0.05570   4.96   5.10   1.18   1.80\n",
       "10              6.3  4.0  0.07346  0.06394   3.68   3.29   1.60   1.00\n",
       "11              0.0  0.0  0.00000  0.00000   0.00   0.00   0.00   0.00\n",
       "12              0.0  0.0  0.00000  0.00000   0.00   0.00   0.00   0.00\n",
       "13              0.0  0.0  0.00000  0.00000   0.00   0.00   0.00   0.00\n",
       "14              0.0  0.0  0.00000  0.00000   0.00   0.00   0.00   0.00\n",
       "15              0.0  0.0  0.00000  0.00000   0.00   0.00   0.00   0.00"
      ]
     },
     "execution_count": 234,
     "metadata": {},
     "output_type": "execute_result"
    }
   ],
   "source": [
    "decode_transformed"
   ]
  },
  {
   "cell_type": "code",
   "execution_count": 204,
   "metadata": {},
   "outputs": [
    {
     "ename": "SyntaxError",
     "evalue": "invalid syntax (2694477771.py, line 1)",
     "output_type": "error",
     "traceback": [
      "\u001b[0;36m  Cell \u001b[0;32mIn[204], line 1\u001b[0;36m\u001b[0m\n\u001b[0;31m    ======================= real data ==============================\u001b[0m\n\u001b[0m    ^\u001b[0m\n\u001b[0;31mSyntaxError\u001b[0m\u001b[0;31m:\u001b[0m invalid syntax\n"
     ]
    }
   ],
   "source": [
    "======================= real data =============================="
   ]
  },
  {
   "cell_type": "code",
   "execution_count": 235,
   "metadata": {},
   "outputs": [],
   "source": [
    "if CONFIG['transform'] :\n",
    "    realdecode_transformed=Scaler.inverse_transform(\n",
    "        DATA[0]\n",
    "    )\n",
    "    realdecode_transformed=pd.DataFrame(  \n",
    "        realdecode_transformed\n",
    "    ,columns=SCALER_COL).drop(columns=rm_col)\n",
    "    realdecode_transformed.loc[realdecode_transformed['DTE'] < 1e-8] = 0\n",
    "    "
   ]
  },
  {
   "cell_type": "code",
   "execution_count": 236,
   "metadata": {},
   "outputs": [
    {
     "data": {
      "text/html": [
       "<div>\n",
       "<style scoped>\n",
       "    .dataframe tbody tr th:only-of-type {\n",
       "        vertical-align: middle;\n",
       "    }\n",
       "\n",
       "    .dataframe tbody tr th {\n",
       "        vertical-align: top;\n",
       "    }\n",
       "\n",
       "    .dataframe thead th {\n",
       "        text-align: right;\n",
       "    }\n",
       "</style>\n",
       "<table border=\"1\" class=\"dataframe\">\n",
       "  <thead>\n",
       "    <tr style=\"text-align: right;\">\n",
       "      <th></th>\n",
       "      <th>INTRINSIC_VALUE</th>\n",
       "      <th>DTE</th>\n",
       "      <th>C_VEGA</th>\n",
       "      <th>P_VEGA</th>\n",
       "      <th>C_BID</th>\n",
       "      <th>C_ASK</th>\n",
       "      <th>P_BID</th>\n",
       "      <th>P_ASK</th>\n",
       "    </tr>\n",
       "  </thead>\n",
       "  <tbody>\n",
       "    <tr>\n",
       "      <th>0</th>\n",
       "      <td>0.0</td>\n",
       "      <td>0.0</td>\n",
       "      <td>0.00000</td>\n",
       "      <td>0.00000</td>\n",
       "      <td>0.00</td>\n",
       "      <td>0.00</td>\n",
       "      <td>0.00</td>\n",
       "      <td>0.00</td>\n",
       "    </tr>\n",
       "    <tr>\n",
       "      <th>1</th>\n",
       "      <td>0.0</td>\n",
       "      <td>0.0</td>\n",
       "      <td>0.00000</td>\n",
       "      <td>0.00000</td>\n",
       "      <td>0.00</td>\n",
       "      <td>0.00</td>\n",
       "      <td>0.00</td>\n",
       "      <td>0.00</td>\n",
       "    </tr>\n",
       "    <tr>\n",
       "      <th>2</th>\n",
       "      <td>0.0</td>\n",
       "      <td>0.0</td>\n",
       "      <td>0.00000</td>\n",
       "      <td>0.00000</td>\n",
       "      <td>0.00</td>\n",
       "      <td>0.00</td>\n",
       "      <td>0.00</td>\n",
       "      <td>0.00</td>\n",
       "    </tr>\n",
       "    <tr>\n",
       "      <th>3</th>\n",
       "      <td>0.0</td>\n",
       "      <td>0.0</td>\n",
       "      <td>0.00000</td>\n",
       "      <td>0.00000</td>\n",
       "      <td>0.00</td>\n",
       "      <td>0.00</td>\n",
       "      <td>0.00</td>\n",
       "      <td>0.00</td>\n",
       "    </tr>\n",
       "    <tr>\n",
       "      <th>4</th>\n",
       "      <td>0.0</td>\n",
       "      <td>0.0</td>\n",
       "      <td>0.00000</td>\n",
       "      <td>0.00000</td>\n",
       "      <td>0.00</td>\n",
       "      <td>0.00</td>\n",
       "      <td>0.00</td>\n",
       "      <td>0.00</td>\n",
       "    </tr>\n",
       "    <tr>\n",
       "      <th>5</th>\n",
       "      <td>10.3</td>\n",
       "      <td>4.0</td>\n",
       "      <td>0.05073</td>\n",
       "      <td>0.03676</td>\n",
       "      <td>10.64</td>\n",
       "      <td>10.71</td>\n",
       "      <td>0.24</td>\n",
       "      <td>0.26</td>\n",
       "    </tr>\n",
       "    <tr>\n",
       "      <th>6</th>\n",
       "      <td>9.8</td>\n",
       "      <td>4.0</td>\n",
       "      <td>0.05279</td>\n",
       "      <td>0.03903</td>\n",
       "      <td>10.09</td>\n",
       "      <td>10.28</td>\n",
       "      <td>0.25</td>\n",
       "      <td>0.27</td>\n",
       "    </tr>\n",
       "    <tr>\n",
       "      <th>7</th>\n",
       "      <td>9.3</td>\n",
       "      <td>4.0</td>\n",
       "      <td>0.05713</td>\n",
       "      <td>0.04167</td>\n",
       "      <td>9.74</td>\n",
       "      <td>9.78</td>\n",
       "      <td>0.29</td>\n",
       "      <td>0.29</td>\n",
       "    </tr>\n",
       "    <tr>\n",
       "      <th>8</th>\n",
       "      <td>8.3</td>\n",
       "      <td>4.0</td>\n",
       "      <td>0.06185</td>\n",
       "      <td>0.04897</td>\n",
       "      <td>8.79</td>\n",
       "      <td>8.88</td>\n",
       "      <td>0.37</td>\n",
       "      <td>0.38</td>\n",
       "    </tr>\n",
       "    <tr>\n",
       "      <th>9</th>\n",
       "      <td>7.3</td>\n",
       "      <td>4.0</td>\n",
       "      <td>0.06751</td>\n",
       "      <td>0.05570</td>\n",
       "      <td>7.89</td>\n",
       "      <td>7.97</td>\n",
       "      <td>0.45</td>\n",
       "      <td>0.47</td>\n",
       "    </tr>\n",
       "    <tr>\n",
       "      <th>10</th>\n",
       "      <td>6.3</td>\n",
       "      <td>4.0</td>\n",
       "      <td>0.07346</td>\n",
       "      <td>0.06394</td>\n",
       "      <td>7.00</td>\n",
       "      <td>7.09</td>\n",
       "      <td>0.57</td>\n",
       "      <td>0.59</td>\n",
       "    </tr>\n",
       "    <tr>\n",
       "      <th>11</th>\n",
       "      <td>0.0</td>\n",
       "      <td>0.0</td>\n",
       "      <td>0.00000</td>\n",
       "      <td>0.00000</td>\n",
       "      <td>0.00</td>\n",
       "      <td>0.00</td>\n",
       "      <td>0.00</td>\n",
       "      <td>0.00</td>\n",
       "    </tr>\n",
       "    <tr>\n",
       "      <th>12</th>\n",
       "      <td>0.0</td>\n",
       "      <td>0.0</td>\n",
       "      <td>0.00000</td>\n",
       "      <td>0.00000</td>\n",
       "      <td>0.00</td>\n",
       "      <td>0.00</td>\n",
       "      <td>0.00</td>\n",
       "      <td>0.00</td>\n",
       "    </tr>\n",
       "    <tr>\n",
       "      <th>13</th>\n",
       "      <td>0.0</td>\n",
       "      <td>0.0</td>\n",
       "      <td>0.00000</td>\n",
       "      <td>0.00000</td>\n",
       "      <td>0.00</td>\n",
       "      <td>0.00</td>\n",
       "      <td>0.00</td>\n",
       "      <td>0.00</td>\n",
       "    </tr>\n",
       "    <tr>\n",
       "      <th>14</th>\n",
       "      <td>0.0</td>\n",
       "      <td>0.0</td>\n",
       "      <td>0.00000</td>\n",
       "      <td>0.00000</td>\n",
       "      <td>0.00</td>\n",
       "      <td>0.00</td>\n",
       "      <td>0.00</td>\n",
       "      <td>0.00</td>\n",
       "    </tr>\n",
       "    <tr>\n",
       "      <th>15</th>\n",
       "      <td>0.0</td>\n",
       "      <td>0.0</td>\n",
       "      <td>0.00000</td>\n",
       "      <td>0.00000</td>\n",
       "      <td>0.00</td>\n",
       "      <td>0.00</td>\n",
       "      <td>0.00</td>\n",
       "      <td>0.00</td>\n",
       "    </tr>\n",
       "  </tbody>\n",
       "</table>\n",
       "</div>"
      ],
      "text/plain": [
       "    INTRINSIC_VALUE  DTE   C_VEGA   P_VEGA  C_BID  C_ASK  P_BID  P_ASK\n",
       "0               0.0  0.0  0.00000  0.00000   0.00   0.00   0.00   0.00\n",
       "1               0.0  0.0  0.00000  0.00000   0.00   0.00   0.00   0.00\n",
       "2               0.0  0.0  0.00000  0.00000   0.00   0.00   0.00   0.00\n",
       "3               0.0  0.0  0.00000  0.00000   0.00   0.00   0.00   0.00\n",
       "4               0.0  0.0  0.00000  0.00000   0.00   0.00   0.00   0.00\n",
       "5              10.3  4.0  0.05073  0.03676  10.64  10.71   0.24   0.26\n",
       "6               9.8  4.0  0.05279  0.03903  10.09  10.28   0.25   0.27\n",
       "7               9.3  4.0  0.05713  0.04167   9.74   9.78   0.29   0.29\n",
       "8               8.3  4.0  0.06185  0.04897   8.79   8.88   0.37   0.38\n",
       "9               7.3  4.0  0.06751  0.05570   7.89   7.97   0.45   0.47\n",
       "10              6.3  4.0  0.07346  0.06394   7.00   7.09   0.57   0.59\n",
       "11              0.0  0.0  0.00000  0.00000   0.00   0.00   0.00   0.00\n",
       "12              0.0  0.0  0.00000  0.00000   0.00   0.00   0.00   0.00\n",
       "13              0.0  0.0  0.00000  0.00000   0.00   0.00   0.00   0.00\n",
       "14              0.0  0.0  0.00000  0.00000   0.00   0.00   0.00   0.00\n",
       "15              0.0  0.0  0.00000  0.00000   0.00   0.00   0.00   0.00"
      ]
     },
     "execution_count": 236,
     "metadata": {},
     "output_type": "execute_result"
    }
   ],
   "source": [
    "realdecode_transformed"
   ]
  },
  {
   "cell_type": "code",
   "execution_count": 225,
   "metadata": {},
   "outputs": [
    {
     "ename": "SyntaxError",
     "evalue": "invalid syntax (422142828.py, line 1)",
     "output_type": "error",
     "traceback": [
      "\u001b[0;36m  Cell \u001b[0;32mIn[225], line 1\u001b[0;36m\u001b[0m\n\u001b[0;31m    ======================= _compute_loss ==============================\u001b[0m\n\u001b[0m    ^\u001b[0m\n\u001b[0;31mSyntaxError\u001b[0m\u001b[0;31m:\u001b[0m invalid syntax\n"
     ]
    }
   ],
   "source": [
    "======================= _compute_loss =============================="
   ]
  },
  {
   "cell_type": "code",
   "execution_count": null,
   "metadata": {},
   "outputs": [],
   "source": [
    "#generated_data = [c_bid, c_ask, c_volume, p_bid, p_ask, p_volume]\n",
    "colList = [\"c_bid\", \"c_ask\", \"c_volume\", \"p_bid\", \"p_ask\", \"p_volume\"]\n",
    "generated_data = decode_data[3:]\n",
    "z_mean    = z_mean\n",
    "z_log_var = log_var\n",
    "Y_real    = DATA[:, :, 3:][:1]"
   ]
  },
  {
   "cell_type": "code",
   "execution_count": null,
   "metadata": {},
   "outputs": [],
   "source": [
    "z_mean"
   ]
  },
  {
   "cell_type": "code",
   "execution_count": null,
   "metadata": {},
   "outputs": [],
   "source": [
    "for  col,genData in zip(colList,generated_data):\n",
    "    print( colList.index(col),col )"
   ]
  },
  {
   "cell_type": "code",
   "execution_count": null,
   "metadata": {},
   "outputs": [],
   "source": [
    "subtract_genData = genData - tf.cast(tf.expand_dims(Y_real[:, :, colList.index(col)], axis=-1)\n",
    "        , tf.float32) "
   ]
  },
  {
   "cell_type": "code",
   "execution_count": null,
   "metadata": {},
   "outputs": [],
   "source": [
    "reconstruction_values_total = []\n",
    "reconstruction_values_total.append( tf.reduce_mean( tf.square(subtract_genData)   ) )"
   ]
  },
  {
   "cell_type": "code",
   "execution_count": null,
   "metadata": {},
   "outputs": [],
   "source": [
    "log_var = tf.clip_by_value(log_var, -1.0, 1.0)\n",
    "kl_loss = -0.5 * tf.reduce_sum(1 + log_var - tf.square(z_mean) - tf.exp(log_var), axis=-1)"
   ]
  },
  {
   "cell_type": "code",
   "execution_count": null,
   "metadata": {},
   "outputs": [],
   "source": [
    "tf.reduce_mean(reconstruction_values_total + kl_loss)"
   ]
  },
  {
   "cell_type": "code",
   "execution_count": null,
   "metadata": {},
   "outputs": [],
   "source": [
    "========== kiras vae origi"
   ]
  },
  {
   "cell_type": "code",
   "execution_count": null,
   "metadata": {},
   "outputs": [],
   "source": [
    "Y_real[0][0]"
   ]
  },
  {
   "cell_type": "code",
   "execution_count": null,
   "metadata": {},
   "outputs": [],
   "source": [
    " tf.concat(decode_data, axis=-1).numpy()[0][0]"
   ]
  },
  {
   "cell_type": "code",
   "execution_count": null,
   "metadata": {},
   "outputs": [],
   "source": [
    "Y_real[0] -  tf.concat(decode_data, axis=-1).numpy()"
   ]
  },
  {
   "cell_type": "code",
   "execution_count": null,
   "metadata": {},
   "outputs": [],
   "source": []
  },
  {
   "cell_type": "code",
   "execution_count": null,
   "metadata": {},
   "outputs": [],
   "source": [
    "features_loss = tf.reduce_mean(\n",
    "    tf.reduce_sum(\n",
    "        tf.keras.losses.mean_squared_error(Y_real, tf.concat(decode_data, axis=-1)),\n",
    "        axis=(1),\n",
    "    )\n",
    ")"
   ]
  },
  {
   "cell_type": "code",
   "execution_count": null,
   "metadata": {},
   "outputs": [],
   "source": [
    "features_loss"
   ]
  },
  {
   "cell_type": "code",
   "execution_count": null,
   "metadata": {},
   "outputs": [],
   "source": [
    "# features_loss = tf.reduce_mean(\n",
    "#     tf.reduce_sum(\n",
    "#         keras.losses.categorical_crossentropy(features_real, features_gen),\n",
    "#         axis=(1),\n",
    "#     )\n",
    "# )\n",
    "# kl_loss = -0.5 * tf.reduce_sum(\n",
    "#     1 + z_log_var - tf.square(z_mean) - tf.exp(z_log_var), 1\n",
    "# )\n",
    "# kl_loss = tf.reduce_mean(kl_loss)\n",
    "\n",
    "# property_loss = tf.reduce_mean(\n",
    "#     keras.losses.binary_crossentropy(qed_true, qed_pred)\n",
    "# )\n",
    "\n",
    "# graph_loss = self._gradient_penalty(graph_real, graph_generated)\n",
    "\n",
    "# return kl_loss + property_loss + graph_loss + adjacency_loss + features_loss"
   ]
  },
  {
   "cell_type": "code",
   "execution_count": null,
   "metadata": {},
   "outputs": [],
   "source": [
    "======================= inverse_transform ========================"
   ]
  },
  {
   "cell_type": "code",
   "execution_count": null,
   "metadata": {},
   "outputs": [],
   "source": [
    "#add 0\n",
    "decode_data = [tf.zeros([1, 32, 1])]*3 + decode_data"
   ]
  },
  {
   "cell_type": "code",
   "execution_count": null,
   "metadata": {},
   "outputs": [],
   "source": [
    "invert_decode = Scaler.inverse_transform(\n",
    "    np.array([d.numpy().reshape(-1) for d in decode_data]).transpose()\n",
    "    ) "
   ]
  },
  {
   "cell_type": "code",
   "execution_count": null,
   "metadata": {},
   "outputs": [],
   "source": [
    "pd.DataFrame(\n",
    "    invert_decode[:,3:], \n",
    "    columns=SCALER_COL[3:])"
   ]
  },
  {
   "cell_type": "code",
   "execution_count": null,
   "metadata": {},
   "outputs": [],
   "source": [
    "====================================================================="
   ]
  },
  {
   "cell_type": "code",
   "execution_count": null,
   "metadata": {},
   "outputs": [],
   "source": []
  }
 ],
 "metadata": {
  "kernelspec": {
   "display_name": "Python 3 (ipykernel)",
   "language": "python",
   "name": "python3"
  },
  "language_info": {
   "codemirror_mode": {
    "name": "ipython",
    "version": 3
   },
   "file_extension": ".py",
   "mimetype": "text/x-python",
   "name": "python",
   "nbconvert_exporter": "python",
   "pygments_lexer": "ipython3",
   "version": "3.11.0rc1"
  },
  "vscode": {
   "interpreter": {
    "hash": "4f77a7efb8cf15d18a0cd6bbc71a8985efbc57e2467f435a53ada42728ce0a69"
   }
  }
 },
 "nbformat": 4,
 "nbformat_minor": 4
}
