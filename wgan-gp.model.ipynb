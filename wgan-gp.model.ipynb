{
 "cells": [
  {
   "cell_type": "code",
   "execution_count": 1,
   "metadata": {},
   "outputs": [],
   "source": [
    "#https://keras.io/examples/generative/vae/\n",
    "#https://keras.io/examples/generative/molecule_generation/"
   ]
  },
  {
   "cell_type": "code",
   "execution_count": 2,
   "metadata": {},
   "outputs": [
    {
     "name": "stdout",
     "output_type": "stream",
     "text": [
      "rm: cannot remove '/app/logs/wgangpModel/20240730-162917/train/events.out.tfevents.1722356959.e99d6a3749a3.2163.0.v2': No such file or directory\n",
      "rm: cannot remove '/app/logs/wgangpModel/20240802-150746/train/events.out.tfevents.1722611269.e99d6a3749a3.134.0.v2': No such file or directory\n",
      "rm: cannot remove '/app/logs/wgangpModel/20240803-023004/train/events.out.tfevents.1722652206.e99d6a3749a3.91.0.v2': No such file or directory\n",
      "rm: cannot remove '/app/logs/wgangpModel/20240803-023235/train/events.out.tfevents.1722652357.e99d6a3749a3.181.0.v2': No such file or directory\n",
      "rm: cannot remove '/app/logs/wgangpModel/20240803-023406/train/events.out.tfevents.1722652448.e99d6a3749a3.272.0.v2': No such file or directory\n",
      "rm: cannot remove '/app/logs/wgangpModel/20240803-023656/train/events.out.tfevents.1722652617.e99d6a3749a3.365.0.v2': No such file or directory\n",
      "rm: cannot remove '/app/logs/wgangpModel/20240803-023800/train/events.out.tfevents.1722652682.e99d6a3749a3.449.0.v2': No such file or directory\n",
      "rm: cannot remove '/app/logs/wgangpModel/20240803-024543/train/events.out.tfevents.1722653145.e99d6a3749a3.575.0.v2': No such file or directory\n",
      "rm: cannot remove '/app/logs/wgangpModel/20240803-024758/train/events.out.tfevents.1722653279.e99d6a3749a3.669.0.v2': No such file or directory\n",
      "rm: cannot remove '/app/logs/wgangpModel/20240803-024942/train/events.out.tfevents.1722653384.e99d6a3749a3.761.0.v2': No such file or directory\n",
      "rm: cannot remove '/app/logs/wgangpModel/20240803-025146/train/events.out.tfevents.1722653511.e99d6a3749a3.853.0.v2': No such file or directory\n",
      "rm: cannot remove '/app/logs/wgangpModel/20240803-025146/train/events.out.tfevents.1722653785.e99d6a3749a3.853.2.v2': No such file or directory\n",
      "rm: cannot remove '/app/logs/wgangpModel/20240803-025146/train/events.out.tfevents.1722653799.e99d6a3749a3.853.4.v2': No such file or directory\n",
      "rm: cannot remove '/app/logs/wgangpModel/20240803-025146/train/events.out.tfevents.1722653809.e99d6a3749a3.853.6.v2': No such file or directory\n",
      "rm: cannot remove '/app/logs/wgangpModel/20240803-025146/validation/events.out.tfevents.1722653528.e99d6a3749a3.853.1.v2': No such file or directory\n",
      "rm: cannot remove '/app/logs/wgangpModel/20240803-025146/validation/events.out.tfevents.1722653798.e99d6a3749a3.853.3.v2': No such file or directory\n",
      "rm: cannot remove '/app/logs/wgangpModel/20240803-025146/validation/events.out.tfevents.1722653808.e99d6a3749a3.853.5.v2': No such file or directory\n",
      "rm: cannot remove '/app/logs/wgangpModel/20240803-025146/validation/events.out.tfevents.1722653819.e99d6a3749a3.853.7.v2': No such file or directory\n",
      "rm: cannot remove '/app/logs/wgangpModel/20240803-025752/train/events.out.tfevents.1722654009.e99d6a3749a3.1113.0.v2': No such file or directory\n",
      "rm: cannot remove '/app/logs/wgangpModel/20240803-025752/train/events.out.tfevents.1722654025.e99d6a3749a3.1113.2.v2': No such file or directory\n",
      "rm: cannot remove '/app/logs/wgangpModel/20240803-025752/train/events.out.tfevents.1722654039.e99d6a3749a3.1113.4.v2': No such file or directory\n",
      "rm: cannot remove '/app/logs/wgangpModel/20240803-025752/train/events.out.tfevents.1722654054.e99d6a3749a3.1113.6.v2': No such file or directory\n",
      "rm: cannot remove '/app/logs/wgangpModel/20240803-025752/train/events.out.tfevents.1722654128.e99d6a3749a3.1113.8.v2': No such file or directory\n",
      "rm: cannot remove '/app/logs/wgangpModel/20240803-025752/validation/events.out.tfevents.1722654023.e99d6a3749a3.1113.1.v2': No such file or directory\n",
      "rm: cannot remove '/app/logs/wgangpModel/20240803-025752/validation/events.out.tfevents.1722654038.e99d6a3749a3.1113.3.v2': No such file or directory\n",
      "rm: cannot remove '/app/logs/wgangpModel/20240803-025752/validation/events.out.tfevents.1722654052.e99d6a3749a3.1113.5.v2': No such file or directory\n",
      "rm: cannot remove '/app/logs/wgangpModel/20240803-025752/validation/events.out.tfevents.1722654066.e99d6a3749a3.1113.7.v2': No such file or directory\n",
      "rm: cannot remove '/app/logs/wgangpModel/20240803-025752/validation/events.out.tfevents.1722654144.e99d6a3749a3.1113.9.v2': No such file or directory\n",
      "rm: cannot remove '/app/logs/wgangpModel/20240803-030240/train/events.out.tfevents.1722654164.e99d6a3749a3.1495.0.v2': No such file or directory\n",
      "rm: cannot remove '/app/logs/wgangpModel/20240803-030240/train/events.out.tfevents.1722654190.e99d6a3749a3.1495.2.v2': No such file or directory\n",
      "rm: cannot remove '/app/logs/wgangpModel/20240803-030240/train/events.out.tfevents.1722654201.e99d6a3749a3.1495.4.v2': No such file or directory\n",
      "rm: cannot remove '/app/logs/wgangpModel/20240803-030240/train/events.out.tfevents.1722654208.e99d6a3749a3.1495.6.v2': No such file or directory\n",
      "rm: cannot remove '/app/logs/wgangpModel/20240803-030240/train/events.out.tfevents.1722654219.e99d6a3749a3.1495.8.v2': No such file or directory\n",
      "rm: cannot remove '/app/logs/wgangpModel/20240803-030240/train/events.out.tfevents.1722654231.e99d6a3749a3.1495.10.v2': No such file or directory\n",
      "rm: cannot remove '/app/logs/wgangpModel/20240803-030240/train/events.out.tfevents.1722654237.e99d6a3749a3.1495.12.v2': No such file or directory\n",
      "rm: cannot remove '/app/logs/wgangpModel/20240803-030240/train/events.out.tfevents.1722654252.e99d6a3749a3.1495.14.v2': No such file or directory\n",
      "rm: cannot remove '/app/logs/wgangpModel/20240803-030240/train/events.out.tfevents.1722654260.e99d6a3749a3.1495.16.v2': No such file or directory\n",
      "rm: cannot remove '/app/logs/wgangpModel/20240803-030240/train/events.out.tfevents.1722654264.e99d6a3749a3.1495.18.v2': No such file or directory\n",
      "rm: cannot remove '/app/logs/wgangpModel/20240803-030240/train/events.out.tfevents.1722654278.e99d6a3749a3.1495.20.v2': No such file or directory\n",
      "rm: cannot remove '/app/logs/wgangpModel/20240803-030240/train/events.out.tfevents.1722654292.e99d6a3749a3.1495.22.v2': No such file or directory\n",
      "rm: cannot remove '/app/logs/wgangpModel/20240803-030240/train/events.out.tfevents.1722654300.e99d6a3749a3.1495.24.v2': No such file or directory\n",
      "rm: cannot remove '/app/logs/wgangpModel/20240803-030240/train/events.out.tfevents.1722654306.e99d6a3749a3.1495.26.v2': No such file or directory\n",
      "rm: cannot remove '/app/logs/wgangpModel/20240803-030240/train/events.out.tfevents.1722654319.e99d6a3749a3.1495.28.v2': No such file or directory\n",
      "rm: cannot remove '/app/logs/wgangpModel/20240803-030240/train/events.out.tfevents.1722654327.e99d6a3749a3.1495.30.v2': No such file or directory\n",
      "rm: cannot remove '/app/logs/wgangpModel/20240803-030240/train/events.out.tfevents.1722654340.e99d6a3749a3.1495.32.v2': No such file or directory\n",
      "rm: cannot remove '/app/logs/wgangpModel/20240803-030240/train/events.out.tfevents.1722654348.e99d6a3749a3.1495.34.v2': No such file or directory\n",
      "rm: cannot remove '/app/logs/wgangpModel/20240803-030240/train/events.out.tfevents.1722654358.e99d6a3749a3.1495.36.v2': No such file or directory\n",
      "rm: cannot remove '/app/logs/wgangpModel/20240803-030240/train/events.out.tfevents.1722654371.e99d6a3749a3.1495.38.v2': No such file or directory\n",
      "rm: cannot remove '/app/logs/wgangpModel/20240803-030240/train/events.out.tfevents.1722654380.e99d6a3749a3.1495.40.v2': No such file or directory\n",
      "rm: cannot remove '/app/logs/wgangpModel/20240803-030240/train/events.out.tfevents.1722654388.e99d6a3749a3.1495.42.v2': No such file or directory\n",
      "rm: cannot remove '/app/logs/wgangpModel/20240803-030240/train/events.out.tfevents.1722654398.e99d6a3749a3.1495.44.v2': No such file or directory\n",
      "rm: cannot remove '/app/logs/wgangpModel/20240803-030240/train/events.out.tfevents.1722654410.e99d6a3749a3.1495.46.v2': No such file or directory\n",
      "rm: cannot remove '/app/logs/wgangpModel/20240803-030240/train/events.out.tfevents.1722654426.e99d6a3749a3.1495.48.v2': No such file or directory\n",
      "rm: cannot remove '/app/logs/wgangpModel/20240803-030240/train/events.out.tfevents.1722654435.e99d6a3749a3.1495.50.v2': No such file or directory\n",
      "rm: cannot remove '/app/logs/wgangpModel/20240803-030240/train/events.out.tfevents.1722654447.e99d6a3749a3.1495.52.v2': No such file or directory\n",
      "rm: cannot remove '/app/logs/wgangpModel/20240803-030240/train/events.out.tfevents.1722654459.e99d6a3749a3.1495.54.v2': No such file or directory\n",
      "rm: cannot remove '/app/logs/wgangpModel/20240803-030240/train/events.out.tfevents.1722654470.e99d6a3749a3.1495.56.v2': No such file or directory\n",
      "rm: cannot remove '/app/logs/wgangpModel/20240803-030240/train/events.out.tfevents.1722654480.e99d6a3749a3.1495.58.v2': No such file or directory\n",
      "rm: cannot remove '/app/logs/wgangpModel/20240803-030240/train/events.out.tfevents.1722654497.e99d6a3749a3.1495.60.v2': No such file or directory\n",
      "rm: cannot remove '/app/logs/wgangpModel/20240803-030240/train/events.out.tfevents.1722654504.e99d6a3749a3.1495.62.v2': No such file or directory\n",
      "rm: cannot remove '/app/logs/wgangpModel/20240803-030240/train/events.out.tfevents.1722654512.e99d6a3749a3.1495.64.v2': No such file or directory\n",
      "rm: cannot remove '/app/logs/wgangpModel/20240803-030240/train/events.out.tfevents.1722654518.e99d6a3749a3.1495.66.v2': No such file or directory\n",
      "rm: cannot remove '/app/logs/wgangpModel/20240803-030240/train/events.out.tfevents.1722654532.e99d6a3749a3.1495.68.v2': No such file or directory\n",
      "rm: cannot remove '/app/logs/wgangpModel/20240803-030240/train/events.out.tfevents.1722654539.e99d6a3749a3.1495.70.v2': No such file or directory\n",
      "rm: cannot remove '/app/logs/wgangpModel/20240803-030240/train/events.out.tfevents.1722654551.e99d6a3749a3.1495.72.v2': No such file or directory\n",
      "rm: cannot remove '/app/logs/wgangpModel/20240803-030240/train/events.out.tfevents.1722654567.e99d6a3749a3.1495.74.v2': No such file or directory\n",
      "rm: cannot remove '/app/logs/wgangpModel/20240803-030240/train/events.out.tfevents.1722654572.e99d6a3749a3.1495.76.v2': No such file or directory\n",
      "rm: cannot remove '/app/logs/wgangpModel/20240803-030240/train/events.out.tfevents.1722654583.e99d6a3749a3.1495.78.v2': No such file or directory\n",
      "rm: cannot remove '/app/logs/wgangpModel/20240803-030240/train/events.out.tfevents.1722654602.e99d6a3749a3.1495.80.v2': No such file or directory\n",
      "rm: cannot remove '/app/logs/wgangpModel/20240803-030240/train/events.out.tfevents.1722654609.e99d6a3749a3.1495.82.v2': No such file or directory\n",
      "rm: cannot remove '/app/logs/wgangpModel/20240803-030240/train/events.out.tfevents.1722654622.e99d6a3749a3.1495.84.v2': No such file or directory\n",
      "rm: cannot remove '/app/logs/wgangpModel/20240803-030240/train/events.out.tfevents.1722654631.e99d6a3749a3.1495.86.v2': No such file or directory\n",
      "rm: cannot remove '/app/logs/wgangpModel/20240803-030240/train/events.out.tfevents.1722654647.e99d6a3749a3.1495.88.v2': No such file or directory\n",
      "rm: cannot remove '/app/logs/wgangpModel/20240803-030240/train/events.out.tfevents.1722654653.e99d6a3749a3.1495.90.v2': No such file or directory\n",
      "rm: cannot remove '/app/logs/wgangpModel/20240803-030240/train/events.out.tfevents.1722654657.e99d6a3749a3.1495.92.v2': No such file or directory\n",
      "rm: cannot remove '/app/logs/wgangpModel/20240803-030240/train/events.out.tfevents.1722654675.e99d6a3749a3.1495.94.v2': No such file or directory\n",
      "rm: cannot remove '/app/logs/wgangpModel/20240803-030240/train/events.out.tfevents.1722654683.e99d6a3749a3.1495.96.v2': No such file or directory\n",
      "rm: cannot remove '/app/logs/wgangpModel/20240803-030240/train/events.out.tfevents.1722654693.e99d6a3749a3.1495.98.v2': No such file or directory\n",
      "rm: cannot remove '/app/logs/wgangpModel/20240803-030240/train/events.out.tfevents.1722654700.e99d6a3749a3.1495.100.v2': No such file or directory\n",
      "rm: cannot remove '/app/logs/wgangpModel/20240803-030240/train/events.out.tfevents.1722654713.e99d6a3749a3.1495.102.v2': No such file or directory\n",
      "rm: cannot remove '/app/logs/wgangpModel/20240803-030240/train/events.out.tfevents.1722654725.e99d6a3749a3.1495.104.v2': No such file or directory\n",
      "rm: cannot remove '/app/logs/wgangpModel/20240803-030240/train/events.out.tfevents.1722654741.e99d6a3749a3.1495.106.v2': No such file or directory\n",
      "rm: cannot remove '/app/logs/wgangpModel/20240803-030240/train/events.out.tfevents.1722654756.e99d6a3749a3.1495.108.v2': No such file or directory\n",
      "rm: cannot remove '/app/logs/wgangpModel/20240803-030240/train/events.out.tfevents.1722654767.e99d6a3749a3.1495.110.v2': No such file or directory\n",
      "rm: cannot remove '/app/logs/wgangpModel/20240803-030240/train/events.out.tfevents.1722654783.e99d6a3749a3.1495.112.v2': No such file or directory\n",
      "rm: cannot remove '/app/logs/wgangpModel/20240803-030240/train/events.out.tfevents.1722654793.e99d6a3749a3.1495.114.v2': No such file or directory\n",
      "rm: cannot remove '/app/logs/wgangpModel/20240803-030240/train/events.out.tfevents.1722654807.e99d6a3749a3.1495.116.v2': No such file or directory\n",
      "rm: cannot remove '/app/logs/wgangpModel/20240803-030240/train/events.out.tfevents.1722654817.e99d6a3749a3.1495.118.v2': No such file or directory\n",
      "rm: cannot remove '/app/logs/wgangpModel/20240803-030240/train/events.out.tfevents.1722654827.e99d6a3749a3.1495.120.v2': No such file or directory\n",
      "rm: cannot remove '/app/logs/wgangpModel/20240803-030240/train/events.out.tfevents.1722654834.e99d6a3749a3.1495.122.v2': No such file or directory\n",
      "rm: cannot remove '/app/logs/wgangpModel/20240803-030240/train/events.out.tfevents.1722654846.e99d6a3749a3.1495.124.v2': No such file or directory\n",
      "rm: cannot remove '/app/logs/wgangpModel/20240803-030240/train/events.out.tfevents.1722654858.e99d6a3749a3.1495.126.v2': No such file or directory\n",
      "rm: cannot remove '/app/logs/wgangpModel/20240803-030240/train/events.out.tfevents.1722654870.e99d6a3749a3.1495.128.v2': No such file or directory\n",
      "rm: cannot remove '/app/logs/wgangpModel/20240803-030240/train/events.out.tfevents.1722654887.e99d6a3749a3.1495.130.v2': No such file or directory\n",
      "rm: cannot remove '/app/logs/wgangpModel/20240803-030240/train/events.out.tfevents.1722654893.e99d6a3749a3.1495.132.v2': No such file or directory\n",
      "rm: cannot remove '/app/logs/wgangpModel/20240803-030240/train/events.out.tfevents.1722654902.e99d6a3749a3.1495.134.v2': No such file or directory\n",
      "rm: cannot remove '/app/logs/wgangpModel/20240803-030240/train/events.out.tfevents.1722654911.e99d6a3749a3.1495.136.v2': No such file or directory\n",
      "rm: cannot remove '/app/logs/wgangpModel/20240803-030240/train/events.out.tfevents.1722654926.e99d6a3749a3.1495.138.v2': No such file or directory\n",
      "rm: cannot remove '/app/logs/wgangpModel/20240803-030240/train/events.out.tfevents.1722654934.e99d6a3749a3.1495.140.v2': No such file or directory\n",
      "rm: cannot remove '/app/logs/wgangpModel/20240803-030240/train/events.out.tfevents.1722654942.e99d6a3749a3.1495.142.v2': No such file or directory\n",
      "rm: cannot remove '/app/logs/wgangpModel/20240803-030240/train/events.out.tfevents.1722654956.e99d6a3749a3.1495.144.v2': No such file or directory\n",
      "rm: cannot remove '/app/logs/wgangpModel/20240803-030240/train/events.out.tfevents.1722654967.e99d6a3749a3.1495.146.v2': No such file or directory\n",
      "rm: cannot remove '/app/logs/wgangpModel/20240803-030240/train/events.out.tfevents.1722654979.e99d6a3749a3.1495.148.v2': No such file or directory\n",
      "rm: cannot remove '/app/logs/wgangpModel/20240803-030240/train/events.out.tfevents.1722654993.e99d6a3749a3.1495.150.v2': No such file or directory\n",
      "rm: cannot remove '/app/logs/wgangpModel/20240803-030240/train/events.out.tfevents.1722655004.e99d6a3749a3.1495.152.v2': No such file or directory\n",
      "rm: cannot remove '/app/logs/wgangpModel/20240803-030240/train/events.out.tfevents.1722655013.e99d6a3749a3.1495.154.v2': No such file or directory\n",
      "rm: cannot remove '/app/logs/wgangpModel/20240803-030240/train/events.out.tfevents.1722655023.e99d6a3749a3.1495.156.v2': No such file or directory\n",
      "rm: cannot remove '/app/logs/wgangpModel/20240803-030240/train/events.out.tfevents.1722655036.e99d6a3749a3.1495.158.v2': No such file or directory\n",
      "rm: cannot remove '/app/logs/wgangpModel/20240803-030240/train/events.out.tfevents.1722655049.e99d6a3749a3.1495.160.v2': No such file or directory\n",
      "rm: cannot remove '/app/logs/wgangpModel/20240803-030240/train/events.out.tfevents.1722655061.e99d6a3749a3.1495.162.v2': No such file or directory\n",
      "rm: cannot remove '/app/logs/wgangpModel/20240803-030240/train/events.out.tfevents.1722655066.e99d6a3749a3.1495.164.v2': No such file or directory\n",
      "rm: cannot remove '/app/logs/wgangpModel/20240803-030240/train/events.out.tfevents.1722655075.e99d6a3749a3.1495.166.v2': No such file or directory\n",
      "rm: cannot remove '/app/logs/wgangpModel/20240803-030240/train/events.out.tfevents.1722655083.e99d6a3749a3.1495.168.v2': No such file or directory\n",
      "rm: cannot remove '/app/logs/wgangpModel/20240803-030240/train/events.out.tfevents.1722655099.e99d6a3749a3.1495.170.v2': No such file or directory\n",
      "rm: cannot remove '/app/logs/wgangpModel/20240803-030240/train/events.out.tfevents.1722655110.e99d6a3749a3.1495.172.v2': No such file or directory\n",
      "rm: cannot remove '/app/logs/wgangpModel/20240803-030240/train/events.out.tfevents.1722655127.e99d6a3749a3.1495.174.v2': No such file or directory\n",
      "rm: cannot remove '/app/logs/wgangpModel/20240803-030240/train/events.out.tfevents.1722655138.e99d6a3749a3.1495.176.v2': No such file or directory\n",
      "rm: cannot remove '/app/logs/wgangpModel/20240803-030240/train/events.out.tfevents.1722655144.e99d6a3749a3.1495.178.v2': No such file or directory\n",
      "rm: cannot remove '/app/logs/wgangpModel/20240803-030240/train/events.out.tfevents.1722655151.e99d6a3749a3.1495.180.v2': No such file or directory\n",
      "rm: cannot remove '/app/logs/wgangpModel/20240803-030240/train/events.out.tfevents.1722655166.e99d6a3749a3.1495.182.v2': No such file or directory\n",
      "rm: cannot remove '/app/logs/wgangpModel/20240803-030240/train/events.out.tfevents.1722655175.e99d6a3749a3.1495.184.v2': No such file or directory\n",
      "rm: cannot remove '/app/logs/wgangpModel/20240803-030240/train/events.out.tfevents.1722655183.e99d6a3749a3.1495.186.v2': No such file or directory\n",
      "rm: cannot remove '/app/logs/wgangpModel/20240803-030240/train/events.out.tfevents.1722655199.e99d6a3749a3.1495.188.v2': No such file or directory\n",
      "rm: cannot remove '/app/logs/wgangpModel/20240803-030240/train/events.out.tfevents.1722655209.e99d6a3749a3.1495.190.v2': No such file or directory\n",
      "rm: cannot remove '/app/logs/wgangpModel/20240803-030240/train/events.out.tfevents.1722655220.e99d6a3749a3.1495.192.v2': No such file or directory\n",
      "rm: cannot remove '/app/logs/wgangpModel/20240803-030240/train/events.out.tfevents.1722655233.e99d6a3749a3.1495.194.v2': No such file or directory\n",
      "rm: cannot remove '/app/logs/wgangpModel/20240803-030240/train/events.out.tfevents.1722655244.e99d6a3749a3.1495.196.v2': No such file or directory\n",
      "rm: cannot remove '/app/logs/wgangpModel/20240803-030240/train/events.out.tfevents.1722655249.e99d6a3749a3.1495.198.v2': No such file or directory\n",
      "rm: cannot remove '/app/logs/wgangpModel/20240803-030240/train/events.out.tfevents.1722655258.e99d6a3749a3.1495.200.v2': No such file or directory\n",
      "rm: cannot remove '/app/logs/wgangpModel/20240803-030240/train/events.out.tfevents.1722655274.e99d6a3749a3.1495.202.v2': No such file or directory\n",
      "rm: cannot remove '/app/logs/wgangpModel/20240803-030240/train/events.out.tfevents.1722655280.e99d6a3749a3.1495.204.v2': No such file or directory\n",
      "rm: cannot remove '/app/logs/wgangpModel/20240803-030240/train/events.out.tfevents.1722655288.e99d6a3749a3.1495.206.v2': No such file or directory\n",
      "rm: cannot remove '/app/logs/wgangpModel/20240803-030240/train/events.out.tfevents.1722655299.e99d6a3749a3.1495.208.v2': No such file or directory\n",
      "rm: cannot remove '/app/logs/wgangpModel/20240803-030240/train/events.out.tfevents.1722655310.e99d6a3749a3.1495.210.v2': No such file or directory\n",
      "rm: cannot remove '/app/logs/wgangpModel/20240803-030240/train/events.out.tfevents.1722655324.e99d6a3749a3.1495.212.v2': No such file or directory\n",
      "rm: cannot remove '/app/logs/wgangpModel/20240803-030240/train/events.out.tfevents.1722655333.e99d6a3749a3.1495.214.v2': No such file or directory\n",
      "rm: cannot remove '/app/logs/wgangpModel/20240803-030240/train/events.out.tfevents.1722655347.e99d6a3749a3.1495.216.v2': No such file or directory\n",
      "rm: cannot remove '/app/logs/wgangpModel/20240803-030240/train/events.out.tfevents.1722655358.e99d6a3749a3.1495.218.v2': No such file or directory\n",
      "rm: cannot remove '/app/logs/wgangpModel/20240803-030240/train/events.out.tfevents.1722655368.e99d6a3749a3.1495.220.v2': No such file or directory\n",
      "rm: cannot remove '/app/logs/wgangpModel/20240803-030240/train/events.out.tfevents.1722655383.e99d6a3749a3.1495.222.v2': No such file or directory\n",
      "rm: cannot remove '/app/logs/wgangpModel/20240803-030240/train/events.out.tfevents.1722655393.e99d6a3749a3.1495.224.v2': No such file or directory\n",
      "rm: cannot remove '/app/logs/wgangpModel/20240803-030240/train/events.out.tfevents.1722655402.e99d6a3749a3.1495.226.v2': No such file or directory\n",
      "rm: cannot remove '/app/logs/wgangpModel/20240803-030240/train/events.out.tfevents.1722655417.e99d6a3749a3.1495.228.v2': No such file or directory\n",
      "rm: cannot remove '/app/logs/wgangpModel/20240803-030240/train/events.out.tfevents.1722655428.e99d6a3749a3.1495.230.v2': No such file or directory\n",
      "rm: cannot remove '/app/logs/wgangpModel/20240803-030240/train/events.out.tfevents.1722655434.e99d6a3749a3.1495.232.v2': No such file or directory\n",
      "rm: cannot remove '/app/logs/wgangpModel/20240803-030240/train/events.out.tfevents.1722655444.e99d6a3749a3.1495.234.v2': No such file or directory\n",
      "rm: cannot remove '/app/logs/wgangpModel/20240803-030240/train/events.out.tfevents.1722655454.e99d6a3749a3.1495.236.v2': No such file or directory\n",
      "rm: cannot remove '/app/logs/wgangpModel/20240803-030240/train/events.out.tfevents.1722655466.e99d6a3749a3.1495.238.v2': No such file or directory\n",
      "rm: cannot remove '/app/logs/wgangpModel/20240803-030240/train/events.out.tfevents.1722655480.e99d6a3749a3.1495.240.v2': No such file or directory\n",
      "rm: cannot remove '/app/logs/wgangpModel/20240803-030240/train/events.out.tfevents.1722655494.e99d6a3749a3.1495.242.v2': No such file or directory\n",
      "rm: cannot remove '/app/logs/wgangpModel/20240803-030240/train/events.out.tfevents.1722655505.e99d6a3749a3.1495.244.v2': No such file or directory\n",
      "rm: cannot remove '/app/logs/wgangpModel/20240803-030240/train/events.out.tfevents.1722655514.e99d6a3749a3.1495.246.v2': No such file or directory\n",
      "rm: cannot remove '/app/logs/wgangpModel/20240803-030240/train/events.out.tfevents.1722655523.e99d6a3749a3.1495.248.v2': No such file or directory\n",
      "rm: cannot remove '/app/logs/wgangpModel/20240803-030240/train/events.out.tfevents.1722655529.e99d6a3749a3.1495.250.v2': No such file or directory\n",
      "rm: cannot remove '/app/logs/wgangpModel/20240803-030240/train/events.out.tfevents.1722655543.e99d6a3749a3.1495.252.v2': No such file or directory\n",
      "rm: cannot remove '/app/logs/wgangpModel/20240803-030240/train/events.out.tfevents.1722655552.e99d6a3749a3.1495.254.v2': No such file or directory\n",
      "rm: cannot remove '/app/logs/wgangpModel/20240803-030240/train/events.out.tfevents.1722655567.e99d6a3749a3.1495.256.v2': No such file or directory\n",
      "rm: cannot remove '/app/logs/wgangpModel/20240803-030240/train/events.out.tfevents.1722655573.e99d6a3749a3.1495.258.v2': No such file or directory\n",
      "rm: cannot remove '/app/logs/wgangpModel/20240803-030240/train/events.out.tfevents.1722655586.e99d6a3749a3.1495.260.v2': No such file or directory\n",
      "rm: cannot remove '/app/logs/wgangpModel/20240803-030240/train/events.out.tfevents.1722655597.e99d6a3749a3.1495.262.v2': No such file or directory\n",
      "rm: cannot remove '/app/logs/wgangpModel/20240803-030240/train/events.out.tfevents.1722655602.e99d6a3749a3.1495.264.v2': No such file or directory\n",
      "rm: cannot remove '/app/logs/wgangpModel/20240803-030240/train/events.out.tfevents.1722655612.e99d6a3749a3.1495.266.v2': No such file or directory\n",
      "rm: cannot remove '/app/logs/wgangpModel/20240803-030240/train/events.out.tfevents.1722655621.e99d6a3749a3.1495.268.v2': No such file or directory\n",
      "rm: cannot remove '/app/logs/wgangpModel/20240803-030240/train/events.out.tfevents.1722655629.e99d6a3749a3.1495.270.v2': No such file or directory\n",
      "rm: cannot remove '/app/logs/wgangpModel/20240803-030240/train/events.out.tfevents.1722655636.e99d6a3749a3.1495.272.v2': No such file or directory\n",
      "rm: cannot remove '/app/logs/wgangpModel/20240803-030240/train/events.out.tfevents.1722655650.e99d6a3749a3.1495.274.v2': No such file or directory\n",
      "rm: cannot remove '/app/logs/wgangpModel/20240803-030240/train/events.out.tfevents.1722655667.e99d6a3749a3.1495.276.v2': No such file or directory\n",
      "rm: cannot remove '/app/logs/wgangpModel/20240803-030240/train/events.out.tfevents.1722655675.e99d6a3749a3.1495.278.v2': No such file or directory\n",
      "rm: cannot remove '/app/logs/wgangpModel/20240803-030240/train/events.out.tfevents.1722655686.e99d6a3749a3.1495.280.v2': No such file or directory\n",
      "rm: cannot remove '/app/logs/wgangpModel/20240803-030240/train/events.out.tfevents.1722655702.e99d6a3749a3.1495.282.v2': No such file or directory\n",
      "rm: cannot remove '/app/logs/wgangpModel/20240803-030240/train/events.out.tfevents.1722655717.e99d6a3749a3.1495.284.v2': No such file or directory\n",
      "rm: cannot remove '/app/logs/wgangpModel/20240803-030240/train/events.out.tfevents.1722655733.e99d6a3749a3.1495.286.v2': No such file or directory\n",
      "rm: cannot remove '/app/logs/wgangpModel/20240803-030240/validation/events.out.tfevents.1722654189.e99d6a3749a3.1495.1.v2': No such file or directory\n",
      "rm: cannot remove '/app/logs/wgangpModel/20240803-030240/validation/events.out.tfevents.1722654200.e99d6a3749a3.1495.3.v2': No such file or directory\n",
      "rm: cannot remove '/app/logs/wgangpModel/20240803-030240/validation/events.out.tfevents.1722654207.e99d6a3749a3.1495.5.v2': No such file or directory\n",
      "rm: cannot remove '/app/logs/wgangpModel/20240803-030240/validation/events.out.tfevents.1722654218.e99d6a3749a3.1495.7.v2': No such file or directory\n",
      "rm: cannot remove '/app/logs/wgangpModel/20240803-030240/validation/events.out.tfevents.1722654230.e99d6a3749a3.1495.9.v2': No such file or directory\n",
      "rm: cannot remove '/app/logs/wgangpModel/20240803-030240/validation/events.out.tfevents.1722654236.e99d6a3749a3.1495.11.v2': No such file or directory\n",
      "rm: cannot remove '/app/logs/wgangpModel/20240803-030240/validation/events.out.tfevents.1722654251.e99d6a3749a3.1495.13.v2': No such file or directory\n",
      "rm: cannot remove '/app/logs/wgangpModel/20240803-030240/validation/events.out.tfevents.1722654259.e99d6a3749a3.1495.15.v2': No such file or directory\n",
      "rm: cannot remove '/app/logs/wgangpModel/20240803-030240/validation/events.out.tfevents.1722654263.e99d6a3749a3.1495.17.v2': No such file or directory\n",
      "rm: cannot remove '/app/logs/wgangpModel/20240803-030240/validation/events.out.tfevents.1722654277.e99d6a3749a3.1495.19.v2': No such file or directory\n",
      "rm: cannot remove '/app/logs/wgangpModel/20240803-030240/validation/events.out.tfevents.1722654290.e99d6a3749a3.1495.21.v2': No such file or directory\n",
      "rm: cannot remove '/app/logs/wgangpModel/20240803-030240/validation/events.out.tfevents.1722654299.e99d6a3749a3.1495.23.v2': No such file or directory\n",
      "rm: cannot remove '/app/logs/wgangpModel/20240803-030240/validation/events.out.tfevents.1722654305.e99d6a3749a3.1495.25.v2': No such file or directory\n",
      "rm: cannot remove '/app/logs/wgangpModel/20240803-030240/validation/events.out.tfevents.1722654318.e99d6a3749a3.1495.27.v2': No such file or directory\n",
      "rm: cannot remove '/app/logs/wgangpModel/20240803-030240/validation/events.out.tfevents.1722654326.e99d6a3749a3.1495.29.v2': No such file or directory\n",
      "rm: cannot remove '/app/logs/wgangpModel/20240803-030240/validation/events.out.tfevents.1722654338.e99d6a3749a3.1495.31.v2': No such file or directory\n",
      "rm: cannot remove '/app/logs/wgangpModel/20240803-030240/validation/events.out.tfevents.1722654347.e99d6a3749a3.1495.33.v2': No such file or directory\n",
      "rm: cannot remove '/app/logs/wgangpModel/20240803-030240/validation/events.out.tfevents.1722654357.e99d6a3749a3.1495.35.v2': No such file or directory\n",
      "rm: cannot remove '/app/logs/wgangpModel/20240803-030240/validation/events.out.tfevents.1722654370.e99d6a3749a3.1495.37.v2': No such file or directory\n",
      "rm: cannot remove '/app/logs/wgangpModel/20240803-030240/validation/events.out.tfevents.1722654379.e99d6a3749a3.1495.39.v2': No such file or directory\n",
      "rm: cannot remove '/app/logs/wgangpModel/20240803-030240/validation/events.out.tfevents.1722654384.e99d6a3749a3.1495.41.v2': No such file or directory\n",
      "rm: cannot remove '/app/logs/wgangpModel/20240803-030240/validation/events.out.tfevents.1722654397.e99d6a3749a3.1495.43.v2': No such file or directory\n",
      "rm: cannot remove '/app/logs/wgangpModel/20240803-030240/validation/events.out.tfevents.1722654409.e99d6a3749a3.1495.45.v2': No such file or directory\n",
      "rm: cannot remove '/app/logs/wgangpModel/20240803-030240/validation/events.out.tfevents.1722654424.e99d6a3749a3.1495.47.v2': No such file or directory\n",
      "rm: cannot remove '/app/logs/wgangpModel/20240803-030240/validation/events.out.tfevents.1722654434.e99d6a3749a3.1495.49.v2': No such file or directory\n",
      "rm: cannot remove '/app/logs/wgangpModel/20240803-030240/validation/events.out.tfevents.1722654446.e99d6a3749a3.1495.51.v2': No such file or directory\n",
      "rm: cannot remove '/app/logs/wgangpModel/20240803-030240/validation/events.out.tfevents.1722654455.e99d6a3749a3.1495.53.v2': No such file or directory\n",
      "rm: cannot remove '/app/logs/wgangpModel/20240803-030240/validation/events.out.tfevents.1722654469.e99d6a3749a3.1495.55.v2': No such file or directory\n",
      "rm: cannot remove '/app/logs/wgangpModel/20240803-030240/validation/events.out.tfevents.1722654479.e99d6a3749a3.1495.57.v2': No such file or directory\n",
      "rm: cannot remove '/app/logs/wgangpModel/20240803-030240/validation/events.out.tfevents.1722654496.e99d6a3749a3.1495.59.v2': No such file or directory\n",
      "rm: cannot remove '/app/logs/wgangpModel/20240803-030240/validation/events.out.tfevents.1722654503.e99d6a3749a3.1495.61.v2': No such file or directory\n",
      "rm: cannot remove '/app/logs/wgangpModel/20240803-030240/validation/events.out.tfevents.1722654510.e99d6a3749a3.1495.63.v2': No such file or directory\n",
      "rm: cannot remove '/app/logs/wgangpModel/20240803-030240/validation/events.out.tfevents.1722654517.e99d6a3749a3.1495.65.v2': No such file or directory\n",
      "rm: cannot remove '/app/logs/wgangpModel/20240803-030240/validation/events.out.tfevents.1722654531.e99d6a3749a3.1495.67.v2': No such file or directory\n",
      "rm: cannot remove '/app/logs/wgangpModel/20240803-030240/validation/events.out.tfevents.1722654538.e99d6a3749a3.1495.69.v2': No such file or directory\n",
      "rm: cannot remove '/app/logs/wgangpModel/20240803-030240/validation/events.out.tfevents.1722654550.e99d6a3749a3.1495.71.v2': No such file or directory\n",
      "rm: cannot remove '/app/logs/wgangpModel/20240803-030240/validation/events.out.tfevents.1722654565.e99d6a3749a3.1495.73.v2': No such file or directory\n",
      "rm: cannot remove '/app/logs/wgangpModel/20240803-030240/validation/events.out.tfevents.1722654571.e99d6a3749a3.1495.75.v2': No such file or directory\n",
      "rm: cannot remove '/app/logs/wgangpModel/20240803-030240/validation/events.out.tfevents.1722654582.e99d6a3749a3.1495.77.v2': No such file or directory\n",
      "rm: cannot remove '/app/logs/wgangpModel/20240803-030240/validation/events.out.tfevents.1722654600.e99d6a3749a3.1495.79.v2': No such file or directory\n",
      "rm: cannot remove '/app/logs/wgangpModel/20240803-030240/validation/events.out.tfevents.1722654607.e99d6a3749a3.1495.81.v2': No such file or directory\n",
      "rm: cannot remove '/app/logs/wgangpModel/20240803-030240/validation/events.out.tfevents.1722654621.e99d6a3749a3.1495.83.v2': No such file or directory\n",
      "rm: cannot remove '/app/logs/wgangpModel/20240803-030240/validation/events.out.tfevents.1722654629.e99d6a3749a3.1495.85.v2': No such file or directory\n",
      "rm: cannot remove '/app/logs/wgangpModel/20240803-030240/validation/events.out.tfevents.1722654646.e99d6a3749a3.1495.87.v2': No such file or directory\n",
      "rm: cannot remove '/app/logs/wgangpModel/20240803-030240/validation/events.out.tfevents.1722654652.e99d6a3749a3.1495.89.v2': No such file or directory\n",
      "rm: cannot remove '/app/logs/wgangpModel/20240803-030240/validation/events.out.tfevents.1722654656.e99d6a3749a3.1495.91.v2': No such file or directory\n",
      "rm: cannot remove '/app/logs/wgangpModel/20240803-030240/validation/events.out.tfevents.1722654673.e99d6a3749a3.1495.93.v2': No such file or directory\n",
      "rm: cannot remove '/app/logs/wgangpModel/20240803-030240/validation/events.out.tfevents.1722654682.e99d6a3749a3.1495.95.v2': No such file or directory\n",
      "rm: cannot remove '/app/logs/wgangpModel/20240803-030240/validation/events.out.tfevents.1722654692.e99d6a3749a3.1495.97.v2': No such file or directory\n",
      "rm: cannot remove '/app/logs/wgangpModel/20240803-030240/validation/events.out.tfevents.1722654699.e99d6a3749a3.1495.99.v2': No such file or directory\n",
      "rm: cannot remove '/app/logs/wgangpModel/20240803-030240/validation/events.out.tfevents.1722654712.e99d6a3749a3.1495.101.v2': No such file or directory\n",
      "rm: cannot remove '/app/logs/wgangpModel/20240803-030240/validation/events.out.tfevents.1722654724.e99d6a3749a3.1495.103.v2': No such file or directory\n",
      "rm: cannot remove '/app/logs/wgangpModel/20240803-030240/validation/events.out.tfevents.1722654740.e99d6a3749a3.1495.105.v2': No such file or directory\n",
      "rm: cannot remove '/app/logs/wgangpModel/20240803-030240/validation/events.out.tfevents.1722654754.e99d6a3749a3.1495.107.v2': No such file or directory\n",
      "rm: cannot remove '/app/logs/wgangpModel/20240803-030240/validation/events.out.tfevents.1722654765.e99d6a3749a3.1495.109.v2': No such file or directory\n",
      "rm: cannot remove '/app/logs/wgangpModel/20240803-030240/validation/events.out.tfevents.1722654782.e99d6a3749a3.1495.111.v2': No such file or directory\n",
      "rm: cannot remove '/app/logs/wgangpModel/20240803-030240/validation/events.out.tfevents.1722654792.e99d6a3749a3.1495.113.v2': No such file or directory\n",
      "rm: cannot remove '/app/logs/wgangpModel/20240803-030240/validation/events.out.tfevents.1722654805.e99d6a3749a3.1495.115.v2': No such file or directory\n",
      "rm: cannot remove '/app/logs/wgangpModel/20240803-030240/validation/events.out.tfevents.1722654815.e99d6a3749a3.1495.117.v2': No such file or directory\n",
      "rm: cannot remove '/app/logs/wgangpModel/20240803-030240/validation/events.out.tfevents.1722654825.e99d6a3749a3.1495.119.v2': No such file or directory\n",
      "rm: cannot remove '/app/logs/wgangpModel/20240803-030240/validation/events.out.tfevents.1722654833.e99d6a3749a3.1495.121.v2': No such file or directory\n",
      "rm: cannot remove '/app/logs/wgangpModel/20240803-030240/validation/events.out.tfevents.1722654842.e99d6a3749a3.1495.123.v2': No such file or directory\n",
      "rm: cannot remove '/app/logs/wgangpModel/20240803-030240/validation/events.out.tfevents.1722654857.e99d6a3749a3.1495.125.v2': No such file or directory\n",
      "rm: cannot remove '/app/logs/wgangpModel/20240803-030240/validation/events.out.tfevents.1722654869.e99d6a3749a3.1495.127.v2': No such file or directory\n",
      "rm: cannot remove '/app/logs/wgangpModel/20240803-030240/validation/events.out.tfevents.1722654885.e99d6a3749a3.1495.129.v2': No such file or directory\n",
      "rm: cannot remove '/app/logs/wgangpModel/20240803-030240/validation/events.out.tfevents.1722654892.e99d6a3749a3.1495.131.v2': No such file or directory\n",
      "rm: cannot remove '/app/logs/wgangpModel/20240803-030240/validation/events.out.tfevents.1722654900.e99d6a3749a3.1495.133.v2': No such file or directory\n",
      "rm: cannot remove '/app/logs/wgangpModel/20240803-030240/validation/events.out.tfevents.1722654910.e99d6a3749a3.1495.135.v2': No such file or directory\n",
      "rm: cannot remove '/app/logs/wgangpModel/20240803-030240/validation/events.out.tfevents.1722654924.e99d6a3749a3.1495.137.v2': No such file or directory\n",
      "rm: cannot remove '/app/logs/wgangpModel/20240803-030240/validation/events.out.tfevents.1722654932.e99d6a3749a3.1495.139.v2': No such file or directory\n",
      "rm: cannot remove '/app/logs/wgangpModel/20240803-030240/validation/events.out.tfevents.1722654941.e99d6a3749a3.1495.141.v2': No such file or directory\n",
      "rm: cannot remove '/app/logs/wgangpModel/20240803-030240/validation/events.out.tfevents.1722654955.e99d6a3749a3.1495.143.v2': No such file or directory\n",
      "rm: cannot remove '/app/logs/wgangpModel/20240803-030240/validation/events.out.tfevents.1722654965.e99d6a3749a3.1495.145.v2': No such file or directory\n",
      "rm: cannot remove '/app/logs/wgangpModel/20240803-030240/validation/events.out.tfevents.1722654978.e99d6a3749a3.1495.147.v2': No such file or directory\n",
      "rm: cannot remove '/app/logs/wgangpModel/20240803-030240/validation/events.out.tfevents.1722654992.e99d6a3749a3.1495.149.v2': No such file or directory\n",
      "rm: cannot remove '/app/logs/wgangpModel/20240803-030240/validation/events.out.tfevents.1722655003.e99d6a3749a3.1495.151.v2': No such file or directory\n",
      "rm: cannot remove '/app/logs/wgangpModel/20240803-030240/validation/events.out.tfevents.1722655012.e99d6a3749a3.1495.153.v2': No such file or directory\n",
      "rm: cannot remove '/app/logs/wgangpModel/20240803-030240/validation/events.out.tfevents.1722655021.e99d6a3749a3.1495.155.v2': No such file or directory\n",
      "rm: cannot remove '/app/logs/wgangpModel/20240803-030240/validation/events.out.tfevents.1722655035.e99d6a3749a3.1495.157.v2': No such file or directory\n",
      "rm: cannot remove '/app/logs/wgangpModel/20240803-030240/validation/events.out.tfevents.1722655048.e99d6a3749a3.1495.159.v2': No such file or directory\n",
      "rm: cannot remove '/app/logs/wgangpModel/20240803-030240/validation/events.out.tfevents.1722655060.e99d6a3749a3.1495.161.v2': No such file or directory\n",
      "rm: cannot remove '/app/logs/wgangpModel/20240803-030240/validation/events.out.tfevents.1722655065.e99d6a3749a3.1495.163.v2': No such file or directory\n",
      "rm: cannot remove '/app/logs/wgangpModel/20240803-030240/validation/events.out.tfevents.1722655073.e99d6a3749a3.1495.165.v2': No such file or directory\n",
      "rm: cannot remove '/app/logs/wgangpModel/20240803-030240/validation/events.out.tfevents.1722655082.e99d6a3749a3.1495.167.v2': No such file or directory\n",
      "rm: cannot remove '/app/logs/wgangpModel/20240803-030240/validation/events.out.tfevents.1722655098.e99d6a3749a3.1495.169.v2': No such file or directory\n",
      "rm: cannot remove '/app/logs/wgangpModel/20240803-030240/validation/events.out.tfevents.1722655109.e99d6a3749a3.1495.171.v2': No such file or directory\n",
      "rm: cannot remove '/app/logs/wgangpModel/20240803-030240/validation/events.out.tfevents.1722655123.e99d6a3749a3.1495.173.v2': No such file or directory\n",
      "rm: cannot remove '/app/logs/wgangpModel/20240803-030240/validation/events.out.tfevents.1722655137.e99d6a3749a3.1495.175.v2': No such file or directory\n",
      "rm: cannot remove '/app/logs/wgangpModel/20240803-030240/validation/events.out.tfevents.1722655142.e99d6a3749a3.1495.177.v2': No such file or directory\n",
      "rm: cannot remove '/app/logs/wgangpModel/20240803-030240/validation/events.out.tfevents.1722655149.e99d6a3749a3.1495.179.v2': No such file or directory\n",
      "rm: cannot remove '/app/logs/wgangpModel/20240803-030240/validation/events.out.tfevents.1722655165.e99d6a3749a3.1495.181.v2': No such file or directory\n",
      "rm: cannot remove '/app/logs/wgangpModel/20240803-030240/validation/events.out.tfevents.1722655174.e99d6a3749a3.1495.183.v2': No such file or directory\n",
      "rm: cannot remove '/app/logs/wgangpModel/20240803-030240/validation/events.out.tfevents.1722655182.e99d6a3749a3.1495.185.v2': No such file or directory\n",
      "rm: cannot remove '/app/logs/wgangpModel/20240803-030240/validation/events.out.tfevents.1722655198.e99d6a3749a3.1495.187.v2': No such file or directory\n",
      "rm: cannot remove '/app/logs/wgangpModel/20240803-030240/validation/events.out.tfevents.1722655208.e99d6a3749a3.1495.189.v2': No such file or directory\n",
      "rm: cannot remove '/app/logs/wgangpModel/20240803-030240/validation/events.out.tfevents.1722655219.e99d6a3749a3.1495.191.v2': No such file or directory\n",
      "rm: cannot remove '/app/logs/wgangpModel/20240803-030240/validation/events.out.tfevents.1722655229.e99d6a3749a3.1495.193.v2': No such file or directory\n",
      "rm: cannot remove '/app/logs/wgangpModel/20240803-030240/validation/events.out.tfevents.1722655243.e99d6a3749a3.1495.195.v2': No such file or directory\n",
      "rm: cannot remove '/app/logs/wgangpModel/20240803-030240/validation/events.out.tfevents.1722655247.e99d6a3749a3.1495.197.v2': No such file or directory\n",
      "rm: cannot remove '/app/logs/wgangpModel/20240803-030240/validation/events.out.tfevents.1722655257.e99d6a3749a3.1495.199.v2': No such file or directory\n",
      "rm: cannot remove '/app/logs/wgangpModel/20240803-030240/validation/events.out.tfevents.1722655272.e99d6a3749a3.1495.201.v2': No such file or directory\n",
      "rm: cannot remove '/app/logs/wgangpModel/20240803-030240/validation/events.out.tfevents.1722655279.e99d6a3749a3.1495.203.v2': No such file or directory\n",
      "rm: cannot remove '/app/logs/wgangpModel/20240803-030240/validation/events.out.tfevents.1722655287.e99d6a3749a3.1495.205.v2': No such file or directory\n",
      "rm: cannot remove '/app/logs/wgangpModel/20240803-030240/validation/events.out.tfevents.1722655298.e99d6a3749a3.1495.207.v2': No such file or directory\n",
      "rm: cannot remove '/app/logs/wgangpModel/20240803-030240/validation/events.out.tfevents.1722655309.e99d6a3749a3.1495.209.v2': No such file or directory\n",
      "rm: cannot remove '/app/logs/wgangpModel/20240803-030240/validation/events.out.tfevents.1722655322.e99d6a3749a3.1495.211.v2': No such file or directory\n",
      "rm: cannot remove '/app/logs/wgangpModel/20240803-030240/validation/events.out.tfevents.1722655332.e99d6a3749a3.1495.213.v2': No such file or directory\n",
      "rm: cannot remove '/app/logs/wgangpModel/20240803-030240/validation/events.out.tfevents.1722655345.e99d6a3749a3.1495.215.v2': No such file or directory\n",
      "rm: cannot remove '/app/logs/wgangpModel/20240803-030240/validation/events.out.tfevents.1722655356.e99d6a3749a3.1495.217.v2': No such file or directory\n",
      "rm: cannot remove '/app/logs/wgangpModel/20240803-030240/validation/events.out.tfevents.1722655367.e99d6a3749a3.1495.219.v2': No such file or directory\n",
      "rm: cannot remove '/app/logs/wgangpModel/20240803-030240/validation/events.out.tfevents.1722655382.e99d6a3749a3.1495.221.v2': No such file or directory\n",
      "rm: cannot remove '/app/logs/wgangpModel/20240803-030240/validation/events.out.tfevents.1722655392.e99d6a3749a3.1495.223.v2': No such file or directory\n",
      "rm: cannot remove '/app/logs/wgangpModel/20240803-030240/validation/events.out.tfevents.1722655401.e99d6a3749a3.1495.225.v2': No such file or directory\n",
      "rm: cannot remove '/app/logs/wgangpModel/20240803-030240/validation/events.out.tfevents.1722655416.e99d6a3749a3.1495.227.v2': No such file or directory\n",
      "rm: cannot remove '/app/logs/wgangpModel/20240803-030240/validation/events.out.tfevents.1722655427.e99d6a3749a3.1495.229.v2': No such file or directory\n",
      "rm: cannot remove '/app/logs/wgangpModel/20240803-030240/validation/events.out.tfevents.1722655433.e99d6a3749a3.1495.231.v2': No such file or directory\n",
      "rm: cannot remove '/app/logs/wgangpModel/20240803-030240/validation/events.out.tfevents.1722655440.e99d6a3749a3.1495.233.v2': No such file or directory\n",
      "rm: cannot remove '/app/logs/wgangpModel/20240803-030240/validation/events.out.tfevents.1722655453.e99d6a3749a3.1495.235.v2': No such file or directory\n",
      "rm: cannot remove '/app/logs/wgangpModel/20240803-030240/validation/events.out.tfevents.1722655464.e99d6a3749a3.1495.237.v2': No such file or directory\n",
      "rm: cannot remove '/app/logs/wgangpModel/20240803-030240/validation/events.out.tfevents.1722655478.e99d6a3749a3.1495.239.v2': No such file or directory\n",
      "rm: cannot remove '/app/logs/wgangpModel/20240803-030240/validation/events.out.tfevents.1722655493.e99d6a3749a3.1495.241.v2': No such file or directory\n",
      "rm: cannot remove '/app/logs/wgangpModel/20240803-030240/validation/events.out.tfevents.1722655504.e99d6a3749a3.1495.243.v2': No such file or directory\n",
      "rm: cannot remove '/app/logs/wgangpModel/20240803-030240/validation/events.out.tfevents.1722655509.e99d6a3749a3.1495.245.v2': No such file or directory\n",
      "rm: cannot remove '/app/logs/wgangpModel/20240803-030240/validation/events.out.tfevents.1722655522.e99d6a3749a3.1495.247.v2': No such file or directory\n",
      "rm: cannot remove '/app/logs/wgangpModel/20240803-030240/validation/events.out.tfevents.1722655528.e99d6a3749a3.1495.249.v2': No such file or directory\n",
      "rm: cannot remove '/app/logs/wgangpModel/20240803-030240/validation/events.out.tfevents.1722655541.e99d6a3749a3.1495.251.v2': No such file or directory\n",
      "rm: cannot remove '/app/logs/wgangpModel/20240803-030240/validation/events.out.tfevents.1722655551.e99d6a3749a3.1495.253.v2': No such file or directory\n",
      "rm: cannot remove '/app/logs/wgangpModel/20240803-030240/validation/events.out.tfevents.1722655565.e99d6a3749a3.1495.255.v2': No such file or directory\n",
      "rm: cannot remove '/app/logs/wgangpModel/20240803-030240/validation/events.out.tfevents.1722655572.e99d6a3749a3.1495.257.v2': No such file or directory\n",
      "rm: cannot remove '/app/logs/wgangpModel/20240803-030240/validation/events.out.tfevents.1722655585.e99d6a3749a3.1495.259.v2': No such file or directory\n",
      "rm: cannot remove '/app/logs/wgangpModel/20240803-030240/validation/events.out.tfevents.1722655595.e99d6a3749a3.1495.261.v2': No such file or directory\n",
      "rm: cannot remove '/app/logs/wgangpModel/20240803-030240/validation/events.out.tfevents.1722655601.e99d6a3749a3.1495.263.v2': No such file or directory\n",
      "rm: cannot remove '/app/logs/wgangpModel/20240803-030240/validation/events.out.tfevents.1722655611.e99d6a3749a3.1495.265.v2': No such file or directory\n",
      "rm: cannot remove '/app/logs/wgangpModel/20240803-030240/validation/events.out.tfevents.1722655620.e99d6a3749a3.1495.267.v2': No such file or directory\n",
      "rm: cannot remove '/app/logs/wgangpModel/20240803-030240/validation/events.out.tfevents.1722655628.e99d6a3749a3.1495.269.v2': No such file or directory\n",
      "rm: cannot remove '/app/logs/wgangpModel/20240803-030240/validation/events.out.tfevents.1722655635.e99d6a3749a3.1495.271.v2': No such file or directory\n",
      "rm: cannot remove '/app/logs/wgangpModel/20240803-030240/validation/events.out.tfevents.1722655648.e99d6a3749a3.1495.273.v2': No such file or directory\n",
      "rm: cannot remove '/app/logs/wgangpModel/20240803-030240/validation/events.out.tfevents.1722655666.e99d6a3749a3.1495.275.v2': No such file or directory\n",
      "rm: cannot remove '/app/logs/wgangpModel/20240803-030240/validation/events.out.tfevents.1722655673.e99d6a3749a3.1495.277.v2': No such file or directory\n",
      "rm: cannot remove '/app/logs/wgangpModel/20240803-030240/validation/events.out.tfevents.1722655685.e99d6a3749a3.1495.279.v2': No such file or directory\n",
      "rm: cannot remove '/app/logs/wgangpModel/20240803-030240/validation/events.out.tfevents.1722655701.e99d6a3749a3.1495.281.v2': No such file or directory\n",
      "rm: cannot remove '/app/logs/wgangpModel/20240803-030240/validation/events.out.tfevents.1722655715.e99d6a3749a3.1495.283.v2': No such file or directory\n",
      "rm: cannot remove '/app/logs/wgangpModel/20240803-030240/validation/events.out.tfevents.1722655732.e99d6a3749a3.1495.285.v2': No such file or directory\n",
      "rm: cannot remove '/app/logs/wgangpModel/20240803-030240/validation/events.out.tfevents.1722655748.e99d6a3749a3.1495.287.v2': No such file or directory\n",
      "rm: cannot remove '/app/logs/wgangpModel/20240803-040503/train/events.out.tfevents.1722657907.e99d6a3749a3.6949.0.v2': No such file or directory\n",
      "rm: cannot remove '/app/logs/wgangpModel/20240803-040503/train/events.out.tfevents.1722657921.e99d6a3749a3.6949.2.v2': No such file or directory\n",
      "rm: cannot remove '/app/logs/wgangpModel/20240803-040503/train/events.out.tfevents.1722657926.e99d6a3749a3.6949.4.v2': No such file or directory\n",
      "rm: cannot remove '/app/logs/wgangpModel/20240803-040503/train/events.out.tfevents.1722657940.e99d6a3749a3.6949.6.v2': No such file or directory\n",
      "rm: cannot remove '/app/logs/wgangpModel/20240803-040503/train/events.out.tfevents.1722657945.e99d6a3749a3.6949.8.v2': No such file or directory\n",
      "rm: cannot remove '/app/logs/wgangpModel/20240803-040503/train/events.out.tfevents.1722657949.e99d6a3749a3.6949.10.v2': No such file or directory\n",
      "rm: cannot remove '/app/logs/wgangpModel/20240803-040503/train/events.out.tfevents.1722657959.e99d6a3749a3.6949.12.v2': No such file or directory\n",
      "rm: cannot remove '/app/logs/wgangpModel/20240803-040503/train/events.out.tfevents.1722657968.e99d6a3749a3.6949.14.v2': No such file or directory\n",
      "rm: cannot remove '/app/logs/wgangpModel/20240803-040503/train/events.out.tfevents.1722657976.e99d6a3749a3.6949.16.v2': No such file or directory\n",
      "rm: cannot remove '/app/logs/wgangpModel/20240803-040503/train/events.out.tfevents.1722657980.e99d6a3749a3.6949.18.v2': No such file or directory\n",
      "rm: cannot remove '/app/logs/wgangpModel/20240803-040503/train/events.out.tfevents.1722657990.e99d6a3749a3.6949.20.v2': No such file or directory\n",
      "rm: cannot remove '/app/logs/wgangpModel/20240803-040503/train/events.out.tfevents.1722657997.e99d6a3749a3.6949.22.v2': No such file or directory\n",
      "rm: cannot remove '/app/logs/wgangpModel/20240803-040503/train/events.out.tfevents.1722658002.e99d6a3749a3.6949.24.v2': No such file or directory\n",
      "rm: cannot remove '/app/logs/wgangpModel/20240803-040503/train/events.out.tfevents.1722658015.e99d6a3749a3.6949.26.v2': No such file or directory\n",
      "rm: cannot remove '/app/logs/wgangpModel/20240803-040503/train/events.out.tfevents.1722658026.e99d6a3749a3.6949.28.v2': No such file or directory\n",
      "rm: cannot remove '/app/logs/wgangpModel/20240803-040503/train/events.out.tfevents.1722658036.e99d6a3749a3.6949.30.v2': No such file or directory\n",
      "rm: cannot remove '/app/logs/wgangpModel/20240803-040503/train/events.out.tfevents.1722658044.e99d6a3749a3.6949.32.v2': No such file or directory\n",
      "rm: cannot remove '/app/logs/wgangpModel/20240803-040503/train/events.out.tfevents.1722658052.e99d6a3749a3.6949.34.v2': No such file or directory\n",
      "rm: cannot remove '/app/logs/wgangpModel/20240803-040503/train/events.out.tfevents.1722658061.e99d6a3749a3.6949.36.v2': No such file or directory\n",
      "rm: cannot remove '/app/logs/wgangpModel/20240803-040503/train/events.out.tfevents.1722658069.e99d6a3749a3.6949.38.v2': No such file or directory\n",
      "rm: cannot remove '/app/logs/wgangpModel/20240803-040503/train/events.out.tfevents.1722658080.e99d6a3749a3.6949.40.v2': No such file or directory\n",
      "rm: cannot remove '/app/logs/wgangpModel/20240803-040503/train/events.out.tfevents.1722658091.e99d6a3749a3.6949.42.v2': No such file or directory\n",
      "rm: cannot remove '/app/logs/wgangpModel/20240803-040503/train/events.out.tfevents.1722658097.e99d6a3749a3.6949.44.v2': No such file or directory\n",
      "rm: cannot remove '/app/logs/wgangpModel/20240803-040503/train/events.out.tfevents.1722658106.e99d6a3749a3.6949.46.v2': No such file or directory\n",
      "rm: cannot remove '/app/logs/wgangpModel/20240803-040503/train/events.out.tfevents.1722658118.e99d6a3749a3.6949.48.v2': No such file or directory\n",
      "rm: cannot remove '/app/logs/wgangpModel/20240803-040503/train/events.out.tfevents.1722658122.e99d6a3749a3.6949.50.v2': No such file or directory\n",
      "rm: cannot remove '/app/logs/wgangpModel/20240803-040503/train/events.out.tfevents.1722658132.e99d6a3749a3.6949.52.v2': No such file or directory\n",
      "rm: cannot remove '/app/logs/wgangpModel/20240803-040503/train/events.out.tfevents.1722658140.e99d6a3749a3.6949.54.v2': No such file or directory\n",
      "rm: cannot remove '/app/logs/wgangpModel/20240803-040503/train/events.out.tfevents.1722658152.e99d6a3749a3.6949.56.v2': No such file or directory\n",
      "rm: cannot remove '/app/logs/wgangpModel/20240803-040503/train/events.out.tfevents.1722658162.e99d6a3749a3.6949.58.v2': No such file or directory\n",
      "rm: cannot remove '/app/logs/wgangpModel/20240803-040503/train/events.out.tfevents.1722658167.e99d6a3749a3.6949.60.v2': No such file or directory\n",
      "rm: cannot remove '/app/logs/wgangpModel/20240803-040503/train/events.out.tfevents.1722658177.e99d6a3749a3.6949.62.v2': No such file or directory\n",
      "rm: cannot remove '/app/logs/wgangpModel/20240803-040503/train/events.out.tfevents.1722658191.e99d6a3749a3.6949.64.v2': No such file or directory\n",
      "rm: cannot remove '/app/logs/wgangpModel/20240803-040503/train/events.out.tfevents.1722658196.e99d6a3749a3.6949.66.v2': No such file or directory\n",
      "rm: cannot remove '/app/logs/wgangpModel/20240803-040503/train/events.out.tfevents.1722658206.e99d6a3749a3.6949.68.v2': No such file or directory\n",
      "rm: cannot remove '/app/logs/wgangpModel/20240803-040503/train/events.out.tfevents.1722658213.e99d6a3749a3.6949.70.v2': No such file or directory\n",
      "rm: cannot remove '/app/logs/wgangpModel/20240803-040503/train/events.out.tfevents.1722658223.e99d6a3749a3.6949.72.v2': No such file or directory\n",
      "rm: cannot remove '/app/logs/wgangpModel/20240803-040503/train/events.out.tfevents.1722658230.e99d6a3749a3.6949.74.v2': No such file or directory\n",
      "rm: cannot remove '/app/logs/wgangpModel/20240803-040503/train/events.out.tfevents.1722658237.e99d6a3749a3.6949.76.v2': No such file or directory\n",
      "rm: cannot remove '/app/logs/wgangpModel/20240803-040503/train/events.out.tfevents.1722658244.e99d6a3749a3.6949.78.v2': No such file or directory\n",
      "rm: cannot remove '/app/logs/wgangpModel/20240803-040503/train/events.out.tfevents.1722658257.e99d6a3749a3.6949.80.v2': No such file or directory\n",
      "rm: cannot remove '/app/logs/wgangpModel/20240803-040503/train/events.out.tfevents.1722658262.e99d6a3749a3.6949.82.v2': No such file or directory\n",
      "rm: cannot remove '/app/logs/wgangpModel/20240803-040503/train/events.out.tfevents.1722658273.e99d6a3749a3.6949.84.v2': No such file or directory\n",
      "rm: cannot remove '/app/logs/wgangpModel/20240803-040503/train/events.out.tfevents.1722658285.e99d6a3749a3.6949.86.v2': No such file or directory\n",
      "rm: cannot remove '/app/logs/wgangpModel/20240803-040503/train/events.out.tfevents.1722658297.e99d6a3749a3.6949.88.v2': No such file or directory\n",
      "rm: cannot remove '/app/logs/wgangpModel/20240803-040503/train/events.out.tfevents.1722658302.e99d6a3749a3.6949.90.v2': No such file or directory\n",
      "rm: cannot remove '/app/logs/wgangpModel/20240803-040503/train/events.out.tfevents.1722658313.e99d6a3749a3.6949.92.v2': No such file or directory\n",
      "rm: cannot remove '/app/logs/wgangpModel/20240803-040503/train/events.out.tfevents.1722658319.e99d6a3749a3.6949.94.v2': No such file or directory\n",
      "rm: cannot remove '/app/logs/wgangpModel/20240803-040503/train/events.out.tfevents.1722658331.e99d6a3749a3.6949.96.v2': No such file or directory\n",
      "rm: cannot remove '/app/logs/wgangpModel/20240803-040503/train/events.out.tfevents.1722658337.e99d6a3749a3.6949.98.v2': No such file or directory\n",
      "rm: cannot remove '/app/logs/wgangpModel/20240803-040503/train/events.out.tfevents.1722658341.e99d6a3749a3.6949.100.v2': No such file or directory\n",
      "rm: cannot remove '/app/logs/wgangpModel/20240803-040503/train/events.out.tfevents.1722658352.e99d6a3749a3.6949.102.v2': No such file or directory\n",
      "rm: cannot remove '/app/logs/wgangpModel/20240803-040503/train/events.out.tfevents.1722658361.e99d6a3749a3.6949.104.v2': No such file or directory\n",
      "rm: cannot remove '/app/logs/wgangpModel/20240803-040503/train/events.out.tfevents.1722658373.e99d6a3749a3.6949.106.v2': No such file or directory\n",
      "rm: cannot remove '/app/logs/wgangpModel/20240803-040503/train/events.out.tfevents.1722658379.e99d6a3749a3.6949.108.v2': No such file or directory\n",
      "rm: cannot remove '/app/logs/wgangpModel/20240803-040503/train/events.out.tfevents.1722658384.e99d6a3749a3.6949.110.v2': No such file or directory\n",
      "rm: cannot remove '/app/logs/wgangpModel/20240803-040503/train/events.out.tfevents.1722658395.e99d6a3749a3.6949.112.v2': No such file or directory\n",
      "rm: cannot remove '/app/logs/wgangpModel/20240803-040503/train/events.out.tfevents.1722658404.e99d6a3749a3.6949.114.v2': No such file or directory\n",
      "rm: cannot remove '/app/logs/wgangpModel/20240803-040503/train/events.out.tfevents.1722658414.e99d6a3749a3.6949.116.v2': No such file or directory\n",
      "rm: cannot remove '/app/logs/wgangpModel/20240803-040503/train/events.out.tfevents.1722658424.e99d6a3749a3.6949.118.v2': No such file or directory\n",
      "rm: cannot remove '/app/logs/wgangpModel/20240803-040503/train/events.out.tfevents.1722658439.e99d6a3749a3.6949.120.v2': No such file or directory\n",
      "rm: cannot remove '/app/logs/wgangpModel/20240803-040503/train/events.out.tfevents.1722658444.e99d6a3749a3.6949.122.v2': No such file or directory\n",
      "rm: cannot remove '/app/logs/wgangpModel/20240803-040503/train/events.out.tfevents.1722658453.e99d6a3749a3.6949.124.v2': No such file or directory\n",
      "rm: cannot remove '/app/logs/wgangpModel/20240803-040503/train/events.out.tfevents.1722658464.e99d6a3749a3.6949.126.v2': No such file or directory\n",
      "rm: cannot remove '/app/logs/wgangpModel/20240803-040503/train/events.out.tfevents.1722658472.e99d6a3749a3.6949.128.v2': No such file or directory\n",
      "rm: cannot remove '/app/logs/wgangpModel/20240803-040503/train/events.out.tfevents.1722658483.e99d6a3749a3.6949.130.v2': No such file or directory\n",
      "rm: cannot remove '/app/logs/wgangpModel/20240803-040503/train/events.out.tfevents.1722658496.e99d6a3749a3.6949.132.v2': No such file or directory\n",
      "rm: cannot remove '/app/logs/wgangpModel/20240803-040503/train/events.out.tfevents.1722658506.e99d6a3749a3.6949.134.v2': No such file or directory\n",
      "rm: cannot remove '/app/logs/wgangpModel/20240803-040503/train/events.out.tfevents.1722658512.e99d6a3749a3.6949.136.v2': No such file or directory\n",
      "rm: cannot remove '/app/logs/wgangpModel/20240803-040503/train/events.out.tfevents.1722658519.e99d6a3749a3.6949.138.v2': No such file or directory\n",
      "rm: cannot remove '/app/logs/wgangpModel/20240803-040503/train/events.out.tfevents.1722658529.e99d6a3749a3.6949.140.v2': No such file or directory\n",
      "rm: cannot remove '/app/logs/wgangpModel/20240803-040503/train/events.out.tfevents.1722658541.e99d6a3749a3.6949.142.v2': No such file or directory\n",
      "rm: cannot remove '/app/logs/wgangpModel/20240803-040503/train/events.out.tfevents.1722658548.e99d6a3749a3.6949.144.v2': No such file or directory\n",
      "rm: cannot remove '/app/logs/wgangpModel/20240803-040503/train/events.out.tfevents.1722658560.e99d6a3749a3.6949.146.v2': No such file or directory\n",
      "rm: cannot remove '/app/logs/wgangpModel/20240803-040503/train/events.out.tfevents.1722658566.e99d6a3749a3.6949.148.v2': No such file or directory\n",
      "rm: cannot remove '/app/logs/wgangpModel/20240803-040503/train/events.out.tfevents.1722658582.e99d6a3749a3.6949.150.v2': No such file or directory\n",
      "rm: cannot remove '/app/logs/wgangpModel/20240803-040503/train/events.out.tfevents.1722658593.e99d6a3749a3.6949.152.v2': No such file or directory\n",
      "rm: cannot remove '/app/logs/wgangpModel/20240803-040503/train/events.out.tfevents.1722658607.e99d6a3749a3.6949.154.v2': No such file or directory\n",
      "rm: cannot remove '/app/logs/wgangpModel/20240803-040503/train/events.out.tfevents.1722658617.e99d6a3749a3.6949.156.v2': No such file or directory\n",
      "rm: cannot remove '/app/logs/wgangpModel/20240803-040503/train/events.out.tfevents.1722658630.e99d6a3749a3.6949.158.v2': No such file or directory\n",
      "rm: cannot remove '/app/logs/wgangpModel/20240803-040503/train/events.out.tfevents.1722658634.e99d6a3749a3.6949.160.v2': No such file or directory\n",
      "rm: cannot remove '/app/logs/wgangpModel/20240803-040503/train/events.out.tfevents.1722658646.e99d6a3749a3.6949.162.v2': No such file or directory\n",
      "rm: cannot remove '/app/logs/wgangpModel/20240803-040503/train/events.out.tfevents.1722658653.e99d6a3749a3.6949.164.v2': No such file or directory\n",
      "rm: cannot remove '/app/logs/wgangpModel/20240803-040503/train/events.out.tfevents.1722658661.e99d6a3749a3.6949.166.v2': No such file or directory\n",
      "rm: cannot remove '/app/logs/wgangpModel/20240803-040503/train/events.out.tfevents.1722658671.e99d6a3749a3.6949.168.v2': No such file or directory\n",
      "rm: cannot remove '/app/logs/wgangpModel/20240803-040503/train/events.out.tfevents.1722658679.e99d6a3749a3.6949.170.v2': No such file or directory\n",
      "rm: cannot remove '/app/logs/wgangpModel/20240803-040503/train/events.out.tfevents.1722658692.e99d6a3749a3.6949.172.v2': No such file or directory\n",
      "rm: cannot remove '/app/logs/wgangpModel/20240803-040503/train/events.out.tfevents.1722658703.e99d6a3749a3.6949.174.v2': No such file or directory\n",
      "rm: cannot remove '/app/logs/wgangpModel/20240803-040503/train/events.out.tfevents.1722658717.e99d6a3749a3.6949.176.v2': No such file or directory\n",
      "rm: cannot remove '/app/logs/wgangpModel/20240803-040503/train/events.out.tfevents.1722658724.e99d6a3749a3.6949.178.v2': No such file or directory\n",
      "rm: cannot remove '/app/logs/wgangpModel/20240803-040503/train/events.out.tfevents.1722658735.e99d6a3749a3.6949.180.v2': No such file or directory\n",
      "rm: cannot remove '/app/logs/wgangpModel/20240803-040503/train/events.out.tfevents.1722658741.e99d6a3749a3.6949.182.v2': No such file or directory\n",
      "rm: cannot remove '/app/logs/wgangpModel/20240803-040503/train/events.out.tfevents.1722658753.e99d6a3749a3.6949.184.v2': No such file or directory\n",
      "rm: cannot remove '/app/logs/wgangpModel/20240803-040503/train/events.out.tfevents.1722658762.e99d6a3749a3.6949.186.v2': No such file or directory\n",
      "rm: cannot remove '/app/logs/wgangpModel/20240803-040503/train/events.out.tfevents.1722658772.e99d6a3749a3.6949.188.v2': No such file or directory\n",
      "rm: cannot remove '/app/logs/wgangpModel/20240803-040503/train/events.out.tfevents.1722658785.e99d6a3749a3.6949.190.v2': No such file or directory\n",
      "rm: cannot remove '/app/logs/wgangpModel/20240803-040503/train/events.out.tfevents.1722658794.e99d6a3749a3.6949.192.v2': No such file or directory\n",
      "rm: cannot remove '/app/logs/wgangpModel/20240803-040503/train/events.out.tfevents.1722658797.e99d6a3749a3.6949.194.v2': No such file or directory\n",
      "rm: cannot remove '/app/logs/wgangpModel/20240803-040503/train/events.out.tfevents.1722658803.e99d6a3749a3.6949.196.v2': No such file or directory\n",
      "rm: cannot remove '/app/logs/wgangpModel/20240803-040503/train/events.out.tfevents.1722658807.e99d6a3749a3.6949.198.v2': No such file or directory\n",
      "rm: cannot remove '/app/logs/wgangpModel/20240803-040503/train/events.out.tfevents.1722658819.e99d6a3749a3.6949.200.v2': No such file or directory\n",
      "rm: cannot remove '/app/logs/wgangpModel/20240803-040503/train/events.out.tfevents.1722658828.e99d6a3749a3.6949.202.v2': No such file or directory\n",
      "rm: cannot remove '/app/logs/wgangpModel/20240803-040503/train/events.out.tfevents.1722658836.e99d6a3749a3.6949.204.v2': No such file or directory\n",
      "rm: cannot remove '/app/logs/wgangpModel/20240803-040503/train/events.out.tfevents.1722658842.e99d6a3749a3.6949.206.v2': No such file or directory\n",
      "rm: cannot remove '/app/logs/wgangpModel/20240803-040503/train/events.out.tfevents.1722658847.e99d6a3749a3.6949.208.v2': No such file or directory\n",
      "rm: cannot remove '/app/logs/wgangpModel/20240803-040503/train/events.out.tfevents.1722658857.e99d6a3749a3.6949.210.v2': No such file or directory\n",
      "rm: cannot remove '/app/logs/wgangpModel/20240803-040503/train/events.out.tfevents.1722658868.e99d6a3749a3.6949.212.v2': No such file or directory\n",
      "rm: cannot remove '/app/logs/wgangpModel/20240803-040503/train/events.out.tfevents.1722658877.e99d6a3749a3.6949.214.v2': No such file or directory\n",
      "rm: cannot remove '/app/logs/wgangpModel/20240803-040503/train/events.out.tfevents.1722658889.e99d6a3749a3.6949.216.v2': No such file or directory\n",
      "rm: cannot remove '/app/logs/wgangpModel/20240803-040503/train/events.out.tfevents.1722658900.e99d6a3749a3.6949.218.v2': No such file or directory\n",
      "rm: cannot remove '/app/logs/wgangpModel/20240803-040503/train/events.out.tfevents.1722658905.e99d6a3749a3.6949.220.v2': No such file or directory\n",
      "rm: cannot remove '/app/logs/wgangpModel/20240803-040503/train/events.out.tfevents.1722658913.e99d6a3749a3.6949.222.v2': No such file or directory\n",
      "rm: cannot remove '/app/logs/wgangpModel/20240803-040503/train/events.out.tfevents.1722658924.e99d6a3749a3.6949.224.v2': No such file or directory\n",
      "rm: cannot remove '/app/logs/wgangpModel/20240803-040503/train/events.out.tfevents.1722658937.e99d6a3749a3.6949.226.v2': No such file or directory\n",
      "rm: cannot remove '/app/logs/wgangpModel/20240803-040503/train/events.out.tfevents.1722658948.e99d6a3749a3.6949.228.v2': No such file or directory\n",
      "rm: cannot remove '/app/logs/wgangpModel/20240803-040503/train/events.out.tfevents.1722658964.e99d6a3749a3.6949.230.v2': No such file or directory\n",
      "rm: cannot remove '/app/logs/wgangpModel/20240803-040503/train/events.out.tfevents.1722658976.e99d6a3749a3.6949.232.v2': No such file or directory\n",
      "rm: cannot remove '/app/logs/wgangpModel/20240803-040503/train/events.out.tfevents.1722658987.e99d6a3749a3.6949.234.v2': No such file or directory\n",
      "rm: cannot remove '/app/logs/wgangpModel/20240803-040503/train/events.out.tfevents.1722659004.e99d6a3749a3.6949.236.v2': No such file or directory\n",
      "rm: cannot remove '/app/logs/wgangpModel/20240803-040503/train/events.out.tfevents.1722659018.e99d6a3749a3.6949.238.v2': No such file or directory\n",
      "rm: cannot remove '/app/logs/wgangpModel/20240803-040503/train/events.out.tfevents.1722659024.e99d6a3749a3.6949.240.v2': No such file or directory\n",
      "rm: cannot remove '/app/logs/wgangpModel/20240803-040503/train/events.out.tfevents.1722659035.e99d6a3749a3.6949.242.v2': No such file or directory\n",
      "rm: cannot remove '/app/logs/wgangpModel/20240803-040503/train/events.out.tfevents.1722659041.e99d6a3749a3.6949.244.v2': No such file or directory\n",
      "rm: cannot remove '/app/logs/wgangpModel/20240803-040503/train/events.out.tfevents.1722659047.e99d6a3749a3.6949.246.v2': No such file or directory\n",
      "rm: cannot remove '/app/logs/wgangpModel/20240803-040503/train/events.out.tfevents.1722659057.e99d6a3749a3.6949.248.v2': No such file or directory\n",
      "rm: cannot remove '/app/logs/wgangpModel/20240803-040503/train/events.out.tfevents.1722659069.e99d6a3749a3.6949.250.v2': No such file or directory\n",
      "rm: cannot remove '/app/logs/wgangpModel/20240803-040503/train/events.out.tfevents.1722659074.e99d6a3749a3.6949.252.v2': No such file or directory\n",
      "rm: cannot remove '/app/logs/wgangpModel/20240803-040503/train/events.out.tfevents.1722659083.e99d6a3749a3.6949.254.v2': No such file or directory\n",
      "rm: cannot remove '/app/logs/wgangpModel/20240803-040503/train/events.out.tfevents.1722659092.e99d6a3749a3.6949.256.v2': No such file or directory\n",
      "rm: cannot remove '/app/logs/wgangpModel/20240803-040503/train/events.out.tfevents.1722659102.e99d6a3749a3.6949.258.v2': No such file or directory\n",
      "rm: cannot remove '/app/logs/wgangpModel/20240803-040503/train/events.out.tfevents.1722659109.e99d6a3749a3.6949.260.v2': No such file or directory\n",
      "rm: cannot remove '/app/logs/wgangpModel/20240803-040503/train/events.out.tfevents.1722659117.e99d6a3749a3.6949.262.v2': No such file or directory\n",
      "rm: cannot remove '/app/logs/wgangpModel/20240803-040503/train/events.out.tfevents.1722659125.e99d6a3749a3.6949.264.v2': No such file or directory\n",
      "rm: cannot remove '/app/logs/wgangpModel/20240803-040503/train/events.out.tfevents.1722659139.e99d6a3749a3.6949.266.v2': No such file or directory\n",
      "rm: cannot remove '/app/logs/wgangpModel/20240803-040503/train/events.out.tfevents.1722659142.e99d6a3749a3.6949.268.v2': No such file or directory\n",
      "rm: cannot remove '/app/logs/wgangpModel/20240803-040503/train/events.out.tfevents.1722659148.e99d6a3749a3.6949.270.v2': No such file or directory\n",
      "rm: cannot remove '/app/logs/wgangpModel/20240803-040503/train/events.out.tfevents.1722659158.e99d6a3749a3.6949.272.v2': No such file or directory\n",
      "rm: cannot remove '/app/logs/wgangpModel/20240803-040503/train/events.out.tfevents.1722659164.e99d6a3749a3.6949.274.v2': No such file or directory\n",
      "rm: cannot remove '/app/logs/wgangpModel/20240803-040503/train/events.out.tfevents.1722659175.e99d6a3749a3.6949.276.v2': No such file or directory\n",
      "rm: cannot remove '/app/logs/wgangpModel/20240803-040503/train/events.out.tfevents.1722659178.e99d6a3749a3.6949.278.v2': No such file or directory\n",
      "rm: cannot remove '/app/logs/wgangpModel/20240803-040503/train/events.out.tfevents.1722659184.e99d6a3749a3.6949.280.v2': No such file or directory\n",
      "rm: cannot remove '/app/logs/wgangpModel/20240803-040503/train/events.out.tfevents.1722659193.e99d6a3749a3.6949.282.v2': No such file or directory\n",
      "rm: cannot remove '/app/logs/wgangpModel/20240803-040503/train/events.out.tfevents.1722659208.e99d6a3749a3.6949.284.v2': No such file or directory\n",
      "rm: cannot remove '/app/logs/wgangpModel/20240803-040503/train/events.out.tfevents.1722659215.e99d6a3749a3.6949.286.v2': No such file or directory\n",
      "rm: cannot remove '/app/logs/wgangpModel/20240803-040503/validation/events.out.tfevents.1722657919.e99d6a3749a3.6949.1.v2': No such file or directory\n",
      "rm: cannot remove '/app/logs/wgangpModel/20240803-040503/validation/events.out.tfevents.1722657925.e99d6a3749a3.6949.3.v2': No such file or directory\n",
      "rm: cannot remove '/app/logs/wgangpModel/20240803-040503/validation/events.out.tfevents.1722657939.e99d6a3749a3.6949.5.v2': No such file or directory\n",
      "rm: cannot remove '/app/logs/wgangpModel/20240803-040503/validation/events.out.tfevents.1722657944.e99d6a3749a3.6949.7.v2': No such file or directory\n",
      "rm: cannot remove '/app/logs/wgangpModel/20240803-040503/validation/events.out.tfevents.1722657948.e99d6a3749a3.6949.9.v2': No such file or directory\n",
      "rm: cannot remove '/app/logs/wgangpModel/20240803-040503/validation/events.out.tfevents.1722657958.e99d6a3749a3.6949.11.v2': No such file or directory\n",
      "rm: cannot remove '/app/logs/wgangpModel/20240803-040503/validation/events.out.tfevents.1722657967.e99d6a3749a3.6949.13.v2': No such file or directory\n",
      "rm: cannot remove '/app/logs/wgangpModel/20240803-040503/validation/events.out.tfevents.1722657975.e99d6a3749a3.6949.15.v2': No such file or directory\n",
      "rm: cannot remove '/app/logs/wgangpModel/20240803-040503/validation/events.out.tfevents.1722657979.e99d6a3749a3.6949.17.v2': No such file or directory\n",
      "rm: cannot remove '/app/logs/wgangpModel/20240803-040503/validation/events.out.tfevents.1722657988.e99d6a3749a3.6949.19.v2': No such file or directory\n",
      "rm: cannot remove '/app/logs/wgangpModel/20240803-040503/validation/events.out.tfevents.1722657996.e99d6a3749a3.6949.21.v2': No such file or directory\n",
      "rm: cannot remove '/app/logs/wgangpModel/20240803-040503/validation/events.out.tfevents.1722658001.e99d6a3749a3.6949.23.v2': No such file or directory\n",
      "rm: cannot remove '/app/logs/wgangpModel/20240803-040503/validation/events.out.tfevents.1722658014.e99d6a3749a3.6949.25.v2': No such file or directory\n",
      "rm: cannot remove '/app/logs/wgangpModel/20240803-040503/validation/events.out.tfevents.1722658025.e99d6a3749a3.6949.27.v2': No such file or directory\n",
      "rm: cannot remove '/app/logs/wgangpModel/20240803-040503/validation/events.out.tfevents.1722658035.e99d6a3749a3.6949.29.v2': No such file or directory\n",
      "rm: cannot remove '/app/logs/wgangpModel/20240803-040503/validation/events.out.tfevents.1722658043.e99d6a3749a3.6949.31.v2': No such file or directory\n",
      "rm: cannot remove '/app/logs/wgangpModel/20240803-040503/validation/events.out.tfevents.1722658051.e99d6a3749a3.6949.33.v2': No such file or directory\n",
      "rm: cannot remove '/app/logs/wgangpModel/20240803-040503/validation/events.out.tfevents.1722658060.e99d6a3749a3.6949.35.v2': No such file or directory\n",
      "rm: cannot remove '/app/logs/wgangpModel/20240803-040503/validation/events.out.tfevents.1722658068.e99d6a3749a3.6949.37.v2': No such file or directory\n",
      "rm: cannot remove '/app/logs/wgangpModel/20240803-040503/validation/events.out.tfevents.1722658079.e99d6a3749a3.6949.39.v2': No such file or directory\n",
      "rm: cannot remove '/app/logs/wgangpModel/20240803-040503/validation/events.out.tfevents.1722658089.e99d6a3749a3.6949.41.v2': No such file or directory\n",
      "rm: cannot remove '/app/logs/wgangpModel/20240803-040503/validation/events.out.tfevents.1722658096.e99d6a3749a3.6949.43.v2': No such file or directory\n",
      "rm: cannot remove '/app/logs/wgangpModel/20240803-040503/validation/events.out.tfevents.1722658105.e99d6a3749a3.6949.45.v2': No such file or directory\n",
      "rm: cannot remove '/app/logs/wgangpModel/20240803-040503/validation/events.out.tfevents.1722658117.e99d6a3749a3.6949.47.v2': No such file or directory\n",
      "rm: cannot remove '/app/logs/wgangpModel/20240803-040503/validation/events.out.tfevents.1722658121.e99d6a3749a3.6949.49.v2': No such file or directory\n",
      "rm: cannot remove '/app/logs/wgangpModel/20240803-040503/validation/events.out.tfevents.1722658131.e99d6a3749a3.6949.51.v2': No such file or directory\n",
      "rm: cannot remove '/app/logs/wgangpModel/20240803-040503/validation/events.out.tfevents.1722658139.e99d6a3749a3.6949.53.v2': No such file or directory\n",
      "rm: cannot remove '/app/logs/wgangpModel/20240803-040503/validation/events.out.tfevents.1722658151.e99d6a3749a3.6949.55.v2': No such file or directory\n",
      "rm: cannot remove '/app/logs/wgangpModel/20240803-040503/validation/events.out.tfevents.1722658161.e99d6a3749a3.6949.57.v2': No such file or directory\n",
      "rm: cannot remove '/app/logs/wgangpModel/20240803-040503/validation/events.out.tfevents.1722658166.e99d6a3749a3.6949.59.v2': No such file or directory\n",
      "rm: cannot remove '/app/logs/wgangpModel/20240803-040503/validation/events.out.tfevents.1722658176.e99d6a3749a3.6949.61.v2': No such file or directory\n",
      "rm: cannot remove '/app/logs/wgangpModel/20240803-040503/validation/events.out.tfevents.1722658190.e99d6a3749a3.6949.63.v2': No such file or directory\n",
      "rm: cannot remove '/app/logs/wgangpModel/20240803-040503/validation/events.out.tfevents.1722658195.e99d6a3749a3.6949.65.v2': No such file or directory\n",
      "rm: cannot remove '/app/logs/wgangpModel/20240803-040503/validation/events.out.tfevents.1722658205.e99d6a3749a3.6949.67.v2': No such file or directory\n",
      "rm: cannot remove '/app/logs/wgangpModel/20240803-040503/validation/events.out.tfevents.1722658212.e99d6a3749a3.6949.69.v2': No such file or directory\n",
      "rm: cannot remove '/app/logs/wgangpModel/20240803-040503/validation/events.out.tfevents.1722658222.e99d6a3749a3.6949.71.v2': No such file or directory\n",
      "rm: cannot remove '/app/logs/wgangpModel/20240803-040503/validation/events.out.tfevents.1722658229.e99d6a3749a3.6949.73.v2': No such file or directory\n",
      "rm: cannot remove '/app/logs/wgangpModel/20240803-040503/validation/events.out.tfevents.1722658236.e99d6a3749a3.6949.75.v2': No such file or directory\n",
      "rm: cannot remove '/app/logs/wgangpModel/20240803-040503/validation/events.out.tfevents.1722658242.e99d6a3749a3.6949.77.v2': No such file or directory\n",
      "rm: cannot remove '/app/logs/wgangpModel/20240803-040503/validation/events.out.tfevents.1722658256.e99d6a3749a3.6949.79.v2': No such file or directory\n",
      "rm: cannot remove '/app/logs/wgangpModel/20240803-040503/validation/events.out.tfevents.1722658261.e99d6a3749a3.6949.81.v2': No such file or directory\n",
      "rm: cannot remove '/app/logs/wgangpModel/20240803-040503/validation/events.out.tfevents.1722658272.e99d6a3749a3.6949.83.v2': No such file or directory\n",
      "rm: cannot remove '/app/logs/wgangpModel/20240803-040503/validation/events.out.tfevents.1722658284.e99d6a3749a3.6949.85.v2': No such file or directory\n",
      "rm: cannot remove '/app/logs/wgangpModel/20240803-040503/validation/events.out.tfevents.1722658296.e99d6a3749a3.6949.87.v2': No such file or directory\n",
      "rm: cannot remove '/app/logs/wgangpModel/20240803-040503/validation/events.out.tfevents.1722658301.e99d6a3749a3.6949.89.v2': No such file or directory\n",
      "rm: cannot remove '/app/logs/wgangpModel/20240803-040503/validation/events.out.tfevents.1722658312.e99d6a3749a3.6949.91.v2': No such file or directory\n",
      "rm: cannot remove '/app/logs/wgangpModel/20240803-040503/validation/events.out.tfevents.1722658317.e99d6a3749a3.6949.93.v2': No such file or directory\n",
      "rm: cannot remove '/app/logs/wgangpModel/20240803-040503/validation/events.out.tfevents.1722658330.e99d6a3749a3.6949.95.v2': No such file or directory\n",
      "rm: cannot remove '/app/logs/wgangpModel/20240803-040503/validation/events.out.tfevents.1722658336.e99d6a3749a3.6949.97.v2': No such file or directory\n",
      "rm: cannot remove '/app/logs/wgangpModel/20240803-040503/validation/events.out.tfevents.1722658340.e99d6a3749a3.6949.99.v2': No such file or directory\n",
      "rm: cannot remove '/app/logs/wgangpModel/20240803-040503/validation/events.out.tfevents.1722658351.e99d6a3749a3.6949.101.v2': No such file or directory\n",
      "rm: cannot remove '/app/logs/wgangpModel/20240803-040503/validation/events.out.tfevents.1722658360.e99d6a3749a3.6949.103.v2': No such file or directory\n",
      "rm: cannot remove '/app/logs/wgangpModel/20240803-040503/validation/events.out.tfevents.1722658372.e99d6a3749a3.6949.105.v2': No such file or directory\n",
      "rm: cannot remove '/app/logs/wgangpModel/20240803-040503/validation/events.out.tfevents.1722658378.e99d6a3749a3.6949.107.v2': No such file or directory\n",
      "rm: cannot remove '/app/logs/wgangpModel/20240803-040503/validation/events.out.tfevents.1722658383.e99d6a3749a3.6949.109.v2': No such file or directory\n",
      "rm: cannot remove '/app/logs/wgangpModel/20240803-040503/validation/events.out.tfevents.1722658394.e99d6a3749a3.6949.111.v2': No such file or directory\n",
      "rm: cannot remove '/app/logs/wgangpModel/20240803-040503/validation/events.out.tfevents.1722658403.e99d6a3749a3.6949.113.v2': No such file or directory\n",
      "rm: cannot remove '/app/logs/wgangpModel/20240803-040503/validation/events.out.tfevents.1722658413.e99d6a3749a3.6949.115.v2': No such file or directory\n",
      "rm: cannot remove '/app/logs/wgangpModel/20240803-040503/validation/events.out.tfevents.1722658423.e99d6a3749a3.6949.117.v2': No such file or directory\n",
      "rm: cannot remove '/app/logs/wgangpModel/20240803-040503/validation/events.out.tfevents.1722658438.e99d6a3749a3.6949.119.v2': No such file or directory\n",
      "rm: cannot remove '/app/logs/wgangpModel/20240803-040503/validation/events.out.tfevents.1722658442.e99d6a3749a3.6949.121.v2': No such file or directory\n",
      "rm: cannot remove '/app/logs/wgangpModel/20240803-040503/validation/events.out.tfevents.1722658451.e99d6a3749a3.6949.123.v2': No such file or directory\n",
      "rm: cannot remove '/app/logs/wgangpModel/20240803-040503/validation/events.out.tfevents.1722658460.e99d6a3749a3.6949.125.v2': No such file or directory\n",
      "rm: cannot remove '/app/logs/wgangpModel/20240803-040503/validation/events.out.tfevents.1722658471.e99d6a3749a3.6949.127.v2': No such file or directory\n",
      "rm: cannot remove '/app/logs/wgangpModel/20240803-040503/validation/events.out.tfevents.1722658482.e99d6a3749a3.6949.129.v2': No such file or directory\n",
      "rm: cannot remove '/app/logs/wgangpModel/20240803-040503/validation/events.out.tfevents.1722658494.e99d6a3749a3.6949.131.v2': No such file or directory\n",
      "rm: cannot remove '/app/logs/wgangpModel/20240803-040503/validation/events.out.tfevents.1722658505.e99d6a3749a3.6949.133.v2': No such file or directory\n",
      "rm: cannot remove '/app/logs/wgangpModel/20240803-040503/validation/events.out.tfevents.1722658511.e99d6a3749a3.6949.135.v2': No such file or directory\n",
      "rm: cannot remove '/app/logs/wgangpModel/20240803-040503/validation/events.out.tfevents.1722658518.e99d6a3749a3.6949.137.v2': No such file or directory\n",
      "rm: cannot remove '/app/logs/wgangpModel/20240803-040503/validation/events.out.tfevents.1722658528.e99d6a3749a3.6949.139.v2': No such file or directory\n",
      "rm: cannot remove '/app/logs/wgangpModel/20240803-040503/validation/events.out.tfevents.1722658540.e99d6a3749a3.6949.141.v2': No such file or directory\n",
      "rm: cannot remove '/app/logs/wgangpModel/20240803-040503/validation/events.out.tfevents.1722658547.e99d6a3749a3.6949.143.v2': No such file or directory\n",
      "rm: cannot remove '/app/logs/wgangpModel/20240803-040503/validation/events.out.tfevents.1722658559.e99d6a3749a3.6949.145.v2': No such file or directory\n",
      "rm: cannot remove '/app/logs/wgangpModel/20240803-040503/validation/events.out.tfevents.1722658565.e99d6a3749a3.6949.147.v2': No such file or directory\n",
      "rm: cannot remove '/app/logs/wgangpModel/20240803-040503/validation/events.out.tfevents.1722658580.e99d6a3749a3.6949.149.v2': No such file or directory\n",
      "rm: cannot remove '/app/logs/wgangpModel/20240803-040503/validation/events.out.tfevents.1722658592.e99d6a3749a3.6949.151.v2': No such file or directory\n",
      "rm: cannot remove '/app/logs/wgangpModel/20240803-040503/validation/events.out.tfevents.1722658606.e99d6a3749a3.6949.153.v2': No such file or directory\n",
      "rm: cannot remove '/app/logs/wgangpModel/20240803-040503/validation/events.out.tfevents.1722658616.e99d6a3749a3.6949.155.v2': No such file or directory\n",
      "rm: cannot remove '/app/logs/wgangpModel/20240803-040503/validation/events.out.tfevents.1722658629.e99d6a3749a3.6949.157.v2': No such file or directory\n",
      "rm: cannot remove '/app/logs/wgangpModel/20240803-040503/validation/events.out.tfevents.1722658633.e99d6a3749a3.6949.159.v2': No such file or directory\n",
      "rm: cannot remove '/app/logs/wgangpModel/20240803-040503/validation/events.out.tfevents.1722658645.e99d6a3749a3.6949.161.v2': No such file or directory\n",
      "rm: cannot remove '/app/logs/wgangpModel/20240803-040503/validation/events.out.tfevents.1722658652.e99d6a3749a3.6949.163.v2': No such file or directory\n",
      "rm: cannot remove '/app/logs/wgangpModel/20240803-040503/validation/events.out.tfevents.1722658659.e99d6a3749a3.6949.165.v2': No such file or directory\n",
      "rm: cannot remove '/app/logs/wgangpModel/20240803-040503/validation/events.out.tfevents.1722658670.e99d6a3749a3.6949.167.v2': No such file or directory\n",
      "rm: cannot remove '/app/logs/wgangpModel/20240803-040503/validation/events.out.tfevents.1722658678.e99d6a3749a3.6949.169.v2': No such file or directory\n",
      "rm: cannot remove '/app/logs/wgangpModel/20240803-040503/validation/events.out.tfevents.1722658691.e99d6a3749a3.6949.171.v2': No such file or directory\n",
      "rm: cannot remove '/app/logs/wgangpModel/20240803-040503/validation/events.out.tfevents.1722658702.e99d6a3749a3.6949.173.v2': No such file or directory\n",
      "rm: cannot remove '/app/logs/wgangpModel/20240803-040503/validation/events.out.tfevents.1722658716.e99d6a3749a3.6949.175.v2': No such file or directory\n",
      "rm: cannot remove '/app/logs/wgangpModel/20240803-040503/validation/events.out.tfevents.1722658723.e99d6a3749a3.6949.177.v2': No such file or directory\n",
      "rm: cannot remove '/app/logs/wgangpModel/20240803-040503/validation/events.out.tfevents.1722658734.e99d6a3749a3.6949.179.v2': No such file or directory\n",
      "rm: cannot remove '/app/logs/wgangpModel/20240803-040503/validation/events.out.tfevents.1722658739.e99d6a3749a3.6949.181.v2': No such file or directory\n",
      "rm: cannot remove '/app/logs/wgangpModel/20240803-040503/validation/events.out.tfevents.1722658752.e99d6a3749a3.6949.183.v2': No such file or directory\n",
      "rm: cannot remove '/app/logs/wgangpModel/20240803-040503/validation/events.out.tfevents.1722658761.e99d6a3749a3.6949.185.v2': No such file or directory\n",
      "rm: cannot remove '/app/logs/wgangpModel/20240803-040503/validation/events.out.tfevents.1722658771.e99d6a3749a3.6949.187.v2': No such file or directory\n",
      "rm: cannot remove '/app/logs/wgangpModel/20240803-040503/validation/events.out.tfevents.1722658784.e99d6a3749a3.6949.189.v2': No such file or directory\n",
      "rm: cannot remove '/app/logs/wgangpModel/20240803-040503/validation/events.out.tfevents.1722658793.e99d6a3749a3.6949.191.v2': No such file or directory\n",
      "rm: cannot remove '/app/logs/wgangpModel/20240803-040503/validation/events.out.tfevents.1722658796.e99d6a3749a3.6949.193.v2': No such file or directory\n",
      "rm: cannot remove '/app/logs/wgangpModel/20240803-040503/validation/events.out.tfevents.1722658801.e99d6a3749a3.6949.195.v2': No such file or directory\n",
      "rm: cannot remove '/app/logs/wgangpModel/20240803-040503/validation/events.out.tfevents.1722658806.e99d6a3749a3.6949.197.v2': No such file or directory\n",
      "rm: cannot remove '/app/logs/wgangpModel/20240803-040503/validation/events.out.tfevents.1722658818.e99d6a3749a3.6949.199.v2': No such file or directory\n",
      "rm: cannot remove '/app/logs/wgangpModel/20240803-040503/validation/events.out.tfevents.1722658827.e99d6a3749a3.6949.201.v2': No such file or directory\n",
      "rm: cannot remove '/app/logs/wgangpModel/20240803-040503/validation/events.out.tfevents.1722658835.e99d6a3749a3.6949.203.v2': No such file or directory\n",
      "rm: cannot remove '/app/logs/wgangpModel/20240803-040503/validation/events.out.tfevents.1722658841.e99d6a3749a3.6949.205.v2': No such file or directory\n",
      "rm: cannot remove '/app/logs/wgangpModel/20240803-040503/validation/events.out.tfevents.1722658846.e99d6a3749a3.6949.207.v2': No such file or directory\n",
      "rm: cannot remove '/app/logs/wgangpModel/20240803-040503/validation/events.out.tfevents.1722658856.e99d6a3749a3.6949.209.v2': No such file or directory\n",
      "rm: cannot remove '/app/logs/wgangpModel/20240803-040503/validation/events.out.tfevents.1722658867.e99d6a3749a3.6949.211.v2': No such file or directory\n",
      "rm: cannot remove '/app/logs/wgangpModel/20240803-040503/validation/events.out.tfevents.1722658876.e99d6a3749a3.6949.213.v2': No such file or directory\n",
      "rm: cannot remove '/app/logs/wgangpModel/20240803-040503/validation/events.out.tfevents.1722658887.e99d6a3749a3.6949.215.v2': No such file or directory\n",
      "rm: cannot remove '/app/logs/wgangpModel/20240803-040503/validation/events.out.tfevents.1722658899.e99d6a3749a3.6949.217.v2': No such file or directory\n",
      "rm: cannot remove '/app/logs/wgangpModel/20240803-040503/validation/events.out.tfevents.1722658904.e99d6a3749a3.6949.219.v2': No such file or directory\n",
      "rm: cannot remove '/app/logs/wgangpModel/20240803-040503/validation/events.out.tfevents.1722658911.e99d6a3749a3.6949.221.v2': No such file or directory\n",
      "rm: cannot remove '/app/logs/wgangpModel/20240803-040503/validation/events.out.tfevents.1722658919.e99d6a3749a3.6949.223.v2': No such file or directory\n",
      "rm: cannot remove '/app/logs/wgangpModel/20240803-040503/validation/events.out.tfevents.1722658936.e99d6a3749a3.6949.225.v2': No such file or directory\n",
      "rm: cannot remove '/app/logs/wgangpModel/20240803-040503/validation/events.out.tfevents.1722658947.e99d6a3749a3.6949.227.v2': No such file or directory\n",
      "rm: cannot remove '/app/logs/wgangpModel/20240803-040503/validation/events.out.tfevents.1722658963.e99d6a3749a3.6949.229.v2': No such file or directory\n",
      "rm: cannot remove '/app/logs/wgangpModel/20240803-040503/validation/events.out.tfevents.1722658974.e99d6a3749a3.6949.231.v2': No such file or directory\n",
      "rm: cannot remove '/app/logs/wgangpModel/20240803-040503/validation/events.out.tfevents.1722658986.e99d6a3749a3.6949.233.v2': No such file or directory\n",
      "rm: cannot remove '/app/logs/wgangpModel/20240803-040503/validation/events.out.tfevents.1722659003.e99d6a3749a3.6949.235.v2': No such file or directory\n",
      "rm: cannot remove '/app/logs/wgangpModel/20240803-040503/validation/events.out.tfevents.1722659017.e99d6a3749a3.6949.237.v2': No such file or directory\n",
      "rm: cannot remove '/app/logs/wgangpModel/20240803-040503/validation/events.out.tfevents.1722659022.e99d6a3749a3.6949.239.v2': No such file or directory\n",
      "rm: cannot remove '/app/logs/wgangpModel/20240803-040503/validation/events.out.tfevents.1722659034.e99d6a3749a3.6949.241.v2': No such file or directory\n",
      "rm: cannot remove '/app/logs/wgangpModel/20240803-040503/validation/events.out.tfevents.1722659040.e99d6a3749a3.6949.243.v2': No such file or directory\n",
      "rm: cannot remove '/app/logs/wgangpModel/20240803-040503/validation/events.out.tfevents.1722659046.e99d6a3749a3.6949.245.v2': No such file or directory\n",
      "rm: cannot remove '/app/logs/wgangpModel/20240803-040503/validation/events.out.tfevents.1722659056.e99d6a3749a3.6949.247.v2': No such file or directory\n",
      "rm: cannot remove '/app/logs/wgangpModel/20240803-040503/validation/events.out.tfevents.1722659067.e99d6a3749a3.6949.249.v2': No such file or directory\n",
      "rm: cannot remove '/app/logs/wgangpModel/20240803-040503/validation/events.out.tfevents.1722659073.e99d6a3749a3.6949.251.v2': No such file or directory\n",
      "rm: cannot remove '/app/logs/wgangpModel/20240803-040503/validation/events.out.tfevents.1722659082.e99d6a3749a3.6949.253.v2': No such file or directory\n",
      "rm: cannot remove '/app/logs/wgangpModel/20240803-040503/validation/events.out.tfevents.1722659091.e99d6a3749a3.6949.255.v2': No such file or directory\n",
      "rm: cannot remove '/app/logs/wgangpModel/20240803-040503/validation/events.out.tfevents.1722659100.e99d6a3749a3.6949.257.v2': No such file or directory\n",
      "rm: cannot remove '/app/logs/wgangpModel/20240803-040503/validation/events.out.tfevents.1722659107.e99d6a3749a3.6949.259.v2': No such file or directory\n",
      "rm: cannot remove '/app/logs/wgangpModel/20240803-040503/validation/events.out.tfevents.1722659116.e99d6a3749a3.6949.261.v2': No such file or directory\n",
      "rm: cannot remove '/app/logs/wgangpModel/20240803-040503/validation/events.out.tfevents.1722659123.e99d6a3749a3.6949.263.v2': No such file or directory\n",
      "rm: cannot remove '/app/logs/wgangpModel/20240803-040503/validation/events.out.tfevents.1722659138.e99d6a3749a3.6949.265.v2': No such file or directory\n",
      "rm: cannot remove '/app/logs/wgangpModel/20240803-040503/validation/events.out.tfevents.1722659141.e99d6a3749a3.6949.267.v2': No such file or directory\n",
      "rm: cannot remove '/app/logs/wgangpModel/20240803-040503/validation/events.out.tfevents.1722659147.e99d6a3749a3.6949.269.v2': No such file or directory\n",
      "rm: cannot remove '/app/logs/wgangpModel/20240803-040503/validation/events.out.tfevents.1722659157.e99d6a3749a3.6949.271.v2': No such file or directory\n",
      "rm: cannot remove '/app/logs/wgangpModel/20240803-040503/validation/events.out.tfevents.1722659163.e99d6a3749a3.6949.273.v2': No such file or directory\n",
      "rm: cannot remove '/app/logs/wgangpModel/20240803-040503/validation/events.out.tfevents.1722659174.e99d6a3749a3.6949.275.v2': No such file or directory\n",
      "rm: cannot remove '/app/logs/wgangpModel/20240803-040503/validation/events.out.tfevents.1722659177.e99d6a3749a3.6949.277.v2': No such file or directory\n",
      "rm: cannot remove '/app/logs/wgangpModel/20240803-040503/validation/events.out.tfevents.1722659183.e99d6a3749a3.6949.279.v2': No such file or directory\n",
      "rm: cannot remove '/app/logs/wgangpModel/20240803-040503/validation/events.out.tfevents.1722659192.e99d6a3749a3.6949.281.v2': No such file or directory\n",
      "rm: cannot remove '/app/logs/wgangpModel/20240803-040503/validation/events.out.tfevents.1722659207.e99d6a3749a3.6949.283.v2': No such file or directory\n",
      "rm: cannot remove '/app/logs/wgangpModel/20240803-040503/validation/events.out.tfevents.1722659214.e99d6a3749a3.6949.285.v2': No such file or directory\n",
      "rm: cannot remove '/app/logs/wgangpModel/20240803-040503/validation/events.out.tfevents.1722659224.e99d6a3749a3.6949.287.v2': No such file or directory\n",
      "rm: cannot remove '/app/logs/wgangpModel/20240803-044200/train/events.out.tfevents.1722660125.e99d6a3749a3.12127.0.v2': No such file or directory\n",
      "rm: cannot remove '/app/logs/wgangpModel/20240803-044200/train/events.out.tfevents.1722660156.e99d6a3749a3.12127.2.v2': No such file or directory\n",
      "rm: cannot remove '/app/logs/wgangpModel/20240803-044200/train/events.out.tfevents.1722660231.e99d6a3749a3.12127.4.v2': No such file or directory\n",
      "rm: cannot remove '/app/logs/wgangpModel/20240803-044200/train/events.out.tfevents.1722660244.e99d6a3749a3.12127.6.v2': No such file or directory\n",
      "rm: cannot remove '/app/logs/wgangpModel/20240803-044200/train/events.out.tfevents.1722660347.e99d6a3749a3.12127.8.v2': No such file or directory\n",
      "rm: cannot remove '/app/logs/wgangpModel/20240803-044200/train/events.out.tfevents.1722660403.e99d6a3749a3.12127.10.v2': No such file or directory\n",
      "rm: cannot remove '/app/logs/wgangpModel/20240803-044200/train/events.out.tfevents.1722660472.e99d6a3749a3.12127.12.v2': No such file or directory\n",
      "rm: cannot remove '/app/logs/wgangpModel/20240803-044200/train/events.out.tfevents.1722660580.e99d6a3749a3.12127.14.v2': No such file or directory\n",
      "rm: cannot remove '/app/logs/wgangpModel/20240803-044200/train/events.out.tfevents.1722660671.e99d6a3749a3.12127.16.v2': No such file or directory\n",
      "rm: cannot remove '/app/logs/wgangpModel/20240803-044200/train/events.out.tfevents.1722660784.e99d6a3749a3.12127.18.v2': No such file or directory\n",
      "rm: cannot remove '/app/logs/wgangpModel/20240803-044200/train/events.out.tfevents.1722660820.e99d6a3749a3.12127.20.v2': No such file or directory\n",
      "rm: cannot remove '/app/logs/wgangpModel/20240803-044200/train/events.out.tfevents.1722660860.e99d6a3749a3.12127.22.v2': No such file or directory\n",
      "rm: cannot remove '/app/logs/wgangpModel/20240803-044200/train/events.out.tfevents.1722660950.e99d6a3749a3.12127.24.v2': No such file or directory\n",
      "rm: cannot remove '/app/logs/wgangpModel/20240803-044200/train/events.out.tfevents.1722661018.e99d6a3749a3.12127.26.v2': No such file or directory\n",
      "rm: cannot remove '/app/logs/wgangpModel/20240803-044200/train/events.out.tfevents.1722661093.e99d6a3749a3.12127.28.v2': No such file or directory\n",
      "rm: cannot remove '/app/logs/wgangpModel/20240803-044200/train/events.out.tfevents.1722661183.e99d6a3749a3.12127.30.v2': No such file or directory\n",
      "rm: cannot remove '/app/logs/wgangpModel/20240803-044200/train/events.out.tfevents.1722661269.e99d6a3749a3.12127.32.v2': No such file or directory\n",
      "rm: cannot remove '/app/logs/wgangpModel/20240803-044200/train/events.out.tfevents.1722661321.e99d6a3749a3.12127.34.v2': No such file or directory\n",
      "rm: cannot remove '/app/logs/wgangpModel/20240803-044200/train/events.out.tfevents.1722661353.e99d6a3749a3.12127.36.v2': No such file or directory\n",
      "rm: cannot remove '/app/logs/wgangpModel/20240803-044200/train/events.out.tfevents.1722661431.e99d6a3749a3.12127.38.v2': No such file or directory\n",
      "rm: cannot remove '/app/logs/wgangpModel/20240803-044200/train/events.out.tfevents.1722661457.e99d6a3749a3.12127.40.v2': No such file or directory\n",
      "rm: cannot remove '/app/logs/wgangpModel/20240803-044200/train/events.out.tfevents.1722661494.e99d6a3749a3.12127.42.v2': No such file or directory\n",
      "rm: cannot remove '/app/logs/wgangpModel/20240803-044200/validation/events.out.tfevents.1722660133.e99d6a3749a3.12127.1.v2': No such file or directory\n",
      "rm: cannot remove '/app/logs/wgangpModel/20240803-044200/validation/events.out.tfevents.1722660163.e99d6a3749a3.12127.3.v2': No such file or directory\n",
      "rm: cannot remove '/app/logs/wgangpModel/20240803-044200/validation/events.out.tfevents.1722660233.e99d6a3749a3.12127.5.v2': No such file or directory\n",
      "rm: cannot remove '/app/logs/wgangpModel/20240803-044200/validation/events.out.tfevents.1722660254.e99d6a3749a3.12127.7.v2': No such file or directory\n",
      "rm: cannot remove '/app/logs/wgangpModel/20240803-044200/validation/events.out.tfevents.1722660353.e99d6a3749a3.12127.9.v2': No such file or directory\n",
      "rm: cannot remove '/app/logs/wgangpModel/20240803-044200/validation/events.out.tfevents.1722660410.e99d6a3749a3.12127.11.v2': No such file or directory\n",
      "rm: cannot remove '/app/logs/wgangpModel/20240803-044200/validation/events.out.tfevents.1722660482.e99d6a3749a3.12127.13.v2': No such file or directory\n",
      "rm: cannot remove '/app/logs/wgangpModel/20240803-044200/validation/events.out.tfevents.1722660589.e99d6a3749a3.12127.15.v2': No such file or directory\n",
      "rm: cannot remove '/app/logs/wgangpModel/20240803-044200/validation/events.out.tfevents.1722660684.e99d6a3749a3.12127.17.v2': No such file or directory\n",
      "rm: cannot remove '/app/logs/wgangpModel/20240803-044200/validation/events.out.tfevents.1722660788.e99d6a3749a3.12127.19.v2': No such file or directory\n",
      "rm: cannot remove '/app/logs/wgangpModel/20240803-044200/validation/events.out.tfevents.1722660825.e99d6a3749a3.12127.21.v2': No such file or directory\n",
      "rm: cannot remove '/app/logs/wgangpModel/20240803-044200/validation/events.out.tfevents.1722660870.e99d6a3749a3.12127.23.v2': No such file or directory\n",
      "rm: cannot remove '/app/logs/wgangpModel/20240803-044200/validation/events.out.tfevents.1722660960.e99d6a3749a3.12127.25.v2': No such file or directory\n",
      "rm: cannot remove '/app/logs/wgangpModel/20240803-044200/validation/events.out.tfevents.1722661026.e99d6a3749a3.12127.27.v2': No such file or directory\n",
      "rm: cannot remove '/app/logs/wgangpModel/20240803-044200/validation/events.out.tfevents.1722661105.e99d6a3749a3.12127.29.v2': No such file or directory\n",
      "rm: cannot remove '/app/logs/wgangpModel/20240803-044200/validation/events.out.tfevents.1722661192.e99d6a3749a3.12127.31.v2': No such file or directory\n",
      "rm: cannot remove '/app/logs/wgangpModel/20240803-044200/validation/events.out.tfevents.1722661277.e99d6a3749a3.12127.33.v2': No such file or directory\n",
      "rm: cannot remove '/app/logs/wgangpModel/20240803-044200/validation/events.out.tfevents.1722661325.e99d6a3749a3.12127.35.v2': No such file or directory\n",
      "rm: cannot remove '/app/logs/wgangpModel/20240803-044200/validation/events.out.tfevents.1722661361.e99d6a3749a3.12127.37.v2': No such file or directory\n",
      "rm: cannot remove '/app/logs/wgangpModel/20240803-044200/validation/events.out.tfevents.1722661434.e99d6a3749a3.12127.39.v2': No such file or directory\n",
      "rm: cannot remove '/app/logs/wgangpModel/20240803-044200/validation/events.out.tfevents.1722661461.e99d6a3749a3.12127.41.v2': No such file or directory\n",
      "rm: cannot remove '/app/logs/wgangpModel/20240803-044200/validation/events.out.tfevents.1722661505.e99d6a3749a3.12127.43.v2': No such file or directory\n",
      "rm: cannot remove '/app/logs/wgangpModel/20240803-050645/train': Directory not empty\n",
      "rm: cannot remove '/app/logs/wgangpModel/20240803-050645/validation': Directory not empty\n"
     ]
    }
   ],
   "source": [
    "# Clear any logs from previous runs\n",
    "!rm -r /app/logs/"
   ]
  },
  {
   "cell_type": "code",
   "execution_count": 3,
   "metadata": {},
   "outputs": [
    {
     "name": "stderr",
     "output_type": "stream",
     "text": [
      "2024-08-03 08:00:09.526382: I external/local_xla/xla/tsl/cuda/cudart_stub.cc:32] Could not find cuda drivers on your machine, GPU will not be used.\n",
      "2024-08-03 08:00:09.557069: I external/local_xla/xla/tsl/cuda/cudart_stub.cc:32] Could not find cuda drivers on your machine, GPU will not be used.\n",
      "2024-08-03 08:00:09.607673: E external/local_xla/xla/stream_executor/cuda/cuda_fft.cc:485] Unable to register cuFFT factory: Attempting to register factory for plugin cuFFT when one has already been registered\n",
      "2024-08-03 08:00:09.653898: E external/local_xla/xla/stream_executor/cuda/cuda_dnn.cc:8454] Unable to register cuDNN factory: Attempting to register factory for plugin cuDNN when one has already been registered\n",
      "2024-08-03 08:00:09.665266: E external/local_xla/xla/stream_executor/cuda/cuda_blas.cc:1452] Unable to register cuBLAS factory: Attempting to register factory for plugin cuBLAS when one has already been registered\n",
      "2024-08-03 08:00:09.735695: I tensorflow/core/platform/cpu_feature_guard.cc:210] This TensorFlow binary is optimized to use available CPU instructions in performance-critical operations.\n",
      "To enable the following instructions: AVX2 FMA, in other operations, rebuild TensorFlow with the appropriate compiler flags.\n",
      "2024-08-03 08:00:11.228717: W tensorflow/compiler/tf2tensorrt/utils/py_utils.cc:38] TF-TRT Warning: Could not find TensorRT\n"
     ]
    }
   ],
   "source": [
    "import os,shutil,random\n",
    "from sklearn.preprocessing import MinMaxScaler\n",
    "import joblib\n",
    "from IPython.display import clear_output\n",
    "import pandas as pd\n",
    "import h5py\n",
    "import tensorflow as tf\n",
    "from IPython.display import clear_output,display, HTML\n",
    "from sklearn.model_selection import train_test_split\n",
    "import datetime as dt\n",
    "import numpy as np\n",
    "from tensorboard.plugins.hparams import api as hp\n",
    "%load_ext tensorboard"
   ]
  },
  {
   "cell_type": "code",
   "execution_count": 4,
   "metadata": {},
   "outputs": [],
   "source": [
    "#================== initialization ==================\n",
    "currentTM=dt.datetime.now().strftime(\"%Y-%m-%dT%H%M%S\")\n",
    "PROJECT = \"wgangpModel\"\n",
    "LATENT_DIM = 16\n",
    "LR = 1e-4\n",
    "EPOCHS = 10\n",
    "BATCH_SIZE = 32\n",
    "\n",
    "PARQUET_PATH = './data/OptionsEOD_STG.parquet'\n",
    "SCALER_PATH = './data/scaler/scaler.gz'\n",
    "UNIQUE_KEYS = ['QUOTE_DATE','SYMBOL','EXPIRE_DATE']\n",
    "SCALER_COL  = ['UNDERLYING_LAST','STRIKE','STRIKE_DISTANCE','INTRINSIC_VALUE','DTE','TOTAL_VOLUME','C_VEGA','P_VEGA',\t'C_BID',\t'C_ASK', 'C_VOLUME',  'P_BID',\t'P_ASK', 'P_VOLUME' ]\n",
    "MODEL_PATH = \"./models/\"\n",
    "H5_PATH = './data/OptTrainData/'\n",
    "STACK_DATA_SHAPE = np.empty((0,) + (16, len( SCALER_COL)  ) ) \n",
    "\n",
    "WANDB_LOG = True\n",
    "RESUME = False\n",
    "SUMMARY = True\n",
    "log_dir = f\"/app/logs/{PROJECT}/\"+dt.datetime.now().strftime(\"%Y%m%d-%H%M%S\")\n",
    "tensorboard_callback = tf.keras.callbacks.TensorBoard(log_dir=log_dir, histogram_freq=1)\n",
    "Scaler = joblib.load(SCALER_PATH )\n",
    "\n",
    "#DISPLAY = ['map','summary',None]\n",
    "DISPLAY = 'summary'\n"
   ]
  },
  {
   "cell_type": "code",
   "execution_count": 5,
   "metadata": {},
   "outputs": [
    {
     "name": "stderr",
     "output_type": "stream",
     "text": [
      "\u001b[34m\u001b[1mwandb\u001b[0m: Currently logged in as: \u001b[33mwasan-sinlapa\u001b[0m. Use \u001b[1m`wandb login --relogin`\u001b[0m to force relogin\n"
     ]
    },
    {
     "data": {
      "text/html": [
       "Tracking run with wandb version 0.17.5"
      ],
      "text/plain": [
       "<IPython.core.display.HTML object>"
      ]
     },
     "metadata": {},
     "output_type": "display_data"
    },
    {
     "data": {
      "text/html": [
       "Run data is saved locally in <code>/app/workspace/OptionsChainModel/wandb/run-20240803_080015-6j4vncfk</code>"
      ],
      "text/plain": [
       "<IPython.core.display.HTML object>"
      ]
     },
     "metadata": {},
     "output_type": "display_data"
    },
    {
     "data": {
      "text/html": [
       "Syncing run <strong><a href='https://wandb.ai/wasan-sinlapa/wgangpModel/runs/6j4vncfk' target=\"_blank\">2024-08-03T080012</a></strong> to <a href='https://wandb.ai/wasan-sinlapa/wgangpModel' target=\"_blank\">Weights & Biases</a> (<a href='https://wandb.me/run' target=\"_blank\">docs</a>)<br/>"
      ],
      "text/plain": [
       "<IPython.core.display.HTML object>"
      ]
     },
     "metadata": {},
     "output_type": "display_data"
    },
    {
     "data": {
      "text/html": [
       " View project at <a href='https://wandb.ai/wasan-sinlapa/wgangpModel' target=\"_blank\">https://wandb.ai/wasan-sinlapa/wgangpModel</a>"
      ],
      "text/plain": [
       "<IPython.core.display.HTML object>"
      ]
     },
     "metadata": {},
     "output_type": "display_data"
    },
    {
     "data": {
      "text/html": [
       " View run at <a href='https://wandb.ai/wasan-sinlapa/wgangpModel/runs/6j4vncfk' target=\"_blank\">https://wandb.ai/wasan-sinlapa/wgangpModel/runs/6j4vncfk</a>"
      ],
      "text/plain": [
       "<IPython.core.display.HTML object>"
      ]
     },
     "metadata": {},
     "output_type": "display_data"
    }
   ],
   "source": [
    "notes = f\"\"\"\n",
    "test Run use_bias set false , no tranfrom\n",
    "\"\"\"\n",
    "import wandb\n",
    "from wandb.integration.keras import WandbCallback\n",
    "CONFIG = {\n",
    "          \"learning_rate\": LR,\n",
    "          \"epochs\": EPOCHS,\n",
    "          \"batch_size\": BATCH_SIZE,\n",
    "          \"architecture\": \"wgangp\",\n",
    "          \"dataset\": \"OptionsChaine\",\n",
    "          \"generator_dense_units\":[128,64,32],\n",
    "          \"generator_dropout_rate\":0.2,\n",
    "          \"discriminator_dense_units\":[64, 128,256],\n",
    "          \"discriminator_dropout_rate\":0.2,\n",
    "          \"use_bias\":False,\n",
    "          \"use_dropout\":True,\n",
    "          \"use_bn\":True,\n",
    "          \"transform\":True,\n",
    "          \"discriminator_extra_steps\":1\n",
    "           }\n",
    "\n",
    "if WANDB_LOG :\n",
    "    wandb.login()\n",
    "    run = wandb.init(project=PROJECT, \n",
    "                     name=currentTM, \n",
    "                     config=CONFIG,\n",
    "                     notes=notes\n",
    "                    )"
   ]
  },
  {
   "cell_type": "code",
   "execution_count": 6,
   "metadata": {},
   "outputs": [],
   "source": [
    "#====================================================================="
   ]
  },
  {
   "cell_type": "code",
   "execution_count": 7,
   "metadata": {},
   "outputs": [],
   "source": [
    "##['UNDERLYING_LAST','STRIKE','STRIKE_DISTANCE','INTRINSIC_VALUE','DTE','TOTAL_VOLUME','C_VEGA','P_VEGA',\t'C_BID',\t'C_ASK', 'C_VOLUME',  'P_BID',\t'P_ASK', 'P_VOLUME' ]\n",
    "select_x = [i for i,c in  enumerate(SCALER_COL) if c in ['DTE','INTRINSIC_VALUE','C_VEGA','P_VEGA'] ]\n",
    "select_y = [i for i,c in enumerate(SCALER_COL) if c in ['C_BID','C_ASK',  'P_BID',\t'P_ASK'] ]"
   ]
  },
  {
   "cell_type": "code",
   "execution_count": 8,
   "metadata": {},
   "outputs": [],
   "source": [
    "from src.wgangp.model import OptionChainGenerator\n",
    "from src.wgangp.layer import generator, discriminator\n",
    "\n",
    "model = OptionChainGenerator(\n",
    "    discriminator = discriminator(\n",
    "            input_shape= (16,len(select_y) ), \n",
    "            dense_units = CONFIG[\"generator_dense_units\"], \n",
    "            dropout_rate= CONFIG[\"generator_dropout_rate\"],\n",
    "            use_bias=CONFIG[\"use_bias\"],\n",
    "            use_dropout=CONFIG[\"use_dropout\"],\n",
    "            use_bn=CONFIG[\"use_bn\"]\n",
    "           ), \n",
    "    generator = generator(\n",
    "            input_dim = (16,len(select_y) ),\n",
    "            output_dim = (16,len(select_x) ) ,\n",
    "            dense_units = CONFIG[\"discriminator_dense_units\"],\n",
    "            dropout_rate= CONFIG[\"discriminator_dropout_rate\"],\n",
    "            use_bias=CONFIG[\"use_bias\"],\n",
    "            use_dropout=CONFIG[\"use_dropout\"],\n",
    "            use_bn=CONFIG[\"use_bn\"]\n",
    "           ),\n",
    "    discriminator_extra_steps = CONFIG[\"discriminator_extra_steps\"]\n",
    ")\n",
    "\n",
    "\n",
    "model.compile(\n",
    "    d_optimizer = tf.optimizers.Adam(\n",
    "    learning_rate=LR, beta_1=0.5, beta_2=0.9\n",
    "    ),\n",
    "    g_optimizer = tf.optimizers.Adam(\n",
    "    learning_rate=LR, beta_1=0.5, beta_2=0.9\n",
    "    )\n",
    ")"
   ]
  },
  {
   "cell_type": "code",
   "execution_count": 9,
   "metadata": {},
   "outputs": [],
   "source": [
    "################## show model ######################\n",
    "if DISPLAY == 'map' :\n",
    "    from tensorflow.keras.utils import model_to_dot\n",
    "    from IPython.display import SVG, display\n",
    "    \n",
    "    def display_model(model, width=1024, height=512):\n",
    "        dot = model_to_dot(model, show_shapes=True, show_layer_names=True)\n",
    "        svg_data = dot.create(prog='dot', format='svg').decode(\"utf-8\")\n",
    "        svg_html = f'<div style=\"width:{width}px;height:{height}px;\">{svg_data}</div>'\n",
    "        display(HTML(svg_html))"
   ]
  },
  {
   "cell_type": "code",
   "execution_count": 10,
   "metadata": {},
   "outputs": [
    {
     "data": {
      "text/html": [
       "<pre style=\"white-space:pre;overflow-x:auto;line-height:normal;font-family:Menlo,'DejaVu Sans Mono',consolas,'Courier New',monospace\"><span style=\"font-weight: bold\">Model: \"generator\"</span>\n",
       "</pre>\n"
      ],
      "text/plain": [
       "\u001b[1mModel: \"generator\"\u001b[0m\n"
      ]
     },
     "metadata": {},
     "output_type": "display_data"
    },
    {
     "data": {
      "text/html": [
       "<pre style=\"white-space:pre;overflow-x:auto;line-height:normal;font-family:Menlo,'DejaVu Sans Mono',consolas,'Courier New',monospace\">┏━━━━━━━━━━━━━━━━━━━━━┳━━━━━━━━━━━━━━━━━━━┳━━━━━━━━━━━━┳━━━━━━━━━━━━━━━━━━━┓\n",
       "┃<span style=\"font-weight: bold\"> Layer (type)        </span>┃<span style=\"font-weight: bold\"> Output Shape      </span>┃<span style=\"font-weight: bold\">    Param # </span>┃<span style=\"font-weight: bold\"> Connected to      </span>┃\n",
       "┡━━━━━━━━━━━━━━━━━━━━━╇━━━━━━━━━━━━━━━━━━━╇━━━━━━━━━━━━╇━━━━━━━━━━━━━━━━━━━┩\n",
       "│ input_x_data        │ (<span style=\"color: #00af00; text-decoration-color: #00af00\">32</span>, <span style=\"color: #00af00; text-decoration-color: #00af00\">16</span>, <span style=\"color: #00af00; text-decoration-color: #00af00\">4</span>)       │          <span style=\"color: #00af00; text-decoration-color: #00af00\">0</span> │ -                 │\n",
       "│ (<span style=\"color: #0087ff; text-decoration-color: #0087ff\">InputLayer</span>)        │                   │            │                   │\n",
       "├─────────────────────┼───────────────────┼────────────┼───────────────────┤\n",
       "│ reshape (<span style=\"color: #0087ff; text-decoration-color: #0087ff\">Reshape</span>)   │ (<span style=\"color: #00af00; text-decoration-color: #00af00\">32</span>, <span style=\"color: #00af00; text-decoration-color: #00af00\">4</span>, <span style=\"color: #00af00; text-decoration-color: #00af00\">4</span>, <span style=\"color: #00af00; text-decoration-color: #00af00\">4</span>)     │          <span style=\"color: #00af00; text-decoration-color: #00af00\">0</span> │ input_x_data[<span style=\"color: #00af00; text-decoration-color: #00af00\">0</span>][<span style=\"color: #00af00; text-decoration-color: #00af00\">…</span> │\n",
       "├─────────────────────┼───────────────────┼────────────┼───────────────────┤\n",
       "│ Conv2D-64           │ (<span style=\"color: #00af00; text-decoration-color: #00af00\">32</span>, <span style=\"color: #00af00; text-decoration-color: #00af00\">4</span>, <span style=\"color: #00af00; text-decoration-color: #00af00\">4</span>, <span style=\"color: #00af00; text-decoration-color: #00af00\">64</span>)    │      <span style=\"color: #00af00; text-decoration-color: #00af00\">2,304</span> │ reshape[<span style=\"color: #00af00; text-decoration-color: #00af00\">0</span>][<span style=\"color: #00af00; text-decoration-color: #00af00\">0</span>]     │\n",
       "│ (<span style=\"color: #0087ff; text-decoration-color: #0087ff\">Conv2DTranspose</span>)   │                   │            │                   │\n",
       "├─────────────────────┼───────────────────┼────────────┼───────────────────┤\n",
       "│ batch_normalizatio… │ (<span style=\"color: #00af00; text-decoration-color: #00af00\">32</span>, <span style=\"color: #00af00; text-decoration-color: #00af00\">4</span>, <span style=\"color: #00af00; text-decoration-color: #00af00\">4</span>, <span style=\"color: #00af00; text-decoration-color: #00af00\">64</span>)    │        <span style=\"color: #00af00; text-decoration-color: #00af00\">256</span> │ Conv2D-64[<span style=\"color: #00af00; text-decoration-color: #00af00\">0</span>][<span style=\"color: #00af00; text-decoration-color: #00af00\">0</span>]   │\n",
       "│ (<span style=\"color: #0087ff; text-decoration-color: #0087ff\">BatchNormalizatio…</span> │                   │            │                   │\n",
       "├─────────────────────┼───────────────────┼────────────┼───────────────────┤\n",
       "│ leaky_re_lu_1       │ (<span style=\"color: #00af00; text-decoration-color: #00af00\">32</span>, <span style=\"color: #00af00; text-decoration-color: #00af00\">4</span>, <span style=\"color: #00af00; text-decoration-color: #00af00\">4</span>, <span style=\"color: #00af00; text-decoration-color: #00af00\">256</span>)   │          <span style=\"color: #00af00; text-decoration-color: #00af00\">0</span> │ batch_normalizat… │\n",
       "│ (<span style=\"color: #0087ff; text-decoration-color: #0087ff\">LeakyReLU</span>)         │                   │            │ batch_normalizat… │\n",
       "│                     │                   │            │ batch_normalizat… │\n",
       "├─────────────────────┼───────────────────┼────────────┼───────────────────┤\n",
       "│ dropout_4 (<span style=\"color: #0087ff; text-decoration-color: #0087ff\">Dropout</span>) │ (<span style=\"color: #00af00; text-decoration-color: #00af00\">32</span>, <span style=\"color: #00af00; text-decoration-color: #00af00\">4</span>, <span style=\"color: #00af00; text-decoration-color: #00af00\">4</span>, <span style=\"color: #00af00; text-decoration-color: #00af00\">64</span>)    │          <span style=\"color: #00af00; text-decoration-color: #00af00\">0</span> │ leaky_re_lu_1[<span style=\"color: #00af00; text-decoration-color: #00af00\">0</span>]… │\n",
       "├─────────────────────┼───────────────────┼────────────┼───────────────────┤\n",
       "│ Conv2D-128          │ (<span style=\"color: #00af00; text-decoration-color: #00af00\">32</span>, <span style=\"color: #00af00; text-decoration-color: #00af00\">4</span>, <span style=\"color: #00af00; text-decoration-color: #00af00\">4</span>, <span style=\"color: #00af00; text-decoration-color: #00af00\">128</span>)   │     <span style=\"color: #00af00; text-decoration-color: #00af00\">73,728</span> │ dropout_4[<span style=\"color: #00af00; text-decoration-color: #00af00\">0</span>][<span style=\"color: #00af00; text-decoration-color: #00af00\">0</span>]   │\n",
       "│ (<span style=\"color: #0087ff; text-decoration-color: #0087ff\">Conv2DTranspose</span>)   │                   │            │                   │\n",
       "├─────────────────────┼───────────────────┼────────────┼───────────────────┤\n",
       "│ batch_normalizatio… │ (<span style=\"color: #00af00; text-decoration-color: #00af00\">32</span>, <span style=\"color: #00af00; text-decoration-color: #00af00\">4</span>, <span style=\"color: #00af00; text-decoration-color: #00af00\">4</span>, <span style=\"color: #00af00; text-decoration-color: #00af00\">128</span>)   │        <span style=\"color: #00af00; text-decoration-color: #00af00\">512</span> │ Conv2D-128[<span style=\"color: #00af00; text-decoration-color: #00af00\">0</span>][<span style=\"color: #00af00; text-decoration-color: #00af00\">0</span>]  │\n",
       "│ (<span style=\"color: #0087ff; text-decoration-color: #0087ff\">BatchNormalizatio…</span> │                   │            │                   │\n",
       "├─────────────────────┼───────────────────┼────────────┼───────────────────┤\n",
       "│ dropout_5 (<span style=\"color: #0087ff; text-decoration-color: #0087ff\">Dropout</span>) │ (<span style=\"color: #00af00; text-decoration-color: #00af00\">32</span>, <span style=\"color: #00af00; text-decoration-color: #00af00\">4</span>, <span style=\"color: #00af00; text-decoration-color: #00af00\">4</span>, <span style=\"color: #00af00; text-decoration-color: #00af00\">128</span>)   │          <span style=\"color: #00af00; text-decoration-color: #00af00\">0</span> │ leaky_re_lu_1[<span style=\"color: #00af00; text-decoration-color: #00af00\">1</span>]… │\n",
       "├─────────────────────┼───────────────────┼────────────┼───────────────────┤\n",
       "│ Conv2D-256          │ (<span style=\"color: #00af00; text-decoration-color: #00af00\">32</span>, <span style=\"color: #00af00; text-decoration-color: #00af00\">4</span>, <span style=\"color: #00af00; text-decoration-color: #00af00\">4</span>, <span style=\"color: #00af00; text-decoration-color: #00af00\">256</span>)   │    <span style=\"color: #00af00; text-decoration-color: #00af00\">294,912</span> │ dropout_5[<span style=\"color: #00af00; text-decoration-color: #00af00\">0</span>][<span style=\"color: #00af00; text-decoration-color: #00af00\">0</span>]   │\n",
       "│ (<span style=\"color: #0087ff; text-decoration-color: #0087ff\">Conv2DTranspose</span>)   │                   │            │                   │\n",
       "├─────────────────────┼───────────────────┼────────────┼───────────────────┤\n",
       "│ batch_normalizatio… │ (<span style=\"color: #00af00; text-decoration-color: #00af00\">32</span>, <span style=\"color: #00af00; text-decoration-color: #00af00\">4</span>, <span style=\"color: #00af00; text-decoration-color: #00af00\">4</span>, <span style=\"color: #00af00; text-decoration-color: #00af00\">256</span>)   │      <span style=\"color: #00af00; text-decoration-color: #00af00\">1,024</span> │ Conv2D-256[<span style=\"color: #00af00; text-decoration-color: #00af00\">0</span>][<span style=\"color: #00af00; text-decoration-color: #00af00\">0</span>]  │\n",
       "│ (<span style=\"color: #0087ff; text-decoration-color: #0087ff\">BatchNormalizatio…</span> │                   │            │                   │\n",
       "├─────────────────────┼───────────────────┼────────────┼───────────────────┤\n",
       "│ dropout_6 (<span style=\"color: #0087ff; text-decoration-color: #0087ff\">Dropout</span>) │ (<span style=\"color: #00af00; text-decoration-color: #00af00\">32</span>, <span style=\"color: #00af00; text-decoration-color: #00af00\">4</span>, <span style=\"color: #00af00; text-decoration-color: #00af00\">4</span>, <span style=\"color: #00af00; text-decoration-color: #00af00\">256</span>)   │          <span style=\"color: #00af00; text-decoration-color: #00af00\">0</span> │ leaky_re_lu_1[<span style=\"color: #00af00; text-decoration-color: #00af00\">2</span>]… │\n",
       "├─────────────────────┼───────────────────┼────────────┼───────────────────┤\n",
       "│ flatten_2 (<span style=\"color: #0087ff; text-decoration-color: #0087ff\">Flatten</span>) │ (<span style=\"color: #00af00; text-decoration-color: #00af00\">32</span>, <span style=\"color: #00af00; text-decoration-color: #00af00\">4096</span>)        │          <span style=\"color: #00af00; text-decoration-color: #00af00\">0</span> │ dropout_6[<span style=\"color: #00af00; text-decoration-color: #00af00\">0</span>][<span style=\"color: #00af00; text-decoration-color: #00af00\">0</span>]   │\n",
       "├─────────────────────┼───────────────────┼────────────┼───────────────────┤\n",
       "│ dropout_7 (<span style=\"color: #0087ff; text-decoration-color: #0087ff\">Dropout</span>) │ (<span style=\"color: #00af00; text-decoration-color: #00af00\">32</span>, <span style=\"color: #00af00; text-decoration-color: #00af00\">4096</span>)        │          <span style=\"color: #00af00; text-decoration-color: #00af00\">0</span> │ flatten_2[<span style=\"color: #00af00; text-decoration-color: #00af00\">0</span>][<span style=\"color: #00af00; text-decoration-color: #00af00\">0</span>]   │\n",
       "├─────────────────────┼───────────────────┼────────────┼───────────────────┤\n",
       "│ dense (<span style=\"color: #0087ff; text-decoration-color: #0087ff\">Dense</span>)       │ (<span style=\"color: #00af00; text-decoration-color: #00af00\">32</span>, <span style=\"color: #00af00; text-decoration-color: #00af00\">64</span>)          │    <span style=\"color: #00af00; text-decoration-color: #00af00\">262,208</span> │ dropout_7[<span style=\"color: #00af00; text-decoration-color: #00af00\">0</span>][<span style=\"color: #00af00; text-decoration-color: #00af00\">0</span>]   │\n",
       "├─────────────────────┼───────────────────┼────────────┼───────────────────┤\n",
       "│ Reshape-output      │ (<span style=\"color: #00af00; text-decoration-color: #00af00\">32</span>, <span style=\"color: #00af00; text-decoration-color: #00af00\">16</span>, <span style=\"color: #00af00; text-decoration-color: #00af00\">4</span>)       │          <span style=\"color: #00af00; text-decoration-color: #00af00\">0</span> │ dense[<span style=\"color: #00af00; text-decoration-color: #00af00\">0</span>][<span style=\"color: #00af00; text-decoration-color: #00af00\">0</span>]       │\n",
       "│ (<span style=\"color: #0087ff; text-decoration-color: #0087ff\">Reshape</span>)           │                   │            │                   │\n",
       "└─────────────────────┴───────────────────┴────────────┴───────────────────┘\n",
       "</pre>\n"
      ],
      "text/plain": [
       "┏━━━━━━━━━━━━━━━━━━━━━┳━━━━━━━━━━━━━━━━━━━┳━━━━━━━━━━━━┳━━━━━━━━━━━━━━━━━━━┓\n",
       "┃\u001b[1m \u001b[0m\u001b[1mLayer (type)       \u001b[0m\u001b[1m \u001b[0m┃\u001b[1m \u001b[0m\u001b[1mOutput Shape     \u001b[0m\u001b[1m \u001b[0m┃\u001b[1m \u001b[0m\u001b[1m   Param #\u001b[0m\u001b[1m \u001b[0m┃\u001b[1m \u001b[0m\u001b[1mConnected to     \u001b[0m\u001b[1m \u001b[0m┃\n",
       "┡━━━━━━━━━━━━━━━━━━━━━╇━━━━━━━━━━━━━━━━━━━╇━━━━━━━━━━━━╇━━━━━━━━━━━━━━━━━━━┩\n",
       "│ input_x_data        │ (\u001b[38;5;34m32\u001b[0m, \u001b[38;5;34m16\u001b[0m, \u001b[38;5;34m4\u001b[0m)       │          \u001b[38;5;34m0\u001b[0m │ -                 │\n",
       "│ (\u001b[38;5;33mInputLayer\u001b[0m)        │                   │            │                   │\n",
       "├─────────────────────┼───────────────────┼────────────┼───────────────────┤\n",
       "│ reshape (\u001b[38;5;33mReshape\u001b[0m)   │ (\u001b[38;5;34m32\u001b[0m, \u001b[38;5;34m4\u001b[0m, \u001b[38;5;34m4\u001b[0m, \u001b[38;5;34m4\u001b[0m)     │          \u001b[38;5;34m0\u001b[0m │ input_x_data[\u001b[38;5;34m0\u001b[0m][\u001b[38;5;34m…\u001b[0m │\n",
       "├─────────────────────┼───────────────────┼────────────┼───────────────────┤\n",
       "│ Conv2D-64           │ (\u001b[38;5;34m32\u001b[0m, \u001b[38;5;34m4\u001b[0m, \u001b[38;5;34m4\u001b[0m, \u001b[38;5;34m64\u001b[0m)    │      \u001b[38;5;34m2,304\u001b[0m │ reshape[\u001b[38;5;34m0\u001b[0m][\u001b[38;5;34m0\u001b[0m]     │\n",
       "│ (\u001b[38;5;33mConv2DTranspose\u001b[0m)   │                   │            │                   │\n",
       "├─────────────────────┼───────────────────┼────────────┼───────────────────┤\n",
       "│ batch_normalizatio… │ (\u001b[38;5;34m32\u001b[0m, \u001b[38;5;34m4\u001b[0m, \u001b[38;5;34m4\u001b[0m, \u001b[38;5;34m64\u001b[0m)    │        \u001b[38;5;34m256\u001b[0m │ Conv2D-64[\u001b[38;5;34m0\u001b[0m][\u001b[38;5;34m0\u001b[0m]   │\n",
       "│ (\u001b[38;5;33mBatchNormalizatio…\u001b[0m │                   │            │                   │\n",
       "├─────────────────────┼───────────────────┼────────────┼───────────────────┤\n",
       "│ leaky_re_lu_1       │ (\u001b[38;5;34m32\u001b[0m, \u001b[38;5;34m4\u001b[0m, \u001b[38;5;34m4\u001b[0m, \u001b[38;5;34m256\u001b[0m)   │          \u001b[38;5;34m0\u001b[0m │ batch_normalizat… │\n",
       "│ (\u001b[38;5;33mLeakyReLU\u001b[0m)         │                   │            │ batch_normalizat… │\n",
       "│                     │                   │            │ batch_normalizat… │\n",
       "├─────────────────────┼───────────────────┼────────────┼───────────────────┤\n",
       "│ dropout_4 (\u001b[38;5;33mDropout\u001b[0m) │ (\u001b[38;5;34m32\u001b[0m, \u001b[38;5;34m4\u001b[0m, \u001b[38;5;34m4\u001b[0m, \u001b[38;5;34m64\u001b[0m)    │          \u001b[38;5;34m0\u001b[0m │ leaky_re_lu_1[\u001b[38;5;34m0\u001b[0m]… │\n",
       "├─────────────────────┼───────────────────┼────────────┼───────────────────┤\n",
       "│ Conv2D-128          │ (\u001b[38;5;34m32\u001b[0m, \u001b[38;5;34m4\u001b[0m, \u001b[38;5;34m4\u001b[0m, \u001b[38;5;34m128\u001b[0m)   │     \u001b[38;5;34m73,728\u001b[0m │ dropout_4[\u001b[38;5;34m0\u001b[0m][\u001b[38;5;34m0\u001b[0m]   │\n",
       "│ (\u001b[38;5;33mConv2DTranspose\u001b[0m)   │                   │            │                   │\n",
       "├─────────────────────┼───────────────────┼────────────┼───────────────────┤\n",
       "│ batch_normalizatio… │ (\u001b[38;5;34m32\u001b[0m, \u001b[38;5;34m4\u001b[0m, \u001b[38;5;34m4\u001b[0m, \u001b[38;5;34m128\u001b[0m)   │        \u001b[38;5;34m512\u001b[0m │ Conv2D-128[\u001b[38;5;34m0\u001b[0m][\u001b[38;5;34m0\u001b[0m]  │\n",
       "│ (\u001b[38;5;33mBatchNormalizatio…\u001b[0m │                   │            │                   │\n",
       "├─────────────────────┼───────────────────┼────────────┼───────────────────┤\n",
       "│ dropout_5 (\u001b[38;5;33mDropout\u001b[0m) │ (\u001b[38;5;34m32\u001b[0m, \u001b[38;5;34m4\u001b[0m, \u001b[38;5;34m4\u001b[0m, \u001b[38;5;34m128\u001b[0m)   │          \u001b[38;5;34m0\u001b[0m │ leaky_re_lu_1[\u001b[38;5;34m1\u001b[0m]… │\n",
       "├─────────────────────┼───────────────────┼────────────┼───────────────────┤\n",
       "│ Conv2D-256          │ (\u001b[38;5;34m32\u001b[0m, \u001b[38;5;34m4\u001b[0m, \u001b[38;5;34m4\u001b[0m, \u001b[38;5;34m256\u001b[0m)   │    \u001b[38;5;34m294,912\u001b[0m │ dropout_5[\u001b[38;5;34m0\u001b[0m][\u001b[38;5;34m0\u001b[0m]   │\n",
       "│ (\u001b[38;5;33mConv2DTranspose\u001b[0m)   │                   │            │                   │\n",
       "├─────────────────────┼───────────────────┼────────────┼───────────────────┤\n",
       "│ batch_normalizatio… │ (\u001b[38;5;34m32\u001b[0m, \u001b[38;5;34m4\u001b[0m, \u001b[38;5;34m4\u001b[0m, \u001b[38;5;34m256\u001b[0m)   │      \u001b[38;5;34m1,024\u001b[0m │ Conv2D-256[\u001b[38;5;34m0\u001b[0m][\u001b[38;5;34m0\u001b[0m]  │\n",
       "│ (\u001b[38;5;33mBatchNormalizatio…\u001b[0m │                   │            │                   │\n",
       "├─────────────────────┼───────────────────┼────────────┼───────────────────┤\n",
       "│ dropout_6 (\u001b[38;5;33mDropout\u001b[0m) │ (\u001b[38;5;34m32\u001b[0m, \u001b[38;5;34m4\u001b[0m, \u001b[38;5;34m4\u001b[0m, \u001b[38;5;34m256\u001b[0m)   │          \u001b[38;5;34m0\u001b[0m │ leaky_re_lu_1[\u001b[38;5;34m2\u001b[0m]… │\n",
       "├─────────────────────┼───────────────────┼────────────┼───────────────────┤\n",
       "│ flatten_2 (\u001b[38;5;33mFlatten\u001b[0m) │ (\u001b[38;5;34m32\u001b[0m, \u001b[38;5;34m4096\u001b[0m)        │          \u001b[38;5;34m0\u001b[0m │ dropout_6[\u001b[38;5;34m0\u001b[0m][\u001b[38;5;34m0\u001b[0m]   │\n",
       "├─────────────────────┼───────────────────┼────────────┼───────────────────┤\n",
       "│ dropout_7 (\u001b[38;5;33mDropout\u001b[0m) │ (\u001b[38;5;34m32\u001b[0m, \u001b[38;5;34m4096\u001b[0m)        │          \u001b[38;5;34m0\u001b[0m │ flatten_2[\u001b[38;5;34m0\u001b[0m][\u001b[38;5;34m0\u001b[0m]   │\n",
       "├─────────────────────┼───────────────────┼────────────┼───────────────────┤\n",
       "│ dense (\u001b[38;5;33mDense\u001b[0m)       │ (\u001b[38;5;34m32\u001b[0m, \u001b[38;5;34m64\u001b[0m)          │    \u001b[38;5;34m262,208\u001b[0m │ dropout_7[\u001b[38;5;34m0\u001b[0m][\u001b[38;5;34m0\u001b[0m]   │\n",
       "├─────────────────────┼───────────────────┼────────────┼───────────────────┤\n",
       "│ Reshape-output      │ (\u001b[38;5;34m32\u001b[0m, \u001b[38;5;34m16\u001b[0m, \u001b[38;5;34m4\u001b[0m)       │          \u001b[38;5;34m0\u001b[0m │ dense[\u001b[38;5;34m0\u001b[0m][\u001b[38;5;34m0\u001b[0m]       │\n",
       "│ (\u001b[38;5;33mReshape\u001b[0m)           │                   │            │                   │\n",
       "└─────────────────────┴───────────────────┴────────────┴───────────────────┘\n"
      ]
     },
     "metadata": {},
     "output_type": "display_data"
    },
    {
     "data": {
      "text/html": [
       "<pre style=\"white-space:pre;overflow-x:auto;line-height:normal;font-family:Menlo,'DejaVu Sans Mono',consolas,'Courier New',monospace\"><span style=\"font-weight: bold\"> Total params: </span><span style=\"color: #00af00; text-decoration-color: #00af00\">634,944</span> (2.42 MB)\n",
       "</pre>\n"
      ],
      "text/plain": [
       "\u001b[1m Total params: \u001b[0m\u001b[38;5;34m634,944\u001b[0m (2.42 MB)\n"
      ]
     },
     "metadata": {},
     "output_type": "display_data"
    },
    {
     "data": {
      "text/html": [
       "<pre style=\"white-space:pre;overflow-x:auto;line-height:normal;font-family:Menlo,'DejaVu Sans Mono',consolas,'Courier New',monospace\"><span style=\"font-weight: bold\"> Trainable params: </span><span style=\"color: #00af00; text-decoration-color: #00af00\">634,048</span> (2.42 MB)\n",
       "</pre>\n"
      ],
      "text/plain": [
       "\u001b[1m Trainable params: \u001b[0m\u001b[38;5;34m634,048\u001b[0m (2.42 MB)\n"
      ]
     },
     "metadata": {},
     "output_type": "display_data"
    },
    {
     "data": {
      "text/html": [
       "<pre style=\"white-space:pre;overflow-x:auto;line-height:normal;font-family:Menlo,'DejaVu Sans Mono',consolas,'Courier New',monospace\"><span style=\"font-weight: bold\"> Non-trainable params: </span><span style=\"color: #00af00; text-decoration-color: #00af00\">896</span> (3.50 KB)\n",
       "</pre>\n"
      ],
      "text/plain": [
       "\u001b[1m Non-trainable params: \u001b[0m\u001b[38;5;34m896\u001b[0m (3.50 KB)\n"
      ]
     },
     "metadata": {},
     "output_type": "display_data"
    }
   ],
   "source": [
    "## Example usage:\n",
    "## Display the generator model with reduced size\n",
    "if DISPLAY == 'map' :\n",
    "    display_model(model.generator, width=1024, height=512)\n",
    "if DISPLAY == 'summary' :\n",
    "    model.generator.summary()"
   ]
  },
  {
   "cell_type": "code",
   "execution_count": 11,
   "metadata": {},
   "outputs": [
    {
     "data": {
      "text/html": [
       "<pre style=\"white-space:pre;overflow-x:auto;line-height:normal;font-family:Menlo,'DejaVu Sans Mono',consolas,'Courier New',monospace\"><span style=\"font-weight: bold\">Model: \"discriminator\"</span>\n",
       "</pre>\n"
      ],
      "text/plain": [
       "\u001b[1mModel: \"discriminator\"\u001b[0m\n"
      ]
     },
     "metadata": {},
     "output_type": "display_data"
    },
    {
     "data": {
      "text/html": [
       "<pre style=\"white-space:pre;overflow-x:auto;line-height:normal;font-family:Menlo,'DejaVu Sans Mono',consolas,'Courier New',monospace\">┏━━━━━━━━━━━━━━━━━━━━━┳━━━━━━━━━━━━━━━━━━━┳━━━━━━━━━━━━┳━━━━━━━━━━━━━━━━━━━┓\n",
       "┃<span style=\"font-weight: bold\"> Layer (type)        </span>┃<span style=\"font-weight: bold\"> Output Shape      </span>┃<span style=\"font-weight: bold\">    Param # </span>┃<span style=\"font-weight: bold\"> Connected to      </span>┃\n",
       "┡━━━━━━━━━━━━━━━━━━━━━╇━━━━━━━━━━━━━━━━━━━╇━━━━━━━━━━━━╇━━━━━━━━━━━━━━━━━━━┩\n",
       "│ input_y_data        │ (<span style=\"color: #00af00; text-decoration-color: #00af00\">32</span>, <span style=\"color: #00af00; text-decoration-color: #00af00\">16</span>, <span style=\"color: #00af00; text-decoration-color: #00af00\">4</span>)       │          <span style=\"color: #00af00; text-decoration-color: #00af00\">0</span> │ -                 │\n",
       "│ (<span style=\"color: #0087ff; text-decoration-color: #0087ff\">InputLayer</span>)        │                   │            │                   │\n",
       "├─────────────────────┼───────────────────┼────────────┼───────────────────┤\n",
       "│ lambda (<span style=\"color: #0087ff; text-decoration-color: #0087ff\">Lambda</span>)     │ (<span style=\"color: #00af00; text-decoration-color: #00af00\">32</span>, <span style=\"color: #00af00; text-decoration-color: #00af00\">16</span>, <span style=\"color: #00af00; text-decoration-color: #00af00\">4</span>, <span style=\"color: #00af00; text-decoration-color: #00af00\">1</span>)    │          <span style=\"color: #00af00; text-decoration-color: #00af00\">0</span> │ input_y_data[<span style=\"color: #00af00; text-decoration-color: #00af00\">0</span>][<span style=\"color: #00af00; text-decoration-color: #00af00\">…</span> │\n",
       "├─────────────────────┼───────────────────┼────────────┼───────────────────┤\n",
       "│ zero_padding2d      │ (<span style=\"color: #00af00; text-decoration-color: #00af00\">32</span>, <span style=\"color: #00af00; text-decoration-color: #00af00\">20</span>, <span style=\"color: #00af00; text-decoration-color: #00af00\">8</span>, <span style=\"color: #00af00; text-decoration-color: #00af00\">1</span>)    │          <span style=\"color: #00af00; text-decoration-color: #00af00\">0</span> │ lambda[<span style=\"color: #00af00; text-decoration-color: #00af00\">0</span>][<span style=\"color: #00af00; text-decoration-color: #00af00\">0</span>]      │\n",
       "│ (<span style=\"color: #0087ff; text-decoration-color: #0087ff\">ZeroPadding2D</span>)     │                   │            │                   │\n",
       "├─────────────────────┼───────────────────┼────────────┼───────────────────┤\n",
       "│ conv2d (<span style=\"color: #0087ff; text-decoration-color: #0087ff\">Conv2D</span>)     │ (<span style=\"color: #00af00; text-decoration-color: #00af00\">32</span>, <span style=\"color: #00af00; text-decoration-color: #00af00\">20</span>, <span style=\"color: #00af00; text-decoration-color: #00af00\">8</span>, <span style=\"color: #00af00; text-decoration-color: #00af00\">128</span>)  │      <span style=\"color: #00af00; text-decoration-color: #00af00\">1,152</span> │ zero_padding2d[<span style=\"color: #00af00; text-decoration-color: #00af00\">0</span>… │\n",
       "├─────────────────────┼───────────────────┼────────────┼───────────────────┤\n",
       "│ batch_normalization │ (<span style=\"color: #00af00; text-decoration-color: #00af00\">32</span>, <span style=\"color: #00af00; text-decoration-color: #00af00\">20</span>, <span style=\"color: #00af00; text-decoration-color: #00af00\">8</span>, <span style=\"color: #00af00; text-decoration-color: #00af00\">128</span>)  │        <span style=\"color: #00af00; text-decoration-color: #00af00\">512</span> │ conv2d[<span style=\"color: #00af00; text-decoration-color: #00af00\">0</span>][<span style=\"color: #00af00; text-decoration-color: #00af00\">0</span>]      │\n",
       "│ (<span style=\"color: #0087ff; text-decoration-color: #0087ff\">BatchNormalizatio…</span> │                   │            │                   │\n",
       "├─────────────────────┼───────────────────┼────────────┼───────────────────┤\n",
       "│ leaky_re_lu         │ (<span style=\"color: #00af00; text-decoration-color: #00af00\">32</span>, <span style=\"color: #00af00; text-decoration-color: #00af00\">20</span>, <span style=\"color: #00af00; text-decoration-color: #00af00\">8</span>, <span style=\"color: #00af00; text-decoration-color: #00af00\">32</span>)   │          <span style=\"color: #00af00; text-decoration-color: #00af00\">0</span> │ batch_normalizat… │\n",
       "│ (<span style=\"color: #0087ff; text-decoration-color: #0087ff\">LeakyReLU</span>)         │                   │            │ batch_normalizat… │\n",
       "│                     │                   │            │ batch_normalizat… │\n",
       "├─────────────────────┼───────────────────┼────────────┼───────────────────┤\n",
       "│ dropout (<span style=\"color: #0087ff; text-decoration-color: #0087ff\">Dropout</span>)   │ (<span style=\"color: #00af00; text-decoration-color: #00af00\">32</span>, <span style=\"color: #00af00; text-decoration-color: #00af00\">20</span>, <span style=\"color: #00af00; text-decoration-color: #00af00\">8</span>, <span style=\"color: #00af00; text-decoration-color: #00af00\">128</span>)  │          <span style=\"color: #00af00; text-decoration-color: #00af00\">0</span> │ leaky_re_lu[<span style=\"color: #00af00; text-decoration-color: #00af00\">0</span>][<span style=\"color: #00af00; text-decoration-color: #00af00\">0</span>] │\n",
       "├─────────────────────┼───────────────────┼────────────┼───────────────────┤\n",
       "│ conv2d_1 (<span style=\"color: #0087ff; text-decoration-color: #0087ff\">Conv2D</span>)   │ (<span style=\"color: #00af00; text-decoration-color: #00af00\">32</span>, <span style=\"color: #00af00; text-decoration-color: #00af00\">20</span>, <span style=\"color: #00af00; text-decoration-color: #00af00\">8</span>, <span style=\"color: #00af00; text-decoration-color: #00af00\">64</span>)   │     <span style=\"color: #00af00; text-decoration-color: #00af00\">73,728</span> │ dropout[<span style=\"color: #00af00; text-decoration-color: #00af00\">0</span>][<span style=\"color: #00af00; text-decoration-color: #00af00\">0</span>]     │\n",
       "├─────────────────────┼───────────────────┼────────────┼───────────────────┤\n",
       "│ batch_normalizatio… │ (<span style=\"color: #00af00; text-decoration-color: #00af00\">32</span>, <span style=\"color: #00af00; text-decoration-color: #00af00\">20</span>, <span style=\"color: #00af00; text-decoration-color: #00af00\">8</span>, <span style=\"color: #00af00; text-decoration-color: #00af00\">64</span>)   │        <span style=\"color: #00af00; text-decoration-color: #00af00\">256</span> │ conv2d_1[<span style=\"color: #00af00; text-decoration-color: #00af00\">0</span>][<span style=\"color: #00af00; text-decoration-color: #00af00\">0</span>]    │\n",
       "│ (<span style=\"color: #0087ff; text-decoration-color: #0087ff\">BatchNormalizatio…</span> │                   │            │                   │\n",
       "├─────────────────────┼───────────────────┼────────────┼───────────────────┤\n",
       "│ dropout_1 (<span style=\"color: #0087ff; text-decoration-color: #0087ff\">Dropout</span>) │ (<span style=\"color: #00af00; text-decoration-color: #00af00\">32</span>, <span style=\"color: #00af00; text-decoration-color: #00af00\">20</span>, <span style=\"color: #00af00; text-decoration-color: #00af00\">8</span>, <span style=\"color: #00af00; text-decoration-color: #00af00\">64</span>)   │          <span style=\"color: #00af00; text-decoration-color: #00af00\">0</span> │ leaky_re_lu[<span style=\"color: #00af00; text-decoration-color: #00af00\">1</span>][<span style=\"color: #00af00; text-decoration-color: #00af00\">0</span>] │\n",
       "├─────────────────────┼───────────────────┼────────────┼───────────────────┤\n",
       "│ conv2d_2 (<span style=\"color: #0087ff; text-decoration-color: #0087ff\">Conv2D</span>)   │ (<span style=\"color: #00af00; text-decoration-color: #00af00\">32</span>, <span style=\"color: #00af00; text-decoration-color: #00af00\">20</span>, <span style=\"color: #00af00; text-decoration-color: #00af00\">8</span>, <span style=\"color: #00af00; text-decoration-color: #00af00\">32</span>)   │     <span style=\"color: #00af00; text-decoration-color: #00af00\">18,432</span> │ dropout_1[<span style=\"color: #00af00; text-decoration-color: #00af00\">0</span>][<span style=\"color: #00af00; text-decoration-color: #00af00\">0</span>]   │\n",
       "├─────────────────────┼───────────────────┼────────────┼───────────────────┤\n",
       "│ batch_normalizatio… │ (<span style=\"color: #00af00; text-decoration-color: #00af00\">32</span>, <span style=\"color: #00af00; text-decoration-color: #00af00\">20</span>, <span style=\"color: #00af00; text-decoration-color: #00af00\">8</span>, <span style=\"color: #00af00; text-decoration-color: #00af00\">32</span>)   │        <span style=\"color: #00af00; text-decoration-color: #00af00\">128</span> │ conv2d_2[<span style=\"color: #00af00; text-decoration-color: #00af00\">0</span>][<span style=\"color: #00af00; text-decoration-color: #00af00\">0</span>]    │\n",
       "│ (<span style=\"color: #0087ff; text-decoration-color: #0087ff\">BatchNormalizatio…</span> │                   │            │                   │\n",
       "├─────────────────────┼───────────────────┼────────────┼───────────────────┤\n",
       "│ dropout_2 (<span style=\"color: #0087ff; text-decoration-color: #0087ff\">Dropout</span>) │ (<span style=\"color: #00af00; text-decoration-color: #00af00\">32</span>, <span style=\"color: #00af00; text-decoration-color: #00af00\">20</span>, <span style=\"color: #00af00; text-decoration-color: #00af00\">8</span>, <span style=\"color: #00af00; text-decoration-color: #00af00\">32</span>)   │          <span style=\"color: #00af00; text-decoration-color: #00af00\">0</span> │ leaky_re_lu[<span style=\"color: #00af00; text-decoration-color: #00af00\">2</span>][<span style=\"color: #00af00; text-decoration-color: #00af00\">0</span>] │\n",
       "├─────────────────────┼───────────────────┼────────────┼───────────────────┤\n",
       "│ flatten (<span style=\"color: #0087ff; text-decoration-color: #0087ff\">Flatten</span>)   │ (<span style=\"color: #00af00; text-decoration-color: #00af00\">32</span>, <span style=\"color: #00af00; text-decoration-color: #00af00\">5120</span>)        │          <span style=\"color: #00af00; text-decoration-color: #00af00\">0</span> │ dropout_2[<span style=\"color: #00af00; text-decoration-color: #00af00\">0</span>][<span style=\"color: #00af00; text-decoration-color: #00af00\">0</span>]   │\n",
       "├─────────────────────┼───────────────────┼────────────┼───────────────────┤\n",
       "│ dropout_3 (<span style=\"color: #0087ff; text-decoration-color: #0087ff\">Dropout</span>) │ (<span style=\"color: #00af00; text-decoration-color: #00af00\">32</span>, <span style=\"color: #00af00; text-decoration-color: #00af00\">5120</span>)        │          <span style=\"color: #00af00; text-decoration-color: #00af00\">0</span> │ flatten[<span style=\"color: #00af00; text-decoration-color: #00af00\">0</span>][<span style=\"color: #00af00; text-decoration-color: #00af00\">0</span>]     │\n",
       "├─────────────────────┼───────────────────┼────────────┼───────────────────┤\n",
       "│ Conv2D-logic        │ (<span style=\"color: #00af00; text-decoration-color: #00af00\">32</span>, <span style=\"color: #00af00; text-decoration-color: #00af00\">1</span>)           │      <span style=\"color: #00af00; text-decoration-color: #00af00\">5,121</span> │ dropout_3[<span style=\"color: #00af00; text-decoration-color: #00af00\">0</span>][<span style=\"color: #00af00; text-decoration-color: #00af00\">0</span>]   │\n",
       "│ (<span style=\"color: #0087ff; text-decoration-color: #0087ff\">Dense</span>)             │                   │            │                   │\n",
       "└─────────────────────┴───────────────────┴────────────┴───────────────────┘\n",
       "</pre>\n"
      ],
      "text/plain": [
       "┏━━━━━━━━━━━━━━━━━━━━━┳━━━━━━━━━━━━━━━━━━━┳━━━━━━━━━━━━┳━━━━━━━━━━━━━━━━━━━┓\n",
       "┃\u001b[1m \u001b[0m\u001b[1mLayer (type)       \u001b[0m\u001b[1m \u001b[0m┃\u001b[1m \u001b[0m\u001b[1mOutput Shape     \u001b[0m\u001b[1m \u001b[0m┃\u001b[1m \u001b[0m\u001b[1m   Param #\u001b[0m\u001b[1m \u001b[0m┃\u001b[1m \u001b[0m\u001b[1mConnected to     \u001b[0m\u001b[1m \u001b[0m┃\n",
       "┡━━━━━━━━━━━━━━━━━━━━━╇━━━━━━━━━━━━━━━━━━━╇━━━━━━━━━━━━╇━━━━━━━━━━━━━━━━━━━┩\n",
       "│ input_y_data        │ (\u001b[38;5;34m32\u001b[0m, \u001b[38;5;34m16\u001b[0m, \u001b[38;5;34m4\u001b[0m)       │          \u001b[38;5;34m0\u001b[0m │ -                 │\n",
       "│ (\u001b[38;5;33mInputLayer\u001b[0m)        │                   │            │                   │\n",
       "├─────────────────────┼───────────────────┼────────────┼───────────────────┤\n",
       "│ lambda (\u001b[38;5;33mLambda\u001b[0m)     │ (\u001b[38;5;34m32\u001b[0m, \u001b[38;5;34m16\u001b[0m, \u001b[38;5;34m4\u001b[0m, \u001b[38;5;34m1\u001b[0m)    │          \u001b[38;5;34m0\u001b[0m │ input_y_data[\u001b[38;5;34m0\u001b[0m][\u001b[38;5;34m…\u001b[0m │\n",
       "├─────────────────────┼───────────────────┼────────────┼───────────────────┤\n",
       "│ zero_padding2d      │ (\u001b[38;5;34m32\u001b[0m, \u001b[38;5;34m20\u001b[0m, \u001b[38;5;34m8\u001b[0m, \u001b[38;5;34m1\u001b[0m)    │          \u001b[38;5;34m0\u001b[0m │ lambda[\u001b[38;5;34m0\u001b[0m][\u001b[38;5;34m0\u001b[0m]      │\n",
       "│ (\u001b[38;5;33mZeroPadding2D\u001b[0m)     │                   │            │                   │\n",
       "├─────────────────────┼───────────────────┼────────────┼───────────────────┤\n",
       "│ conv2d (\u001b[38;5;33mConv2D\u001b[0m)     │ (\u001b[38;5;34m32\u001b[0m, \u001b[38;5;34m20\u001b[0m, \u001b[38;5;34m8\u001b[0m, \u001b[38;5;34m128\u001b[0m)  │      \u001b[38;5;34m1,152\u001b[0m │ zero_padding2d[\u001b[38;5;34m0\u001b[0m… │\n",
       "├─────────────────────┼───────────────────┼────────────┼───────────────────┤\n",
       "│ batch_normalization │ (\u001b[38;5;34m32\u001b[0m, \u001b[38;5;34m20\u001b[0m, \u001b[38;5;34m8\u001b[0m, \u001b[38;5;34m128\u001b[0m)  │        \u001b[38;5;34m512\u001b[0m │ conv2d[\u001b[38;5;34m0\u001b[0m][\u001b[38;5;34m0\u001b[0m]      │\n",
       "│ (\u001b[38;5;33mBatchNormalizatio…\u001b[0m │                   │            │                   │\n",
       "├─────────────────────┼───────────────────┼────────────┼───────────────────┤\n",
       "│ leaky_re_lu         │ (\u001b[38;5;34m32\u001b[0m, \u001b[38;5;34m20\u001b[0m, \u001b[38;5;34m8\u001b[0m, \u001b[38;5;34m32\u001b[0m)   │          \u001b[38;5;34m0\u001b[0m │ batch_normalizat… │\n",
       "│ (\u001b[38;5;33mLeakyReLU\u001b[0m)         │                   │            │ batch_normalizat… │\n",
       "│                     │                   │            │ batch_normalizat… │\n",
       "├─────────────────────┼───────────────────┼────────────┼───────────────────┤\n",
       "│ dropout (\u001b[38;5;33mDropout\u001b[0m)   │ (\u001b[38;5;34m32\u001b[0m, \u001b[38;5;34m20\u001b[0m, \u001b[38;5;34m8\u001b[0m, \u001b[38;5;34m128\u001b[0m)  │          \u001b[38;5;34m0\u001b[0m │ leaky_re_lu[\u001b[38;5;34m0\u001b[0m][\u001b[38;5;34m0\u001b[0m] │\n",
       "├─────────────────────┼───────────────────┼────────────┼───────────────────┤\n",
       "│ conv2d_1 (\u001b[38;5;33mConv2D\u001b[0m)   │ (\u001b[38;5;34m32\u001b[0m, \u001b[38;5;34m20\u001b[0m, \u001b[38;5;34m8\u001b[0m, \u001b[38;5;34m64\u001b[0m)   │     \u001b[38;5;34m73,728\u001b[0m │ dropout[\u001b[38;5;34m0\u001b[0m][\u001b[38;5;34m0\u001b[0m]     │\n",
       "├─────────────────────┼───────────────────┼────────────┼───────────────────┤\n",
       "│ batch_normalizatio… │ (\u001b[38;5;34m32\u001b[0m, \u001b[38;5;34m20\u001b[0m, \u001b[38;5;34m8\u001b[0m, \u001b[38;5;34m64\u001b[0m)   │        \u001b[38;5;34m256\u001b[0m │ conv2d_1[\u001b[38;5;34m0\u001b[0m][\u001b[38;5;34m0\u001b[0m]    │\n",
       "│ (\u001b[38;5;33mBatchNormalizatio…\u001b[0m │                   │            │                   │\n",
       "├─────────────────────┼───────────────────┼────────────┼───────────────────┤\n",
       "│ dropout_1 (\u001b[38;5;33mDropout\u001b[0m) │ (\u001b[38;5;34m32\u001b[0m, \u001b[38;5;34m20\u001b[0m, \u001b[38;5;34m8\u001b[0m, \u001b[38;5;34m64\u001b[0m)   │          \u001b[38;5;34m0\u001b[0m │ leaky_re_lu[\u001b[38;5;34m1\u001b[0m][\u001b[38;5;34m0\u001b[0m] │\n",
       "├─────────────────────┼───────────────────┼────────────┼───────────────────┤\n",
       "│ conv2d_2 (\u001b[38;5;33mConv2D\u001b[0m)   │ (\u001b[38;5;34m32\u001b[0m, \u001b[38;5;34m20\u001b[0m, \u001b[38;5;34m8\u001b[0m, \u001b[38;5;34m32\u001b[0m)   │     \u001b[38;5;34m18,432\u001b[0m │ dropout_1[\u001b[38;5;34m0\u001b[0m][\u001b[38;5;34m0\u001b[0m]   │\n",
       "├─────────────────────┼───────────────────┼────────────┼───────────────────┤\n",
       "│ batch_normalizatio… │ (\u001b[38;5;34m32\u001b[0m, \u001b[38;5;34m20\u001b[0m, \u001b[38;5;34m8\u001b[0m, \u001b[38;5;34m32\u001b[0m)   │        \u001b[38;5;34m128\u001b[0m │ conv2d_2[\u001b[38;5;34m0\u001b[0m][\u001b[38;5;34m0\u001b[0m]    │\n",
       "│ (\u001b[38;5;33mBatchNormalizatio…\u001b[0m │                   │            │                   │\n",
       "├─────────────────────┼───────────────────┼────────────┼───────────────────┤\n",
       "│ dropout_2 (\u001b[38;5;33mDropout\u001b[0m) │ (\u001b[38;5;34m32\u001b[0m, \u001b[38;5;34m20\u001b[0m, \u001b[38;5;34m8\u001b[0m, \u001b[38;5;34m32\u001b[0m)   │          \u001b[38;5;34m0\u001b[0m │ leaky_re_lu[\u001b[38;5;34m2\u001b[0m][\u001b[38;5;34m0\u001b[0m] │\n",
       "├─────────────────────┼───────────────────┼────────────┼───────────────────┤\n",
       "│ flatten (\u001b[38;5;33mFlatten\u001b[0m)   │ (\u001b[38;5;34m32\u001b[0m, \u001b[38;5;34m5120\u001b[0m)        │          \u001b[38;5;34m0\u001b[0m │ dropout_2[\u001b[38;5;34m0\u001b[0m][\u001b[38;5;34m0\u001b[0m]   │\n",
       "├─────────────────────┼───────────────────┼────────────┼───────────────────┤\n",
       "│ dropout_3 (\u001b[38;5;33mDropout\u001b[0m) │ (\u001b[38;5;34m32\u001b[0m, \u001b[38;5;34m5120\u001b[0m)        │          \u001b[38;5;34m0\u001b[0m │ flatten[\u001b[38;5;34m0\u001b[0m][\u001b[38;5;34m0\u001b[0m]     │\n",
       "├─────────────────────┼───────────────────┼────────────┼───────────────────┤\n",
       "│ Conv2D-logic        │ (\u001b[38;5;34m32\u001b[0m, \u001b[38;5;34m1\u001b[0m)           │      \u001b[38;5;34m5,121\u001b[0m │ dropout_3[\u001b[38;5;34m0\u001b[0m][\u001b[38;5;34m0\u001b[0m]   │\n",
       "│ (\u001b[38;5;33mDense\u001b[0m)             │                   │            │                   │\n",
       "└─────────────────────┴───────────────────┴────────────┴───────────────────┘\n"
      ]
     },
     "metadata": {},
     "output_type": "display_data"
    },
    {
     "data": {
      "text/html": [
       "<pre style=\"white-space:pre;overflow-x:auto;line-height:normal;font-family:Menlo,'DejaVu Sans Mono',consolas,'Courier New',monospace\"><span style=\"font-weight: bold\"> Total params: </span><span style=\"color: #00af00; text-decoration-color: #00af00\">99,329</span> (388.00 KB)\n",
       "</pre>\n"
      ],
      "text/plain": [
       "\u001b[1m Total params: \u001b[0m\u001b[38;5;34m99,329\u001b[0m (388.00 KB)\n"
      ]
     },
     "metadata": {},
     "output_type": "display_data"
    },
    {
     "data": {
      "text/html": [
       "<pre style=\"white-space:pre;overflow-x:auto;line-height:normal;font-family:Menlo,'DejaVu Sans Mono',consolas,'Courier New',monospace\"><span style=\"font-weight: bold\"> Trainable params: </span><span style=\"color: #00af00; text-decoration-color: #00af00\">98,881</span> (386.25 KB)\n",
       "</pre>\n"
      ],
      "text/plain": [
       "\u001b[1m Trainable params: \u001b[0m\u001b[38;5;34m98,881\u001b[0m (386.25 KB)\n"
      ]
     },
     "metadata": {},
     "output_type": "display_data"
    },
    {
     "data": {
      "text/html": [
       "<pre style=\"white-space:pre;overflow-x:auto;line-height:normal;font-family:Menlo,'DejaVu Sans Mono',consolas,'Courier New',monospace\"><span style=\"font-weight: bold\"> Non-trainable params: </span><span style=\"color: #00af00; text-decoration-color: #00af00\">448</span> (1.75 KB)\n",
       "</pre>\n"
      ],
      "text/plain": [
       "\u001b[1m Non-trainable params: \u001b[0m\u001b[38;5;34m448\u001b[0m (1.75 KB)\n"
      ]
     },
     "metadata": {},
     "output_type": "display_data"
    }
   ],
   "source": [
    "if DISPLAY == 'map' :\n",
    "    display_model(model.discriminator, width=2500, height=512)\n",
    "if DISPLAY == 'summary' :\n",
    "    model.discriminator.summary()"
   ]
  },
  {
   "cell_type": "code",
   "execution_count": 12,
   "metadata": {},
   "outputs": [],
   "source": [
    "#================== loadmodel ===================="
   ]
  },
  {
   "cell_type": "code",
   "execution_count": 13,
   "metadata": {},
   "outputs": [],
   "source": [
    "from tensorflow.keras.models import load_model\n",
    "model_path = MODEL_PATH+f'{PROJECT}'\n",
    "if not RESUME :\n",
    "    if os.path.exists(model_path) :\n",
    "        shutil.rmtree(model_path)\n",
    "if not os.path.exists(model_path):\n",
    "    os.makedirs(model_path)\n",
    "    model.generator.save(model_path+f'/'+f'generator.keras') \n",
    "    model.discriminator.save(model_path+f'/'+f'discriminator.keras') \n",
    "else:\n",
    "    model.generator = load_model(model_path+'/'+f'generator.keras') \n",
    "    model.discriminator = load_model(model_path+'/'+f'discriminator.keras') "
   ]
  },
  {
   "cell_type": "code",
   "execution_count": null,
   "metadata": {},
   "outputs": [
    {
     "name": "stdout",
     "output_type": "stream",
     "text": [
      "Epoch 1/10\n",
      "\u001b[1m11/11\u001b[0m \u001b[32m━━━━━━━━━━━━━━━━━━━━\u001b[0m\u001b[37m\u001b[0m \u001b[1m4s\u001b[0m 210ms/step - discriminator_loss: -0.5948 - generator_loss: -0.9242 - val_discriminator_loss: 0.2025 - val_generator_loss: -1.6846\n",
      "Epoch 2/10\n",
      "\u001b[1m11/11\u001b[0m \u001b[32m━━━━━━━━━━━━━━━━━━━━\u001b[0m\u001b[37m\u001b[0m \u001b[1m2s\u001b[0m 214ms/step - discriminator_loss: -0.2001 - generator_loss: -0.5614 - val_discriminator_loss: 0.3161 - val_generator_loss: -1.2136\n",
      "Epoch 3/10\n",
      "\u001b[1m11/11\u001b[0m \u001b[32m━━━━━━━━━━━━━━━━━━━━\u001b[0m\u001b[37m\u001b[0m \u001b[1m2s\u001b[0m 203ms/step - discriminator_loss: -0.1249 - generator_loss: -0.0212 - val_discriminator_loss: 0.1834 - val_generator_loss: -0.9263\n",
      "Epoch 4/10\n",
      "\u001b[1m11/11\u001b[0m \u001b[32m━━━━━━━━━━━━━━━━━━━━\u001b[0m\u001b[37m\u001b[0m \u001b[1m2s\u001b[0m 192ms/step - discriminator_loss: -0.2886 - generator_loss: 0.0080 - val_discriminator_loss: -0.0183 - val_generator_loss: -0.7157\n",
      "Epoch 5/10\n",
      "\u001b[1m11/11\u001b[0m \u001b[32m━━━━━━━━━━━━━━━━━━━━\u001b[0m\u001b[37m\u001b[0m \u001b[1m2s\u001b[0m 210ms/step - discriminator_loss: -0.2080 - generator_loss: -0.4706 - val_discriminator_loss: 0.1209 - val_generator_loss: -0.9248\n",
      "Epoch 6/10\n",
      "\u001b[1m10/11\u001b[0m \u001b[32m━━━━━━━━━━━━━━━━━━\u001b[0m\u001b[37m━━\u001b[0m \u001b[1m0s\u001b[0m 186ms/step - discriminator_loss: -0.1856 - generator_loss: -0.3470"
     ]
    }
   ],
   "source": [
    "# ================== train model ==================\n",
    "PartitionDate = [ d[:-3] for d in  os.listdir(H5_PATH)]\n",
    "random.shuffle(PartitionDate)\n",
    "#SET MODEL VAR\n",
    "STACK_DATA = STACK_DATA_SHAPE \n",
    "#INIT MODEL VAR\n",
    "STOP_MODEL = False\n",
    "\n",
    "#set PartitionDate[:] for limit range\n",
    "for partdate in PartitionDate[:] :\n",
    "    clear_output(wait=False)\n",
    "    DATA = []\n",
    "    with h5py.File(H5_PATH+partdate+\".h5\", 'r') as f:\n",
    "        DATA = f[partdate][:]\n",
    "    data_shape = DATA.shape\n",
    "    ###transform\n",
    "    if CONFIG['transform'] :\n",
    "        DATA = Scaler.transform(DATA.reshape(-1,data_shape[-1]))\n",
    "        DATA = DATA.reshape(data_shape)\n",
    "    DATA = np.vstack((DATA ,STACK_DATA))\n",
    "    if len(DATA) < 64 :\n",
    "        #stack data\n",
    "        STACK_DATA = np.vstack((STACK_DATA ,DATA))\n",
    "    else: \n",
    "        STACK_DATA = np.empty((0,) + data_shape[1:] )\n",
    "        X = DATA[:, :, select_x]  # เลือกข้อมูล select_x สำหรับ X\n",
    "        Y = DATA[:, :, select_y]  # เลือกข้อมูล select_y เสำหรับ Y\n",
    "        x_train, x_val, y_train, y_val = train_test_split(X, Y, test_size=0.2, random_state=42)\n",
    "        random.shuffle(PartitionDate)\n",
    "        tf.keras.backend.clear_session() \n",
    "        history = model.fit(x_train , y_train, epochs=CONFIG['epochs'], batch_size=BATCH_SIZE, validation_data=(x_val, y_val) ,callbacks=[tensorboard_callback])\n",
    "        if  np.isnan(  np.average( history.history['generator_loss'] )  ) or np.isnan(  np.average( history.history['discriminator_loss'] )  ):\n",
    "            STOP_MODEL = True \n",
    "    \n",
    "        if WANDB_LOG :\n",
    "            LogKeys = history.history.keys()\n",
    "            LogVal={}\n",
    "            for k in LogKeys:  \n",
    "                LogVal[k] = np.average(  history.history[k] )\n",
    "            wandb.log(LogVal, commit=True)\n",
    "    if STOP_MODEL :\n",
    "        break\n",
    "    \n",
    "            \n",
    "    model.generator.save(model_path+f'/'+f'generator.keras') \n",
    "    model.discriminator.save(model_path+f'/'+f'discriminator.keras') \n",
    "if WANDB_LOG : wandb.finish()"
   ]
  },
  {
   "cell_type": "code",
   "execution_count": null,
   "metadata": {},
   "outputs": [],
   "source": [
    "`===================================================="
   ]
  },
  {
   "cell_type": "code",
   "execution_count": null,
   "metadata": {},
   "outputs": [],
   "source": []
  },
  {
   "cell_type": "code",
   "execution_count": null,
   "metadata": {},
   "outputs": [],
   "source": []
  },
  {
   "cell_type": "code",
   "execution_count": null,
   "metadata": {},
   "outputs": [],
   "source": []
  },
  {
   "cell_type": "code",
   "execution_count": null,
   "metadata": {},
   "outputs": [],
   "source": []
  },
  {
   "cell_type": "code",
   "execution_count": null,
   "metadata": {},
   "outputs": [],
   "source": []
  },
  {
   "cell_type": "code",
   "execution_count": null,
   "metadata": {},
   "outputs": [],
   "source": []
  },
  {
   "cell_type": "code",
   "execution_count": null,
   "metadata": {},
   "outputs": [],
   "source": []
  },
  {
   "cell_type": "code",
   "execution_count": null,
   "metadata": {},
   "outputs": [],
   "source": []
  },
  {
   "cell_type": "code",
   "execution_count": null,
   "metadata": {},
   "outputs": [],
   "source": [
    "======================== predict ========================="
   ]
  },
  {
   "cell_type": "code",
   "execution_count": null,
   "metadata": {},
   "outputs": [],
   "source": [
    "PartitionDate = [ d[:-3] for d in  os.listdir(H5_PATH)]\n",
    "random.shuffle(PartitionDate)\n",
    "for partdate in PartitionDate[:1] :\n",
    "    DATA = []\n",
    "    with h5py.File(H5_PATH+partdate+\".h5\", 'r') as f:\n",
    "        DATA = f[partdate][:]\n",
    "    data_shape = DATA.shape\n",
    "    print(f\"CONFIG['transform'] : {CONFIG['transform']}\")\n",
    "    if CONFIG['transform'] or True :\n",
    "        DATA = Scaler.transform(DATA.reshape(-1,data_shape[-1]))\n",
    "        DATA = DATA.reshape(data_shape)"
   ]
  },
  {
   "cell_type": "code",
   "execution_count": null,
   "metadata": {},
   "outputs": [],
   "source": [
    "X = DATA[:, :, select_x][:]\n",
    "Y_real = DATA[:, :, select_y][:]\n",
    "#===========\n",
    "# X = x_train\n",
    "# Y_real = y_train\n",
    "# #===========\n",
    "df = pd.DataFrame(\n",
    "    DATA[:, :, :3][:1].reshape(16, 3), \n",
    "    columns=SCALER_COL[:3])\n",
    "#print(df)"
   ]
  },
  {
   "cell_type": "code",
   "execution_count": null,
   "metadata": {},
   "outputs": [],
   "source": [
    "z_mean, log_var = model.generator(X) \n",
    "z = Sampling()([z_mean, log_var])\n",
    "decode_data = model.discriminator(z)"
   ]
  },
  {
   "cell_type": "code",
   "execution_count": null,
   "metadata": {},
   "outputs": [],
   "source": [
    "col = [SCALER_COL[i] for i in select_x]\n",
    "col += [SCALER_COL[i] for i in select_y]"
   ]
  },
  {
   "cell_type": "code",
   "execution_count": null,
   "metadata": {},
   "outputs": [],
   "source": [
    "#======= decode_data ==========\n",
    "if CONFIG['transform'] :\n",
    "    decode_transformed=Scaler.inverse_transform(\n",
    "        tf.concat([X[0],np.full((16, 1), 1e-8), \n",
    "           decode_data[0][:,:2],np.full((16, 1), 1e-8),\n",
    "           decode_data[0][:,2:],np.full((16, 1), 1e-8) ], axis=1)\n",
    "    )\n",
    "    deDF=pd.DataFrame(  \n",
    "    decode_transformed\n",
    "    ,columns=SCALER_COL)\n",
    "else:\n",
    "    deDF=pd.DataFrame(  \n",
    "    tf.concat([X[0], decode_data.numpy()[0]], axis=-1).numpy() \n",
    "    ,columns=col)\n",
    "#deDF[deDF <= 1e-8] = 0\n",
    "deDF"
   ]
  },
  {
   "cell_type": "code",
   "execution_count": null,
   "metadata": {},
   "outputs": [],
   "source": [
    "#======= Y_real ==========\n",
    "if CONFIG['transform'] :\n",
    "    decode_transformed=Scaler.inverse_transform(\n",
    "        tf.concat([X[0],np.zeros((16, 1)), \n",
    "           Y_real[0][:,:2],np.zeros((16, 1)),\n",
    "           Y_real[0][:,2:],np.zeros((16, 1)) ], axis=1)\n",
    "    )\n",
    "    deDF=pd.DataFrame(  \n",
    "    decode_transformed\n",
    "    ,columns=SCALER_COL)\n",
    "else:\n",
    "    YDF=pd.DataFrame(tf.concat([X[0], Y_real[0]] , axis=-1),columns=col)\n",
    "YDF"
   ]
  },
  {
   "cell_type": "code",
   "execution_count": null,
   "metadata": {},
   "outputs": [],
   "source": [
    "z_mean"
   ]
  },
  {
   "cell_type": "code",
   "execution_count": null,
   "metadata": {},
   "outputs": [],
   "source": [
    "log_var"
   ]
  },
  {
   "cell_type": "code",
   "execution_count": null,
   "metadata": {},
   "outputs": [],
   "source": [
    "encodeDF=pd.DataFrame(  \n",
    "    tf.concat([z_mean,log_var,z], axis=-1).numpy().transpose(),\n",
    "    columns=['z_mean','log_var','z'] )\n",
    "encodeDF"
   ]
  },
  {
   "cell_type": "code",
   "execution_count": null,
   "metadata": {},
   "outputs": [],
   "source": [
    "np.isnan(Y_real).sum()"
   ]
  },
  {
   "cell_type": "code",
   "execution_count": null,
   "metadata": {},
   "outputs": [],
   "source": [
    "np.isnan(X).sum()"
   ]
  },
  {
   "cell_type": "code",
   "execution_count": null,
   "metadata": {},
   "outputs": [],
   "source": [
    "np.isinf(Y_real).sum()"
   ]
  },
  {
   "cell_type": "code",
   "execution_count": null,
   "metadata": {},
   "outputs": [],
   "source": [
    "np.isinf(X).sum()"
   ]
  },
  {
   "cell_type": "code",
   "execution_count": null,
   "metadata": {},
   "outputs": [],
   "source": []
  },
  {
   "cell_type": "code",
   "execution_count": null,
   "metadata": {},
   "outputs": [],
   "source": [
    "======================= _compute_loss =============================="
   ]
  },
  {
   "cell_type": "code",
   "execution_count": null,
   "metadata": {},
   "outputs": [],
   "source": []
  },
  {
   "cell_type": "code",
   "execution_count": null,
   "metadata": {},
   "outputs": [],
   "source": []
  },
  {
   "cell_type": "code",
   "execution_count": null,
   "metadata": {},
   "outputs": [],
   "source": [
    "#generated_data = [c_bid, c_ask, c_volume, p_bid, p_ask, p_volume]\n",
    "colList = [\"c_bid\", \"c_ask\", \"c_volume\", \"p_bid\", \"p_ask\", \"p_volume\"]\n",
    "generated_data = decode_data[3:]\n",
    "z_mean    = z_mean\n",
    "z_log_var = log_var\n",
    "Y_real    = DATA[:, :, 3:][:1]"
   ]
  },
  {
   "cell_type": "code",
   "execution_count": null,
   "metadata": {},
   "outputs": [],
   "source": [
    "z_mean"
   ]
  },
  {
   "cell_type": "code",
   "execution_count": null,
   "metadata": {},
   "outputs": [],
   "source": [
    "for  col,genData in zip(colList,generated_data):\n",
    "    print( colList.index(col),col )"
   ]
  },
  {
   "cell_type": "code",
   "execution_count": null,
   "metadata": {},
   "outputs": [],
   "source": [
    "subtract_genData = genData - tf.cast(tf.expand_dims(Y_real[:, :, colList.index(col)], axis=-1)\n",
    "        , tf.float32) "
   ]
  },
  {
   "cell_type": "code",
   "execution_count": null,
   "metadata": {},
   "outputs": [],
   "source": [
    "reconstruction_values_total = []\n",
    "reconstruction_values_total.append( tf.reduce_mean( tf.square(subtract_genData)   ) )"
   ]
  },
  {
   "cell_type": "code",
   "execution_count": null,
   "metadata": {},
   "outputs": [],
   "source": [
    "log_var = tf.clip_by_value(log_var, -1.0, 1.0)\n",
    "kl_loss = -0.5 * tf.reduce_sum(1 + log_var - tf.square(z_mean) - tf.exp(log_var), axis=-1)"
   ]
  },
  {
   "cell_type": "code",
   "execution_count": null,
   "metadata": {},
   "outputs": [],
   "source": [
    "tf.reduce_mean(reconstruction_values_total + kl_loss)"
   ]
  },
  {
   "cell_type": "code",
   "execution_count": null,
   "metadata": {},
   "outputs": [],
   "source": [
    "========== kiras vae origi"
   ]
  },
  {
   "cell_type": "code",
   "execution_count": null,
   "metadata": {},
   "outputs": [],
   "source": [
    "Y_real[0][0]"
   ]
  },
  {
   "cell_type": "code",
   "execution_count": null,
   "metadata": {},
   "outputs": [],
   "source": [
    " tf.concat(decode_data, axis=-1).numpy()[0][0]"
   ]
  },
  {
   "cell_type": "code",
   "execution_count": null,
   "metadata": {},
   "outputs": [],
   "source": [
    "Y_real[0] -  tf.concat(decode_data, axis=-1).numpy()"
   ]
  },
  {
   "cell_type": "code",
   "execution_count": null,
   "metadata": {},
   "outputs": [],
   "source": []
  },
  {
   "cell_type": "code",
   "execution_count": null,
   "metadata": {},
   "outputs": [],
   "source": [
    "features_loss = tf.reduce_mean(\n",
    "    tf.reduce_sum(\n",
    "        tf.keras.losses.mean_squared_error(Y_real, tf.concat(decode_data, axis=-1)),\n",
    "        axis=(1),\n",
    "    )\n",
    ")"
   ]
  },
  {
   "cell_type": "code",
   "execution_count": null,
   "metadata": {},
   "outputs": [],
   "source": [
    "features_loss"
   ]
  },
  {
   "cell_type": "code",
   "execution_count": null,
   "metadata": {},
   "outputs": [],
   "source": [
    "# features_loss = tf.reduce_mean(\n",
    "#     tf.reduce_sum(\n",
    "#         keras.losses.categorical_crossentropy(features_real, features_gen),\n",
    "#         axis=(1),\n",
    "#     )\n",
    "# )\n",
    "# kl_loss = -0.5 * tf.reduce_sum(\n",
    "#     1 + z_log_var - tf.square(z_mean) - tf.exp(z_log_var), 1\n",
    "# )\n",
    "# kl_loss = tf.reduce_mean(kl_loss)\n",
    "\n",
    "# property_loss = tf.reduce_mean(\n",
    "#     keras.losses.binary_crossentropy(qed_true, qed_pred)\n",
    "# )\n",
    "\n",
    "# graph_loss = self._gradient_penalty(graph_real, graph_generated)\n",
    "\n",
    "# return kl_loss + property_loss + graph_loss + adjacency_loss + features_loss"
   ]
  },
  {
   "cell_type": "code",
   "execution_count": null,
   "metadata": {},
   "outputs": [],
   "source": [
    "======================= inverse_transform ========================"
   ]
  },
  {
   "cell_type": "code",
   "execution_count": null,
   "metadata": {},
   "outputs": [],
   "source": [
    "#add 0\n",
    "decode_data = [tf.zeros([1, 32, 1])]*3 + decode_data"
   ]
  },
  {
   "cell_type": "code",
   "execution_count": null,
   "metadata": {},
   "outputs": [],
   "source": [
    "invert_decode = Scaler.inverse_transform(\n",
    "    np.array([d.numpy().reshape(-1) for d in decode_data]).transpose()\n",
    "    ) "
   ]
  },
  {
   "cell_type": "code",
   "execution_count": null,
   "metadata": {},
   "outputs": [],
   "source": [
    "pd.DataFrame(\n",
    "    invert_decode[:,3:], \n",
    "    columns=SCALER_COL[3:])"
   ]
  },
  {
   "cell_type": "code",
   "execution_count": null,
   "metadata": {},
   "outputs": [],
   "source": [
    "====================================================================="
   ]
  },
  {
   "cell_type": "code",
   "execution_count": null,
   "metadata": {},
   "outputs": [],
   "source": []
  }
 ],
 "metadata": {
  "kernelspec": {
   "display_name": "Python 3 (ipykernel)",
   "language": "python",
   "name": "python3"
  },
  "language_info": {
   "codemirror_mode": {
    "name": "ipython",
    "version": 3
   },
   "file_extension": ".py",
   "mimetype": "text/x-python",
   "name": "python",
   "nbconvert_exporter": "python",
   "pygments_lexer": "ipython3",
   "version": "3.11.0rc1"
  },
  "vscode": {
   "interpreter": {
    "hash": "4f77a7efb8cf15d18a0cd6bbc71a8985efbc57e2467f435a53ada42728ce0a69"
   }
  }
 },
 "nbformat": 4,
 "nbformat_minor": 4
}
