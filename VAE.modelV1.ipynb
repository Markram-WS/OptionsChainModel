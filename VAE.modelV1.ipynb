{
 "cells": [
  {
   "cell_type": "code",
   "execution_count": 1,
   "metadata": {},
   "outputs": [],
   "source": [
    "#https://keras.io/examples/generative/vae/\n",
    "#https://keras.io/examples/generative/molecule_generation/"
   ]
  },
  {
   "cell_type": "code",
   "execution_count": 2,
   "metadata": {},
   "outputs": [],
   "source": [
    "#!python3 -m pip install --upgrade pip\n",
    "#!pip install pydot\n",
    "#!apt-get install -y graphviz"
   ]
  },
  {
   "cell_type": "code",
   "execution_count": 3,
   "metadata": {},
   "outputs": [
    {
     "name": "stderr",
     "output_type": "stream",
     "text": [
      "2024-07-04 15:02:55.880997: I tensorflow/core/platform/cpu_feature_guard.cc:210] This TensorFlow binary is optimized to use available CPU instructions in performance-critical operations.\n",
      "To enable the following instructions: AVX2 FMA, in other operations, rebuild TensorFlow with the appropriate compiler flags.\n"
     ]
    }
   ],
   "source": [
    "import os,shutil,random\n",
    "from sklearn.preprocessing import MinMaxScaler\n",
    "import joblib\n",
    "import pandas as pd\n",
    "import h5py\n",
    "import tensorflow as tf\n",
    "from IPython.display import clear_output,display, HTML\n",
    "from sklearn.model_selection import train_test_split\n",
    "import datetime as dt\n",
    "import numpy as np\n",
    "#================== initialization ==================\n",
    "currentTM=dt.datetime.now().strftime(\"%Y-%m-%dT%H%M%S\")\n",
    "PROJECT = \"testVAEModel\"\n",
    "LATENT_DIM = 128\n",
    "VAE_LR = 1e-4\n",
    "EPOCHS = 1\n",
    "BATCH_SIZE = 32\n",
    "PARQUET_PATH = './data/OptionsEOD_STG.parquet'\n",
    "SCALER_PATH = './data/scaler.gz'\n",
    "UNIQUE_KEYS = ['QUOTE_DATE','SYMBOL','EXPIRE_DATE']\n",
    "SCALER_COL  = ['DTE','INTRINSIC_VALUE', 'TOTAL_VOLUME',\t'C_BID',\t'C_ASK', 'C_VOLUME',  'P_BID',\t'P_ASK',\t'P_VOLUME' ]\n",
    "MODEL_PATH = \"./models/\"\n",
    "H5_PATH = './data/OptTrainData/'\n",
    "DISPLAY = False\n",
    "WANDB_LOG = False\n",
    "RESUME = False"
   ]
  },
  {
   "cell_type": "code",
   "execution_count": 4,
   "metadata": {},
   "outputs": [],
   "source": [
    "#741d760b304d0be5b18d4ee9682f77156e6967b5\n",
    "import wandb\n",
    "from wandb.keras import WandbCallback\n",
    "CONFIG = {    \"latent_dim\":LATENT_DIM,\n",
    "                  \"learning_rate\": VAE_LR,\n",
    "                  \"epochs\": EPOCHS,\n",
    "                  \"batch_size\": BATCH_SIZE,\n",
    "                  \"architecture\": \"VAE\",\n",
    "                  \"dataset\": \"OptionsChaine\",\n",
    "                  \"encoder_dense_units\":[512,256],\n",
    "                  \"encoder_dropout_rate\":0.2,\n",
    "                  \"decoder_dense_units\":[256, 512],\n",
    "                  \"decoder_dropout_rate\":0.2,\n",
    "               }\n",
    "    \n",
    "if WANDB_LOG :\n",
    "    wandb.login()\n",
    "    run = wandb.init(project=PROJECT, name=currentTM, config=CONFIG)"
   ]
  },
  {
   "cell_type": "code",
   "execution_count": 5,
   "metadata": {},
   "outputs": [],
   "source": [
    "#Example\n",
    "\n",
    "# from IPython.display import clear_output,display, HTML\n",
    "# import numpy as np\n",
    "# #load scaler\n",
    "# scaler = MinMaxScaler()\n",
    "# PartitionDate = [ d[-7:] for d in  os.listdir(PARQUET_PATH) if 'PartitionDate' in d]\n",
    "# random.shuffle(PartitionDate)\n",
    "# scaler = joblib.load(SCALER_PATH)\n",
    "\n",
    "\n",
    "# for i,partdate in enumerate(PartitionDate) :\n",
    "#     df = pd.read_parquet(PARQUET_PATH,engine='pyarrow'\n",
    "#                                  , filters=[('PartitionDate', '=', partdate)]\n",
    "#                                 )\n",
    "#     df['P_VOLUME'] = df['P_VOLUME'].fillna(0)\n",
    "#     df['C_VOLUME'] = df['C_VOLUME'].fillna(0)\n",
    "#     DATA  = np.empty((0,) + (20,9) ) \n",
    "#     for opt_id in np.unique( df[[\"OPTIONS_ID\"]].values):\n",
    "#         df_filter  = df[df[\"OPTIONS_ID\"]==opt_id]\n",
    "#         if len(df_filter) == 20:\n",
    "#             DATA = np.vstack((DATA ,[scaler.transform(df_filter[SCALER_COL])]))\n",
    "#         else:\n",
    "#             #print( len(df_filter) )\n",
    "#             #display(HTML(df_filter[['STRIKE']+SCALER_COL].to_html()))\n",
    "#             pass\n",
    "            \n",
    "#     ## Save the NumPy array to an HDF5 file\n",
    "#     # with h5py.File(H5_PATH+f\"{partdate}.h5\", 'w') as f:\n",
    "#     #     dset = f.create_dataset(f'{partdate}', data=DATA, chunks=True , compression='gzip')\n",
    "\n",
    "#     print(f\"[Processing] {partdate}, {round(((i+1)/len(PartitionDate))*100,2)}%     \",end='\\r')"
   ]
  },
  {
   "cell_type": "code",
   "execution_count": 6,
   "metadata": {},
   "outputs": [],
   "source": [
    "# # Save the NumPy array to an HDF5 file\n",
    "# with h5py.File(H5_PATH, 'w') as f:\n",
    "#     #dset = f.create_dataset('dataset', data=DATA, chunks=True, compression='gzip')\n",
    "#     #test\n",
    "#     dset = f.create_dataset('dataset', data=DATA, compression='gzip')"
   ]
  },
  {
   "cell_type": "code",
   "execution_count": 7,
   "metadata": {},
   "outputs": [],
   "source": [
    "#====================================================================="
   ]
  },
  {
   "cell_type": "code",
   "execution_count": 8,
   "metadata": {},
   "outputs": [],
   "source": [
    "from src.model import OptionChainGenerator\n",
    "from src.layer import encoder, decoder\n",
    "\n",
    "model = OptionChainGenerator(\n",
    "    encoder(latent_dim = LATENT_DIM, \n",
    "            input_shape= (20,3), \n",
    "            dense_units = CONFIG[\"encoder_dense_units\"], \n",
    "            dropout_rate= CONFIG[\"encoder_dropout_rate\"]\n",
    "           ), \n",
    "    decoder(latent_dim  = LATENT_DIM , \n",
    "            output_shape= (20,1),\n",
    "            dense_units = CONFIG[\"decoder_dense_units\"],\n",
    "            dropout_rate= CONFIG[\"decoder_dropout_rate\"]\n",
    "           )\n",
    ")\n",
    "\n",
    "def dummy_loss(y_true, y_pred):\n",
    "    return 0.0\n",
    "    \n",
    "vae_optimizer = tf.keras.optimizers.Adam(learning_rate=VAE_LR)\n",
    "model.compile(vae_optimizer )#, loss=dummy_loss)"
   ]
  },
  {
   "cell_type": "code",
   "execution_count": 9,
   "metadata": {},
   "outputs": [],
   "source": [
    "################## show model ######################\n",
    "if DISPLAY :\n",
    "    from tensorflow.keras.utils import model_to_dot\n",
    "    from IPython.display import SVG, display\n",
    "    \n",
    "    def display_model(model, width=1024, height=512):\n",
    "        dot = model_to_dot(model, show_shapes=True, show_layer_names=True)\n",
    "        svg_data = dot.create(prog='dot', format='svg').decode(\"utf-8\")\n",
    "        svg_html = f'<div style=\"width:{width}px;height:{height}px;\">{svg_data}</div>'\n",
    "        display(HTML(svg_html))"
   ]
  },
  {
   "cell_type": "code",
   "execution_count": 10,
   "metadata": {},
   "outputs": [],
   "source": [
    "## Example usage:\n",
    "## Display the encoder model with reduced size\n",
    "if DISPLAY :\n",
    "    display_model(model.encoder, width=1024, height=512)"
   ]
  },
  {
   "cell_type": "code",
   "execution_count": 11,
   "metadata": {},
   "outputs": [],
   "source": [
    "if DISPLAY :\n",
    "    display_model(model.decoder, width=2500, height=512)"
   ]
  },
  {
   "cell_type": "code",
   "execution_count": 12,
   "metadata": {},
   "outputs": [],
   "source": [
    "#================== loadmodel ===================="
   ]
  },
  {
   "cell_type": "code",
   "execution_count": 13,
   "metadata": {},
   "outputs": [],
   "source": [
    "from tensorflow.keras.models import load_model\n",
    "model_path = MODEL_PATH+f'{PROJECT}'\n",
    "if not RESUME :\n",
    "    if os.path.exists(model_path) :\n",
    "        shutil.rmtree(model_path)\n",
    "if not os.path.exists(model_path):\n",
    "    os.makedirs(model_path)\n",
    "    model.encoder.save(model_path+f'/'+f'encoder.keras') \n",
    "    model.decoder.save(model_path+f'/'+f'decoder.keras') \n",
    "else:\n",
    "    model.encoder = load_model(model_path+'/'+f'encoder.keras') \n",
    "    model.decoder = load_model(model_path+'/'+f'decoder.keras') "
   ]
  },
  {
   "cell_type": "code",
   "execution_count": 14,
   "metadata": {},
   "outputs": [
    {
     "name": "stdout",
     "output_type": "stream",
     "text": [
      "Epoch 1/5\n",
      "\u001b[1m41/41\u001b[0m \u001b[32m━━━━━━━━━━━━━━━━━━━━\u001b[0m\u001b[37m\u001b[0m \u001b[1m4s\u001b[0m 16ms/step - kl_loss: 0.0229 - total_loss: 0.3780 - val_kl_loss: 6.2879e-04 - val_total_loss: 0.0265\n",
      "Epoch 2/5\n",
      "\u001b[1m41/41\u001b[0m \u001b[32m━━━━━━━━━━━━━━━━━━━━\u001b[0m\u001b[37m\u001b[0m \u001b[1m0s\u001b[0m 9ms/step - kl_loss: 0.0027 - total_loss: 0.0617 - val_kl_loss: 2.7977e-04 - val_total_loss: 0.0105\n",
      "Epoch 3/5\n",
      "\u001b[1m41/41\u001b[0m \u001b[32m━━━━━━━━━━━━━━━━━━━━\u001b[0m\u001b[37m\u001b[0m \u001b[1m0s\u001b[0m 8ms/step - kl_loss: 9.4000e-04 - total_loss: 0.0257 - val_kl_loss: 1.6374e-04 - val_total_loss: 0.0072\n",
      "Epoch 4/5\n",
      "\u001b[1m41/41\u001b[0m \u001b[32m━━━━━━━━━━━━━━━━━━━━\u001b[0m\u001b[37m\u001b[0m \u001b[1m0s\u001b[0m 8ms/step - kl_loss: 4.8064e-04 - total_loss: 0.0171 - val_kl_loss: 9.2700e-05 - val_total_loss: 0.0068\n",
      "Epoch 5/5\n",
      "\u001b[1m41/41\u001b[0m \u001b[32m━━━━━━━━━━━━━━━━━━━━\u001b[0m\u001b[37m\u001b[0m \u001b[1m0s\u001b[0m 8ms/step - kl_loss: 2.6745e-04 - total_loss: 0.0113 - val_kl_loss: 5.1607e-05 - val_total_loss: 0.0063\n",
      "Epoch 1/5\n",
      "\u001b[1m40/40\u001b[0m \u001b[32m━━━━━━━━━━━━━━━━━━━━\u001b[0m\u001b[37m\u001b[0m \u001b[1m1s\u001b[0m 12ms/step - kl_loss: 1.7262e-04 - total_loss: 0.0090 - val_kl_loss: 2.9534e-05 - val_total_loss: 0.0050\n",
      "Epoch 2/5\n",
      "\u001b[1m40/40\u001b[0m \u001b[32m━━━━━━━━━━━━━━━━━━━━\u001b[0m\u001b[37m\u001b[0m \u001b[1m0s\u001b[0m 10ms/step - kl_loss: 1.1430e-04 - total_loss: 0.0076 - val_kl_loss: 1.9562e-05 - val_total_loss: 0.0049\n",
      "Epoch 3/5\n",
      "\u001b[1m40/40\u001b[0m \u001b[32m━━━━━━━━━━━━━━━━━━━━\u001b[0m\u001b[37m\u001b[0m \u001b[1m0s\u001b[0m 9ms/step - kl_loss: 7.5372e-05 - total_loss: 0.0071 - val_kl_loss: 7.6592e-06 - val_total_loss: 0.0049\n",
      "Epoch 4/5\n",
      "\u001b[1m40/40\u001b[0m \u001b[32m━━━━━━━━━━━━━━━━━━━━\u001b[0m\u001b[37m\u001b[0m \u001b[1m0s\u001b[0m 10ms/step - kl_loss: 4.9596e-05 - total_loss: 0.0068 - val_kl_loss: 2.8312e-06 - val_total_loss: 0.0049\n",
      "Epoch 5/5\n",
      "\u001b[1m40/40\u001b[0m \u001b[32m━━━━━━━━━━━━━━━━━━━━\u001b[0m\u001b[37m\u001b[0m \u001b[1m0s\u001b[0m 11ms/step - kl_loss: 3.2919e-05 - total_loss: 0.0062 - val_kl_loss: 9.8348e-07 - val_total_loss: 0.0049\n",
      "Epoch 1/5\n",
      "\u001b[1m35/35\u001b[0m \u001b[32m━━━━━━━━━━━━━━━━━━━━\u001b[0m\u001b[37m\u001b[0m \u001b[1m1s\u001b[0m 15ms/step - kl_loss: 2.9462e-05 - total_loss: 0.0101 - val_kl_loss: 3.8743e-07 - val_total_loss: 0.0080\n",
      "Epoch 2/5\n",
      "\u001b[1m35/35\u001b[0m \u001b[32m━━━━━━━━━━━━━━━━━━━━\u001b[0m\u001b[37m\u001b[0m \u001b[1m1s\u001b[0m 14ms/step - kl_loss: 2.4555e-05 - total_loss: 0.0083 - val_kl_loss: 1.4901e-07 - val_total_loss: 0.0080\n",
      "Epoch 3/5\n",
      "\u001b[1m35/35\u001b[0m \u001b[32m━━━━━━━━━━━━━━━━━━━━\u001b[0m\u001b[37m\u001b[0m \u001b[1m0s\u001b[0m 13ms/step - kl_loss: 1.7259e-05 - total_loss: 0.0083 - val_kl_loss: 5.9605e-08 - val_total_loss: 0.0080\n",
      "Epoch 4/5\n",
      "\u001b[1m35/35\u001b[0m \u001b[32m━━━━━━━━━━━━━━━━━━━━\u001b[0m\u001b[37m\u001b[0m \u001b[1m0s\u001b[0m 11ms/step - kl_loss: 1.7550e-05 - total_loss: 0.0082 - val_kl_loss: 2.9802e-08 - val_total_loss: 0.0080\n",
      "Epoch 5/5\n",
      "\u001b[1m35/35\u001b[0m \u001b[32m━━━━━━━━━━━━━━━━━━━━\u001b[0m\u001b[37m\u001b[0m \u001b[1m0s\u001b[0m 9ms/step - kl_loss: 1.0960e-05 - total_loss: 0.0075 - val_kl_loss: 0.0000e+00 - val_total_loss: 0.0080\n",
      "Epoch 1/5\n",
      "\u001b[1m44/44\u001b[0m \u001b[32m━━━━━━━━━━━━━━━━━━━━\u001b[0m\u001b[37m\u001b[0m \u001b[1m1s\u001b[0m 13ms/step - kl_loss: 1.2420e-05 - total_loss: 0.0079 - val_kl_loss: 0.0000e+00 - val_total_loss: 0.0081\n",
      "Epoch 2/5\n",
      "\u001b[1m44/44\u001b[0m \u001b[32m━━━━━━━━━━━━━━━━━━━━\u001b[0m\u001b[37m\u001b[0m \u001b[1m0s\u001b[0m 10ms/step - kl_loss: 7.2586e-06 - total_loss: 0.0079 - val_kl_loss: 0.0000e+00 - val_total_loss: 0.0081\n",
      "Epoch 3/5\n",
      "\u001b[1m44/44\u001b[0m \u001b[32m━━━━━━━━━━━━━━━━━━━━\u001b[0m\u001b[37m\u001b[0m \u001b[1m0s\u001b[0m 9ms/step - kl_loss: 7.7973e-06 - total_loss: 0.0083 - val_kl_loss: 0.0000e+00 - val_total_loss: 0.0081\n",
      "Epoch 4/5\n",
      "\u001b[1m44/44\u001b[0m \u001b[32m━━━━━━━━━━━━━━━━━━━━\u001b[0m\u001b[37m\u001b[0m \u001b[1m0s\u001b[0m 8ms/step - kl_loss: 7.6712e-06 - total_loss: 0.0074 - val_kl_loss: 0.0000e+00 - val_total_loss: 0.0081\n",
      "Epoch 5/5\n",
      "\u001b[1m44/44\u001b[0m \u001b[32m━━━━━━━━━━━━━━━━━━━━\u001b[0m\u001b[37m\u001b[0m \u001b[1m0s\u001b[0m 8ms/step - kl_loss: 6.7657e-06 - total_loss: 0.0072 - val_kl_loss: 0.0000e+00 - val_total_loss: 0.0081\n",
      "Epoch 1/5\n",
      "\u001b[1m15/15\u001b[0m \u001b[32m━━━━━━━━━━━━━━━━━━━━\u001b[0m\u001b[37m\u001b[0m \u001b[1m1s\u001b[0m 20ms/step - kl_loss: 4.9720e-06 - total_loss: 0.0047 - val_kl_loss: 0.0000e+00 - val_total_loss: 0.0039\n",
      "Epoch 2/5\n",
      "\u001b[1m15/15\u001b[0m \u001b[32m━━━━━━━━━━━━━━━━━━━━\u001b[0m\u001b[37m\u001b[0m \u001b[1m0s\u001b[0m 13ms/step - kl_loss: 4.0371e-06 - total_loss: 0.0043 - val_kl_loss: 0.0000e+00 - val_total_loss: 0.0039\n",
      "Epoch 3/5\n",
      "\u001b[1m15/15\u001b[0m \u001b[32m━━━━━━━━━━━━━━━━━━━━\u001b[0m\u001b[37m\u001b[0m \u001b[1m0s\u001b[0m 12ms/step - kl_loss: 4.9313e-06 - total_loss: 0.0045 - val_kl_loss: 0.0000e+00 - val_total_loss: 0.0039\n",
      "Epoch 4/5\n",
      "\u001b[1m15/15\u001b[0m \u001b[32m━━━━━━━━━━━━━━━━━━━━\u001b[0m\u001b[37m\u001b[0m \u001b[1m0s\u001b[0m 12ms/step - kl_loss: 5.3335e-06 - total_loss: 0.0046 - val_kl_loss: 0.0000e+00 - val_total_loss: 0.0039\n",
      "Epoch 5/5\n",
      "\u001b[1m15/15\u001b[0m \u001b[32m━━━━━━━━━━━━━━━━━━━━\u001b[0m\u001b[37m\u001b[0m \u001b[1m0s\u001b[0m 12ms/step - kl_loss: 3.6562e-06 - total_loss: 0.0046 - val_kl_loss: 0.0000e+00 - val_total_loss: 0.0039\n",
      "Epoch 1/5\n",
      "\u001b[1m38/38\u001b[0m \u001b[32m━━━━━━━━━━━━━━━━━━━━\u001b[0m\u001b[37m\u001b[0m \u001b[1m1s\u001b[0m 13ms/step - kl_loss: 3.8332e-06 - total_loss: 0.0027 - val_kl_loss: 0.0000e+00 - val_total_loss: 0.0031\n",
      "Epoch 2/5\n",
      "\u001b[1m38/38\u001b[0m \u001b[32m━━━━━━━━━━━━━━━━━━━━\u001b[0m\u001b[37m\u001b[0m \u001b[1m0s\u001b[0m 11ms/step - kl_loss: 4.9234e-06 - total_loss: 0.0032 - val_kl_loss: 0.0000e+00 - val_total_loss: 0.0031\n",
      "Epoch 3/5\n",
      "\u001b[1m38/38\u001b[0m \u001b[32m━━━━━━━━━━━━━━━━━━━━\u001b[0m\u001b[37m\u001b[0m \u001b[1m0s\u001b[0m 10ms/step - kl_loss: 4.2271e-06 - total_loss: 0.0031 - val_kl_loss: 0.0000e+00 - val_total_loss: 0.0031\n",
      "Epoch 4/5\n",
      "\u001b[1m38/38\u001b[0m \u001b[32m━━━━━━━━━━━━━━━━━━━━\u001b[0m\u001b[37m\u001b[0m \u001b[1m0s\u001b[0m 10ms/step - kl_loss: 2.9537e-06 - total_loss: 0.0029 - val_kl_loss: 0.0000e+00 - val_total_loss: 0.0031\n",
      "Epoch 5/5\n",
      "\u001b[1m38/38\u001b[0m \u001b[32m━━━━━━━━━━━━━━━━━━━━\u001b[0m\u001b[37m\u001b[0m \u001b[1m0s\u001b[0m 9ms/step - kl_loss: 3.2429e-06 - total_loss: 0.0032 - val_kl_loss: 0.0000e+00 - val_total_loss: 0.0031\n",
      "Epoch 1/5\n",
      "\u001b[1m24/24\u001b[0m \u001b[32m━━━━━━━━━━━━━━━━━━━━\u001b[0m\u001b[37m\u001b[0m \u001b[1m1s\u001b[0m 18ms/step - kl_loss: 4.0278e-06 - total_loss: 0.0056 - val_kl_loss: 0.0000e+00 - val_total_loss: 0.0067\n",
      "Epoch 2/5\n",
      "\u001b[1m24/24\u001b[0m \u001b[32m━━━━━━━━━━━━━━━━━━━━\u001b[0m\u001b[37m\u001b[0m \u001b[1m0s\u001b[0m 11ms/step - kl_loss: 2.7866e-06 - total_loss: 0.0063 - val_kl_loss: 0.0000e+00 - val_total_loss: 0.0067\n",
      "Epoch 3/5\n",
      "\u001b[1m24/24\u001b[0m \u001b[32m━━━━━━━━━━━━━━━━━━━━\u001b[0m\u001b[37m\u001b[0m \u001b[1m0s\u001b[0m 13ms/step - kl_loss: 3.2987e-06 - total_loss: 0.0062 - val_kl_loss: 0.0000e+00 - val_total_loss: 0.0067\n",
      "Epoch 4/5\n",
      "\u001b[1m24/24\u001b[0m \u001b[32m━━━━━━━━━━━━━━━━━━━━\u001b[0m\u001b[37m\u001b[0m \u001b[1m0s\u001b[0m 11ms/step - kl_loss: 3.6337e-06 - total_loss: 0.0067 - val_kl_loss: 0.0000e+00 - val_total_loss: 0.0067\n",
      "Epoch 5/5\n",
      "\u001b[1m24/24\u001b[0m \u001b[32m━━━━━━━━━━━━━━━━━━━━\u001b[0m\u001b[37m\u001b[0m \u001b[1m0s\u001b[0m 9ms/step - kl_loss: 3.0808e-06 - total_loss: 0.0063 - val_kl_loss: 0.0000e+00 - val_total_loss: 0.0067\n",
      "Epoch 1/5\n",
      "\u001b[1m31/31\u001b[0m \u001b[32m━━━━━━━━━━━━━━━━━━━━\u001b[0m\u001b[37m\u001b[0m \u001b[1m1s\u001b[0m 18ms/step - kl_loss: 2.0981e-06 - total_loss: 0.0048 - val_kl_loss: 0.0000e+00 - val_total_loss: 0.0042\n",
      "Epoch 2/5\n",
      "\u001b[1m31/31\u001b[0m \u001b[32m━━━━━━━━━━━━━━━━━━━━\u001b[0m\u001b[37m\u001b[0m \u001b[1m0s\u001b[0m 15ms/step - kl_loss: 1.9805e-06 - total_loss: 0.0052 - val_kl_loss: 0.0000e+00 - val_total_loss: 0.0042\n",
      "Epoch 3/5\n",
      "\u001b[1m31/31\u001b[0m \u001b[32m━━━━━━━━━━━━━━━━━━━━\u001b[0m\u001b[37m\u001b[0m \u001b[1m0s\u001b[0m 12ms/step - kl_loss: 1.9341e-06 - total_loss: 0.0057 - val_kl_loss: 0.0000e+00 - val_total_loss: 0.0042\n",
      "Epoch 4/5\n",
      "\u001b[1m31/31\u001b[0m \u001b[32m━━━━━━━━━━━━━━━━━━━━\u001b[0m\u001b[37m\u001b[0m \u001b[1m0s\u001b[0m 10ms/step - kl_loss: 1.6682e-06 - total_loss: 0.0050 - val_kl_loss: 0.0000e+00 - val_total_loss: 0.0042\n",
      "Epoch 5/5\n",
      "\u001b[1m31/31\u001b[0m \u001b[32m━━━━━━━━━━━━━━━━━━━━\u001b[0m\u001b[37m\u001b[0m \u001b[1m0s\u001b[0m 8ms/step - kl_loss: 1.3471e-06 - total_loss: 0.0053 - val_kl_loss: 0.0000e+00 - val_total_loss: 0.0042\n",
      "Epoch 1/5\n",
      "\u001b[1m15/15\u001b[0m \u001b[32m━━━━━━━━━━━━━━━━━━━━\u001b[0m\u001b[37m\u001b[0m \u001b[1m1s\u001b[0m 18ms/step - kl_loss: 1.3198e-06 - total_loss: 0.0022 - val_kl_loss: 0.0000e+00 - val_total_loss: 0.0025\n",
      "Epoch 2/5\n",
      "\u001b[1m15/15\u001b[0m \u001b[32m━━━━━━━━━━━━━━━━━━━━\u001b[0m\u001b[37m\u001b[0m \u001b[1m0s\u001b[0m 11ms/step - kl_loss: 1.9644e-06 - total_loss: 0.0022 - val_kl_loss: 0.0000e+00 - val_total_loss: 0.0025\n",
      "Epoch 3/5\n",
      "\u001b[1m15/15\u001b[0m \u001b[32m━━━━━━━━━━━━━━━━━━━━\u001b[0m\u001b[37m\u001b[0m \u001b[1m0s\u001b[0m 10ms/step - kl_loss: 1.4391e-06 - total_loss: 0.0022 - val_kl_loss: 0.0000e+00 - val_total_loss: 0.0025\n",
      "Epoch 4/5\n",
      "\u001b[1m15/15\u001b[0m \u001b[32m━━━━━━━━━━━━━━━━━━━━\u001b[0m\u001b[37m\u001b[0m \u001b[1m0s\u001b[0m 10ms/step - kl_loss: 1.9344e-06 - total_loss: 0.0021 - val_kl_loss: 0.0000e+00 - val_total_loss: 0.0025\n",
      "Epoch 5/5\n",
      "\u001b[1m15/15\u001b[0m \u001b[32m━━━━━━━━━━━━━━━━━━━━\u001b[0m\u001b[37m\u001b[0m \u001b[1m0s\u001b[0m 11ms/step - kl_loss: 7.1084e-07 - total_loss: 0.0022 - val_kl_loss: 0.0000e+00 - val_total_loss: 0.0025\n",
      "Epoch 1/5\n",
      "\u001b[1m26/26\u001b[0m \u001b[32m━━━━━━━━━━━━━━━━━━━━\u001b[0m\u001b[37m\u001b[0m \u001b[1m1s\u001b[0m 14ms/step - kl_loss: 1.1638e-06 - total_loss: 0.0047 - val_kl_loss: 0.0000e+00 - val_total_loss: 0.0032\n",
      "Epoch 2/5\n",
      "\u001b[1m26/26\u001b[0m \u001b[32m━━━━━━━━━━━━━━━━━━━━\u001b[0m\u001b[37m\u001b[0m \u001b[1m0s\u001b[0m 12ms/step - kl_loss: 1.4053e-06 - total_loss: 0.0041 - val_kl_loss: 0.0000e+00 - val_total_loss: 0.0032\n",
      "Epoch 3/5\n",
      "\u001b[1m26/26\u001b[0m \u001b[32m━━━━━━━━━━━━━━━━━━━━\u001b[0m\u001b[37m\u001b[0m \u001b[1m0s\u001b[0m 12ms/step - kl_loss: 1.8978e-06 - total_loss: 0.0043 - val_kl_loss: 0.0000e+00 - val_total_loss: 0.0032\n",
      "Epoch 4/5\n",
      "\u001b[1m26/26\u001b[0m \u001b[32m━━━━━━━━━━━━━━━━━━━━\u001b[0m\u001b[37m\u001b[0m \u001b[1m0s\u001b[0m 11ms/step - kl_loss: 1.4450e-06 - total_loss: 0.0044 - val_kl_loss: 0.0000e+00 - val_total_loss: 0.0032\n",
      "Epoch 5/5\n",
      "\u001b[1m26/26\u001b[0m \u001b[32m━━━━━━━━━━━━━━━━━━━━\u001b[0m\u001b[37m\u001b[0m \u001b[1m0s\u001b[0m 9ms/step - kl_loss: 1.0287e-06 - total_loss: 0.0046 - val_kl_loss: 0.0000e+00 - val_total_loss: 0.0032\n",
      "Epoch 1/5\n",
      "\u001b[1m32/32\u001b[0m \u001b[32m━━━━━━━━━━━━━━━━━━━━\u001b[0m\u001b[37m\u001b[0m \u001b[1m1s\u001b[0m 16ms/step - kl_loss: 2.8309e-06 - total_loss: 0.0052 - val_kl_loss: 0.0000e+00 - val_total_loss: 0.0060\n",
      "Epoch 2/5\n",
      "\u001b[1m32/32\u001b[0m \u001b[32m━━━━━━━━━━━━━━━━━━━━\u001b[0m\u001b[37m\u001b[0m \u001b[1m0s\u001b[0m 11ms/step - kl_loss: 1.0496e-06 - total_loss: 0.0048 - val_kl_loss: 0.0000e+00 - val_total_loss: 0.0060\n",
      "Epoch 3/5\n",
      "\u001b[1m32/32\u001b[0m \u001b[32m━━━━━━━━━━━━━━━━━━━━\u001b[0m\u001b[37m\u001b[0m \u001b[1m0s\u001b[0m 10ms/step - kl_loss: 2.0257e-06 - total_loss: 0.0052 - val_kl_loss: 0.0000e+00 - val_total_loss: 0.0060\n",
      "Epoch 4/5\n",
      "\u001b[1m32/32\u001b[0m \u001b[32m━━━━━━━━━━━━━━━━━━━━\u001b[0m\u001b[37m\u001b[0m \u001b[1m0s\u001b[0m 8ms/step - kl_loss: 1.3040e-06 - total_loss: 0.0054 - val_kl_loss: 0.0000e+00 - val_total_loss: 0.0060\n",
      "Epoch 5/5\n",
      "\u001b[1m32/32\u001b[0m \u001b[32m━━━━━━━━━━━━━━━━━━━━\u001b[0m\u001b[37m\u001b[0m \u001b[1m0s\u001b[0m 8ms/step - kl_loss: 9.0599e-07 - total_loss: 0.0052 - val_kl_loss: 0.0000e+00 - val_total_loss: 0.0060\n",
      "Epoch 1/5\n",
      "\u001b[1m55/55\u001b[0m \u001b[32m━━━━━━━━━━━━━━━━━━━━\u001b[0m\u001b[37m\u001b[0m \u001b[1m1s\u001b[0m 11ms/step - kl_loss: 5.0680e-06 - total_loss: 0.0193 - val_kl_loss: 0.0000e+00 - val_total_loss: 0.0226\n",
      "Epoch 2/5\n",
      "\u001b[1m55/55\u001b[0m \u001b[32m━━━━━━━━━━━━━━━━━━━━\u001b[0m\u001b[37m\u001b[0m \u001b[1m1s\u001b[0m 9ms/step - kl_loss: 1.9039e-06 - total_loss: 0.0196 - val_kl_loss: 0.0000e+00 - val_total_loss: 0.0226\n",
      "Epoch 3/5\n",
      "\u001b[1m55/55\u001b[0m \u001b[32m━━━━━━━━━━━━━━━━━━━━\u001b[0m\u001b[37m\u001b[0m \u001b[1m0s\u001b[0m 8ms/step - kl_loss: 1.7556e-06 - total_loss: 0.0195 - val_kl_loss: 0.0000e+00 - val_total_loss: 0.0226\n",
      "Epoch 4/5\n",
      "\u001b[1m55/55\u001b[0m \u001b[32m━━━━━━━━━━━━━━━━━━━━\u001b[0m\u001b[37m\u001b[0m \u001b[1m0s\u001b[0m 8ms/step - kl_loss: 1.7057e-06 - total_loss: 0.0197 - val_kl_loss: 0.0000e+00 - val_total_loss: 0.0226\n",
      "Epoch 5/5\n",
      "\u001b[1m55/55\u001b[0m \u001b[32m━━━━━━━━━━━━━━━━━━━━\u001b[0m\u001b[37m\u001b[0m \u001b[1m0s\u001b[0m 8ms/step - kl_loss: 1.4267e-06 - total_loss: 0.0201 - val_kl_loss: 0.0000e+00 - val_total_loss: 0.0226\n",
      "Epoch 1/5\n",
      "\u001b[1m44/44\u001b[0m \u001b[32m━━━━━━━━━━━━━━━━━━━━\u001b[0m\u001b[37m\u001b[0m \u001b[1m1s\u001b[0m 13ms/step - kl_loss: 7.7414e-07 - total_loss: 0.0054 - val_kl_loss: 0.0000e+00 - val_total_loss: 0.0051\n",
      "Epoch 2/5\n",
      "\u001b[1m44/44\u001b[0m \u001b[32m━━━━━━━━━━━━━━━━━━━━\u001b[0m\u001b[37m\u001b[0m \u001b[1m1s\u001b[0m 11ms/step - kl_loss: 5.0474e-07 - total_loss: 0.0051 - val_kl_loss: 0.0000e+00 - val_total_loss: 0.0051\n",
      "Epoch 3/5\n",
      "\u001b[1m44/44\u001b[0m \u001b[32m━━━━━━━━━━━━━━━━━━━━\u001b[0m\u001b[37m\u001b[0m \u001b[1m0s\u001b[0m 9ms/step - kl_loss: 6.2549e-07 - total_loss: 0.0051 - val_kl_loss: 0.0000e+00 - val_total_loss: 0.0051\n",
      "Epoch 4/5\n",
      "\u001b[1m44/44\u001b[0m \u001b[32m━━━━━━━━━━━━━━━━━━━━\u001b[0m\u001b[37m\u001b[0m \u001b[1m0s\u001b[0m 9ms/step - kl_loss: 5.7485e-07 - total_loss: 0.0052 - val_kl_loss: 0.0000e+00 - val_total_loss: 0.0051\n",
      "Epoch 5/5\n",
      "\u001b[1m44/44\u001b[0m \u001b[32m━━━━━━━━━━━━━━━━━━━━\u001b[0m\u001b[37m\u001b[0m \u001b[1m0s\u001b[0m 9ms/step - kl_loss: 4.7017e-07 - total_loss: 0.0048 - val_kl_loss: 0.0000e+00 - val_total_loss: 0.0051\n",
      "Epoch 1/5\n",
      "\u001b[1m39/39\u001b[0m \u001b[32m━━━━━━━━━━━━━━━━━━━━\u001b[0m\u001b[37m\u001b[0m \u001b[1m1s\u001b[0m 12ms/step - kl_loss: 7.0468e-07 - total_loss: 0.0094 - val_kl_loss: 0.0000e+00 - val_total_loss: 0.0111\n",
      "Epoch 2/5\n",
      "\u001b[1m39/39\u001b[0m \u001b[32m━━━━━━━━━━━━━━━━━━━━\u001b[0m\u001b[37m\u001b[0m \u001b[1m0s\u001b[0m 10ms/step - kl_loss: 8.6424e-07 - total_loss: 0.0086 - val_kl_loss: 0.0000e+00 - val_total_loss: 0.0111\n",
      "Epoch 3/5\n",
      "\u001b[1m39/39\u001b[0m \u001b[32m━━━━━━━━━━━━━━━━━━━━\u001b[0m\u001b[37m\u001b[0m \u001b[1m0s\u001b[0m 9ms/step - kl_loss: 8.4571e-07 - total_loss: 0.0097 - val_kl_loss: 0.0000e+00 - val_total_loss: 0.0111\n",
      "Epoch 4/5\n",
      "\u001b[1m39/39\u001b[0m \u001b[32m━━━━━━━━━━━━━━━━━━━━\u001b[0m\u001b[37m\u001b[0m \u001b[1m0s\u001b[0m 9ms/step - kl_loss: 4.2759e-07 - total_loss: 0.0088 - val_kl_loss: 0.0000e+00 - val_total_loss: 0.0111\n",
      "Epoch 5/5\n",
      "\u001b[1m39/39\u001b[0m \u001b[32m━━━━━━━━━━━━━━━━━━━━\u001b[0m\u001b[37m\u001b[0m \u001b[1m0s\u001b[0m 9ms/step - kl_loss: 5.1566e-07 - total_loss: 0.0097 - val_kl_loss: 0.0000e+00 - val_total_loss: 0.0111\n",
      "Epoch 1/5\n",
      "\u001b[1m43/43\u001b[0m \u001b[32m━━━━━━━━━━━━━━━━━━━━\u001b[0m\u001b[37m\u001b[0m \u001b[1m1s\u001b[0m 12ms/step - kl_loss: 9.0600e-07 - total_loss: 0.0113 - val_kl_loss: 0.0000e+00 - val_total_loss: 0.0122\n",
      "Epoch 2/5\n",
      "\u001b[1m43/43\u001b[0m \u001b[32m━━━━━━━━━━━━━━━━━━━━\u001b[0m\u001b[37m\u001b[0m \u001b[1m0s\u001b[0m 10ms/step - kl_loss: 2.9674e-07 - total_loss: 0.0115 - val_kl_loss: 0.0000e+00 - val_total_loss: 0.0122\n",
      "Epoch 3/5\n",
      "\u001b[1m43/43\u001b[0m \u001b[32m━━━━━━━━━━━━━━━━━━━━\u001b[0m\u001b[37m\u001b[0m \u001b[1m0s\u001b[0m 10ms/step - kl_loss: 2.4269e-07 - total_loss: 0.0116 - val_kl_loss: 0.0000e+00 - val_total_loss: 0.0122\n",
      "Epoch 4/5\n",
      "\u001b[1m43/43\u001b[0m \u001b[32m━━━━━━━━━━━━━━━━━━━━\u001b[0m\u001b[37m\u001b[0m \u001b[1m0s\u001b[0m 8ms/step - kl_loss: 4.3789e-07 - total_loss: 0.0117 - val_kl_loss: 0.0000e+00 - val_total_loss: 0.0122\n",
      "Epoch 5/5\n",
      "\u001b[1m43/43\u001b[0m \u001b[32m━━━━━━━━━━━━━━━━━━━━\u001b[0m\u001b[37m\u001b[0m \u001b[1m0s\u001b[0m 9ms/step - kl_loss: 1.6895e-07 - total_loss: 0.0110 - val_kl_loss: 0.0000e+00 - val_total_loss: 0.0122\n",
      "Epoch 1/5\n",
      "\u001b[1m27/27\u001b[0m \u001b[32m━━━━━━━━━━━━━━━━━━━━\u001b[0m\u001b[37m\u001b[0m \u001b[1m1s\u001b[0m 14ms/step - kl_loss: 1.5500e-07 - total_loss: 0.0048 - val_kl_loss: 0.0000e+00 - val_total_loss: 0.0047\n",
      "Epoch 2/5\n",
      "\u001b[1m27/27\u001b[0m \u001b[32m━━━━━━━━━━━━━━━━━━━━\u001b[0m\u001b[37m\u001b[0m \u001b[1m0s\u001b[0m 12ms/step - kl_loss: 4.2262e-07 - total_loss: 0.0047 - val_kl_loss: 0.0000e+00 - val_total_loss: 0.0047\n",
      "Epoch 3/5\n",
      "\u001b[1m27/27\u001b[0m \u001b[32m━━━━━━━━━━━━━━━━━━━━\u001b[0m\u001b[37m\u001b[0m \u001b[1m0s\u001b[0m 11ms/step - kl_loss: 1.6868e-07 - total_loss: 0.0053 - val_kl_loss: 0.0000e+00 - val_total_loss: 0.0047\n",
      "Epoch 4/5\n",
      "\u001b[1m27/27\u001b[0m \u001b[32m━━━━━━━━━━━━━━━━━━━━\u001b[0m\u001b[37m\u001b[0m \u001b[1m0s\u001b[0m 10ms/step - kl_loss: 2.6848e-07 - total_loss: 0.0045 - val_kl_loss: 0.0000e+00 - val_total_loss: 0.0047\n",
      "Epoch 5/5\n",
      "\u001b[1m27/27\u001b[0m \u001b[32m━━━━━━━━━━━━━━━━━━━━\u001b[0m\u001b[37m\u001b[0m \u001b[1m0s\u001b[0m 8ms/step - kl_loss: 4.1113e-07 - total_loss: 0.0053 - val_kl_loss: 0.0000e+00 - val_total_loss: 0.0047\n",
      "Epoch 1/5\n",
      "\u001b[1m34/34\u001b[0m \u001b[32m━━━━━━━━━━━━━━━━━━━━\u001b[0m\u001b[37m\u001b[0m \u001b[1m1s\u001b[0m 14ms/step - kl_loss: 1.7081e-07 - total_loss: 0.0047 - val_kl_loss: 0.0000e+00 - val_total_loss: 0.0051\n",
      "Epoch 2/5\n",
      "\u001b[1m34/34\u001b[0m \u001b[32m━━━━━━━━━━━━━━━━━━━━\u001b[0m\u001b[37m\u001b[0m \u001b[1m0s\u001b[0m 11ms/step - kl_loss: 3.9609e-07 - total_loss: 0.0047 - val_kl_loss: 0.0000e+00 - val_total_loss: 0.0051\n",
      "Epoch 3/5\n",
      "\u001b[1m34/34\u001b[0m \u001b[32m━━━━━━━━━━━━━━━━━━━━\u001b[0m\u001b[37m\u001b[0m \u001b[1m0s\u001b[0m 10ms/step - kl_loss: 3.2982e-07 - total_loss: 0.0044 - val_kl_loss: 0.0000e+00 - val_total_loss: 0.0051\n",
      "Epoch 4/5\n",
      "\u001b[1m34/34\u001b[0m \u001b[32m━━━━━━━━━━━━━━━━━━━━\u001b[0m\u001b[37m\u001b[0m \u001b[1m0s\u001b[0m 8ms/step - kl_loss: 2.5506e-07 - total_loss: 0.0046 - val_kl_loss: 0.0000e+00 - val_total_loss: 0.0051\n",
      "Epoch 5/5\n",
      "\u001b[1m34/34\u001b[0m \u001b[32m━━━━━━━━━━━━━━━━━━━━\u001b[0m\u001b[37m\u001b[0m \u001b[1m0s\u001b[0m 8ms/step - kl_loss: 6.7531e-08 - total_loss: 0.0049 - val_kl_loss: 0.0000e+00 - val_total_loss: 0.0051\n",
      "Epoch 1/5\n",
      "\u001b[1m49/49\u001b[0m \u001b[32m━━━━━━━━━━━━━━━━━━━━\u001b[0m\u001b[37m\u001b[0m \u001b[1m1s\u001b[0m 14ms/step - kl_loss: 5.2556e-07 - total_loss: 0.0272 - val_kl_loss: 0.0000e+00 - val_total_loss: 0.0199\n",
      "Epoch 2/5\n",
      "\u001b[1m49/49\u001b[0m \u001b[32m━━━━━━━━━━━━━━━━━━━━\u001b[0m\u001b[37m\u001b[0m \u001b[1m1s\u001b[0m 12ms/step - kl_loss: 8.3658e-07 - total_loss: 0.0247 - val_kl_loss: 0.0000e+00 - val_total_loss: 0.0199\n",
      "Epoch 3/5\n",
      "\u001b[1m49/49\u001b[0m \u001b[32m━━━━━━━━━━━━━━━━━━━━\u001b[0m\u001b[37m\u001b[0m \u001b[1m0s\u001b[0m 9ms/step - kl_loss: 3.7652e-07 - total_loss: 0.0239 - val_kl_loss: 0.0000e+00 - val_total_loss: 0.0199\n",
      "Epoch 4/5\n",
      "\u001b[1m49/49\u001b[0m \u001b[32m━━━━━━━━━━━━━━━━━━━━\u001b[0m\u001b[37m\u001b[0m \u001b[1m0s\u001b[0m 9ms/step - kl_loss: 3.5158e-07 - total_loss: 0.0299 - val_kl_loss: 0.0000e+00 - val_total_loss: 0.0199\n",
      "Epoch 5/5\n",
      "\u001b[1m49/49\u001b[0m \u001b[32m━━━━━━━━━━━━━━━━━━━━\u001b[0m\u001b[37m\u001b[0m \u001b[1m0s\u001b[0m 8ms/step - kl_loss: 5.3225e-07 - total_loss: 0.0255 - val_kl_loss: 0.0000e+00 - val_total_loss: 0.0199\n",
      "Epoch 1/5\n",
      "\u001b[1m29/29\u001b[0m \u001b[32m━━━━━━━━━━━━━━━━━━━━\u001b[0m\u001b[37m\u001b[0m \u001b[1m1s\u001b[0m 13ms/step - kl_loss: 9.1226e-08 - total_loss: 0.0060 - val_kl_loss: 0.0000e+00 - val_total_loss: 0.0073\n",
      "Epoch 2/5\n",
      "\u001b[1m29/29\u001b[0m \u001b[32m━━━━━━━━━━━━━━━━━━━━\u001b[0m\u001b[37m\u001b[0m \u001b[1m0s\u001b[0m 10ms/step - kl_loss: 5.3576e-08 - total_loss: 0.0058 - val_kl_loss: 0.0000e+00 - val_total_loss: 0.0073\n",
      "Epoch 3/5\n",
      "\u001b[1m29/29\u001b[0m \u001b[32m━━━━━━━━━━━━━━━━━━━━\u001b[0m\u001b[37m\u001b[0m \u001b[1m0s\u001b[0m 10ms/step - kl_loss: 3.6041e-08 - total_loss: 0.0063 - val_kl_loss: 0.0000e+00 - val_total_loss: 0.0073\n",
      "Epoch 4/5\n",
      "\u001b[1m29/29\u001b[0m \u001b[32m━━━━━━━━━━━━━━━━━━━━\u001b[0m\u001b[37m\u001b[0m \u001b[1m0s\u001b[0m 10ms/step - kl_loss: 9.0738e-08 - total_loss: 0.0058 - val_kl_loss: 0.0000e+00 - val_total_loss: 0.0073\n",
      "Epoch 5/5\n",
      "\u001b[1m29/29\u001b[0m \u001b[32m━━━━━━━━━━━━━━━━━━━━\u001b[0m\u001b[37m\u001b[0m \u001b[1m0s\u001b[0m 8ms/step - kl_loss: 3.1907e-07 - total_loss: 0.0059 - val_kl_loss: 0.0000e+00 - val_total_loss: 0.0073\n",
      "Epoch 1/5\n",
      "\u001b[1m14/14\u001b[0m \u001b[32m━━━━━━━━━━━━━━━━━━━━\u001b[0m\u001b[37m\u001b[0m \u001b[1m1s\u001b[0m 18ms/step - kl_loss: 5.4474e-08 - total_loss: 0.0037 - val_kl_loss: 0.0000e+00 - val_total_loss: 0.0037\n",
      "Epoch 2/5\n",
      "\u001b[1m14/14\u001b[0m \u001b[32m━━━━━━━━━━━━━━━━━━━━\u001b[0m\u001b[37m\u001b[0m \u001b[1m0s\u001b[0m 12ms/step - kl_loss: 1.5042e-08 - total_loss: 0.0037 - val_kl_loss: 0.0000e+00 - val_total_loss: 0.0037\n",
      "Epoch 3/5\n",
      "\u001b[1m14/14\u001b[0m \u001b[32m━━━━━━━━━━━━━━━━━━━━\u001b[0m\u001b[37m\u001b[0m \u001b[1m0s\u001b[0m 11ms/step - kl_loss: 3.1696e-07 - total_loss: 0.0039 - val_kl_loss: 0.0000e+00 - val_total_loss: 0.0037\n",
      "Epoch 4/5\n",
      "\u001b[1m14/14\u001b[0m \u001b[32m━━━━━━━━━━━━━━━━━━━━\u001b[0m\u001b[37m\u001b[0m \u001b[1m0s\u001b[0m 12ms/step - kl_loss: 1.5573e-07 - total_loss: 0.0042 - val_kl_loss: 0.0000e+00 - val_total_loss: 0.0037\n",
      "Epoch 5/5\n",
      "\u001b[1m14/14\u001b[0m \u001b[32m━━━━━━━━━━━━━━━━━━━━\u001b[0m\u001b[37m\u001b[0m \u001b[1m0s\u001b[0m 13ms/step - kl_loss: 2.0047e-08 - total_loss: 0.0038 - val_kl_loss: 0.0000e+00 - val_total_loss: 0.0037\n",
      "Epoch 1/5\n",
      "\u001b[1m13/13\u001b[0m \u001b[32m━━━━━━━━━━━━━━━━━━━━\u001b[0m\u001b[37m\u001b[0m \u001b[1m1s\u001b[0m 20ms/step - kl_loss: 2.9559e-07 - total_loss: 0.0036 - val_kl_loss: 0.0000e+00 - val_total_loss: 0.0026\n",
      "Epoch 2/5\n",
      "\u001b[1m13/13\u001b[0m \u001b[32m━━━━━━━━━━━━━━━━━━━━\u001b[0m\u001b[37m\u001b[0m \u001b[1m0s\u001b[0m 12ms/step - kl_loss: 1.5163e-07 - total_loss: 0.0037 - val_kl_loss: 0.0000e+00 - val_total_loss: 0.0026\n",
      "Epoch 3/5\n",
      "\u001b[1m13/13\u001b[0m \u001b[32m━━━━━━━━━━━━━━━━━━━━\u001b[0m\u001b[37m\u001b[0m \u001b[1m0s\u001b[0m 12ms/step - kl_loss: 8.2421e-08 - total_loss: 0.0033 - val_kl_loss: 0.0000e+00 - val_total_loss: 0.0026\n",
      "Epoch 4/5\n",
      "\u001b[1m13/13\u001b[0m \u001b[32m━━━━━━━━━━━━━━━━━━━━\u001b[0m\u001b[37m\u001b[0m \u001b[1m0s\u001b[0m 12ms/step - kl_loss: 1.3599e-07 - total_loss: 0.0037 - val_kl_loss: 0.0000e+00 - val_total_loss: 0.0026\n",
      "Epoch 5/5\n",
      "\u001b[1m13/13\u001b[0m \u001b[32m━━━━━━━━━━━━━━━━━━━━\u001b[0m\u001b[37m\u001b[0m \u001b[1m0s\u001b[0m 13ms/step - kl_loss: 1.7982e-08 - total_loss: 0.0035 - val_kl_loss: 0.0000e+00 - val_total_loss: 0.0026\n",
      "Epoch 1/5\n",
      "\u001b[1m49/49\u001b[0m \u001b[32m━━━━━━━━━━━━━━━━━━━━\u001b[0m\u001b[37m\u001b[0m \u001b[1m1s\u001b[0m 14ms/step - kl_loss: 6.5955e-07 - total_loss: 0.0433 - val_kl_loss: 0.0000e+00 - val_total_loss: 0.0411\n",
      "Epoch 2/5\n",
      "\u001b[1m49/49\u001b[0m \u001b[32m━━━━━━━━━━━━━━━━━━━━\u001b[0m\u001b[37m\u001b[0m \u001b[1m1s\u001b[0m 12ms/step - kl_loss: 4.3795e-07 - total_loss: 0.0455 - val_kl_loss: 0.0000e+00 - val_total_loss: 0.0411\n",
      "Epoch 3/5\n",
      "\u001b[1m49/49\u001b[0m \u001b[32m━━━━━━━━━━━━━━━━━━━━\u001b[0m\u001b[37m\u001b[0m \u001b[1m0s\u001b[0m 9ms/step - kl_loss: 3.4931e-07 - total_loss: 0.0424 - val_kl_loss: 0.0000e+00 - val_total_loss: 0.0411\n",
      "Epoch 4/5\n",
      "\u001b[1m49/49\u001b[0m \u001b[32m━━━━━━━━━━━━━━━━━━━━\u001b[0m\u001b[37m\u001b[0m \u001b[1m0s\u001b[0m 9ms/step - kl_loss: 3.5285e-07 - total_loss: 0.0423 - val_kl_loss: 0.0000e+00 - val_total_loss: 0.0411\n",
      "Epoch 5/5\n",
      "\u001b[1m49/49\u001b[0m \u001b[32m━━━━━━━━━━━━━━━━━━━━\u001b[0m\u001b[37m\u001b[0m \u001b[1m0s\u001b[0m 8ms/step - kl_loss: 6.8309e-07 - total_loss: 0.0454 - val_kl_loss: 0.0000e+00 - val_total_loss: 0.0411\n",
      "Epoch 1/5\n",
      "\u001b[1m46/46\u001b[0m \u001b[32m━━━━━━━━━━━━━━━━━━━━\u001b[0m\u001b[37m\u001b[0m \u001b[1m1s\u001b[0m 13ms/step - kl_loss: 5.9131e-07 - total_loss: 0.0331 - val_kl_loss: 0.0000e+00 - val_total_loss: 0.0282\n",
      "Epoch 2/5\n",
      "\u001b[1m46/46\u001b[0m \u001b[32m━━━━━━━━━━━━━━━━━━━━\u001b[0m\u001b[37m\u001b[0m \u001b[1m0s\u001b[0m 9ms/step - kl_loss: 4.0357e-07 - total_loss: 0.0295 - val_kl_loss: 0.0000e+00 - val_total_loss: 0.0282\n",
      "Epoch 3/5\n",
      "\u001b[1m46/46\u001b[0m \u001b[32m━━━━━━━━━━━━━━━━━━━━\u001b[0m\u001b[37m\u001b[0m \u001b[1m0s\u001b[0m 8ms/step - kl_loss: 4.4580e-08 - total_loss: 0.0320 - val_kl_loss: 0.0000e+00 - val_total_loss: 0.0282\n",
      "Epoch 4/5\n",
      "\u001b[1m46/46\u001b[0m \u001b[32m━━━━━━━━━━━━━━━━━━━━\u001b[0m\u001b[37m\u001b[0m \u001b[1m0s\u001b[0m 8ms/step - kl_loss: 3.4338e-08 - total_loss: 0.0309 - val_kl_loss: 0.0000e+00 - val_total_loss: 0.0282\n",
      "Epoch 5/5\n",
      "\u001b[1m46/46\u001b[0m \u001b[32m━━━━━━━━━━━━━━━━━━━━\u001b[0m\u001b[37m\u001b[0m \u001b[1m0s\u001b[0m 9ms/step - kl_loss: 8.2979e-07 - total_loss: 0.0333 - val_kl_loss: 0.0000e+00 - val_total_loss: 0.0282\n",
      "Epoch 1/5\n",
      "\u001b[1m39/39\u001b[0m \u001b[32m━━━━━━━━━━━━━━━━━━━━\u001b[0m\u001b[37m\u001b[0m \u001b[1m1s\u001b[0m 16ms/step - kl_loss: 7.5152e-08 - total_loss: 0.0128 - val_kl_loss: 0.0000e+00 - val_total_loss: 0.0127\n",
      "Epoch 2/5\n",
      "\u001b[1m39/39\u001b[0m \u001b[32m━━━━━━━━━━━━━━━━━━━━\u001b[0m\u001b[37m\u001b[0m \u001b[1m0s\u001b[0m 12ms/step - kl_loss: 7.1429e-08 - total_loss: 0.0127 - val_kl_loss: 0.0000e+00 - val_total_loss: 0.0127\n",
      "Epoch 3/5\n",
      "\u001b[1m39/39\u001b[0m \u001b[32m━━━━━━━━━━━━━━━━━━━━\u001b[0m\u001b[37m\u001b[0m \u001b[1m0s\u001b[0m 11ms/step - kl_loss: 2.0334e-08 - total_loss: 0.0121 - val_kl_loss: 0.0000e+00 - val_total_loss: 0.0127\n",
      "Epoch 4/5\n",
      "\u001b[1m39/39\u001b[0m \u001b[32m━━━━━━━━━━━━━━━━━━━━\u001b[0m\u001b[37m\u001b[0m \u001b[1m0s\u001b[0m 9ms/step - kl_loss: 1.3433e-07 - total_loss: 0.0125 - val_kl_loss: 0.0000e+00 - val_total_loss: 0.0127\n",
      "Epoch 5/5\n",
      "\u001b[1m39/39\u001b[0m \u001b[32m━━━━━━━━━━━━━━━━━━━━\u001b[0m\u001b[37m\u001b[0m \u001b[1m0s\u001b[0m 8ms/step - kl_loss: 1.1839e-07 - total_loss: 0.0127 - val_kl_loss: 0.0000e+00 - val_total_loss: 0.0127\n",
      "Epoch 1/5\n",
      "\u001b[1m58/58\u001b[0m \u001b[32m━━━━━━━━━━━━━━━━━━━━\u001b[0m\u001b[37m\u001b[0m \u001b[1m1s\u001b[0m 11ms/step - kl_loss: 9.4101e-07 - total_loss: 0.0370 - val_kl_loss: 0.0000e+00 - val_total_loss: 0.0355\n",
      "Epoch 2/5\n",
      "\u001b[1m58/58\u001b[0m \u001b[32m━━━━━━━━━━━━━━━━━━━━\u001b[0m\u001b[37m\u001b[0m \u001b[1m1s\u001b[0m 9ms/step - kl_loss: 8.9386e-08 - total_loss: 0.0374 - val_kl_loss: 0.0000e+00 - val_total_loss: 0.0355\n",
      "Epoch 3/5\n",
      "\u001b[1m58/58\u001b[0m \u001b[32m━━━━━━━━━━━━━━━━━━━━\u001b[0m\u001b[37m\u001b[0m \u001b[1m0s\u001b[0m 8ms/step - kl_loss: 1.9805e-07 - total_loss: 0.0354 - val_kl_loss: 0.0000e+00 - val_total_loss: 0.0355\n",
      "Epoch 4/5\n",
      "\u001b[1m58/58\u001b[0m \u001b[32m━━━━━━━━━━━━━━━━━━━━\u001b[0m\u001b[37m\u001b[0m \u001b[1m0s\u001b[0m 8ms/step - kl_loss: 8.6700e-08 - total_loss: 0.0338 - val_kl_loss: 0.0000e+00 - val_total_loss: 0.0355\n",
      "Epoch 5/5\n",
      "\u001b[1m58/58\u001b[0m \u001b[32m━━━━━━━━━━━━━━━━━━━━\u001b[0m\u001b[37m\u001b[0m \u001b[1m0s\u001b[0m 8ms/step - kl_loss: 7.1777e-08 - total_loss: 0.0385 - val_kl_loss: 0.0000e+00 - val_total_loss: 0.0355\n",
      "Epoch 1/5\n",
      "\u001b[1m 1/52\u001b[0m \u001b[37m━━━━━━━━━━━━━━━━━━━━\u001b[0m \u001b[1m21s\u001b[0m 423ms/step - kl_loss: 0.0000e+00 - total_loss: 0.0330"
     ]
    },
    {
     "name": "stderr",
     "output_type": "stream",
     "text": [
      "2024-07-04 15:04:05.889575: W tensorflow/core/framework/local_rendezvous.cc:404] Local rendezvous is aborting with status: INVALID_ARGUMENT: c_bid contains NaNs or Infs ----- Tensor(\"strided_slice_2:0\", shape=(None, 20), dtype=float32) : Tensor had NaN values\n",
      "\t [[{{function_node __inference_one_step_on_data_4548}}{{node CheckNumerics}}]]\n"
     ]
    },
    {
     "ename": "InvalidArgumentError",
     "evalue": "Graph execution error:\n\nDetected at node CheckNumerics defined at (most recent call last):\n  File \"<frozen runpy>\", line 198, in _run_module_as_main\n\n  File \"<frozen runpy>\", line 88, in _run_code\n\n  File \"/usr/local/lib/python3.11/dist-packages/ipykernel_launcher.py\", line 18, in <module>\n\n  File \"/usr/local/lib/python3.11/dist-packages/traitlets/config/application.py\", line 1075, in launch_instance\n\n  File \"/usr/local/lib/python3.11/dist-packages/ipykernel/kernelapp.py\", line 739, in start\n\n  File \"/usr/local/lib/python3.11/dist-packages/tornado/platform/asyncio.py\", line 205, in start\n\n  File \"/usr/lib/python3.11/asyncio/base_events.py\", line 604, in run_forever\n\n  File \"/usr/lib/python3.11/asyncio/base_events.py\", line 1909, in _run_once\n\n  File \"/usr/lib/python3.11/asyncio/events.py\", line 80, in _run\n\n  File \"/usr/local/lib/python3.11/dist-packages/ipykernel/kernelbase.py\", line 545, in dispatch_queue\n\n  File \"/usr/local/lib/python3.11/dist-packages/ipykernel/kernelbase.py\", line 534, in process_one\n\n  File \"/usr/local/lib/python3.11/dist-packages/ipykernel/kernelbase.py\", line 437, in dispatch_shell\n\n  File \"/usr/local/lib/python3.11/dist-packages/ipykernel/ipkernel.py\", line 362, in execute_request\n\n  File \"/usr/local/lib/python3.11/dist-packages/ipykernel/kernelbase.py\", line 778, in execute_request\n\n  File \"/usr/local/lib/python3.11/dist-packages/ipykernel/ipkernel.py\", line 449, in do_execute\n\n  File \"/usr/local/lib/python3.11/dist-packages/ipykernel/zmqshell.py\", line 549, in run_cell\n\n  File \"/usr/local/lib/python3.11/dist-packages/IPython/core/interactiveshell.py\", line 3075, in run_cell\n\n  File \"/usr/local/lib/python3.11/dist-packages/IPython/core/interactiveshell.py\", line 3130, in _run_cell\n\n  File \"/usr/local/lib/python3.11/dist-packages/IPython/core/async_helpers.py\", line 129, in _pseudo_sync_runner\n\n  File \"/usr/local/lib/python3.11/dist-packages/IPython/core/interactiveshell.py\", line 3334, in run_cell_async\n\n  File \"/usr/local/lib/python3.11/dist-packages/IPython/core/interactiveshell.py\", line 3517, in run_ast_nodes\n\n  File \"/usr/local/lib/python3.11/dist-packages/IPython/core/interactiveshell.py\", line 3577, in run_code\n\n  File \"/tmp/ipykernel_10357/199624722.py\", line 20, in <module>\n\n  File \"/usr/local/lib/python3.11/dist-packages/keras/src/utils/traceback_utils.py\", line 118, in error_handler\n\n  File \"/usr/local/lib/python3.11/dist-packages/keras/src/backend/tensorflow/trainer.py\", line 323, in fit\n\n  File \"/usr/local/lib/python3.11/dist-packages/keras/src/backend/tensorflow/trainer.py\", line 117, in one_step_on_iterator\n\n  File \"/usr/local/lib/python3.11/dist-packages/keras/src/backend/tensorflow/trainer.py\", line 105, in one_step_on_data\n\n  File \"/app/workspace/OptionsChainModel/src/model.py\", line 45, in train_step\n\n  File \"/app/workspace/OptionsChainModel/src/model.py\", line 108, in _compute_loss\n\nc_bid contains NaNs or Infs ----- Tensor(\"strided_slice_2:0\", shape=(None, 20), dtype=float32) : Tensor had NaN values\n\t [[{{node CheckNumerics}}]] [Op:__inference_one_step_on_iterator_4701]",
     "output_type": "error",
     "traceback": [
      "\u001b[0;31m---------------------------------------------------------------------------\u001b[0m",
      "\u001b[0;31mInvalidArgumentError\u001b[0m                      Traceback (most recent call last)",
      "Cell \u001b[0;32mIn[14], line 20\u001b[0m\n\u001b[1;32m     18\u001b[0m random\u001b[38;5;241m.\u001b[39mshuffle(PartitionDate)\n\u001b[1;32m     19\u001b[0m tf\u001b[38;5;241m.\u001b[39mkeras\u001b[38;5;241m.\u001b[39mbackend\u001b[38;5;241m.\u001b[39mclear_session() \n\u001b[0;32m---> 20\u001b[0m history \u001b[38;5;241m=\u001b[39m \u001b[43mmodel\u001b[49m\u001b[38;5;241;43m.\u001b[39;49m\u001b[43mfit\u001b[49m\u001b[43m(\u001b[49m\u001b[43mx_train\u001b[49m\u001b[43m \u001b[49m\u001b[43m,\u001b[49m\u001b[43m \u001b[49m\u001b[43my_train\u001b[49m\u001b[43m,\u001b[49m\u001b[43m \u001b[49m\u001b[43mepochs\u001b[49m\u001b[38;5;241;43m=\u001b[39;49m\u001b[38;5;241;43m5\u001b[39;49m\u001b[43m,\u001b[49m\u001b[43m \u001b[49m\u001b[43mbatch_size\u001b[49m\u001b[38;5;241;43m=\u001b[39;49m\u001b[43mBATCH_SIZE\u001b[49m\u001b[43m,\u001b[49m\u001b[43m \u001b[49m\u001b[43mvalidation_data\u001b[49m\u001b[38;5;241;43m=\u001b[39;49m\u001b[43m(\u001b[49m\u001b[43mx_val\u001b[49m\u001b[43m,\u001b[49m\u001b[43m \u001b[49m\u001b[43my_val\u001b[49m\u001b[43m)\u001b[49m\u001b[43m \u001b[49m\u001b[43m)\u001b[49m\n\u001b[1;32m     21\u001b[0m \u001b[38;5;28;01mif\u001b[39;00m  np\u001b[38;5;241m.\u001b[39misnan(  np\u001b[38;5;241m.\u001b[39maverage( history\u001b[38;5;241m.\u001b[39mhistory[\u001b[38;5;124m'\u001b[39m\u001b[38;5;124mkl_loss\u001b[39m\u001b[38;5;124m'\u001b[39m] )  ) \u001b[38;5;129;01mor\u001b[39;00m np\u001b[38;5;241m.\u001b[39misnan(  np\u001b[38;5;241m.\u001b[39maverage( history\u001b[38;5;241m.\u001b[39mhistory[\u001b[38;5;124m'\u001b[39m\u001b[38;5;124mval_kl_loss\u001b[39m\u001b[38;5;124m'\u001b[39m] )  ):\n\u001b[1;32m     22\u001b[0m     STOP_MODEL \u001b[38;5;241m=\u001b[39m \u001b[38;5;28;01mTrue\u001b[39;00m \n",
      "File \u001b[0;32m/usr/local/lib/python3.11/dist-packages/keras/src/utils/traceback_utils.py:123\u001b[0m, in \u001b[0;36mfilter_traceback.<locals>.error_handler\u001b[0;34m(*args, **kwargs)\u001b[0m\n\u001b[1;32m    120\u001b[0m     filtered_tb \u001b[38;5;241m=\u001b[39m _process_traceback_frames(e\u001b[38;5;241m.\u001b[39m__traceback__)\n\u001b[1;32m    121\u001b[0m     \u001b[38;5;66;03m# To get the full stack trace, call:\u001b[39;00m\n\u001b[1;32m    122\u001b[0m     \u001b[38;5;66;03m# `keras.config.disable_traceback_filtering()`\u001b[39;00m\n\u001b[0;32m--> 123\u001b[0m     \u001b[38;5;28;01mraise\u001b[39;00m e\u001b[38;5;241m.\u001b[39mwith_traceback(filtered_tb) \u001b[38;5;28;01mfrom\u001b[39;00m \u001b[38;5;28;01mNone\u001b[39;00m\n\u001b[1;32m    124\u001b[0m \u001b[38;5;28;01mfinally\u001b[39;00m:\n\u001b[1;32m    125\u001b[0m     \u001b[38;5;28;01mdel\u001b[39;00m filtered_tb\n",
      "File \u001b[0;32m/usr/local/lib/python3.11/dist-packages/tensorflow/python/eager/execute.py:53\u001b[0m, in \u001b[0;36mquick_execute\u001b[0;34m(op_name, num_outputs, inputs, attrs, ctx, name)\u001b[0m\n\u001b[1;32m     51\u001b[0m \u001b[38;5;28;01mtry\u001b[39;00m:\n\u001b[1;32m     52\u001b[0m   ctx\u001b[38;5;241m.\u001b[39mensure_initialized()\n\u001b[0;32m---> 53\u001b[0m   tensors \u001b[38;5;241m=\u001b[39m pywrap_tfe\u001b[38;5;241m.\u001b[39mTFE_Py_Execute(ctx\u001b[38;5;241m.\u001b[39m_handle, device_name, op_name,\n\u001b[1;32m     54\u001b[0m                                       inputs, attrs, num_outputs)\n\u001b[1;32m     55\u001b[0m \u001b[38;5;28;01mexcept\u001b[39;00m core\u001b[38;5;241m.\u001b[39m_NotOkStatusException \u001b[38;5;28;01mas\u001b[39;00m e:\n\u001b[1;32m     56\u001b[0m   \u001b[38;5;28;01mif\u001b[39;00m name \u001b[38;5;129;01mis\u001b[39;00m \u001b[38;5;129;01mnot\u001b[39;00m \u001b[38;5;28;01mNone\u001b[39;00m:\n",
      "\u001b[0;31mInvalidArgumentError\u001b[0m: Graph execution error:\n\nDetected at node CheckNumerics defined at (most recent call last):\n  File \"<frozen runpy>\", line 198, in _run_module_as_main\n\n  File \"<frozen runpy>\", line 88, in _run_code\n\n  File \"/usr/local/lib/python3.11/dist-packages/ipykernel_launcher.py\", line 18, in <module>\n\n  File \"/usr/local/lib/python3.11/dist-packages/traitlets/config/application.py\", line 1075, in launch_instance\n\n  File \"/usr/local/lib/python3.11/dist-packages/ipykernel/kernelapp.py\", line 739, in start\n\n  File \"/usr/local/lib/python3.11/dist-packages/tornado/platform/asyncio.py\", line 205, in start\n\n  File \"/usr/lib/python3.11/asyncio/base_events.py\", line 604, in run_forever\n\n  File \"/usr/lib/python3.11/asyncio/base_events.py\", line 1909, in _run_once\n\n  File \"/usr/lib/python3.11/asyncio/events.py\", line 80, in _run\n\n  File \"/usr/local/lib/python3.11/dist-packages/ipykernel/kernelbase.py\", line 545, in dispatch_queue\n\n  File \"/usr/local/lib/python3.11/dist-packages/ipykernel/kernelbase.py\", line 534, in process_one\n\n  File \"/usr/local/lib/python3.11/dist-packages/ipykernel/kernelbase.py\", line 437, in dispatch_shell\n\n  File \"/usr/local/lib/python3.11/dist-packages/ipykernel/ipkernel.py\", line 362, in execute_request\n\n  File \"/usr/local/lib/python3.11/dist-packages/ipykernel/kernelbase.py\", line 778, in execute_request\n\n  File \"/usr/local/lib/python3.11/dist-packages/ipykernel/ipkernel.py\", line 449, in do_execute\n\n  File \"/usr/local/lib/python3.11/dist-packages/ipykernel/zmqshell.py\", line 549, in run_cell\n\n  File \"/usr/local/lib/python3.11/dist-packages/IPython/core/interactiveshell.py\", line 3075, in run_cell\n\n  File \"/usr/local/lib/python3.11/dist-packages/IPython/core/interactiveshell.py\", line 3130, in _run_cell\n\n  File \"/usr/local/lib/python3.11/dist-packages/IPython/core/async_helpers.py\", line 129, in _pseudo_sync_runner\n\n  File \"/usr/local/lib/python3.11/dist-packages/IPython/core/interactiveshell.py\", line 3334, in run_cell_async\n\n  File \"/usr/local/lib/python3.11/dist-packages/IPython/core/interactiveshell.py\", line 3517, in run_ast_nodes\n\n  File \"/usr/local/lib/python3.11/dist-packages/IPython/core/interactiveshell.py\", line 3577, in run_code\n\n  File \"/tmp/ipykernel_10357/199624722.py\", line 20, in <module>\n\n  File \"/usr/local/lib/python3.11/dist-packages/keras/src/utils/traceback_utils.py\", line 118, in error_handler\n\n  File \"/usr/local/lib/python3.11/dist-packages/keras/src/backend/tensorflow/trainer.py\", line 323, in fit\n\n  File \"/usr/local/lib/python3.11/dist-packages/keras/src/backend/tensorflow/trainer.py\", line 117, in one_step_on_iterator\n\n  File \"/usr/local/lib/python3.11/dist-packages/keras/src/backend/tensorflow/trainer.py\", line 105, in one_step_on_data\n\n  File \"/app/workspace/OptionsChainModel/src/model.py\", line 45, in train_step\n\n  File \"/app/workspace/OptionsChainModel/src/model.py\", line 108, in _compute_loss\n\nc_bid contains NaNs or Infs ----- Tensor(\"strided_slice_2:0\", shape=(None, 20), dtype=float32) : Tensor had NaN values\n\t [[{{node CheckNumerics}}]] [Op:__inference_one_step_on_iterator_4701]"
     ]
    }
   ],
   "source": [
    "#================== train model ==================\n",
    "PartitionDate = [ d[-7:] for d in  os.listdir(PARQUET_PATH) if 'PartitionDate' in d]\n",
    "random.shuffle(PartitionDate)\n",
    "\n",
    "STOP_MODEL = False\n",
    "for partdate in PartitionDate[:] :\n",
    "    #nan problem\n",
    "    #partdate = '2022-05'\n",
    "    #normal \n",
    "    #partdate = '2011-12'\n",
    "    \n",
    "    with h5py.File(H5_PATH+partdate+\".h5\", 'r') as f:\n",
    "        DATA = f[partdate][:]\n",
    "        X = DATA[:, :, :3]  # เลือกข้อมูลแถวแรกถึงแถวที่ 3 สำหรับ X\n",
    "        Y = DATA[:, :, 3:]  # เลือกข้อมูลแถวที่ 3 เป็นต้นไปสำหรับ Y\n",
    "        x_train, x_val, y_train, y_val = train_test_split(X, Y, test_size=0.2, random_state=42)\n",
    "        if len(X) :\n",
    "            random.shuffle(PartitionDate)\n",
    "            tf.keras.backend.clear_session() \n",
    "            history = model.fit(x_train , y_train, epochs=5, batch_size=BATCH_SIZE, validation_data=(x_val, y_val) )\n",
    "            if  np.isnan(  np.average( history.history['kl_loss'] )  ) or np.isnan(  np.average( history.history['val_kl_loss'] )  ):\n",
    "                STOP_MODEL = True \n",
    "                print(x_train)\n",
    "                print(\"---\")\n",
    "                print(x_val)\n",
    "                print(\"=============\")\n",
    "    if WANDB_LOG :\n",
    "        wandb.log({\n",
    "            \"kl_loss\": np.average(  history.history['kl_loss'] )\n",
    "            ,\"total_loss\":np.average(  history.history['total_loss'] )\n",
    "            #,\"vol_loss\":np.average(  history.history['vol_loss'] )\n",
    "\n",
    "            ,'val_kl_loss':np.average(  history.history['val_kl_loss'] )\n",
    "            ,'val_total_loss':np.average(  history.history['val_total_loss'] )\n",
    "            #, 'val_vol_loss':np.average(  history.history['val_vol_loss'] )\n",
    "        }, commit=True)\n",
    "        \n",
    "        # wandb.log({\n",
    "        #     \"kl_loss\": np.average(  history.history['kl_loss'] )\n",
    "        #     ,\"total_loss\":np.average(  history.history['total_loss'] )\n",
    "        #     ,\"loss\":np.average(  history.history['loss'] )\n",
    "        #     ,\"optVal_loss\":np.average(  history.history['optVal_loss'] )\n",
    "        #     ,\"vol_loss\":np.average(  history.history['vol_loss'] )\n",
    "        # }, commit=True)\n",
    "\n",
    "    if STOP_MODEL :\n",
    "        break\n",
    "    \n",
    "            \n",
    "    model.encoder.save(model_path+f'/'+f'encoder.keras') \n",
    "    model.decoder.save(model_path+f'/'+f'decoder.keras') \n",
    "if WANDB_LOG : wandb.finish()"
   ]
  },
  {
   "cell_type": "code",
   "execution_count": null,
   "metadata": {},
   "outputs": [],
   "source": [
    "`===================================================="
   ]
  },
  {
   "cell_type": "code",
   "execution_count": null,
   "metadata": {
    "scrolled": true
   },
   "outputs": [],
   "source": [
    "print(x_train)\n"
   ]
  },
  {
   "cell_type": "code",
   "execution_count": 27,
   "metadata": {},
   "outputs": [],
   "source": [
    "a=tf.expand_dims(y_val[:, :, 0], axis=-1).numpy()"
   ]
  },
  {
   "cell_type": "code",
   "execution_count": 49,
   "metadata": {},
   "outputs": [
    {
     "data": {
      "text/plain": [
       "nan"
      ]
     },
     "execution_count": 49,
     "metadata": {},
     "output_type": "execute_result"
    }
   ],
   "source": [
    "np.sum(Y)"
   ]
  },
  {
   "cell_type": "code",
   "execution_count": 47,
   "metadata": {},
   "outputs": [
    {
     "name": "stdout",
     "output_type": "stream",
     "text": [
      "[[ 0.]\n",
      " [ 0.]\n",
      " [ 0.]\n",
      " [ 0.]\n",
      " [ 0.]\n",
      " [nan]\n",
      " [nan]\n",
      " [nan]\n",
      " [nan]\n",
      " [nan]\n",
      " [nan]\n",
      " [nan]\n",
      " [nan]\n",
      " [nan]\n",
      " [nan]\n",
      " [ 0.]\n",
      " [ 0.]\n",
      " [ 0.]\n",
      " [ 0.]\n",
      " [ 0.]]\n",
      "-------\n"
     ]
    }
   ],
   "source": [
    "for i in a:\n",
    "    if np.isnan( np.sum(i) ) :\n",
    "        print(i)\n",
    "        print('-------')\n",
    "        break"
   ]
  },
  {
   "cell_type": "code",
   "execution_count": 46,
   "metadata": {},
   "outputs": [
    {
     "data": {
      "text/plain": [
       "0.007469971563176436"
      ]
     },
     "execution_count": 46,
     "metadata": {},
     "output_type": "execute_result"
    }
   ],
   "source": [
    "np.sum(i)"
   ]
  },
  {
   "cell_type": "code",
   "execution_count": null,
   "metadata": {},
   "outputs": [],
   "source": [
    "print(x_val)\n",
    "print(\"---\")\n",
    "print(y_val)\n",
    "print(\"=============\")"
   ]
  },
  {
   "cell_type": "code",
   "execution_count": 15,
   "metadata": {},
   "outputs": [
    {
     "name": "stdout",
     "output_type": "stream",
     "text": [
      "0 - i:4,c:2\n",
      "0 - i:4,c:5\n",
      "0 - i:5,c:2\n"
     ]
    }
   ],
   "source": [
    "Y=y_val\n",
    "for i in range ( len( np.transpose( Y[0] ) ) ):\n",
    "    col = np.transpose( Y[i] ) \n",
    "    for c in range(len(col)):\n",
    "        a = np.transpose( Y[i] )[c]\n",
    "        if np.sum( a ) == 0 :\n",
    "            print(f\"0 - i:{i},c:{c}\")\n",
    "        if np.isnan( np.sum( a ) ) :\n",
    "            print(f\"nan - i:{i},c:{c}\")"
   ]
  },
  {
   "cell_type": "code",
   "execution_count": 16,
   "metadata": {},
   "outputs": [
    {
     "data": {
      "text/plain": [
       "array([0., 0., 0., 0., 0., 0., 0., 0., 0., 0., 0., 0., 0., 0., 0., 0., 0.,\n",
       "       0., 0., 0.])"
      ]
     },
     "execution_count": 16,
     "metadata": {},
     "output_type": "execute_result"
    }
   ],
   "source": [
    " np.transpose( y_val[4] )[2]"
   ]
  },
  {
   "cell_type": "code",
   "execution_count": null,
   "metadata": {},
   "outputs": [],
   "source": [
    "import pandas as pd"
   ]
  },
  {
   "cell_type": "code",
   "execution_count": null,
   "metadata": {},
   "outputs": [],
   "source": [
    "\n",
    "import datetime as dt\n",
    "{\n",
    "    \"data\": {\n",
    "        \"MANDT\": \"WA\",\n",
    "        \"BUKRS\": \"2011500\",\n",
    "        \"LIFNR1\": \"P10005418\",\n",
    "        \"LIFNR2\": \"P0754010\",\n",
    "        \"CURRENCY\": \"THB\",\n",
    "        \"AMOUNT\": 10000.00,\n",
    "        \"VNAME\": \"ศูนย์กระจายสินค้า-RDC.ลำปาง\"\n",
    "    },\n",
    "    \"eventName\": \"PRODUCE\",\n",
    "    \"messageDate\": dt.datetime.now().strftime(\"%Y-%m-%dT%H:%M:%SZ\"),\n",
    "    \"messageKey\": \"161143\",\n",
    "    \"messageVersion\": \"1.7.0\"\n",
    "}"
   ]
  },
  {
   "cell_type": "code",
   "execution_count": null,
   "metadata": {},
   "outputs": [],
   "source": [
    "import datetime as dt\n"
   ]
  },
  {
   "cell_type": "code",
   "execution_count": null,
   "metadata": {},
   "outputs": [],
   "source": [
    "DATA = [{'WA': '2011500P10005418 P0754010  THB      10000.00 ศูนย์กระจายสินค้า-RDC.ลำปาง'}, {'WA': '2011500P10005418 P10005418 THB      20000.00 จำลอง แก้วโพธิ์คา'}, {'WA': '2011500P1001216  P1001216  THB      50000.00 กฤษณา เงินสดย่อย'}, {'WA': '2011500P11002595 P11002595 THB      20000.00 ธาริน  พินเที่ยง'}, {'WA': '2011500P11004112 P11004112 THB       2000.00 สันติ  กาบก้วง'}, {'WA': '2011500P11004119 P11004119 THB       3000.00 ยุทธนา  แก้วพูลศรี'}, {'WA': '2011500P11004120 P11004120 THB       3000.00 อำนาจ  พึ่งเจียม'}, {'WA': '2011500P11004134 P11004134 THB      20000.00 บรรลือศักดิ์  สาครพันธรักษ์'}, {'WA': '2011900P70092728 P70092728 THB      50000.00 กิตติอาภา อ่างบุญพงษ์'}, {'WA': '2011900P91020000 P91020000 THB      50000.00 วิไลภรณ์ ภัทรพงศาวณิชย์'}, {'WA': '20119D0P70092728 P70092728 THB      50000.00 กิตติอาภา อ่างบุญพงษ์'}, {'WA': '20119D0P91020000 P91020000 THB      50000.00 วิไลภรณ์ ภัทรพงศาวณิชย์'}, {'WA': '2012200P1001742  P1001742  THB      30000.00 วรัญญา เงินสดย่อย'}, {'WA': '2012200P11000373 P11000373 THB      22000.00 ศิริวรรณ มณีสุขโรจน์'}, {'WA': '2012200P11001443 P11001443 THB      40000.00 วรกานท์  สมบูรณ์บัติ'}, {'WA': '2012200P11007055 P11007055 THB      50000.00 บุษบง  จันทร์สว่าง'}, {'WA': '2012200P11033138 P11033138 THB      80000.00 แสงโสม Petty Cash'}, {'WA': '2012200P11033139 P11033139 THB      50000.00 พรทิพย์ ปิยะอรุณ Test'}, {'WA': '2012200P70082951 P70082951 THB       9000.00 ชานน บุญญาศิริรัตน์'}, {'WA': '2012200P700927288P700927288THB      50000.00 petty cash kittiarpa'}, {'WA': '2012300P11000373 P11000373 THB       7000.00 ศิริวรรณ มณีสุขโรจน์'}, {'WA': '2012300P11005262 P11005262 THB      50000.00 มุกดา  จันทร์เพ็ญ'}, {'WA': '2012400P11000373 P11000373 THB       7000.00 ศิริวรรณ มณีสุขโรจน์'}, {'WA': '2012400P11006877 P11006877 THB      50000.00 จุไรรัตน์  จันทร์แดง'}, {'WA': '2012500P11000373 P11000373 THB       7000.00 ศิริวรรณ มณีสุขโรจน์'}, {'WA': '2012500P11006990 P11006990 THB      50000.00 จิราพร วงศ์ษา'}, {'WA': '2012600P11000373 P11000373 THB       7000.00 ศิริวรรณ มณีสุขโรจน์'}, {'WA': '2012600P11007055 P11007055 THB      50000.00 บุษบง  จันทร์สว่าง'}, {'WA': '2012700P11000373 P11000373 THB      22000.00 ศิริวรรณ มณีสุขโรจน์'}, {'WA': '2012700P11008749 P11008749 THB      50000.00 สุพัตรา  วสุลิปิกร'}, {'WA': '2012800P11000373 P11000373 THB       7000.00 ศิริวรรณ มณีสุขโรจน์'}, {'WA': '2012800P11020046 P11020046 THB      50000.00 สุกัญญา เนืองภา'}, {'WA': '2012900P11000373 P11000373 THB       7000.00 ศิริวรรณ มณีสุขโรจน์'}, {'WA': '2013000P11000373 P11000373 THB       7000.00 ศิริวรรณ มณีสุขโรจน์'}, {'WA': '2013000P11007240 P11007240 THB      50000.00 วัชราภรณ์  เนตรนี'}, {'WA': '2013100P11000373 P11000373 THB       7000.00 ศิริวรรณ มณีสุขโรจน์'}, {'WA': '2013100P11012237 P11012237 THB      50000.00 อาภากร ผาทอง'}, {'WA': '2013200P11000373 P11000373 THB     462000.00 ศิริวรรณ มณีสุขโรจน์'}, {'WA': '2013200P11009232 P11012237 THB      50000.00 อาภากร ผาทอง'}, {'WA': '2013200P11017806 P11017806 THB      30000.00 จารุกร จันทร์แรม'}, {'WA': '2013300P11000373 P11000373 THB       7000.00 ศิริวรรณ มณีสุขโรจน์'}, {'WA': '2013300P11009394 P11009394 THB      50000.00 วันเพ็ญ  ยุดรัมย์'}, {'WA': '2013400P11000373 P11000373 THB       7000.00 ศิริวรรณ มณีสุขโรจน์'}, {'WA': '2013400P11013688 P11013688 THB      50000.00 น้ำอ้อย   สุภิรมย์'}, {'WA': '2013400P11017806 P11017806 THB      50000.00 จารุกร จันทร์แรม'}, {'WA': '2013500P11000373 P11000373 THB       7000.00 ศิริวรรณ มณีสุขโรจน์'}, {'WA': '2013500P11000998 P11000998 THB      50000.00 สรัญญา  ด่านวงศ์ทอง(เงินสดย่อย-รง.)'}, {'WA': '2013600P11000373 P11000373 THB       7000.00 ศิริวรรณ มณีสุขโรจน์'}, {'WA': '2013600P11031653 P11031653 THB      50000.00 ฉัตรกมล สุวรรณศิริ'}, {'WA': '2013700P11000373 P11000373 THB       4000.00 ศิริวรรณ มณีสุขโรจน์'}, {'WA': '2013800P11009394 P11009394 THB      50000.00 วันเพ็ญ  ยุดรัมย์'}, {'WA': '2014000P11001818 P11001818 THB      35000.00 เอกพจน์  รัตนเศวตสรรค์'}, {'WA': '2014000P11001925 P11001925 THB      35000.00 ทองสูน คงความเจริญ'}, {'WA': '2014000P11001996 P11001996 THB      35000.00 กฤษณะ  อ่อนอรุณ'}, {'WA': '2014000P11002095 P11002095 THB      35000.00 สัณฑน  แสงมโนทัย'}, {'WA': '2014000P11029172 P11029172 THB      35000.00 ชาญวิทย์ บุญยัง'}, {'WA': '2014000P11042800 P11042800 THB      35000.00 อภิชา ศรีสง่า'}, {'WA': '2014000P11042900 P11042900 THB      35000.00 วสันต์ พงษ์มาตรสุวร'}, {'WA': '2014000P70092728 P11033138 THB      30000.00 แสงโสม Petty Cash'}, {'WA': '2014200P1001742  P1001742  THB      50000.00 วรัญญา เงินสดย่อย'}, {'WA': '2014200P11014200 P11014200 THB      50000.00 สมฤดี วิเศษชูชาติ'}, {'WA': '2014200P11025891 P11025891 THB       5000.00 ฐิติรัตน์  ศรีจันทร์'}, {'WA': '2014300P11000236 P11000236 THB      20000.00 นายสมภพ  กองทรัพย์และนางสาววรรณา เก'}, {'WA': '2014300P11033811 P11033811 THB      50000.00 Waraporn Paenkaew'}, {'WA': '2014300P70077557 P11033811 THB      20000.00 Waraporn Paenkaew'}, {'WA': '2014300P70077557 P70077557 THB      30000.00 Thanutchaporn'}, {'WA': '2014500P11004104 P11004104 THB      20000.00 จุฑามาศ ขวัญคำ'}, {'WA': '2014800P11005412 P11005406 THB      40000.00 กชวรรณ พูลพงษ์'}, {'WA': '2014800P11005412 P11005412 THB      45000.00 มณฑา  ก้วยไข่มุก'}, {'WA': '2014800P11005412 P11022466 THB      25000.00 ขณิษฐา แซ่โต๋ว'}, {'WA': '2014800P11005412 P11030049 THB       3000.00 สุธาทิพย์ ดวงจันทร์'}, {'WA': '2014800P11005412 P11030937 THB       3000.00 สุพนิดา โสตรโยม'}, {'WA': '2014800P11005412 P11031191 THB       3000.00 วนิดา สาพิลาศ'}, {'WA': '2014800P11005412 P11032161 THB       3000.00 ศิวาพร เมืองศรี'}, {'WA': '2014800P11005412 P11032785 THB      31000.00 จิตรอารีย์ บัวเรียน'}, {'WA': '2014800P11005412 P11033290 THB       3000.00 ปทิตา สิงห์บล'}, {'WA': '2014800P11005412 P11034855 THB       3000.00 รัตนาพร มาโยธา'}, {'WA': '2014800P11005412 P70005334 THB       3000.00 สุปรียา ปราบไพรี'}, {'WA': '2014900P11004935 P11004935 THB      50000.00 กฤติภรณ์  คมขำ'}, {'WA': '2014900P11004935 P11005119 THB       5000.00 สมบัติ ใยพูล'}, {'WA': '2014900P11004935 P11005139 THB       5000.00 กิตติเชษฐ์ ใจบุญ'}, {'WA': '2014900P11004935 P11005218 THB       5000.00 คัคนางค์ ประวัติศิริ'}, {'WA': '2014900P11004935 P11005220 THB       5000.00 ถนอมจิต เฉลิมพักตร์'}, {'WA': '2014900P11004935 P11005341 THB       5000.00 กฤษณา สาเกตุ'}, {'WA': '2014900P11004935 P11005403 THB       5000.00 นิตยา เทียนสิริ'}, {'WA': '2014900P11004935 P11005453 THB       5000.00 นิตยา เจริญโสภา'}, {'WA': '2014900P11004935 P11005514 THB       5000.00 กฤษณา กาญจนระพีพรรณ'}, {'WA': '2014900P11004935 P11005571 THB       5000.00 อัจฉรา แย้มบุญชู'}, {'WA': '2014900P11004935 P11005606 THB       5000.00 อัจฉรี แย้มบุญชู'}, {'WA': '2014900P11004935 P11005613 THB       5000.00 ศรีประภา วัฒนเกษมวงศ์'}, {'WA': '2014900P11004935 P11005661 THB       5000.00 ชุติมา สวัสดีมีโชค'}, {'WA': '2014900P11004935 P11005887 THB       5000.00 นราศรี แจ้งศรี'}, {'WA': '2014900P11004935 P11005936 THB       5000.00 สุปราณี หร่ายเกษม'}, {'WA': '2014900P11004935 P11006166 THB       5000.00 มนัสวินี แก้วกำเนิด'}, {'WA': '2014900P11004935 P11006189 THB       5000.00 ผุสดี ทองเสนอ'}, {'WA': '2014900P11004935 P11006203 THB       5000.00 ลลิตา ปลูกสมบัติ'}, {'WA': '2014900P11004935 P11013058 THB       5000.00 มะลิวรรณ์ สิงห์ทอง'}, {'WA': '2014900P11004935 P11013108 THB       5000.00 สุธาสินี ชูติวาส'}, {'WA': '2014900P11004935 P11014219 THB       5000.00 รัศมี สุตมาตร์'}, {'WA': '2014900P11004935 P11020236 THB       5000.00 จุฬารัตน์ องคเชษฐ์'}, {'WA': '2014900P11004935 P11024842 THB       5000.00 นิภารัตน์ สะปู'}, {'WA': '2014900P11004935 P11025250 THB       5000.00 เดียงสา เตชะบุรัมย์'}, {'WA': '2014900P11004935 P11025251 THB       5000.00 สุปราณี วงศาโรจน์'}, {'WA': '2014900P11004935 P11025765 THB      10000.00 นภาพรรณ สนิทเอื้อ'}, {'WA': '2014900P11004935 P11027425 THB      10000.00 ธนภร โยธาธนพาณิชย์'}, {'WA': '2014900P11004935 P11027626 THB       5000.00 ประภาทิพย์ จตุพรมงคลชัย'}, {'WA': '2014900P11004935 P11028051 THB       5000.00 อัญชลีพร  เกตุทัต'}, {'WA': '2014900P11004935 P11028816 THB       5000.00 ศิริกุล  หล่าธรรม'}, {'WA': '2014900P11004935 P21008598 THB       5000.00 เสาวลักษณ์  นามพุทธา'}, {'WA': '2014900P11004935 P21031931 THB      10000.00 นุ่นนภา ขมิ้นทอง'}, {'WA': '2014900P11004935 P21048306 THB       5000.00 มยุรา  ทองปา'}, {'WA': '2014900P11009695 P11005505 THB      10000.00 ดาหวัน อรุณคีรีวัฒน์'}, {'WA': '2014900P11009695 P11007814 THB       5000.00 ขันทอง ห้วยกรุด'}, {'WA': '2014900P11009695 P11008177 THB       5000.00 อรัญญา สายสวาท'}, {'WA': '2014900P11009695 P11009686 THB       5000.00 กุลวัลย์ บุญธรรม'}, {'WA': '2014900P11009695 P11009695 THB      20000.00 ภรทนา วิสุทธิแพทย์'}, {'WA': '2014900P11009695 P11010292 THB       5000.00 กมลลักษณ์ เสาสุดใจ'}, {'WA': '2014900P11009695 P11010407 THB       5000.00 ศรัณญา วงศ์กัลยา'}, {'WA': '2014900P11009695 P11010470 THB       5000.00 วาสนา เฉลิมวงษ์'}, {'WA': '2014900P11009695 P11010592 THB       5000.00 ชุติมา มณีพันธ์'}, {'WA': '2014900P11009695 P11010616 THB       5000.00 นิตยา โพธิ์ผลิ'}, {'WA': '2014900P11009695 P11024243 THB       5000.00 นิลเนตร วงศ์มณี'}, {'WA': '2014900P11009695 P11030147 THB       5000.00 รัตนา บุญมา'}, {'WA': '2014900P11009695 P11030908 THB       5000.00 เพ็ญนภา ชูเลิศ'}, {'WA': '2014900P11009695 P11031527 THB       5000.00 สุดาพร บุตรจา'}, {'WA': '2014900P11009695 P11033058 THB       5000.00 เสกสรรค์ มีทองพูล'}, {'WA': '2014900P11009695 P11033769 THB       5000.00 มนฤดี เหลือวงศ์'}, {'WA': '2014900P11028578 P11028578 THB     100000.00 อุดมรักษ์ ซื่อสัตย์'}, {'WA': '2015000P11030300 P11030300 THB       5000.00 รัชนก  บุญยอด'}, {'WA': '2015000P70034664 P19E00007 THB       1000.00 EatPot Chaengwattana'}, {'WA': '2015000P70034664 P70034664 THB       2000.00 รัตติยาภรณ์  ศรีวรรณ'}, {'WA': '2015100P70034665 P70034665 THB       3000.00 ปวิชญา บุญทระกุล'}, {'WA': '2015200P70034665 P70034665 THB       3000.00 ปวิชญา บุญทระกุล'}, {'WA': '2015400P70038535 P70038535 THB      15000.00 สุนทรี ศิริมงคล'}, {'WA': '2015400P70051204 P70051204 THB      10000.00 ภัทรวดี  หนูเครือ'}, {'WA': '2015500P70034664 P70034664 THB      10000.00 รัตติยาภรณ์  ศรีวรรณ'}, {'WA': '2015500P70073483 P70073483 THB      15000.00 พรปวีณ์ มีทรัพย์ทอง'}, {'WA': '2015500P70082276 P70082276 THB      15000.00 จุฬาลักษณ์ ทองสิมา'}, {'WA': '2015600P11005308 P11005308 THB      30000.00 สมร ค้ายาดี'}, {'WA': '2015600P11005819 P11005819 THB      30000.00 สมร  ค้ายาดี'}, {'WA': '2015700P11000126 P11000126 THB      50000.00 วิภัสสรา ส.เจริญพานิช'}, {'WA': '2015700P11000126 P11000127 THB      50000.00 วิมลทิพย์ เจริญกุล'}, {'WA': '2015700P11000128 P11000128 THB     150000.00 ท่องเที่ยว เมืองไทย'}, {'WA': '2015800P11010957 P11008939 THB      50000.00 แจ่มจันทร์ พลศรี'}, {'WA': '2015800P11010957 P11008963 THB       5000.00 หอมไกร ทาทะสุทธิ์'}, {'WA': '2015800P11010957 P11010170 THB      40000.00 พิกุล สำราญวงศ์'}, {'WA': '2015800P11010957 P11010171 THB      40000.00 วีณา ชัยประโคน'}, {'WA': '2015800P11010957 P11010957 THB      80000.00 สุคันธรส จรัสฤกษ์วงศ์'}, {'WA': '2015800P11010957 P11011925 THB       5000.00 จันจิรา แสงจันทร์'}, {'WA': '2015800P11010957 P11026302 THB       5000.00 อมรรัตน์ กล้ามกระโทก'}, {'WA': '2015800P11010957 P11028352 THB       5000.00 ศิวาภรณ์ อัพภันดร'}, {'WA': '2015800P11027011 P11027011 THB      50000.00 ฉัตรสุรางค์ เรืองศิลป์'}, {'WA': '2015900P11010156 P11008290 THB       5000.00 นันทนา สังข์ทอง'}, {'WA': '2015900P11010156 P11010150 THB      30000.00 กนกวรรณ มีจันทร์โท'}, {'WA': '2015900P11010156 P11010153 THB      50000.00 ลักขณา อยู่วรรณ'}, {'WA': '2015900P11010156 P11010156 THB      60000.00 กอบสิน สุภาวะ'}, {'WA': '2015900P11010156 P11010160 THB      40000.00 คณานิช แสนมงคล'}, {'WA': '2015900P11010156 P11012313 THB       5000.00 ลลิตา บุญณวี'}, {'WA': '2015900P11010156 P11012619 THB       3000.00 กรรณิการ์ ทองน้อย'}, {'WA': '2015900P11010156 P11012878 THB       3000.00 วิมล เมืองด่าน'}, {'WA': '2015900P11010156 P11019544 THB       3000.00 ศิริรัตน์ บุญมา'}, {'WA': '2015900P11010156 P11024876 THB       3000.00 จันทร์เพ็ญ ก้อนเกียรติวงศ์'}, {'WA': '2015900P11010156 P11028146 THB       5000.00 นฤมล เรืองสุกใส'}, {'WA': '2015900P11010156 P11032768 THB       3000.00 เมธปิยา ไชยยืน'}, {'WA': '2015900P11010156 P21024881 THB       2000.00 ลำดวน ใจมั่น'}, {'WA': '2015900P11030173 P11000126 THB      10000.00 วิภัสสรา ส.เจริญพานิช'}, {'WA': '2015900P11030173 P11030173 THB      40000.00 พัชรนันต์ คร้ามไพบูลย์'}, {'WA': '2015900P70039286 P70025355 THB      30000.00 วาสนา ยุทธนาโยธิน'}, {'WA': '2015900P70039286 P70039286 THB      70000.00 กุลิสรา มั่งสกุล'}, {'WA': '2015900P70042000 P70042000 THB      30000.00 สุกัญญา แสงศิริ'}, {'WA': '2015900P70042000 P70042001 THB      20000.00 อรุณทอง ศรีพรรณ'}, {'WA': '2016000P1001216  P1001216  THB      40000.00 กฤษณา เงินสดย่อย'}, {'WA': '2016000P11011357 P11006117 THB      20000.00 สุกัญญา ฐิติวัฒนา'}, {'WA': '2016000P11011357 P11010148 THB      30000.00 เสาวลักษณ์ สินภูธร'}, {'WA': '2016000P11011357 P11010154 THB      15000.00 วรรณพร พลมาศ'}, {'WA': '2016000P11011357 P11010364 THB       3000.00 หทัยรัตน์ อ่อนจันทร์สกุล'}, {'WA': '2016000P11011357 P11010518 THB          0.00 รำไพวัลย์ นาเสงี่ยม'}, {'WA': '2016000P11011357 P11010678 THB       1000.00 สุรีรัตน์ แสงกล้า'}, {'WA': '2016000P11011357 P11010683 THB       3000.00 พันธ์นิภา พุ่มไหม'}, {'WA': '2016000P11011357 P11010771 THB       2000.00 ไพรัตน์  มั่นทอง'}, {'WA': '2016000P11011357 P11011184 THB      20000.00 วิมล มูลเดช'}, {'WA': '2016000P11011357 P11011357 THB      40000.00 นิลุบล ตั้นพันธ์'}, {'WA': '2016000P11011357 P11011399 THB       2000.00 นันทนา ลี่เส็ง'}, {'WA': '2016000P11011357 P11029297 THB       5000.00 อำพัน เมืองข้องน้อย'}, {'WA': '2016100P11009875 P11009736 THB      35000.00 สุรีย์ ยศมูรธา'}, {'WA': '2016100P11009875 P11009843 THB      35000.00 โสพล อ่อนแก้ว'}, {'WA': '2016100P11009875 P11009875 THB      40000.00 ยุวพันธ์ สุขสมพร'}, {'WA': '2016100P11009875 P11009906 THB       1500.00 รพีพรรณ มณีรัตน์'}, {'WA': '2016100P11009875 P11009914 THB      25000.00 สุวิดา สาครินทร์'}, {'WA': '2016100P11009875 P11010149 THB      60000.00 อุบล บุญฮก'}, {'WA': '2016100P11009875 P11016251 THB       1500.00 จันจิรา เรืองประพันธ์'}, {'WA': '2016100P11009875 P11021812 THB       4000.00 ผกาทิพย์ เรืองศรี'}, {'WA': '2016100P11009875 P11028216 THB       3000.00 พรพิมล วัจนะเสนาะ'}, {'WA': '2016100P11009875 P11030230 THB       2000.00 วไลลักษณ์ หลีไมล์'}, {'WA': '2016100P11009875 P11032943 THB      10000.00 สรัลพร รัฐวิเศษ'}, {'WA': '2016200P11002371 P11002371 THB      27500.00 นุชจรินทร์ นิ้มวัฒนา'}, {'WA': '2016200P11002371 P70029883 THB      27500.00 ธัญชนก สุขบำรุง'}, {'WA': '2016200P11002706 P11002706 THB     100000.00 จารุวรรณ  ธาระเขตร์'}, {'WA': '2016200P11005218 P11002371 THB      50000.00 นุชจรินทร์ นิ้มวัฒนา'}, {'WA': '2016200P11005218 P11002456 THB      50000.00 สุภัทรา กุสินทร์เกิด'}, {'WA': '2016200P11005336 P11005336 THB      60000.00 สุภาวดี มงคลวัฒน์'}, {'WA': '2016200P11005336 P11005771 THB       3000.00 ธิติมา เทพพิพิธ'}, {'WA': '2016200P11005336 P11005810 THB       5000.00 พงษ์พินิจ ปลื้มจิต'}, {'WA': '2016200P11005336 P11006188 THB       5000.00 สุธิน ทวนประเสริฐ'}, {'WA': '2016200P11005336 P21034579 THB       3000.00 ปถมาพร พาราพิบูลย์'}, {'WA': '2016200P11006045 P11006045 THB        200.00 ทิพย์วรรณ์   ศรีกล่ำ'}, {'WA': '2016200P11006045 P11006189 THB        100.00 ผุสดี ทองเสนอ'}, {'WA': '2016200P11010572 P11010572 THB     100000.00 ชุติมณฑน์  ยิ่งยวด'}, {'WA': '2016300P11005369 P11005369 THB      30000.00 สุวัจนา  ชิตรัตน์'}, {'WA': '2016300P11010170 P11010170 THB      50000.00 พิกุล สำราญวงศ์'}, {'WA': '2016400P11010166 P11008939 THB      50000.00 แจ่มจันทร์ พลศรี'}, {'WA': '2016400P11010166 P11010166 THB      80000.00 จิราพร พิชญ์อังกูร'}, {'WA': '2016400P11010166 P11010170 THB      40000.00 พิกุล สำราญวงศ์'}, {'WA': '2016400P11010166 P11010171 THB      40000.00 วีณา ชัยประโคน'}, {'WA': '2016400P70042111 P70042111 THB      30000.00 วรรณวิศา วงค์ศรี'}, {'WA': '2016400P70042111 P70042222 THB      10000.00 พิมพ์ภรณ์ แสงเนตร'}, {'WA': '2016500P11006003 P11006003 THB      60000.00 โสภาวัลย์ ลือชัย'}, {'WA': '2016500P11006003 P11010150 THB      50000.00 กนกวรรณ มีจันทร์โท'}, {'WA': '2016500P11006003 P11010153 THB      50000.00 ลักขณา อยู่วรรณ'}, {'WA': '2016500P11006003 P11010160 THB      60000.00 คณานิช แสนมงคล'}, {'WA': '2016500P11006003 P11012313 THB       5000.00 ลลิตา บุญณวี'}, {'WA': '2016500P11006003 P11012619 THB       3000.00 กรรณิการ์ ทองน้อย'}, {'WA': '2016500P11006003 P11019544 THB       3000.00 ศิริรัตน์ บุญมา'}, {'WA': '2016500P11006003 P11024876 THB       5000.00 จันทร์เพ็ญ ก้อนเกียรติวงศ์'}, {'WA': '2016500P70042111 P11002456 THB      30000.00 สุภัทรา กุสินทร์เกิด'}, {'WA': '2016500P70042111 P70042111 THB      70000.00 วรรณวิศา วงค์ศรี'}, {'WA': '2016600P11010145 P11006117 THB      25000.00 สุกัญญา ฐิติวัฒนา'}, {'WA': '2016600P11010145 P11010145 THB      60000.00 เพลินจิตร์ จันทรทิพย์'}, {'WA': '2016600P11010145 P11010148 THB      30000.00 เสาวลักษณ์ สินภูธร'}, {'WA': '2016600P11010145 P11010154 THB      20000.00 วรรณพร พลมาศ'}, {'WA': '2016600P11010145 P11010364 THB       2000.00 หทัยรัตน์ อ่อนจันทร์สกุล'}, {'WA': '2016600P11010145 P11010518 THB          0.00 รำไพวัลย์ นาเสงี่ยม'}, {'WA': '2016600P11010145 P11010678 THB       1000.00 สุรีรัตน์ แสงกล้า'}, {'WA': '2016600P11010145 P11010683 THB       2000.00 พันธ์นิภา พุ่มไหม'}, {'WA': '2016600P11010145 P11010771 THB       1000.00 ไพรัตน์  มั่นทอง'}, {'WA': '2016600P11010145 P11011184 THB      25000.00 วิมล มูลเดช'}, {'WA': '2016600P11010145 P11011399 THB       2000.00 นันทนา ลี่เส็ง'}, {'WA': '2016600P11010145 P11029297 THB       3000.00 อำพัน เมืองข้องน้อย'}, {'WA': '2016700P1001216  P1001216  THB      50000.00 กฤษณา เงินสดย่อย'}, {'WA': '2016700P11005067 P11005067 THB      40000.00 มาลี นาควรพงศ์'}, {'WA': '2016700P11005067 P11009736 THB      35000.00 สุรีย์ ยศมูรธา'}, {'WA': '2016700P11005067 P11009843 THB      35000.00 โสพล อ่อนแก้ว'}, {'WA': '2016700P11005067 P11009906 THB       1500.00 รพีพรรณ มณีรัตน์'}, {'WA': '2016700P11005067 P11009914 THB      25000.00 สุวิดา สาครินทร์'}, {'WA': '2016700P11005067 P11010149 THB      50000.00 อุบล บุญฮก'}, {'WA': '2016700P11005067 P11021812 THB       1000.00 ผกาทิพย์ เรืองศรี'}, {'WA': '2016700P11005067 P11028216 THB       2000.00 พรพิมล วัจนะเสนาะ'}, {'WA': '2016700P11005067 P11030230 THB       1000.00 วไลลักษณ์ หลีไมล์'}, {'WA': '2016700P11005067 P11032943 THB      10000.00 สรัลพร รัฐวิเศษ'}, {'WA': '2016800P11000126 P11000126 THB     100000.00 วิภัสสรา ส.เจริญพานิช'}, {'WA': '2016800P11006257 P11006231 THB       3000.00 ธัญรัศม์ พลมณี'}, {'WA': '2016800P11006257 P11006257 THB      30000.00 ชูกมล จิตระบอบ'}, {'WA': '2016800P11006257 P11010167 THB      30000.00 นภัสวรรณ เนตรภักดี'}, {'WA': '2016800P11006257 P11010175 THB      20000.00 ธนพร วงค์ชา'}, {'WA': '2016800P11006257 P11011614 THB      20000.00 ดรุณี กำลังศิลป์'}, {'WA': '2016800P11006257 P11012064 THB       3000.00 อรจิตร คำแก้ว'}, {'WA': '2016800P11006257 P11012207 THB       3000.00 โฉมเฉลา อินธิศักดิ์'}, {'WA': '2016800P11006257 P11012265 THB       3000.00 กัลยา คตธมาตย์'}, {'WA': '2016800P11006257 P11020470 THB       3000.00 วรณัน บุตนุ'}, {'WA': '2016800P11006257 P11027160 THB       3000.00 กุลประวีณ์ บุญเอนก'}, {'WA': '2016800P11006257 P11030245 THB       3000.00 สุพัตรา ถินอภัย'}, {'WA': '2016800P11006257 P11034787 THB       3000.00 ปัทมา  ถวิลการ'}, {'WA': '2016900P11005505 P11005505 THB      40000.00 ดาหวัน อรุณคีรีวัฒน์'}, {'WA': '2016900P11005505 P11010449 THB      10000.00 วรรณธณี ท้วมเทียบ'}, {'WA': '2016900P11005505 P11010596 THB      10000.00 วรรณี เมืองสมบัติ'}, {'WA': '2016900P11005505 P11034709 THB      10000.00 ฉัตรญาดา  กล้าปราบโจร'}, {'WA': '2016900P11010485 P11007861 THB      10000.00 ธนียา ขำพวง'}, {'WA': '2016900P11010485 P11009683 THB      10000.00 ชัชญา ปรีสุวรรณ'}, {'WA': '2016900P11010485 P11010485 THB      40000.00 จิรภรณ์ ผิวเผือก'}, {'WA': '2016900P11010485 P11010599 THB      10000.00 สนิท ผะอบเหล็ก'}, {'WA': '2016900P11010485 P11027345 THB      10000.00 นฤมล พรมดี'}, {'WA': '2017000P11024290 P11024290 THB      30000.00 เกษร ประสิทธ์พรพันธ์'}, {'WA': '2017100P9999999  P9999999  THB      30000.00 นายสมภพ กองทรัพย์,นางกมลวรรณ เขียวจ'}, {'WA': '2017300P1001216  P1001216  THB      30000.00 กฤษณา เงินสดย่อย'}, {'WA': '2017300P11000161 P11000161 THB      80000.00 ภานุวัฒน์ วัฒนา และ  นางธัญญาลักษณ์จันทร์สุวรรณ และ นายพรเทพ บัวทอง'}, {'WA': '2017300P11001905 P11001905 THB      30000.00 คนธีระ จินารักษ์ และ นางพาราดี วาสุและ  น.ส.สุภาวดี จีนอ่อน'}, {'WA': '2017300P11001954 P11001954 THB      20000.00 บัวจันทร์ อินตา  หรือ นางนงเยาว์มาร์จันทร์ หรือนายวิสูตร สังขมณี'}, {'WA': '2017300P11002164 P11002164 THB      30000.00 ทวินันท์ เนติพัฒน์ หรือ น.ส.พิชยาประภาพันธ์ หรือ นายอรรถพล ปิยภัณฑ์'}, {'WA': '2017300P11002549 P11002549 THB      20000.00 รัตนา  สุขสม หรือ นางกาญจนา อารยะธน'}, {'WA': '2017300P11002609 P11002609 THB      20000.00 ปรีญานุช  อุสาหะ หรือ นายณัฐพล  พรงนางกัญญาลักษ์ ปราดเปรียว'}, {'WA': '2017300P11002615 P11002615 THB      10000.00 นเรศร์  ธรรมศิริ และนางอารมย์รัฐธรรม หรือ น.ส.ชญารัศน์  สุดสนอง'}, {'WA': '2017300P11002642 P11002642 THB      50000.00 วิสูตร สังขมณี และนายนิวัฒน์ คำหมายและนายธีระ แสงชนินทร์รัตน์'}, {'WA': '2017300P11002653 P11002653 THB      50000.00 สนนึก เปรมบุญ น.ส.ปาณิสรา คำสมมาตร์น.ส.สุรางค์  จำปาทอง'}, {'WA': '2017300P11002679 P11002679 THB      20000.00 มั่น แจ่มเที่ยงตรง หรือ นายภีมพิชานันติแก้ว หรือ นายศุกล ธรรมศิริ'}, {'WA': '2017300P11002689 P11002689 THB      60000.00 อรษา พึ่งโพธิ และ พรสวรรค์ ส้วยเกร็นายจรัส กสิชีวิน'}, {'WA': '2017300P11004209 P11004209 THB      50000.00 ตริตราภรณ์ รักพรหม และ นางพัศรินทร์บางกุ้ง และ น.ส.วิลาวัลย์ บุญเจือ'}, {'WA': '2017300P11004214 P11004214 THB      50000.00 วรรณะ ศรีนวล และ น.ส.นวพรรณ  สีเข้มและ นางขนิษฐา คงสมเพ็ชร'}, {'WA': '2017300P11004711 P11004711 THB      30000.00 สมสิทธิ์ เหมกุล และ น.ส.นุสรา นาคทัและนายสมาน ลัคขณศิลป์'}, {'WA': '2017300P11005646 P11005646 THB      40000.00 จินตนา ธัญญการหรือน.ส.กฤชสร อนันต์สถิตย์หรือน.ส.ปริชาติ จันทร์ไข่'}, {'WA': '2017300P11007021 P11007021 THB      20000.00 ศักดิ์ดา มุ้งทอง หรือ นายวิสูตร สังหรือ นางสุนีย์ มณีแกม'}, {'WA': '2017300P11007415 P11007415 THB      60000.00 ชมพูนุท วรรณยิ่ง หรือ  นายวริษฐ์สรรพวิสุทธิ์ หรือ นางมาลัยพร สุขสมบ'}, {'WA': '2017300P11007645 P11007645 THB      40000.00 สุธีรัตน์ หลอมทอง และ นางสาวิตรี ส่และ นางศศิญดา ฉัตรวิไล'}, {'WA': '2017300P11008789 P11008789 THB      50000.00 กันยารัตน์ แสงเดช และ นายวิสิทธิ์ ทและ นายธวัช  เต็มภาชนะ'}, {'WA': '2017300P11011190 P11011190 THB      15000.00 สิงหล เสือทอง หรือ น.ส.รุ่งนภาสายรื่น หรือ น.ส.มัญชุสา สุวรรณคง'}, {'WA': '2017300P11013184 P11013184 THB      60000.00 ธีรพล สุทธิพลสมบูรณ์ หรือ น.ส.กัญกรคงวงศ์วาน หรือ น.ส.อัญญฎา  ภูท้วม'}, {'WA': '2017300P11013655 P11013655 THB      50000.00 ยศพงษ์  เทพโยธิน และ น.ส.อุไรวรรณคำอุดม และ น.ส.วรรณพร'}, {'WA': '2017300P11014198 P11014198 THB      20000.00 พีระ สิริรุ่งอมร หรือ นายอรรคเดชศิริรักษ์ หรือ นายศุกล ธรรมศิริ'}, {'WA': '2017300P11014226 P11014226 THB      50000.00 นภัสสร โคตพงษ์ หรือ น.ส.ศศิวิมล พิรหรือ นางจุฑามาศ อยู่รอย'}, {'WA': '2017300P12034591 P12034591 THB      50000.00 ธีระวัฒน์ แสงงาม และ น.ส.อุบลบุตนุ และ น.ส.ดารุณี สานา'}, {'WA': '2017300P12039734 P12039734 THB      40000.00 ธวัชชัย น้อยจันทร์ หรือ น.ส.จิราวรรพลพิทักษ์ หรือ น.ส.วรรณวิภา มีจันทร'}, {'WA': '2017300P12048652 P12048652 THB      50000.00 เดือนใส แดงประเสริฐ หรือนายสุนทรวิเศษพันธ์ หรือน.ส.สุปราณี เพียนไธส'}, {'WA': '2017400P11028004 P11028004 THB     100000.00 กิตติกรรัตนาวลี วงศ์ราชนุช'}, {'WA': '2017500P0750220  P0750220  THB      40000.00 สำนักงานขนส่ง-วังน้อย'}, {'WA': '2017500P0750320  P0750320  THB     735000.00 สำนักงานขนส่ง-บางบาล'}, {'WA': '2017500P0751210  P0751210  THB      20000.00 คลัง MT 51,56'}, {'WA': '2017500P0751210  P11024068 THB      50000.00 วรลักษณ์ เมฆพลัด'}, {'WA': '2017500P0751210  P11024219 THB      50000.00 สหรัฐ บุญปลื้ม'}, {'WA': '2017500P0751330  P0751330  THB      10000.00 คลัง-TTDC'}, {'WA': '2017500P0753000  P0753000  THB      20000.00 สำนักงาน-DC-กรุงเทพเหนือ(มหาทิพย์)'}, {'WA': '2017500P0753400  P0753400  THB      10000.00 RDC-นครราชสีมา'}, {'WA': '2017500P0754010  P0754010  THB      18000.00 ศูนย์กระจายสินค้า-RDC.ลำปาง'}, {'WA': '2017500P0754700  P0754700  THB      90000.00 RDC-สุราษฎร์ธานี'}, {'WA': '2017500P0755020  P0755020  THB      10000.00 สำนักงานขนส่ง-กาญจนสิงขร'}, {'WA': '2017500P0755030  P0755030  THB       5000.00 สำนักงานขนส่ง-หลักชัย'}, {'WA': '2017500P0755040  P0755040  THB      20000.00 ศูนย์ย่อยเฟื่องฟู-ปราจีนบุรี'}, {'WA': '2017500P0755050  P0755050  THB      10000.00 ศูนย์ขนส่งย่อย อธิมาตร'}, {'WA': '2017500P0755060  P0755060  THB      10000.00 ศูนย์ขนส่งย่อย เอส เอส การสุรา'}, {'WA': '2017500P0755070  P0755070  THB      10000.00 ศูนย์ขนส่งย่อย แก่นขวัญ'}, {'WA': '2017500P0755080  P0755080  THB      10000.00 ศูนย์ขนส่งย่อย เทพอรุโณทัย'}, {'WA': '2017500P0755090  P0755090  THB      10000.00 ศูนย์ย่อย มงคลสมัย'}, {'WA': '2017500P0755100  P0755100  THB      20000.00 สำนักงานขนส่ง-บางยี่ขัน'}, {'WA': '2017500P0755130  P0755130  THB      20000.00 สำนักงานขนส่ง-กระทิงแดง'}, {'WA': '2017500P0755160  P0755160  THB      10000.00 สำนักงานขนส่ง-แสงโสม'}, {'WA': '2017500P0756010  P0756010  THB      10000.00 คลังจังหวัด ปราจีนบุรี'}, {'WA': '2017500P0756031  P0756031  THB      50000.00 คลังจังหวัด ชุมพร'}, {'WA': '2017500P0756033  P0756033  THB      30000.00 คลังจังหวัด ภูเก็ต'}, {'WA': '2017500P0756035  P0756035  THB      30000.00 คลังจังหวัด กระบี่'}, {'WA': '2017500P0756036  P0756036  THB      60000.00 คลังจังหวัด นครศรีธรรมราช'}, {'WA': '2017500P0756037  P0756037  THB      40000.00 คลังจังหวัด สงขลา'}, {'WA': '2017500P0756038  P0756038  THB      25000.00 คลังจังหวัด ตรัง'}, {'WA': '2017500P0756039  P0756039  THB      10000.00 คลังจังหวัด พัทลุง'}, {'WA': '2017500P0756040  P0756040  THB      20000.00 คลังจังหวัดจันทบุรี'}, {'WA': '2017500P0756050  P0756050  THB       5000.00 คลังจังหวัดสระแก้ว'}, {'WA': '2017500P0756060  P0756060  THB      18000.00 คลังจังหวัดชลบุรี'}, {'WA': '2017500P0756070  P0756070  THB       5000.00 คลังจังหวัดฉะเชิงเทรา'}, {'WA': '2017500P0756080  P0756080  THB       8000.00 คลังจังหวัดระยอง'}, {'WA': '2017500P0756090  P0756090  THB      10000.00 คลังจังหวัด บุรีรัมย์'}, {'WA': '2017500P0756100  P0756100  THB      10000.00 คลังจังหวัด นครราชสีมา'}, {'WA': '2017500P0756110  P0756110  THB      10000.00 คลังจังหวัด สีคิ้ว'}, {'WA': '2017500P0756130  P0756130  THB      10000.00 คลังจังหวัด สุรินทร์'}, {'WA': '2017500P0756140  P0756140  THB      15000.00 คลังจังหวัด อุบลราชธานี'}, {'WA': '2017500P0756150  P0756150  THB      10000.00 คลังจังหวัด ศรีสะเกษ'}, {'WA': '2017500P0756160  P0756160  THB      10000.00 คลังจังหวัด ยโสธร'}, {'WA': '2017500P0756170  P0756170  THB      10000.00 คลังจังหวัด ร้อยเอ็ด'}, {'WA': '2017500P0756180  P0756180  THB      10000.00 คลังจังหวัด อำนาจเจริญ'}, {'WA': '2017500P0756190  P0756190  THB      20000.00 คลังจังหวัด ขอนแก่น'}, {'WA': '2017500P0756200  P0756200  THB      10000.00 คลังจังหวัด ชัยภูมิ'}, {'WA': '2017500P0756210  P0756210  THB      10000.00 คลังจังหวัด กาฬสินธุ์'}, {'WA': '2017500P0756220  P0756220  THB      10000.00 คลังจังหวัด มหาสารคาม'}, {'WA': '2017500P0756230  P0756230  THB      10000.00 คลังจังหวัด อุดรธานี'}, {'WA': '2017500P0756240  P0756240  THB      10000.00 คลังจังหวัด หนองคาย'}, {'WA': '2017500P0756250  P0756250  THB      10000.00 คลังจังหวัด สกลนคร'}, {'WA': '2017500P0756260  P0756260  THB      10000.00 คลังจังหวัด นครพนม'}, {'WA': '2017500P0756270  P0756270  THB      10000.00 คลังจังหวัด มุกดาหาร'}, {'WA': '2017500P0756280  P0756280  THB      10000.00 คลังจังหวัด เลย'}, {'WA': '2017500P0756440  P0756440  THB      10000.00 คลังจังหวัด นครปฐม'}, {'WA': '2017500P0756450  P0756450  THB       5000.00 คลังจังหวัด สุรพรรณบุรี'}, {'WA': '2017500P0756460  P0756460  THB       5000.00 คลังจังหวัด กาญจนบุรี'}, {'WA': '2017500P0756470  P0756470  THB      10000.00 คลังจังหวัด ราชบุรี'}, {'WA': '2017500P0756500  P0756500  THB       5000.00 คลังจังหวัด เพชรบุรี'}, {'WA': '2017500P0756510  P0756510  THB      10000.00 คลังจังหวัด ประจวบคีรีขันท์'}, {'WA': '2017500P0756520  P0756520  THB      20000.00 คลังจังหวัด นครสวรรค์'}, {'WA': '2017500P0756530  P0756530  THB       8000.00 คลังจังหวัด พิจิตร'}, {'WA': '2017500P0756540  P0756540  THB       8000.00 คลังจังหวัด เพชรบูรณ์'}, {'WA': '2017500P0756550  P0756550  THB       8000.00 คลังจังหวัด กำแพงเพชร'}, {'WA': '2017500P0756560  P0756560  THB       8000.00 คลังจังหวัด อยุธยา'}, {'WA': '2017500P0756590  P0756590  THB      20000.00 คลังจังหวัด สระบุรี'}, {'WA': '2017500P0756600  P0756600  THB      15000.00 คลังจังหวัด ลพบุรี'}, {'WA': '2017500P0756610  P0756610  THB      15000.00 คลังจังหวัด ชัยนาท'}, {'WA': '2017500P0756630  P0756630  THB      13000.00 คลังจังหวัด เชียงใหม่1'}, {'WA': '2017500P0756640  P0756640  THB       8000.00 คลังจังหวัด เชียงใหม่-ฝาง'}, {'WA': '2017500P0756650  P0756650  THB      10000.00 คลังจังหวัด เชียงราย'}, {'WA': '2017500P0756690  P0756690  THB      16000.00 คลังจังหวัด เชียงใหม่-แม่แตง'}, {'WA': '2017500P0756700  P0756700  THB       8000.00 คลังจังหวัด พิษณุโลก'}, {'WA': '2017500P0756710  P0756710  THB       8000.00 คลังจังหวัด สุโขทัย'}, {'WA': '2017500P0756720  P0756720  THB       4000.00 คลังจังหวัด ตาก'}, {'WA': '2017500P0756730  P0756730  THB       8000.00 คลังจังหวัด อุตรดิตถ์'}, {'WA': '2017500P0756740  P0756740  THB       8000.00 คลังจังหวัด แพร่'}, {'WA': '2017500P0756760  P0756760  THB      10000.00 คลังสมุทรปราการ'}, {'WA': '2017500P0756770  P0756770  THB      20000.00 คลังบางขัน(ปทุมธานี)'}, {'WA': '2017500P0756800  P0756800  THB      10000.00 คลังหทัยราษฏร์(มีนบุรี)'}, {'WA': '2017500P0756810  P0756810  THB      20000.00 คลังพรีเม็ค(บางนา)'}, {'WA': '2017500P0756860  P0756860  THB       8000.00 คลังจังหวัด เชียงใหม่-ฮอด'}, {'WA': '2017500P0756890  P0756890  THB       4000.00 คลังจังหวัดตาก(แม่สอด)'}, {'WA': '2017500P1001742  P1001742  THB      50000.00 วรัญญา เงินสดย่อย'}, {'WA': '2017500P11002830 E11004927 THB          0.00 ชื่นจิต เชื้อวงษ์'}, {'WA': '2017500P11010159 P11010159 THB      35000.00 กรณ์ชนก ฟักทองอยู่'}, {'WA': '2017500P11016970 P11016970 THB      80000.00 อันธิกา  กิจการ'}, {'WA': '2017500P11018565 P11018565 THB     300000.00 ปิยธิดา  รัตนพันธุ์เศรษฐ'}, {'WA': '2017500P11018993 P11018993 THB     100000.00 จิตรา วรสัตย์'}, {'WA': '2017500P11033138 P11033138 THB      50000.00 แสงโสม Petty Cash'}, {'WA': '2017500P11033138 P11033139 THB      30000.00 พรทิพย์ ปิยะอรุณ Test'}, {'WA': '2017500P11033139 P11033139 THB         50.26 พรทิพย์ ปิยะอรุณ Test'}, {'WA': '2017500P70017550 P70017550 THB      20000.00 ภาวินี สุวรรณโยธี'}, {'WA': '2017500P755170   P755170   THB      10000.00 สำนักงานขนส่งย่อย-ภาค 1'}, {'WA': '2017500P756832   P756832   THB      20000.00 คลังบุคคโล'}, {'WA': '20175F0P11032391 P11032391 THB      15000.00 ทดสอบ havifood'}, {'WA': '20175F0P70001112 P70001112 THB      45000.00 Test haviifood'}, {'WA': '20175L0P11032391 P11032391 THB      15000.00 ทดสอบ haviflo'}, {'WA': '20175L0P11032391 P70005915 THB       5000.00 สุวรรณา เจริญทรัพย์'}, {'WA': '20175L0P70001111 P70001111 THB      40000.00 Test havilogis'}, {'WA': '20175L0P70001111 P70001113 THB      10000.00 Test 1111'}, {'WA': '20175L0P70003867 P70005915 THB      40000.00 สุวรรณา เจริญทรัพย์'}, {'WA': '2017600P11002371 P11002371 THB      30000.00 นุชจรินทร์ นิ้มวัฒนา'}, {'WA': '2017600P11005402 P11005402 THB      10000.00 วัลวิภา  หร่ายเกษม'}, {'WA': '2017600P76102000 P76102000 THB      15000.00 ณัฐพงศ์ มะอะอุ'}, {'WA': '2017700P11001794 P11001794 THB      20000.00 องอาจ  ไสวชัยศรี'}, {'WA': '2017700P11004814 P11004814 THB      20000.00 ชัยวัฒน์ จันทิมา'}, {'WA': '2017700P11020023 P11020023 THB      20000.00 สุรชัย เนียมปาน'}, {'WA': '2017700P11022675 P11022675 THB      20000.00 พนิดา ใจกระจ่าง'}, {'WA': '2017700P11024617 P11024617 THB      20000.00 พัชรา มาโคตร'}, {'WA': '2017700P70039808 P70039808 THB      20000.00 นิรดา ธีรวงษ์ไพบูลย์'}, {'WA': '2017800P11005608 P11005284 THB      10000.00 คณึงนิตย์ พันละเกตุ'}, {'WA': '2017800P11005608 P11005608 THB      50000.00 เปรมจิตต์ ธรรมไพบูลย์ เปรมจิตต์ ธรรเปรมจิตต์ ธรรมไพบูลย์ เปรมจิตต์ ธรรเปรมจิตต์ ธรรมไพบูลย์ เปรมจิตต์ ธรรเปรมจิตต์ ธรรมไพบูลย์ เปรมจิตต์ ธรร'}, {'WA': '2017800P11005608 P11005921 THB       8000.00 กวิตา ประดงจงเนตร'}, {'WA': '2017800P11005608 P11006188 THB       3000.00 สุธิน ทวนประเสริฐ'}, {'WA': '2017800P11005608 P12039112 THB      15000.00 ปรียา เรือนทองคำ'}, {'WA': '2017800P11005608 P21034579 THB       3000.00 ปถมาพร พาราพิบูลย์'}, {'WA': '2017800P11005608 P70002909 THB       3000.00 ติรยา สรรพอุดม'}, {'WA': '2017800P11013655 P11013655              0.00 ยศพงษ์  เทพโยธิน และ น.ส.อุไรวรรณคำอุดม และ น.ส.วรรณพร'}, {'WA': '2017900P11005505 P11005505 THB      10000.00 ดาหวัน อรุณคีรีวัฒน์'}, {'WA': '2017900P11005505 P11010449 THB       5000.00 วรรณธณี ท้วมเทียบ'}, {'WA': '2017900P11005505 P11010596 THB       5000.00 วรรณี เมืองสมบัติ'}, {'WA': '2017900P11005505 P11034709 THB       3000.00 ฉัตรญาดา  กล้าปราบโจร'}, {'WA': '2017900P11006184 P11006184 THB      40000.00 อรวีร์ ด่านกุล'}, {'WA': '2017900P11006184 P11007861 THB       5000.00 ธนียา ขำพวง'}, {'WA': '2017900P11006184 P11009683 THB       5000.00 ชัชญา ปรีสุวรรณ'}, {'WA': '2017900P11006184 P11010599 THB       5000.00 สนิท ผะอบเหล็ก'}, {'WA': '2017900P11006184 P11027345 THB       3000.00 นฤมล พรมดี'}, {'WA': '2018600P11005402 P11005402 THB      30000.00 วัลวิภา  หร่ายเกษม'}, {'WA': '2018600P11023092 P11023092 THB      30000.00 กมล เศวตทวี'}, {'WA': '2018700P11010169 P11010167 THB      40000.00 นภัสวรรณ เนตรภักดี'}, {'WA': '2018700P11010169 P11010169 THB      50000.00 พรฑิตา เวียงหก'}, {'WA': '2018700P11010169 P11010175 THB      40000.00 ธนพร วงค์ชา'}, {'WA': '2018700P11010169 P11011614 THB      40000.00 ดรุณี กำลังศิลป์'}, {'WA': '2018900P70027834 P70027834 THB     150000.00 ปนัดดา เอี่ยมสะอาด'}, {'WA': '2019000P11026768 P11026768 THB      30000.00 พันธ์ทิพย์ ชัยชมภู'}, {'WA': '2019000P11030318 P11030318 THB      50000.00 ชวัลรัสย์ คำทะ'}, {'WA': '20190B0P1001742  P1001742  THB      40000.00 วรัญญา เงินสดย่อย'}, {'WA': '20190B0P11027937 P11027937 THB      10000.00 วชีรา สุขบรรเทิง'}, {'WA': '20190B0P11027937 P11030280 THB      10000.00 พิมลวรรณ มหาชัย'}, {'WA': '20190B0P11030280 P11030280 THB      30000.00 พิมลวรรณ มหาชัย'}, {'WA': '20190B0P11030318 P11030318 THB      50000.00 ชวัลรัสย์ คำทะ'}, {'WA': '2019100P01001174 P01001174 THB      50000.00 ปาณิศา ปรัชญาดำรงพล'}, {'WA': '2019100P70092728 P70092728 THB      50000.00 กิตติอาภา อ่างบุญพงษ์'}, {'WA': '2019300P01001174 P01001174 THB      50000.00 ปาณิศา ปรัชญาดำรงพล'}]"
   ]
  },
  {
   "cell_type": "code",
   "execution_count": null,
   "metadata": {},
   "outputs": [],
   "source": [
    "FIELD = [{'FIELDNAME': 'MANDT', 'OFFSET': '000000', 'LENGTH': '000003', 'TYPE': 'C', 'FIELDTEXT': 'Client'}, {'FIELDNAME': 'BUKRS', 'OFFSET': '000003', 'LENGTH': '000004', 'TYPE': 'C', 'FIELDTEXT': 'Company Code'}, {'FIELDNAME': 'LIFNR1', 'OFFSET': '000007', 'LENGTH': '000010', 'TYPE': 'C', 'FIELDTEXT': 'Account Number of Vendor or Creditor'}, {'FIELDNAME': 'LIFNR2', 'OFFSET': '000017', 'LENGTH': '000010', 'TYPE': 'C', 'FIELDTEXT': 'Account Number of Vendor or Creditor'}, {'FIELDNAME': 'CURRENCY', 'OFFSET': '000027', 'LENGTH': '000005', 'TYPE': 'C', 'FIELDTEXT': 'Currency Key'}, {'FIELDNAME': 'AMOUNT', 'OFFSET': '000032', 'LENGTH': '000013', 'TYPE': 'P', 'FIELDTEXT': 'Amount in Document Currency'}, {'FIELDNAME': 'VNAME', 'OFFSET': '000045', 'LENGTH': '000140', 'TYPE': 'C', 'FIELDTEXT': 'Vendor Name'}]"
   ]
  },
  {
   "cell_type": "code",
   "execution_count": null,
   "metadata": {},
   "outputs": [],
   "source": [
    "FIELDTEXT = [f['FIELDTEXT'] for f in FIELD ]\n",
    "print(FIELDTEXT)"
   ]
  },
  {
   "cell_type": "code",
   "execution_count": null,
   "metadata": {},
   "outputs": [],
   "source": [
    "columns = [f['FIELDNAME'] for f in FIELD ]\n",
    "print(columns)"
   ]
  },
  {
   "cell_type": "code",
   "execution_count": null,
   "metadata": {},
   "outputs": [],
   "source": []
  },
  {
   "cell_type": "code",
   "execution_count": null,
   "metadata": {},
   "outputs": [],
   "source": [
    "formatted_data = [list(map(str.strip, (row['WA'] or '').split())) for row in DATA]"
   ]
  },
  {
   "cell_type": "code",
   "execution_count": null,
   "metadata": {},
   "outputs": [],
   "source": [
    "DATA"
   ]
  },
  {
   "cell_type": "code",
   "execution_count": null,
   "metadata": {},
   "outputs": [],
   "source": [
    "formatted_data[0]"
   ]
  },
  {
   "cell_type": "code",
   "execution_count": null,
   "metadata": {},
   "outputs": [],
   "source": [
    "pandas.DataFrame(data=None, index=None, columns=None, "
   ]
  },
  {
   "cell_type": "code",
   "execution_count": null,
   "metadata": {},
   "outputs": [],
   "source": [
    "DATA[0]['WA']"
   ]
  },
  {
   "cell_type": "code",
   "execution_count": null,
   "metadata": {},
   "outputs": [],
   "source": [
    "DATA[1]['WA']"
   ]
  },
  {
   "cell_type": "code",
   "execution_count": null,
   "metadata": {},
   "outputs": [],
   "source": [
    "DATA[1]['WA'].split(\" \")"
   ]
  },
  {
   "cell_type": "code",
   "execution_count": null,
   "metadata": {},
   "outputs": [],
   "source": [
    " np.isnan(  np.average( history.history['kl_loss'] )  )"
   ]
  },
  {
   "cell_type": "code",
   "execution_count": null,
   "metadata": {},
   "outputs": [],
   "source": [
    "#nan problem\n",
    "#partdate = '2022-05'\n",
    "#normal \n",
    "#partdate = '2011-12'"
   ]
  },
  {
   "cell_type": "code",
   "execution_count": null,
   "metadata": {},
   "outputs": [],
   "source": [
    "#DATA"
   ]
  },
  {
   "cell_type": "code",
   "execution_count": null,
   "metadata": {},
   "outputs": [],
   "source": [
    "# partdate = '2011-12'\n",
    "# partdate = '2022-05'\n",
    "# with h5py.File(H5_PATH+partdate+\".h5\", 'r') as f:\n",
    "#     DATA = f[partdate][:]\n",
    "#     X = DATA[:, :, :3]  # เลือกข้อมูลแถวแรกถึงแถวที่ 3 สำหรับ X\n",
    "#     Y = DATA[:, :, 3:]  # เลือกข้อมูลแถวที่ 3 เป็นต้นไปสำหรับ Y"
   ]
  },
  {
   "cell_type": "code",
   "execution_count": null,
   "metadata": {},
   "outputs": [],
   "source": [
    "colList = [\"c_bid\", \"c_ask\", \"c_volume\", \"p_bid\", \"p_ask\", \"p_volume\"]\n",
    "F=[1,2,3,4,5]\n",
    "for input_name, decoder_output in zip(colList, Y[:3]):\n",
    "    print(input_name)\n",
    "    print(decoder_output)\n",
    "    print(\"==============\")"
   ]
  },
  {
   "cell_type": "code",
   "execution_count": null,
   "metadata": {},
   "outputs": [],
   "source": [
    "tf.keras.losses.MSE(\n",
    "    Y[2], Y[3]\n",
    ")"
   ]
  },
  {
   "cell_type": "code",
   "execution_count": null,
   "metadata": {},
   "outputs": [],
   "source": [
    "A = tf.constant(Y[2], dtype=tf.float32)\n",
    "B = tf.constant(Y[3], dtype=tf.float32)"
   ]
  },
  {
   "cell_type": "code",
   "execution_count": null,
   "metadata": {},
   "outputs": [],
   "source": [
    " tf.reduce_mean( tf.square(A[:,0]-B[:,0]) )"
   ]
  },
  {
   "cell_type": "code",
   "execution_count": null,
   "metadata": {},
   "outputs": [],
   "source": [
    "colList = [\"c_bid\", \"c_ask\", \"c_volume\", \"p_bid\", \"p_ask\", \"p_volume\"]"
   ]
  },
  {
   "cell_type": "code",
   "execution_count": null,
   "metadata": {},
   "outputs": [],
   "source": [
    "tf.reduce_sum(A_first_feature, axis=0, keepdims=True)"
   ]
  },
  {
   "cell_type": "code",
   "execution_count": null,
   "metadata": {},
   "outputs": [],
   "source": [
    " tf.reduce_sum()"
   ]
  },
  {
   "cell_type": "code",
   "execution_count": null,
   "metadata": {},
   "outputs": [],
   "source": [
    "X[2]"
   ]
  },
  {
   "cell_type": "code",
   "execution_count": null,
   "metadata": {},
   "outputs": [],
   "source": [
    "for i in range ( len( np.transpose( Y[0] ) ) ):\n",
    "    col = np.transpose( Y[i] ) \n",
    "    for c in range(len(col)):\n",
    "        a = np.transpose( Y[i] )[c]\n",
    "        if np.sum( a ) == 0 :\n",
    "            print(f\"0 - i:{i},c:{c}\")\n",
    "        if np.isnan( np.sum( a ) ) :\n",
    "            print(f\"nan - i:{i},c:{c}\")"
   ]
  },
  {
   "cell_type": "code",
   "execution_count": null,
   "metadata": {},
   "outputs": [],
   "source": [
    "for i in range ( len( np.transpose( X[0] ) ) ):\n",
    "    col = np.transpose( X[i] ) \n",
    "    for c in range(len(col)):\n",
    "        a = np.transpose( X[i] )[c]\n",
    "        if np.sum( a ) == 0 :\n",
    "            print(f\"0 - i:{i},c:{c}\")\n",
    "        if np.isnan( np.sum( a ) ) :\n",
    "            print(f\"nan - i:{i},c:{c}\")"
   ]
  },
  {
   "cell_type": "code",
   "execution_count": null,
   "metadata": {},
   "outputs": [],
   "source": []
  },
  {
   "cell_type": "code",
   "execution_count": null,
   "metadata": {},
   "outputs": [],
   "source": [
    "Y[0] "
   ]
  },
  {
   "cell_type": "code",
   "execution_count": null,
   "metadata": {},
   "outputs": [],
   "source": [
    "np.transpose( Y[0] )"
   ]
  },
  {
   "cell_type": "code",
   "execution_count": null,
   "metadata": {},
   "outputs": [],
   "source": [
    "np.transpose( Y[2] )[5]"
   ]
  },
  {
   "cell_type": "code",
   "execution_count": null,
   "metadata": {},
   "outputs": [],
   "source": [
    "X[2]"
   ]
  },
  {
   "cell_type": "code",
   "execution_count": null,
   "metadata": {},
   "outputs": [],
   "source": [
    "Y[2]"
   ]
  },
  {
   "cell_type": "code",
   "execution_count": null,
   "metadata": {},
   "outputs": [],
   "source": [
    "X[2][8:12]"
   ]
  },
  {
   "cell_type": "code",
   "execution_count": null,
   "metadata": {},
   "outputs": [],
   "source": [
    "import tensorflow as tf\n",
    "\n",
    "# Tensor with a nan value\n",
    "tensor_with_nan = tf.constant([[0.0, 0, 0], [0, 0, 0]])\n",
    "# Perform reduce_mean\n",
    "mean_with_nan = tf.reduce_mean(tensor_with_nan)\n",
    "print(\"Mean of tensor with nan:\", mean_with_nan.numpy())\n"
   ]
  },
  {
   "cell_type": "code",
   "execution_count": null,
   "metadata": {},
   "outputs": [],
   "source": [
    "tensor_with_nan.numpy()"
   ]
  },
  {
   "cell_type": "code",
   "execution_count": null,
   "metadata": {},
   "outputs": [],
   "source": []
  },
  {
   "cell_type": "code",
   "execution_count": null,
   "metadata": {},
   "outputs": [],
   "source": [
    "history.history"
   ]
  },
  {
   "cell_type": "code",
   "execution_count": null,
   "metadata": {},
   "outputs": [],
   "source": [
    "Y[2][-10]"
   ]
  },
  {
   "cell_type": "code",
   "execution_count": null,
   "metadata": {},
   "outputs": [],
   "source": [
    "for i in range( len(X) ): \n",
    "    if np.sum( X[i] ) == 0 :\n",
    "        print(   np.sum( X[i] ) )"
   ]
  },
  {
   "cell_type": "code",
   "execution_count": null,
   "metadata": {},
   "outputs": [],
   "source": [
    "len(X)"
   ]
  },
  {
   "cell_type": "code",
   "execution_count": null,
   "metadata": {},
   "outputs": [],
   "source": [
    "for i in range( len(Y) ): \n",
    "    if np.sum( Y[i] ) == 0 :\n",
    "        print(   np.sum( Y[i] ) )"
   ]
  },
  {
   "cell_type": "code",
   "execution_count": null,
   "metadata": {},
   "outputs": [],
   "source": [
    "np.average(  history.history['kl_loss'] )"
   ]
  },
  {
   "cell_type": "code",
   "execution_count": null,
   "metadata": {},
   "outputs": [],
   "source": [
    "partdate"
   ]
  },
  {
   "cell_type": "code",
   "execution_count": null,
   "metadata": {},
   "outputs": [],
   "source": [
    "Y[5]"
   ]
  },
  {
   "cell_type": "code",
   "execution_count": null,
   "metadata": {},
   "outputs": [],
   "source": [
    "X"
   ]
  },
  {
   "cell_type": "code",
   "execution_count": null,
   "metadata": {},
   "outputs": [],
   "source": [
    "f = h5py.File(H5_PATH+'2012-05'+\".h5\", 'r') "
   ]
  },
  {
   "cell_type": "code",
   "execution_count": null,
   "metadata": {},
   "outputs": [],
   "source": [
    "f.keys()"
   ]
  },
  {
   "cell_type": "code",
   "execution_count": null,
   "metadata": {},
   "outputs": [],
   "source": [
    "import numpy as np\n",
    "\n",
    "def create_adjacency_matrix(options, threshold=25):\n",
    "    \"\"\"\n",
    "    สร้าง adjacency matrix สำหรับ Options Chain โดยใช้ความใกล้เคียงของ strike price และ DTE\n",
    "    \"\"\"\n",
    "    num_options = len(options)\n",
    "    adjacency_matrix = np.zeros((num_options, num_options))\n",
    "\n",
    "    for i in range(num_options):\n",
    "        for j in range(i, num_options):\n",
    "            # พิจารณาเชื่อมโยงระหว่าง options หาก strike price ต่างกันไม่เกิน threshold และ DTE เท่ากัน\n",
    "            if abs(options[i]['strike_price'] - options[j]['strike_price']) <= threshold and options[i]['dte'] == options[j]['dte']:\n",
    "                adjacency_matrix[i, j] = 1\n",
    "                adjacency_matrix[j, i] = 1\n",
    "    \n",
    "    return adjacency_matrix\n",
    "\n",
    "options = [\n",
    "    {'strike_price': 100, 'dte': 30},\n",
    "    {'strike_price': 105, 'dte': 30},\n",
    "    {'strike_price': 110, 'dte': 30},\n",
    "    {'strike_price': 115, 'dte': 30},\n",
    "    {'strike_price': 120, 'dte': 30},\n",
    "    {'strike_price': 0, 'dte': 0},  # เปลี่ยนค่าเป็น 0\n",
    "]\n",
    "\n",
    "options = [\n",
    "    {'strike_price': 0, 'dte': 0},\n",
    "    {'strike_price': 120, 'dte': 30},\n",
    "    {'strike_price': 150, 'dte': 30},\n",
    "    {'strike_price': 110, 'dte': 30},\n",
    "    {'strike_price': 105, 'dte': 30},\n",
    "    {'strike_price': 100, 'dte': 30},  # เปลี่ยนค่าเป็น 0\n",
    "]\n",
    "\n",
    "\n",
    "# ปรับ threshold\n",
    "threshold = 5\n",
    "\n",
    "adjacency_matrix = create_adjacency_matrix(options, threshold)\n",
    "print(adjacency_matrix)"
   ]
  },
  {
   "cell_type": "code",
   "execution_count": null,
   "metadata": {},
   "outputs": [],
   "source": [
    "import numpy as np\n",
    "A = np.array(\n",
    "    [[1,2,3],\n",
    "    [4,5,6],\n",
    "    [7,8,9]]\n",
    "    \n",
    ")"
   ]
  },
  {
   "cell_type": "code",
   "execution_count": null,
   "metadata": {},
   "outputs": [],
   "source": [
    "A[:,:,0]"
   ]
  },
  {
   "cell_type": "code",
   "execution_count": null,
   "metadata": {},
   "outputs": [],
   "source": [
    "import numpy as np\n",
    "\n",
    "# Generate a random numpy array with shape (2, 20, 6)\n",
    "random_array = np.random.rand(2, 20, 6)\n",
    "\n",
    "print(random_array)"
   ]
  },
  {
   "cell_type": "code",
   "execution_count": null,
   "metadata": {},
   "outputs": [],
   "source": []
  },
  {
   "cell_type": "code",
   "execution_count": null,
   "metadata": {},
   "outputs": [],
   "source": [
    "random_array = np.random.rand(2, 5, 3)"
   ]
  },
  {
   "cell_type": "code",
   "execution_count": null,
   "metadata": {},
   "outputs": [],
   "source": [
    "random_array"
   ]
  },
  {
   "cell_type": "code",
   "execution_count": null,
   "metadata": {},
   "outputs": [],
   "source": [
    "random_array[:, :, -1]"
   ]
  },
  {
   "cell_type": "code",
   "execution_count": null,
   "metadata": {},
   "outputs": [],
   "source": [
    "colList = [\"c_bid\", \"c_ask\", \"c_volume\", \"p_bid\", \"p_ask\", \"p_volume\"]"
   ]
  },
  {
   "cell_type": "code",
   "execution_count": null,
   "metadata": {},
   "outputs": [],
   "source": [
    "colList.index(\"c_ask\")"
   ]
  },
  {
   "cell_type": "code",
   "execution_count": null,
   "metadata": {},
   "outputs": [],
   "source": []
  }
 ],
 "metadata": {
  "kernelspec": {
   "display_name": "Python 3 (ipykernel)",
   "language": "python",
   "name": "python3"
  },
  "language_info": {
   "codemirror_mode": {
    "name": "ipython",
    "version": 3
   },
   "file_extension": ".py",
   "mimetype": "text/x-python",
   "name": "python",
   "nbconvert_exporter": "python",
   "pygments_lexer": "ipython3",
   "version": "3.11.0rc1"
  },
  "vscode": {
   "interpreter": {
    "hash": "4f77a7efb8cf15d18a0cd6bbc71a8985efbc57e2467f435a53ada42728ce0a69"
   }
  }
 },
 "nbformat": 4,
 "nbformat_minor": 4
}
