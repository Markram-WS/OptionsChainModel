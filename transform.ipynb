{
 "cells": [
  {
   "cell_type": "code",
   "execution_count": null,
   "metadata": {},
   "outputs": [],
   "source": [
    "#input must be options chain day1 - end"
   ]
  },
  {
   "cell_type": "code",
   "execution_count": null,
   "metadata": {},
   "outputs": [],
   "source": [
    "import wandb\n",
    "import os\n",
    "import numpy as np\n",
    "import tensorflow as tf\n",
    "from tensorflow.keras.datasets import mnist\n",
    "from tensorflow.keras.utils import to_categorical\n",
    "import pandas as pd\n",
    "import pyarrow as pa\n",
    "import pyarrow.parquet as pq\n",
    "from sklearn.model_selection import train_test_split\n",
    "from sklearn.preprocessing import MinMaxScaler\n",
    "import joblib\n",
    "import random"
   ]
  },
  {
   "cell_type": "code",
   "execution_count": null,
   "metadata": {},
   "outputs": [],
   "source": [
    "CSV_PATH     = './data/OptionsEOD.csv/'\n",
    "PARQUET_PATH = './data/OptionsEOD.parquet'\n",
    "PARQUET_STG_PATH = './data/OptionsEOD_STG.parquet'\n",
    "SCALER_COL  = ['DTE','INTRINSIC_VALUE','TOTAL_C_VOLUME', 'TOTAL_P_VOLUME',\t'C_BID',\t'C_ASK', 'C_VOLUME',  'P_BID',\t'P_ASK',\t'P_VOLUME' ]\n",
    "SCALER_PATH = './data/scaler.gz'\n",
    " \n",
    "UNIQUE_KEYS = ['QUOTE_DATE','SYMBOL','EXPIRE_DATE']"
   ]
  },
  {
   "cell_type": "code",
   "execution_count": null,
   "metadata": {},
   "outputs": [],
   "source": [
    "#example\n",
    "EOD_CSV = pd.read_csv(CSV_PATH+\"qqq/qqq_eod_201201.txt\", engine='pyarrow')\n",
    "EOD_CSV.head()"
   ]
  },
  {
   "cell_type": "code",
   "execution_count": null,
   "metadata": {},
   "outputs": [],
   "source": [
    "EOD_CSV.columns"
   ]
  },
  {
   "cell_type": "code",
   "execution_count": null,
   "metadata": {},
   "outputs": [],
   "source": [
    "#Part I\n",
    "#TransformData : \n",
    "#-each partition from EXPIRE_DATE \n",
    "#-csv too parquet\n",
    "#-col. rename \n",
    "def TransformDataI():\n",
    "    scaler = MinMaxScaler()\n",
    "    schema = None\n",
    "    pqwriter = None\n",
    "    for d in os.listdir(CSV_PATH):\n",
    "        for f in os.listdir(CSV_PATH+f\"{d}/\"):\n",
    "            if f.endswith(\".txt\"):\n",
    "                ## load\n",
    "                print( f\"[LOAD] : {CSV_PATH}{d}/{f}        \",end='\\r')\n",
    "                EOD_CSV = pd.read_csv(CSV_PATH+f\"{d}/\"+f, engine='pyarrow')\n",
    "                    \n",
    "                ## rename col.\n",
    "                for c in EOD_CSV.columns:\n",
    "                    EOD_CSV = EOD_CSV.rename( columns={ c:c.strip().replace(']','').replace('[','') } )\n",
    "                \n",
    "                ## add symbol \n",
    "                EOD_CSV['SYMBOL'] = d.upper()\n",
    "                ## add INTRINSIC_VALUE\n",
    "                EOD_CSV['INTRINSIC_VALUE'] = EOD_CSV['UNDERLYING_LAST'] - EOD_CSV['STRIKE']\n",
    "                \n",
    "                ## fillnafillna\n",
    "                EOD_CSV['P_VOLUME'] = EOD_CSV['P_VOLUME'].fillna(0)\n",
    "                EOD_CSV['C_VOLUME'] = EOD_CSV['C_VOLUME'].fillna(0)\n",
    "                \n",
    "                # date columns convert to datetime\n",
    "                for c in [\"QUOTE_READTIME\",\"QUOTE_DATE\",\"EXPIRE_DATE\"]:\n",
    "                    EOD_CSV[c] = pd.to_datetime(EOD_CSV[c])\n",
    "                \n",
    "                #clean float data\n",
    "                for c in ['INTRINSIC_VALUE','C_DELTA','C_GAMMA','C_VEGA','C_THETA','C_RHO','C_IV','C_VOLUME','C_LAST','C_BID','C_ASK','STRIKE','P_BID','P_ASK','P_LAST','P_DELTA','P_GAMMA','P_VEGA','P_THETA','P_RHO','P_IV','P_VOLUME','STRIKE_DISTANCE','STRIKE_DISTANCE_PCT']:\n",
    "                    if EOD_CSV[c].dtype not in ( 'float32','float64'):\n",
    "                        EOD_CSV[c] = EOD_CSV[c].apply(lambda x: x.strip())\n",
    "                        EOD_CSV[c] = EOD_CSV[c].replace('', np.nan).fillna(np.nan)\n",
    "                        EOD_CSV[c] = EOD_CSV[c].astype('float64')\n",
    "                    if EOD_CSV[c].dtype == 'float32':\n",
    "                        EOD_CSV[c] = EOD_CSV[c].astype('float64')\n",
    "                        \n",
    "                # REMAIN_DAYS(int) =>  use DTE col.\n",
    "                #partition with QUOTE_DATE\n",
    "                EOD_CSV['PartitionDate'] = EOD_CSV['QUOTE_DATE'].dt.strftime('%Y-%m')\n",
    "                EOD_CSV.sort_values(['QUOTE_DATE','EXPIRE_DATE','SYMBOL','STRIKE'],ascending =False ) \n",
    "\n",
    "                #scaler(Normalization_\n",
    "                #scaler.partial_fit(EOD_CSV[SCALER_COL])\n",
    "\n",
    "                # save\n",
    "                if os.path.exists(PARQUET_PATH):\n",
    "                  EOD_CSV.to_parquet(PARQUET_PATH, engine='fastparquet', append=True, partition_cols=['PartitionDate'], index=False )\n",
    "                else:\n",
    "                  EOD_CSV.to_parquet(PARQUET_PATH, engine='fastparquet' , partition_cols=['PartitionDate'], index=False  )\n",
    "                    \n",
    "    # joblib.dump(scaler, SCALER_PATH )\n",
    "    # if pqwriter:\n",
    "    #     pqwriter.close()\n",
    "    # print( f\"[DONE]                                                       \",end='\\r')\n",
    "\n"
   ]
  },
  {
   "cell_type": "code",
   "execution_count": null,
   "metadata": {},
   "outputs": [],
   "source": [
    "##-RunCleanData\n",
    "#TransformDataI()"
   ]
  },
  {
   "cell_type": "code",
   "execution_count": null,
   "metadata": {},
   "outputs": [],
   "source": [
    "#Part II \n",
    "#TransformData : \n",
    "# - read each partitions \n",
    "# - Normalization if not have scaler.gz file\n",
    "def strikeZero(df,v):\n",
    "    # First, filter based on QUOTE_DATE, SYMBOL, and EXPIRE_DATE\n",
    "    filtered_df = df[(df['QUOTE_DATE'] == v['QUOTE_DATE']) &\n",
    "                     (df['SYMBOL'] == v['SYMBOL']) &\n",
    "                     (df['EXPIRE_DATE'] == v['EXPIRE_DATE'])]\n",
    "    \n",
    "    # Then, find the max and min INTRINSIC_VALUE within the filtered subset\n",
    "    max_value = filtered_df['STRIKE'].max()\n",
    "    min_value = filtered_df['STRIKE'].min()\n",
    "    # print(max_intrinsic_value)\n",
    "    # print(min_intrinsic_value)\n",
    "    df.loc[ (df['QUOTE_DATE'] == v['QUOTE_DATE']) \n",
    "            & (df['SYMBOL'] == v['SYMBOL']) \n",
    "            & (df['EXPIRE_DATE'] == v['EXPIRE_DATE'])\n",
    "            & (  (df['STRIKE'] == max_value)\n",
    "               | (df['STRIKE'] == min_value)\n",
    "              ) \n",
    "        , ['DTE', 'INTRINSIC_VALUE', 'C_BID',\t'C_ASK', 'C_VOLUME',  'P_BID',\t'P_ASK',\t'P_VOLUME']       \n",
    "    ] = 0\n",
    "    \n",
    "def TransformDataII():\n",
    "    \n",
    "    keys = None#df[unique_keys].sort_values(by=unique_keys).drop_duplicates()\n",
    "    max_option_len = 20\n",
    "    scaler = MinMaxScaler()\n",
    "    PartitionDate = [ d[-7:] for d in  os.listdir(PARQUET_PATH) if 'PartitionDate' in d]\n",
    "    options_qoute = {}\n",
    "    for i,partdate in enumerate(PartitionDate) :  \n",
    "        df = pd.read_parquet(PARQUET_PATH,engine='pyarrow'\n",
    "                                     , filters=[('PartitionDate', '=', partdate)]\n",
    "                                    )\n",
    "        ####################################################\n",
    "        keys = df[UNIQUE_KEYS].sort_values(by=UNIQUE_KEYS).drop_duplicates()\n",
    "        #loop each keys\n",
    "        for j,v in keys.iterrows():\n",
    "            \n",
    "            df_filter=df[ (df['QUOTE_DATE'] == v['QUOTE_DATE']) & (df['SYMBOL'] == v['SYMBOL']) & (df['EXPIRE_DATE'] == v['EXPIRE_DATE']) ]\n",
    "            qoute = \"\".join(v[ ['SYMBOL','EXPIRE_DATE'] ].apply(str).values)\n",
    "            #add qoute\n",
    "            if qoute not in [*options_qoute.keys()]:\n",
    "                options_qoute[qoute] = {}\n",
    "                options_qoute[qoute]['start_price'] = df_filter['UNDERLYING_LAST'].values[0]\n",
    "                options_qoute[qoute]['strike'] = df_filter[ df_filter['INTRINSIC_VALUE'].abs().isin(df_filter['INTRINSIC_VALUE'].abs().sort_values()[:max_option_len]) ]['STRIKE'].values\n",
    "                options_qoute[qoute]['exp'] = df_filter['EXPIRE_DATE'].values[0]\n",
    "                #check diff UNDERLYING_LAST\n",
    "                if df_filter['UNDERLYING_LAST'].values[0] != round(np.average(df_filter['UNDERLYING_LAST']),4):\n",
    "                    print('[ERROR] : set UNDERLYING_LAST ',qoute )\n",
    "            #rm index max : max_option_len\n",
    "            rm_strike_index = df_filter[ ~df_filter['STRIKE'].isin(options_qoute[qoute]['strike']) ].index\n",
    "            df = df.drop(rm_strike_index)\n",
    "            df_filter = df_filter.drop(rm_strike_index)\n",
    "\n",
    "            # Generate zero strike \n",
    "            # Generate a random float between 0.01 and 1\n",
    "            random_number = random.uniform(0, 1)\n",
    "            [ strikeZero(df,v) for r in [0.05,0.1,0.15,0.2,0.25,0.3] if random_number < r]\n",
    "                \n",
    "            #TOTAL_P_VOLUME\n",
    "            df.loc[ (df['QUOTE_DATE'] == v['QUOTE_DATE']) \n",
    "            & (df['SYMBOL'] == v['SYMBOL']) \n",
    "            & (df['EXPIRE_DATE'] == v['EXPIRE_DATE']) \n",
    "            , 'TOTAL_P_VOLUME'] = df_filter['P_VOLUME'].sum()\n",
    "        \n",
    "            #TOTAL_P_VOLUME\n",
    "            df.loc[ (df['QUOTE_DATE'] == v['QUOTE_DATE']) \n",
    "            & (df['SYMBOL'] == v['SYMBOL']) \n",
    "            & (df['EXPIRE_DATE'] == v['EXPIRE_DATE']) \n",
    "            , 'TOTAL_C_VOLUME'] = df_filter['C_VOLUME'].sum()\n",
    "    \n",
    "        #clear expire options_qoute\n",
    "        for qi in list(options_qoute.keys()):\n",
    "            if options_qoute[qi]['exp'] < df['QUOTE_DATE'].values[0]:\n",
    "                options_qoute.pop(qi)\n",
    "    \n",
    "        #filled na\n",
    "        df['P_VOLUME'] = df['P_VOLUME'].fillna(0)\n",
    "        df['C_VOLUME'] = df['C_VOLUME'].fillna(0)\n",
    "        ###################################################\n",
    "\n",
    "        # scaler.partial_fit\n",
    "        scaler.partial_fit(df[SCALER_COL])\n",
    "        print(f\"[Processing] {round(((i+1)/len(PartitionDate))*100,2)}%   \",end='\\r')\n",
    "        \n",
    "        # save\n",
    "        if os.path.exists(PARQUET_STG_PATH):\n",
    "          df.to_parquet(PARQUET_STG_PATH, engine='fastparquet', append=True, partition_cols=['PartitionDate'], index=False )\n",
    "        else:\n",
    "          df.to_parquet(PARQUET_STG_PATH, engine='fastparquet' , partition_cols=['PartitionDate'], index=False  )\n",
    "            \n",
    "    joblib.dump(scaler, SCALER_PATH )"
   ]
  },
  {
   "cell_type": "code",
   "execution_count": null,
   "metadata": {},
   "outputs": [],
   "source": [
    "TransformDataII()"
   ]
  },
  {
   "cell_type": "code",
   "execution_count": null,
   "metadata": {},
   "outputs": [],
   "source": [
    "#Example data\n",
    "PartitionDate = [ d[-7:] for d in  os.listdir(PARQUET_STG_PATH) if 'PartitionDate' in d]\n",
    "options_qoute = {}\n",
    "for i,partdate in enumerate(PartitionDate[5:6]) :  \n",
    "    df = pd.read_parquet(PARQUET_PATH,engine='pyarrow'\n",
    "                                 , filters=[('PartitionDate', '=', partdate)]\n",
    "                                )\n",
    "    break"
   ]
  },
  {
   "cell_type": "code",
   "execution_count": null,
   "metadata": {},
   "outputs": [],
   "source": [
    "keys = df[UNIQUE_KEYS].sort_values(by=UNIQUE_KEYS).drop_duplicates()\n",
    "#loop each keys\n",
    "for j,v in keys.iterrows():\n",
    "\n",
    "    df_filter=df[ (df['QUOTE_DATE'] == v['QUOTE_DATE']) \n",
    "        & (df['SYMBOL'] == v['SYMBOL']) \n",
    "        & (df['EXPIRE_DATE'] == v['EXPIRE_DATE']) \n",
    "    ]\n",
    "\n",
    "    df_filter=df_filter[\n",
    "        (df_filter['INTRINSIC_VALUE'].max() == df_filter['INTRINSIC_VALUE'])\n",
    "    |   (df_filter['INTRINSIC_VALUE'].min() == df_filter['INTRINSIC_VALUE'])\n",
    "    ]\n",
    "    break"
   ]
  },
  {
   "cell_type": "code",
   "execution_count": null,
   "metadata": {},
   "outputs": [],
   "source": [
    "3============== sampling show 3==========================="
   ]
  },
  {
   "cell_type": "code",
   "execution_count": null,
   "metadata": {},
   "outputs": [],
   "source": [
    "PartitionDate = [ d[-7:] for d in  os.listdir(PARQUET_STG_PATH) if 'PartitionDate' in d]"
   ]
  },
  {
   "cell_type": "code",
   "execution_count": null,
   "metadata": {},
   "outputs": [],
   "source": [
    "import random\n",
    "from IPython.display import clear_output,display, HTML\n",
    "\n",
    "for i in range(10):\n",
    "    ran_partiion=random.choice(PartitionDate)\n",
    "\n",
    "    df = pd.read_parquet(PARQUET_STG_PATH,engine='pyarrow'\n",
    "                                 , filters=[('PartitionDate', '=', ran_partiion)]\n",
    "                                )\n",
    "    key = random.choice( [*df[UNIQUE_KEYS].sort_values(by=UNIQUE_KEYS).drop_duplicates().values] )\n",
    "\n",
    "    df_filter=df[ (df['QUOTE_DATE'] == key[0]) \n",
    "        & (df['SYMBOL'] == key[1]) \n",
    "        & (df['EXPIRE_DATE'] == key[2]) \n",
    "    ]\n",
    "    display(HTML(df_filter[['STRIKE']+SCALER_COL].to_html()))\n",
    "    input('Next ...')\n",
    "    clear_output()\n"
   ]
  },
  {
   "cell_type": "code",
   "execution_count": null,
   "metadata": {},
   "outputs": [],
   "source": []
  }
 ],
 "metadata": {
  "kernelspec": {
   "display_name": "Python 3 (ipykernel)",
   "language": "python",
   "name": "python3"
  },
  "language_info": {
   "codemirror_mode": {
    "name": "ipython",
    "version": 3
   },
   "file_extension": ".py",
   "mimetype": "text/x-python",
   "name": "python",
   "nbconvert_exporter": "python",
   "pygments_lexer": "ipython3",
   "version": "3.11.0rc1"
  },
  "vscode": {
   "interpreter": {
    "hash": "4f77a7efb8cf15d18a0cd6bbc71a8985efbc57e2467f435a53ada42728ce0a69"
   }
  }
 },
 "nbformat": 4,
 "nbformat_minor": 4
}
