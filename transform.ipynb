{
 "cells": [
  {
   "cell_type": "code",
   "execution_count": null,
   "metadata": {},
   "outputs": [],
   "source": [
    "#input must be options chain day1 - end"
   ]
  },
  {
   "cell_type": "code",
   "execution_count": 1,
   "metadata": {},
   "outputs": [],
   "source": [
    "import os,h5py\n",
    "import numpy as np\n",
    "import pandas as pd\n",
    "import pyarrow as pa\n",
    "import pyarrow.parquet as pq\n",
    "from sklearn.model_selection import train_test_split\n",
    "from sklearn.preprocessing import MinMaxScaler\n",
    "import joblib\n",
    "import random\n",
    "import hashlib"
   ]
  },
  {
   "cell_type": "code",
   "execution_count": 2,
   "metadata": {},
   "outputs": [],
   "source": [
    "CSV_PATH     = './data/OptionsEOD.csv/'\n",
    "PARQUET_PATH = './data/OptionsEOD.parquet'\n",
    "PARQUET_STG_PATH = './data/OptionsEOD_STG.parquet'\n",
    "SCALER_COL  = ['DTE','INTRINSIC_VALUE','TOTAL_VOLUME',\t'C_BID',\t'C_ASK', 'C_VOLUME',  'P_BID',\t'P_ASK', 'P_VOLUME' ]\n",
    "SCALER_PATH = './data/scaler.gz'\n",
    "UNIQUE_KEYS = ['QUOTE_DATE','SYMBOL','EXPIRE_DATE']\n",
    "H5_PATH = './data/OptTrainData/'"
   ]
  },
  {
   "cell_type": "code",
   "execution_count": null,
   "metadata": {},
   "outputs": [],
   "source": [
    "#example\n",
    "EOD_CSV = pd.read_csv(CSV_PATH+\"qqq/qqq_eod_201201.txt\", engine='pyarrow')\n",
    "EOD_CSV.head()"
   ]
  },
  {
   "cell_type": "code",
   "execution_count": null,
   "metadata": {},
   "outputs": [],
   "source": [
    "EOD_CSV.columns"
   ]
  },
  {
   "cell_type": "code",
   "execution_count": null,
   "metadata": {},
   "outputs": [],
   "source": [
    "#Part I\n",
    "#TransformData : \n",
    "#-each partition from EXPIRE_DATE \n",
    "#-csv too parquet\n",
    "#-col. rename \n",
    "def TransformDataI():\n",
    "    scaler = MinMaxScaler()\n",
    "    schema = None\n",
    "    pqwriter = None\n",
    "    for d in os.listdir(CSV_PATH):\n",
    "        for f in os.listdir(CSV_PATH+f\"{d}/\"):\n",
    "            if f.endswith(\".txt\"):\n",
    "                ## load\n",
    "                print( f\"[LOAD] : {CSV_PATH}{d}/{f}        \",end='\\r')\n",
    "                EOD_CSV = pd.read_csv(CSV_PATH+f\"{d}/\"+f, engine='pyarrow')\n",
    "                    \n",
    "                ## rename col.\n",
    "                for c in EOD_CSV.columns:\n",
    "                    EOD_CSV = EOD_CSV.rename( columns={ c:c.strip().replace(']','').replace('[','') } )\n",
    "                \n",
    "                ## add symbol \n",
    "                EOD_CSV['SYMBOL'] = d.upper()\n",
    "                ## add INTRINSIC_VALUE\n",
    "                EOD_CSV['INTRINSIC_VALUE'] = EOD_CSV['UNDERLYING_LAST'] - EOD_CSV['STRIKE']\n",
    "                \n",
    "                ## fillnafillna\n",
    "                EOD_CSV['P_VOLUME'] = EOD_CSV['P_VOLUME'].fillna(0)\n",
    "                EOD_CSV['C_VOLUME'] = EOD_CSV['C_VOLUME'].fillna(0)\n",
    "\n",
    "\n",
    "                \n",
    "                # date columns convert to datetime\n",
    "                for c in [\"QUOTE_READTIME\",\"QUOTE_DATE\",\"EXPIRE_DATE\"]:\n",
    "                    EOD_CSV[c] = pd.to_datetime(EOD_CSV[c])\n",
    "                \n",
    "                #clean float data\n",
    "                for c in ['INTRINSIC_VALUE','C_DELTA','C_GAMMA','C_VEGA','C_THETA','C_RHO','C_IV','C_VOLUME','C_LAST','C_BID','C_ASK','STRIKE','P_BID','P_ASK','P_LAST','P_DELTA','P_GAMMA','P_VEGA','P_THETA','P_RHO','P_IV','P_VOLUME','STRIKE_DISTANCE','STRIKE_DISTANCE_PCT']:\n",
    "                    if EOD_CSV[c].dtype not in ( 'float32','float64'):\n",
    "                        EOD_CSV[c] = EOD_CSV[c].apply(lambda x: x.strip())\n",
    "                        EOD_CSV[c] = EOD_CSV[c].replace('', np.nan).fillna(np.nan)\n",
    "                        EOD_CSV[c] = EOD_CSV[c].astype('float64')\n",
    "                    if EOD_CSV[c].dtype == 'float32':\n",
    "                        EOD_CSV[c] = EOD_CSV[c].astype('float64')\n",
    "                        \n",
    "                # REMAIN_DAYS(int) =>  use DTE col.\n",
    "                #partition with QUOTE_DATE\n",
    "                EOD_CSV['PartitionDate'] = EOD_CSV['QUOTE_DATE'].dt.strftime('%Y-%m')\n",
    "                EOD_CSV.sort_values(['QUOTE_DATE','EXPIRE_DATE','SYMBOL','STRIKE'],ascending =False ) \n",
    "\n",
    "                #scaler(Normalization_\n",
    "                #scaler.partial_fit(EOD_CSV[SCALER_COL])\n",
    "\n",
    "                # save\n",
    "                if os.path.exists(PARQUET_PATH):\n",
    "                  EOD_CSV.to_parquet(PARQUET_PATH, engine='fastparquet', append=True, partition_cols=['PartitionDate'], index=False )\n",
    "                else:\n",
    "                  EOD_CSV.to_parquet(PARQUET_PATH, engine='fastparquet' , partition_cols=['PartitionDate'], index=False  )\n",
    "                    \n",
    "    # joblib.dump(scaler, SCALER_PATH )\n",
    "    # if pqwriter:\n",
    "    #     pqwriter.close()\n",
    "    # print( f\"[DONE]                                                       \",end='\\r')\n",
    "\n"
   ]
  },
  {
   "cell_type": "code",
   "execution_count": null,
   "metadata": {},
   "outputs": [],
   "source": [
    "##-RunCleanData\n",
    "#TransformDataI()"
   ]
  },
  {
   "cell_type": "code",
   "execution_count": null,
   "metadata": {},
   "outputs": [],
   "source": [
    "#Part II \n",
    "#TransformData : \n",
    "# - read each partitions \n",
    "# - Normalization if not have scaler.gz file\n",
    "def strikeZero(df,v,num_rm):\n",
    "    # First, filter based on QUOTE_DATE, SYMBOL, and EXPIRE_DATE\n",
    "    filtered_arr = df[(df['QUOTE_DATE'] == v['QUOTE_DATE']) &\n",
    "                     (df['SYMBOL'] == v['SYMBOL']) &\n",
    "                     (df['EXPIRE_DATE'] == v['EXPIRE_DATE'])]['STRIKE'].values\n",
    "    if len(filtered_arr) != 20:\n",
    "        pass\n",
    "    # print(max_intrinsic_value)\n",
    "    # print(min_intrinsic_value)\n",
    "    df.loc[ (df['QUOTE_DATE'] == v['QUOTE_DATE']) \n",
    "            & (df['SYMBOL'] == v['SYMBOL']) \n",
    "            & (df['EXPIRE_DATE'] == v['EXPIRE_DATE'])\n",
    "            & (  (df['STRIKE'].isin(filtered_arr[:5])  )\n",
    "               | (df['STRIKE'].isin(filtered_arr[-5:])   )\n",
    "              ) \n",
    "        , ['DTE', 'INTRINSIC_VALUE', 'C_BID',\t'C_ASK', 'C_VOLUME',  'P_BID',\t'P_ASK',\t'P_VOLUME']       \n",
    "    ] = 0\n",
    "    \n",
    "def hash_str(S):\n",
    "    return hashlib.md5(S.encode('utf-8')).hexdigest() \n",
    "    \n",
    "def TransformDataII():\n",
    "    \n",
    "    keys = None#df[unique_keys].sort_values(by=unique_keys).drop_duplicates()\n",
    "    max_option_len = 20\n",
    "    scaler = MinMaxScaler()\n",
    "    PartitionDate = [ d[-7:] for d in  os.listdir(PARQUET_PATH) if 'PartitionDate' in d]\n",
    "    #PartitionDate = ['2011-12','2022-05'] # debug\n",
    "    options_qoute = {}\n",
    "    for i,partdate in enumerate(PartitionDate) :  \n",
    "        df = pd.read_parquet(PARQUET_PATH,engine='pyarrow'\n",
    "                                     , filters=[('PartitionDate', '=', partdate)]\n",
    "                                    )\n",
    "        #add col options_id\n",
    "        df['OPTIONS_ID'] = None\n",
    "        df['P_VOLUME'] = df['P_VOLUME'].fillna(0)\n",
    "        df['C_VOLUME'] = df['C_VOLUME'].fillna(0)\n",
    "        df.dropna(subset=SCALER_COL)\n",
    "        ####################################################\n",
    "        keys = df[UNIQUE_KEYS].sort_values(by=UNIQUE_KEYS).drop_duplicates()\n",
    "        #loop each keys\n",
    "        for j,v in keys.iterrows():\n",
    "            \n",
    "            df_filter=df[ (df['QUOTE_DATE'] == v['QUOTE_DATE']) & (df['SYMBOL'] == v['SYMBOL']) & (df['EXPIRE_DATE'] == v['EXPIRE_DATE']) ]\n",
    "            qoute = \"\".join(v[ ['SYMBOL','EXPIRE_DATE'] ].apply(str).values)\n",
    "            #add qoute\n",
    "            if qoute not in [*options_qoute.keys()]:\n",
    "                options_qoute[qoute] = {}\n",
    "                options_qoute[qoute]['start_price'] = df_filter['UNDERLYING_LAST'].values[0]\n",
    "                options_qoute[qoute]['strike'] = df_filter[ df_filter['INTRINSIC_VALUE'].abs().isin(df_filter['INTRINSIC_VALUE'].abs().sort_values()[:max_option_len]) ]['STRIKE'].values\n",
    "                options_qoute[qoute]['exp'] = df_filter['EXPIRE_DATE'].values[0]\n",
    "                #check diff UNDERLYING_LAST\n",
    "                if df_filter['UNDERLYING_LAST'].values[0] != round(np.average(df_filter['UNDERLYING_LAST']),4):\n",
    "                    print('[ERROR] : set UNDERLYING_LAST ',qoute )\n",
    "            #rm index max : max_option_len\n",
    "            rm_strike_index = df_filter[ ~df_filter['STRIKE'].isin(options_qoute[qoute]['strike']) ].index\n",
    "            df = df.drop(rm_strike_index)\n",
    "            df_filter = df_filter.drop(rm_strike_index)\n",
    "\n",
    "            # Generate zero strike \n",
    "            # Generate a random float between 0.01 and 1\n",
    "            random_number = random.uniform(0, 1)\n",
    "            nom_rm_rows = [r  for r in [0.05,0.1,0.15,0.2,0.25,0.3,0.35,0.4] if random_number < r]\n",
    "            strikeZero(df,v,len(nom_rm_rows) )\n",
    "            strikeZero(df_filter,v,len(nom_rm_rows) )\n",
    "            #TOTAL_P_VOLUME,TOTAL_C_VOLUME,OPTIONS_ID\n",
    "            df.loc[ (df['QUOTE_DATE'] == v['QUOTE_DATE']) \n",
    "            & (df['SYMBOL'] == v['SYMBOL']) \n",
    "            & (df['EXPIRE_DATE'] == v['EXPIRE_DATE']) \n",
    "            , ['TOTAL_VOLUME','OPTIONS_ID']\n",
    "            ] = [\n",
    "                df_filter['P_VOLUME'].sum() + df_filter['C_VOLUME'].sum(),\n",
    "                hash_str(f'{i}{j}')\n",
    "            ]\n",
    "    \n",
    "        #clear expire options_qoute\n",
    "        for qi in list(options_qoute.keys()):\n",
    "            if options_qoute[qi]['exp'] < df['QUOTE_DATE'].values[0]:\n",
    "                options_qoute.pop(qi)\n",
    "#        return df\n",
    "    ##################### SAVE DATA #############################\n",
    "\n",
    "        # scaler.partial_fit\n",
    "        scaler.partial_fit(df[SCALER_COL])\n",
    "        print(f\"[Processing] {partdate}, {round(((i+1)/len(PartitionDate))*100,2)}%     \",end='\\r')\n",
    "\n",
    "        # save\n",
    "        if os.path.exists(PARQUET_STG_PATH):\n",
    "          df.to_parquet(PARQUET_STG_PATH, engine='fastparquet', append=True, partition_cols=['PartitionDate'], index=False )\n",
    "        else:\n",
    "          df.to_parquet(PARQUET_STG_PATH, engine='fastparquet' , partition_cols=['PartitionDate'], index=False  )\n",
    "            \n",
    "    joblib.dump(scaler, SCALER_PATH )\n",
    "        "
   ]
  },
  {
   "cell_type": "code",
   "execution_count": null,
   "metadata": {},
   "outputs": [],
   "source": [
    "TransformDataII()"
   ]
  },
  {
   "cell_type": "code",
   "execution_count": null,
   "metadata": {},
   "outputs": [],
   "source": [
    "++++++ TransformDataII DEBUG ++++++ "
   ]
  },
  {
   "cell_type": "code",
   "execution_count": null,
   "metadata": {},
   "outputs": [],
   "source": [
    "opt_ids=np.unique( df['OPTIONS_ID'])\n",
    "for opt_id in opt_ids[:-2]:\n",
    "    df[  df[\"OPTIONS_ID\"]==opt_id ]"
   ]
  },
  {
   "cell_type": "code",
   "execution_count": null,
   "metadata": {},
   "outputs": [],
   "source": [
    " df[  df[\"OPTIONS_ID\"]==opt_id ]['P_VOLUME'].sum()"
   ]
  },
  {
   "cell_type": "code",
   "execution_count": null,
   "metadata": {},
   "outputs": [],
   "source": [
    " df[  df[\"OPTIONS_ID\"]==opt_id ]['C_VOLUME'].sum()"
   ]
  },
  {
   "cell_type": "code",
   "execution_count": null,
   "metadata": {},
   "outputs": [],
   "source": [
    "df[  df[\"OPTIONS_ID\"]==opt_id ][SCALER_COL]"
   ]
  },
  {
   "cell_type": "code",
   "execution_count": null,
   "metadata": {},
   "outputs": [],
   "source": [
    "++++++ TransformDataII DEBUG ++++++ "
   ]
  },
  {
   "cell_type": "code",
   "execution_count": null,
   "metadata": {},
   "outputs": [],
   "source": [
    "#PartIII to H5"
   ]
  },
  {
   "cell_type": "code",
   "execution_count": null,
   "metadata": {},
   "outputs": [
    {
     "name": "stdout",
     "output_type": "stream",
     "text": [
      "[Processing] 2010-08, 1.21%     \r"
     ]
    }
   ],
   "source": [
    "#Example\n",
    "import random\n",
    "from IPython.display import clear_output,display, HTML\n",
    "#load scaler\n",
    "scaler = MinMaxScaler()\n",
    "if not os.path.exists(H5_PATH):\n",
    "    os.makedirs(H5_PATH)\n",
    "PartitionDate = [ d[-7:] for d in  os.listdir(PARQUET_PATH) if 'PartitionDate' in d]\n",
    "random.shuffle(PartitionDate)\n",
    "scaler = joblib.load(SCALER_PATH)\n",
    "pd.options.mode.copy_on_write = True\n",
    "\n",
    "for i,partdate in enumerate(PartitionDate) :\n",
    "    df = pd.read_parquet(PARQUET_STG_PATH,engine='pyarrow'\n",
    "                                 , filters=[('PartitionDate', '=', partdate)]\n",
    "                                )\n",
    "    df['P_VOLUME'] = df['P_VOLUME'].fillna(0)\n",
    "    df['C_VOLUME'] = df['C_VOLUME'].fillna(0)\n",
    "    DATA  = np.empty((0,) + (20,9) ) \n",
    "    for opt_id in np.unique( df[[\"OPTIONS_ID\"]].values):\n",
    "        df_filter  = df[df[\"OPTIONS_ID\"]==opt_id]\n",
    "\n",
    "        if len(df_filter) > 15 :\n",
    "            while len(df_filter) != 20:\n",
    "                Even= -1\n",
    "                if (len(df_filter) % 2) == 0:\n",
    "                    Even = 0\n",
    "                if len(df_filter) < 20 :\n",
    "                    df_filter.loc[len(df_filter) ] = [0]*len(df_filter.columns)\n",
    "                    total_vol = df_filter['TOTAL_VOLUME'].values.mean()\n",
    "                    df_filter.loc[:, 'TOTAL_VOLUME'] = total_vol\n",
    "                    df_filter.loc[:, 'OPTIONS_ID']= opt_id\n",
    "                elif len(df_filter) > 20 :\n",
    "                     df_filter = df_filter.drop(df_filter.index[Even])\n",
    "\n",
    "        \n",
    "        if len(df_filter) == 20 and not df_filter.isna() :\n",
    "            DATA = np.vstack((DATA ,[scaler.transform(df_filter[SCALER_COL])]))\n",
    "                    \n",
    "    # Save the NumPy array to an HDF5 file\n",
    "    with h5py.File(H5_PATH+f\"{partdate}.h5\", 'w') as f:\n",
    "        dset = f.create_dataset(f'{partdate}', data=DATA, chunks=True , compression='gzip')\n",
    "\n",
    "    print(f\"[Processing] {partdate}, {round(((i+1)/len(PartitionDate))*100,2)}%     \",end='\\r')"
   ]
  },
  {
   "cell_type": "code",
   "execution_count": null,
   "metadata": {},
   "outputs": [],
   "source": [
    "3============== sampling show 3==========================="
   ]
  },
  {
   "cell_type": "code",
   "execution_count": null,
   "metadata": {},
   "outputs": [],
   "source": [
    "[0]*df_filter.columns"
   ]
  },
  {
   "cell_type": "code",
   "execution_count": null,
   "metadata": {},
   "outputs": [],
   "source": [
    "df_filter"
   ]
  },
  {
   "cell_type": "code",
   "execution_count": null,
   "metadata": {},
   "outputs": [],
   "source": [
    "df_filter['TOTAL_VOLUME'].values"
   ]
  },
  {
   "cell_type": "code",
   "execution_count": null,
   "metadata": {},
   "outputs": [],
   "source": [
    "PartitionDate = [ d[-7:] for d in  os.listdir(PARQUET_STG_PATH) if 'PartitionDate' in d]"
   ]
  },
  {
   "cell_type": "code",
   "execution_count": null,
   "metadata": {},
   "outputs": [],
   "source": [
    "import random\n",
    "from IPython.display import clear_output,display, HTML\n",
    "\n",
    "for i in range(10):\n",
    "    ran_partiion=random.choice(PartitionDate)\n",
    "\n",
    "    df = pd.read_parquet(PARQUET_STG_PATH,engine='pyarrow'\n",
    "                                 , filters=[('PartitionDate', '=', ran_partiion)]\n",
    "                                )\n",
    "    key = random.choice( [*df[UNIQUE_KEYS].sort_values(by=UNIQUE_KEYS).drop_duplicates().values] )\n",
    "\n",
    "    df_filtered=df[ (df['QUOTE_DATE'] == key[0]) \n",
    "        & (df['SYMBOL'] == key[1]) \n",
    "        & (df['EXPIRE_DATE'] == key[2]) \n",
    "    ]\n",
    "    break\n",
    "    display(HTML(df_filter[['STRIKE']+SCALER_COL].to_html()))\n",
    "    input('Next ...')\n",
    "    clear_output()\n"
   ]
  },
  {
   "cell_type": "code",
   "execution_count": null,
   "metadata": {},
   "outputs": [],
   "source": [
    "=========================================== TEST =============================================="
   ]
  },
  {
   "cell_type": "code",
   "execution_count": null,
   "metadata": {},
   "outputs": [],
   "source": [
    "keys = None#df[unique_keys].sort_values(by=unique_keys).drop_duplicates()\n",
    "max_option_len = 20\n",
    "scaler = MinMaxScaler()\n",
    "PartitionDate = [ d[-7:] for d in  os.listdir(PARQUET_PATH) if 'PartitionDate' in d]\n",
    "options_qoute = {}\n",
    "for i,partdate in enumerate(PartitionDate) :  \n",
    "    df = pd.read_parquet(PARQUET_PATH,engine='pyarrow'\n",
    "                                 , filters=[('PartitionDate', '=', partdate)]\n",
    "                                )\n",
    "    #add col options_id\n",
    "    df['OPTIONS_ID'] = None\n",
    "    df['P_VOLUME'] = df['P_VOLUME'].fillna(0)\n",
    "    df['C_VOLUME'] = df['C_VOLUME'].fillna(0)\n",
    "    df.dropna(subset=SCALER_COL)\n",
    "    ####################################################\n",
    "    keys = df[UNIQUE_KEYS].sort_values(by=UNIQUE_KEYS).drop_duplicates()\n",
    "    #loop each keys\n",
    "    break_flag = False\n",
    "\n",
    "    for j,v in keys.iterrows():\n",
    "        df_filter=df[ (df['QUOTE_DATE'] == v['QUOTE_DATE']) & (df['SYMBOL'] == v['SYMBOL']) & (df['EXPIRE_DATE'] == v['EXPIRE_DATE']) ]\n",
    "        qoute = \"\".join(v[ ['SYMBOL','EXPIRE_DATE'] ].apply(str).values)\n",
    "        #add qoute\n",
    "        if qoute not in [*options_qoute.keys()]:\n",
    "            options_qoute[qoute] = {}\n",
    "            options_qoute[qoute]['start_price'] = df_filter['UNDERLYING_LAST'].values[0]\n",
    "            options_qoute[qoute]['strike'] = df_filter[ df_filter['INTRINSIC_VALUE'].abs().isin(df_filter['INTRINSIC_VALUE'].abs().sort_values()[:max_option_len]) ]['STRIKE'].values\n",
    "            options_qoute[qoute]['exp'] = df_filter['EXPIRE_DATE'].values[0]\n",
    "            #check diff UNDERLYING_LAST\n",
    "            if df_filter['UNDERLYING_LAST'].values[0] != round(np.average(df_filter['UNDERLYING_LAST']),4):\n",
    "                print('[ERROR] : set UNDERLYING_LAST ',qoute )\n",
    "        #rm index max : max_option_len\n",
    "        rm_strike_index = df_filter[ ~df_filter['STRIKE'].isin(options_qoute[qoute]['strike']) ].index\n",
    "        if len( df_filter[ df_filter['STRIKE'].isin(options_qoute[qoute]['strike']) ] ) != 20 :\n",
    "            break\n",
    "        df = df.drop(rm_strike_index)\n",
    "        df_filter = df_filter.drop(rm_strike_index)\n",
    "\n",
    "        # Generate zero strike \n",
    "        # Generate a random float between 0.01 and 1\n",
    "        random_number = random.uniform(0, 1)\n",
    "        nom_rm_rows = [r  for r in [0.05,0.1,0.15,0.2,0.25,0.3,0.35,0.4] if random_number < r]\n",
    "        strikeZero(df,v,len(nom_rm_rows) )\n",
    "        #TOTAL_P_VOLUME,TOTAL_C_VOLUME,OPTIONS_ID\n",
    "        df.loc[ (df['QUOTE_DATE'] == v['QUOTE_DATE']) \n",
    "        & (df['SYMBOL'] == v['SYMBOL']) \n",
    "        & (df['EXPIRE_DATE'] == v['EXPIRE_DATE']) \n",
    "        , ['TOTAL_VOLUME','OPTIONS_ID']\n",
    "        ] = [\n",
    "            df_filter['P_VOLUME'].sum() + df_filter['C_VOLUME'].sum(),\n",
    "            hash_str(f'{i}{j}')\n",
    "        ]\n",
    "    if break_flag : \n",
    "        break\n",
    "    #clear expire options_qoute\n",
    "    for qi in list(options_qoute.keys()):\n",
    "        if options_qoute[qi]['exp'] < df['QUOTE_DATE'].values[0]:\n",
    "            options_qoute.pop(qi)\n",
    "\n",
    "    ###################################################\n",
    "\n",
    "    # scaler.partial_fit\n",
    "    #scaler.partial_fit(df[SCALER_COL])\n",
    "    print(f\"[Processing] {partdate} {round(((i+1)/len(PartitionDate))*100,2)}%     \",end='\\r')\n",
    "    \n",
    "    # save parquet\n",
    "    # if os.path.exists(PARQUET_STG_PATH):\n",
    "    #   df.to_parquet(PARQUET_STG_PATH, engine='fastparquet', append=True, partition_cols=['PartitionDate'], index=False )\n",
    "    # else:\n",
    "    #   df.to_parquet(PARQUET_STG_PATH, engine='fastparquet' , partition_cols=['PartitionDate'], index=False  )\n",
    "\n",
    "    #save h5\n",
    "    with h5py.File(H5_PATH, 'w') as f:\n",
    "        dset = f.create_dataset('dataset', data=DATA, chunks=True, compression='gzip')\n",
    "        \n",
    "#joblib.dump(scaler, SCALER_PATH )"
   ]
  },
  {
   "cell_type": "code",
   "execution_count": null,
   "metadata": {},
   "outputs": [],
   "source": []
  },
  {
   "cell_type": "code",
   "execution_count": null,
   "metadata": {},
   "outputs": [],
   "source": []
  },
  {
   "cell_type": "code",
   "execution_count": null,
   "metadata": {},
   "outputs": [],
   "source": [
    "df_filter['INTRINSIC_VALUE'].abs().isin(df_filter['INTRINSIC_VALUE'].abs().sort_values()[:max_option_len]"
   ]
  },
  {
   "cell_type": "code",
   "execution_count": null,
   "metadata": {},
   "outputs": [],
   "source": [
    "df_filter"
   ]
  },
  {
   "cell_type": "code",
   "execution_count": null,
   "metadata": {},
   "outputs": [],
   "source": [
    "type(pd.util.hash_pandas_object(pd.Series([2,1])).sum() )"
   ]
  },
  {
   "cell_type": "code",
   "execution_count": null,
   "metadata": {},
   "outputs": [],
   "source": [
    "pd.util.hash_pandas_object(pd.Series([2,0])).sum()"
   ]
  },
  {
   "cell_type": "code",
   "execution_count": null,
   "metadata": {},
   "outputs": [],
   "source": [
    "pd.util.hash_pandas_object(pd.Series([0,2])).sum()"
   ]
  },
  {
   "cell_type": "code",
   "execution_count": null,
   "metadata": {},
   "outputs": [],
   "source": [
    "import hashlib\n",
    "a=hashlib.md5(\"12\".encode('utf-8')).hexdigest() "
   ]
  },
  {
   "cell_type": "code",
   "execution_count": null,
   "metadata": {},
   "outputs": [],
   "source": [
    "def hash_str():\n",
    "    hashlib.md5(\"01\".encode('utf-8')).hexdigest() "
   ]
  },
  {
   "cell_type": "code",
   "execution_count": null,
   "metadata": {},
   "outputs": [],
   "source": [
    "a.hexdigest(20)"
   ]
  },
  {
   "cell_type": "code",
   "execution_count": null,
   "metadata": {},
   "outputs": [],
   "source": []
  }
 ],
 "metadata": {
  "kernelspec": {
   "display_name": "Python 3 (ipykernel)",
   "language": "python",
   "name": "python3"
  },
  "language_info": {
   "codemirror_mode": {
    "name": "ipython",
    "version": 3
   },
   "file_extension": ".py",
   "mimetype": "text/x-python",
   "name": "python",
   "nbconvert_exporter": "python",
   "pygments_lexer": "ipython3",
   "version": "3.11.0rc1"
  },
  "vscode": {
   "interpreter": {
    "hash": "4f77a7efb8cf15d18a0cd6bbc71a8985efbc57e2467f435a53ada42728ce0a69"
   }
  }
 },
 "nbformat": 4,
 "nbformat_minor": 4
}
